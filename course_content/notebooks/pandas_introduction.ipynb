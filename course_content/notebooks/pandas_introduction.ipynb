{
 "cells": [
  {
   "cell_type": "markdown",
   "metadata": {
    "slideshow": {
     "slide_type": "slide"
    }
   },
   "source": [
    "# Introduction to Pandas"
   ]
  },
  {
   "cell_type": "markdown",
   "metadata": {
    "slideshow": {
     "slide_type": "notes"
    }
   },
   "source": [
    "Pandas (http://pandas.pydata.org) is great for data analysis, again we met it briefly in the software carpentry course, but it's worth revisiting. \n",
    "\n",
    "Note the book on that website - 'Python for data analysis', this is a useful text which much of this section was drawn from. \n",
    "\n",
    "We're also going to look at how we might use pandas to work with data read in with CIS."
   ]
  },
  {
   "cell_type": "code",
   "execution_count": 1,
   "metadata": {
    "collapsed": false,
    "slideshow": {
     "slide_type": "fragment"
    }
   },
   "outputs": [],
   "source": [
    "import pandas as pd"
   ]
  },
  {
   "cell_type": "markdown",
   "metadata": {
    "slideshow": {
     "slide_type": "slide"
    }
   },
   "source": [
    "## Series"
   ]
  },
  {
   "cell_type": "markdown",
   "metadata": {
    "slideshow": {
     "slide_type": "fragment"
    }
   },
   "source": [
    "A `Series` is essentially a container for series data (think time-series, but more general)."
   ]
  },
  {
   "cell_type": "markdown",
   "metadata": {
    "slideshow": {
     "slide_type": "subslide"
    }
   },
   "source": [
    "Let's create a basic time-series:"
   ]
  },
  {
   "cell_type": "code",
   "execution_count": 2,
   "metadata": {
    "collapsed": false,
    "slideshow": {
     "slide_type": "fragment"
    }
   },
   "outputs": [
    {
     "name": "stdout",
     "output_type": "stream",
     "text": [
      "2015-11-16 15:41:23     0.13\n",
      "2015-11-16 15:42:22     0.21\n",
      "2015-11-16 15:43:25     0.15\n",
      "2015-11-16 15:44:20      NaN\n",
      "2015-11-16 15:45:22     0.29\n",
      "2015-11-16 15:46:23     0.09\n",
      "2015-11-16 15:47:26     0.24\n",
      "2015-11-16 15:48:21   -10.00\n",
      "dtype: float32\n"
     ]
    }
   ],
   "source": [
    "from datetime import datetime\n",
    "s = pd.Series([0.13, 0.21, 0.15, 'NaN', 0.29, 0.09, 0.24, -10], dtype='f',\n",
    "                 index = [datetime(2015,11,16,15,41,23), datetime(2015,11,16,15,42,22), datetime(2015,11,16,15,43,25), datetime(2015,11,16,15,44,20), datetime(2015,11,16,15,45,22),\n",
    "                          datetime(2015,11,16,15,46,23), datetime(2015,11,16,15,47,26), datetime(2015,11,16,15,48,21)])\n",
    "print(s)"
   ]
  },
  {
   "cell_type": "markdown",
   "metadata": {
    "slideshow": {
     "slide_type": "fragment"
    }
   },
   "source": [
    "As you can see, it's dealt with our missing value nicely - this is one of the nice things about Pandas."
   ]
  },
  {
   "cell_type": "markdown",
   "metadata": {
    "slideshow": {
     "slide_type": "subslide"
    }
   },
   "source": [
    "We can get rid of the negative value easily as well:"
   ]
  },
  {
   "cell_type": "code",
   "execution_count": 3,
   "metadata": {
    "collapsed": false,
    "slideshow": {
     "slide_type": "fragment"
    }
   },
   "outputs": [
    {
     "name": "stdout",
     "output_type": "stream",
     "text": [
      "2015-11-16 15:41:23    0.13\n",
      "2015-11-16 15:42:22    0.21\n",
      "2015-11-16 15:43:25    0.15\n",
      "2015-11-16 15:45:22    0.29\n",
      "2015-11-16 15:46:23    0.09\n",
      "2015-11-16 15:47:26    0.24\n",
      "dtype: float32\n"
     ]
    }
   ],
   "source": [
    "s = s[s>0]\n",
    "print(s)"
   ]
  },
  {
   "cell_type": "markdown",
   "metadata": {
    "slideshow": {
     "slide_type": "fragment"
    }
   },
   "source": [
    "Note this also got rid of our NaN (as NaN comparisons are always negative)"
   ]
  },
  {
   "cell_type": "markdown",
   "metadata": {
    "slideshow": {
     "slide_type": "subslide"
    }
   },
   "source": [
    "Now, as you probably noticed, I added a lot of datetimes to this data which represent the timings of the measurements. Pandas uses these times as an `index` on the data, and gives us access to some very powerful tools.\n",
    "\n",
    "For example, resampling our data to a minutely average is easy:"
   ]
  },
  {
   "cell_type": "code",
   "execution_count": 4,
   "metadata": {
    "collapsed": false,
    "slideshow": {
     "slide_type": "fragment"
    }
   },
   "outputs": [
    {
     "data": {
      "text/plain": [
       "2015-11-16 15:40:00    0.21\n",
       "2015-11-16 15:45:00    0.29\n",
       "Freq: 5T, dtype: float32"
      ]
     },
     "execution_count": 4,
     "metadata": {},
     "output_type": "execute_result"
    }
   ],
   "source": [
    "s.resample('5min').max()"
   ]
  },
  {
   "cell_type": "markdown",
   "metadata": {
    "slideshow": {
     "slide_type": "subslide"
    }
   },
   "source": [
    "Another way of creating series is using dictionaries:"
   ]
  },
  {
   "cell_type": "code",
   "execution_count": 5,
   "metadata": {
    "collapsed": false,
    "slideshow": {
     "slide_type": "fragment"
    }
   },
   "outputs": [
    {
     "data": {
      "text/plain": [
       "Blue      42\n",
       "Green     12\n",
       "Yellow    37\n",
       "dtype: int64"
      ]
     },
     "execution_count": 5,
     "metadata": {},
     "output_type": "execute_result"
    }
   ],
   "source": [
    "colours = pd.Series({'Blue': 42, 'Green': 12, 'Yellow': 37})\n",
    "colours"
   ]
  },
  {
   "cell_type": "markdown",
   "metadata": {
    "slideshow": {
     "slide_type": "subslide"
    }
   },
   "source": [
    "We can index Series just like numpy arrays, or using the named index:"
   ]
  },
  {
   "cell_type": "code",
   "execution_count": 6,
   "metadata": {
    "collapsed": false,
    "slideshow": {
     "slide_type": "fragment"
    }
   },
   "outputs": [
    {
     "name": "stdout",
     "output_type": "stream",
     "text": [
      "12\n",
      "Blue     42\n",
      "Green    12\n",
      "dtype: int64\n",
      "42\n"
     ]
    }
   ],
   "source": [
    "print(colours[1])\n",
    "print(colours[:-1])\n",
    "print(colours['Blue'])"
   ]
  },
  {
   "cell_type": "markdown",
   "metadata": {
    "slideshow": {
     "slide_type": "fragment"
    }
   },
   "source": [
    "Or both:"
   ]
  },
  {
   "cell_type": "code",
   "execution_count": 7,
   "metadata": {
    "collapsed": false,
    "slideshow": {
     "slide_type": "fragment"
    }
   },
   "outputs": [
    {
     "name": "stdout",
     "output_type": "stream",
     "text": [
      "12\n"
     ]
    }
   ],
   "source": [
    "print(colours[1:]['Green'])"
   ]
  },
  {
   "cell_type": "markdown",
   "metadata": {
    "slideshow": {
     "slide_type": "subslide"
    }
   },
   "source": [
    "Another nice benefit of the indices is in data allignment. So for example when performing operations on two series, Pandas will line up the indices first:"
   ]
  },
  {
   "cell_type": "code",
   "execution_count": 8,
   "metadata": {
    "collapsed": false,
    "slideshow": {
     "slide_type": "fragment"
    }
   },
   "outputs": [
    {
     "data": {
      "text/plain": [
       "Blue      58.0\n",
       "Green     37.0\n",
       "Purple     NaN\n",
       "Red        NaN\n",
       "Yellow     NaN\n",
       "dtype: float64"
      ]
     },
     "execution_count": 8,
     "metadata": {},
     "output_type": "execute_result"
    }
   ],
   "source": [
    "more_colours = pd.Series({'Blue': 16, 'Red': 22, \n",
    "                          'Purple': 34, 'Green': 25,})\n",
    "\n",
    "more_colours + colours"
   ]
  },
  {
   "cell_type": "markdown",
   "metadata": {
    "slideshow": {
     "slide_type": "notes"
    }
   },
   "source": [
    "As you can see, if not both of the indices are present then Pandas will return NaNs."
   ]
  },
  {
   "cell_type": "markdown",
   "metadata": {
    "slideshow": {
     "slide_type": "subslide"
    }
   },
   "source": [
    "Pandas uses numpy heavily underneath, so many of the numpy array operations work on Series as well:"
   ]
  },
  {
   "cell_type": "code",
   "execution_count": 9,
   "metadata": {
    "collapsed": false,
    "slideshow": {
     "slide_type": "fragment"
    }
   },
   "outputs": [
    {
     "data": {
      "text/plain": [
       "(30.333333333333332, 42)"
      ]
     },
     "execution_count": 9,
     "metadata": {},
     "output_type": "execute_result"
    }
   ],
   "source": [
    "colours.mean(), colours.max()"
   ]
  },
  {
   "cell_type": "markdown",
   "metadata": {
    "slideshow": {
     "slide_type": "slide"
    }
   },
   "source": [
    "## DataFrames"
   ]
  },
  {
   "cell_type": "markdown",
   "metadata": {
    "slideshow": {
     "slide_type": "notes"
    }
   },
   "source": [
    "Data frames are essentially collections of Series, with a shared index. Each `column` of data is labelled and the whole frame can be pictured as a table, or spreadsheet of data."
   ]
  },
  {
   "cell_type": "code",
   "execution_count": 10,
   "metadata": {
    "collapsed": false,
    "slideshow": {
     "slide_type": "fragment"
    }
   },
   "outputs": [
    {
     "name": "stdout",
     "output_type": "stream",
     "text": [
      "        First  Second\n",
      "Blue     42.0    16.0\n",
      "Green    12.0    25.0\n",
      "Purple    NaN    34.0\n",
      "Red       NaN    22.0\n",
      "Yellow   37.0     NaN\n"
     ]
    }
   ],
   "source": [
    "df = pd.DataFrame({'First': colours, 'Second': more_colours})\n",
    "print(df)"
   ]
  },
  {
   "cell_type": "markdown",
   "metadata": {
    "slideshow": {
     "slide_type": "subslide"
    }
   },
   "source": [
    "And can be indexed by row, or index via the ix attribute:"
   ]
  },
  {
   "cell_type": "code",
   "execution_count": 11,
   "metadata": {
    "collapsed": false,
    "slideshow": {
     "slide_type": "fragment"
    }
   },
   "outputs": [
    {
     "name": "stdout",
     "output_type": "stream",
     "text": [
      "Blue      42.0\n",
      "Green     12.0\n",
      "Purple     NaN\n",
      "Red        NaN\n",
      "Yellow    37.0\n",
      "Name: First, dtype: float64\n"
     ]
    }
   ],
   "source": [
    "# Column by index\n",
    "print(df['First'])"
   ]
  },
  {
   "cell_type": "code",
   "execution_count": 12,
   "metadata": {
    "collapsed": false,
    "slideshow": {
     "slide_type": "subslide"
    }
   },
   "outputs": [
    {
     "name": "stdout",
     "output_type": "stream",
     "text": [
      "Blue      42.0\n",
      "Green     12.0\n",
      "Purple     NaN\n",
      "Red        NaN\n",
      "Yellow    37.0\n",
      "Name: First, dtype: float64\n"
     ]
    }
   ],
   "source": [
    "# Column as attribute\n",
    "print(df.First)"
   ]
  },
  {
   "cell_type": "code",
   "execution_count": null,
   "metadata": {
    "collapsed": false,
    "slideshow": {
     "slide_type": "subslide"
    }
   },
   "outputs": [],
   "source": [
    "# Row via ix\n",
    "print(df.ix['Blue'])"
   ]
  },
  {
   "cell_type": "markdown",
   "metadata": {
    "slideshow": {
     "slide_type": "subslide"
    }
   },
   "source": [
    "We can then apply many of the same numpy functions on this data, on a per column basis:"
   ]
  },
  {
   "cell_type": "code",
   "execution_count": 13,
   "metadata": {
    "collapsed": false,
    "slideshow": {
     "slide_type": "fragment"
    }
   },
   "outputs": [
    {
     "data": {
      "text/plain": [
       "First     42.0\n",
       "Second    34.0\n",
       "dtype: float64"
      ]
     },
     "execution_count": 13,
     "metadata": {},
     "output_type": "execute_result"
    }
   ],
   "source": [
    "df.max()"
   ]
  },
  {
   "cell_type": "code",
   "execution_count": 14,
   "metadata": {
    "collapsed": false,
    "slideshow": {
     "slide_type": "fragment"
    }
   },
   "outputs": [
    {
     "data": {
      "text/plain": [
       "First     91.0\n",
       "Second    97.0\n",
       "dtype: float64"
      ]
     },
     "execution_count": 14,
     "metadata": {},
     "output_type": "execute_result"
    }
   ],
   "source": [
    "df.sum()"
   ]
  },
  {
   "cell_type": "markdown",
   "metadata": {
    "slideshow": {
     "slide_type": "slide"
    }
   },
   "source": [
    "## Reading Excel/CSV files"
   ]
  },
  {
   "cell_type": "code",
   "execution_count": 15,
   "metadata": {
    "collapsed": false,
    "slideshow": {
     "slide_type": "fragment"
    }
   },
   "outputs": [
    {
     "data": {
      "text/html": [
       "<div>\n",
       "<table border=\"1\" class=\"dataframe\">\n",
       "  <thead>\n",
       "    <tr style=\"text-align: right;\">\n",
       "      <th></th>\n",
       "      <th>temperature</th>\n",
       "      <th>rainfall</th>\n",
       "      <th>mosquitos</th>\n",
       "    </tr>\n",
       "    <tr>\n",
       "      <th>year</th>\n",
       "      <th></th>\n",
       "      <th></th>\n",
       "      <th></th>\n",
       "    </tr>\n",
       "  </thead>\n",
       "  <tbody>\n",
       "    <tr>\n",
       "      <th>1960-01-01</th>\n",
       "      <td>87</td>\n",
       "      <td>270</td>\n",
       "      <td>122</td>\n",
       "    </tr>\n",
       "    <tr>\n",
       "      <th>1961-01-01</th>\n",
       "      <td>77</td>\n",
       "      <td>296</td>\n",
       "      <td>116</td>\n",
       "    </tr>\n",
       "    <tr>\n",
       "      <th>1962-01-01</th>\n",
       "      <td>87</td>\n",
       "      <td>281</td>\n",
       "      <td>117</td>\n",
       "    </tr>\n",
       "    <tr>\n",
       "      <th>1963-01-01</th>\n",
       "      <td>73</td>\n",
       "      <td>167</td>\n",
       "      <td>87</td>\n",
       "    </tr>\n",
       "    <tr>\n",
       "      <th>1964-01-01</th>\n",
       "      <td>79</td>\n",
       "      <td>166</td>\n",
       "      <td>91</td>\n",
       "    </tr>\n",
       "    <tr>\n",
       "      <th>1965-01-01</th>\n",
       "      <td>76</td>\n",
       "      <td>272</td>\n",
       "      <td>113</td>\n",
       "    </tr>\n",
       "    <tr>\n",
       "      <th>1966-01-01</th>\n",
       "      <td>77</td>\n",
       "      <td>140</td>\n",
       "      <td>87</td>\n",
       "    </tr>\n",
       "    <tr>\n",
       "      <th>1967-01-01</th>\n",
       "      <td>87</td>\n",
       "      <td>207</td>\n",
       "      <td>106</td>\n",
       "    </tr>\n",
       "    <tr>\n",
       "      <th>1968-01-01</th>\n",
       "      <td>86</td>\n",
       "      <td>266</td>\n",
       "      <td>115</td>\n",
       "    </tr>\n",
       "    <tr>\n",
       "      <th>1969-01-01</th>\n",
       "      <td>79</td>\n",
       "      <td>159</td>\n",
       "      <td>92</td>\n",
       "    </tr>\n",
       "  </tbody>\n",
       "</table>\n",
       "</div>"
      ],
      "text/plain": [
       "            temperature  rainfall  mosquitos\n",
       "year                                        \n",
       "1960-01-01           87       270        122\n",
       "1961-01-01           77       296        116\n",
       "1962-01-01           87       281        117\n",
       "1963-01-01           73       167         87\n",
       "1964-01-01           79       166         91\n",
       "1965-01-01           76       272        113\n",
       "1966-01-01           77       140         87\n",
       "1967-01-01           87       207        106\n",
       "1968-01-01           86       266        115\n",
       "1969-01-01           79       159         92"
      ]
     },
     "execution_count": 15,
     "metadata": {},
     "output_type": "execute_result"
    }
   ],
   "source": [
    "example_csv = pd.read_csv('../resources/B1_mosquito_data.csv', \n",
    "                          parse_dates=True, index_col=0)\n",
    "example_csv[0:10]"
   ]
  },
  {
   "cell_type": "code",
   "execution_count": 16,
   "metadata": {
    "collapsed": false,
    "slideshow": {
     "slide_type": "subslide"
    }
   },
   "outputs": [
    {
     "data": {
      "text/html": [
       "<div>\n",
       "<table border=\"1\" class=\"dataframe\">\n",
       "  <thead>\n",
       "    <tr style=\"text-align: right;\">\n",
       "      <th></th>\n",
       "      <th>temperature</th>\n",
       "      <th>rainfall</th>\n",
       "      <th>mosquitos</th>\n",
       "    </tr>\n",
       "  </thead>\n",
       "  <tbody>\n",
       "    <tr>\n",
       "      <th>temperature</th>\n",
       "      <td>1.000000</td>\n",
       "      <td>0.137805</td>\n",
       "      <td>0.408380</td>\n",
       "    </tr>\n",
       "    <tr>\n",
       "      <th>rainfall</th>\n",
       "      <td>0.137805</td>\n",
       "      <td>1.000000</td>\n",
       "      <td>0.948906</td>\n",
       "    </tr>\n",
       "    <tr>\n",
       "      <th>mosquitos</th>\n",
       "      <td>0.408380</td>\n",
       "      <td>0.948906</td>\n",
       "      <td>1.000000</td>\n",
       "    </tr>\n",
       "  </tbody>\n",
       "</table>\n",
       "</div>"
      ],
      "text/plain": [
       "             temperature  rainfall  mosquitos\n",
       "temperature     1.000000  0.137805   0.408380\n",
       "rainfall        0.137805  1.000000   0.948906\n",
       "mosquitos       0.408380  0.948906   1.000000"
      ]
     },
     "execution_count": 16,
     "metadata": {},
     "output_type": "execute_result"
    }
   ],
   "source": [
    "example_csv.corr()"
   ]
  },
  {
   "cell_type": "markdown",
   "metadata": {
    "slideshow": {
     "slide_type": "slide"
    }
   },
   "source": [
    "## Using Pandas with CIS data"
   ]
  },
  {
   "cell_type": "markdown",
   "metadata": {
    "slideshow": {
     "slide_type": "fragment"
    }
   },
   "source": [
    "We can easily convert CIS data into pandas data to take advantage of this time-series functionality."
   ]
  },
  {
   "cell_type": "code",
   "execution_count": 17,
   "metadata": {
    "collapsed": false,
    "scrolled": true,
    "slideshow": {
     "slide_type": "fragment"
    }
   },
   "outputs": [
    {
     "data": {
      "text/html": [
       "<div>\n",
       "<table border=\"1\" class=\"dataframe\">\n",
       "  <thead>\n",
       "    <tr style=\"text-align: right;\">\n",
       "      <th></th>\n",
       "      <th>altitude</th>\n",
       "      <th>latitude</th>\n",
       "      <th>longitude</th>\n",
       "      <th>AOD670</th>\n",
       "      <th>time</th>\n",
       "      <th>AOD550</th>\n",
       "      <th>AOD870</th>\n",
       "      <th>AOD1600</th>\n",
       "      <th>NUMBER_CONCENTRATION</th>\n",
       "    </tr>\n",
       "  </thead>\n",
       "  <tbody>\n",
       "    <tr>\n",
       "      <th>2008-04-11 20:01:30</th>\n",
       "      <td>233.4</td>\n",
       "      <td>64.8029</td>\n",
       "      <td>-147.8828</td>\n",
       "      <td>0.284781</td>\n",
       "      <td>149120.834375</td>\n",
       "      <td>0.270871</td>\n",
       "      <td>0.130443</td>\n",
       "      <td>0.284781</td>\n",
       "      <td>2191.0</td>\n",
       "    </tr>\n",
       "    <tr>\n",
       "      <th>2008-04-11 20:02:30</th>\n",
       "      <td>652.9</td>\n",
       "      <td>64.7594</td>\n",
       "      <td>-147.9471</td>\n",
       "      <td>0.294635</td>\n",
       "      <td>149120.835069</td>\n",
       "      <td>0.279516</td>\n",
       "      <td>0.133261</td>\n",
       "      <td>0.294635</td>\n",
       "      <td>581.0</td>\n",
       "    </tr>\n",
       "    <tr>\n",
       "      <th>2008-04-11 20:03:30</th>\n",
       "      <td>1099.1</td>\n",
       "      <td>64.7385</td>\n",
       "      <td>-148.0415</td>\n",
       "      <td>0.345198</td>\n",
       "      <td>149120.835764</td>\n",
       "      <td>0.328403</td>\n",
       "      <td>0.158271</td>\n",
       "      <td>0.345198</td>\n",
       "      <td>306.0</td>\n",
       "    </tr>\n",
       "    <tr>\n",
       "      <th>2008-04-11 20:04:30</th>\n",
       "      <td>1496.7</td>\n",
       "      <td>64.7820</td>\n",
       "      <td>-148.1129</td>\n",
       "      <td>0.391794</td>\n",
       "      <td>149120.836458</td>\n",
       "      <td>0.379837</td>\n",
       "      <td>0.196193</td>\n",
       "      <td>0.391794</td>\n",
       "      <td>281.0</td>\n",
       "    </tr>\n",
       "    <tr>\n",
       "      <th>2008-04-11 20:05:30</th>\n",
       "      <td>1877.5</td>\n",
       "      <td>64.8434</td>\n",
       "      <td>-148.1207</td>\n",
       "      <td>0.443872</td>\n",
       "      <td>149120.837153</td>\n",
       "      <td>0.432696</td>\n",
       "      <td>0.227793</td>\n",
       "      <td>0.443872</td>\n",
       "      <td>246.0</td>\n",
       "    </tr>\n",
       "    <tr>\n",
       "      <th>2008-04-11 20:06:30</th>\n",
       "      <td>2245.8</td>\n",
       "      <td>64.9073</td>\n",
       "      <td>-148.1275</td>\n",
       "      <td>0.520862</td>\n",
       "      <td>149120.837847</td>\n",
       "      <td>0.514773</td>\n",
       "      <td>0.283677</td>\n",
       "      <td>0.520862</td>\n",
       "      <td>230.0</td>\n",
       "    </tr>\n",
       "    <tr>\n",
       "      <th>2008-04-11 20:07:30</th>\n",
       "      <td>2638.7</td>\n",
       "      <td>64.9720</td>\n",
       "      <td>-148.1360</td>\n",
       "      <td>0.489666</td>\n",
       "      <td>149120.838542</td>\n",
       "      <td>0.483544</td>\n",
       "      <td>0.265761</td>\n",
       "      <td>0.489666</td>\n",
       "      <td>241.0</td>\n",
       "    </tr>\n",
       "    <tr>\n",
       "      <th>2008-04-11 20:08:30</th>\n",
       "      <td>3013.7</td>\n",
       "      <td>65.0354</td>\n",
       "      <td>-148.1538</td>\n",
       "      <td>0.265527</td>\n",
       "      <td>149120.839236</td>\n",
       "      <td>0.260520</td>\n",
       "      <td>0.140179</td>\n",
       "      <td>0.265527</td>\n",
       "      <td>197.0</td>\n",
       "    </tr>\n",
       "    <tr>\n",
       "      <th>2008-04-11 20:09:30</th>\n",
       "      <td>3275.1</td>\n",
       "      <td>65.1007</td>\n",
       "      <td>-148.1691</td>\n",
       "      <td>0.416466</td>\n",
       "      <td>149120.839931</td>\n",
       "      <td>0.407154</td>\n",
       "      <td>0.216467</td>\n",
       "      <td>0.416466</td>\n",
       "      <td>209.0</td>\n",
       "    </tr>\n",
       "    <tr>\n",
       "      <th>2008-04-11 20:10:30</th>\n",
       "      <td>3411.1</td>\n",
       "      <td>65.1700</td>\n",
       "      <td>-148.1806</td>\n",
       "      <td>0.397496</td>\n",
       "      <td>149120.840625</td>\n",
       "      <td>0.387216</td>\n",
       "      <td>0.203360</td>\n",
       "      <td>0.397496</td>\n",
       "      <td>194.0</td>\n",
       "    </tr>\n",
       "    <tr>\n",
       "      <th>2008-04-11 20:11:30</th>\n",
       "      <td>3412.2</td>\n",
       "      <td>65.2419</td>\n",
       "      <td>-148.1874</td>\n",
       "      <td>0.529464</td>\n",
       "      <td>149120.841319</td>\n",
       "      <td>0.513911</td>\n",
       "      <td>0.266541</td>\n",
       "      <td>0.529464</td>\n",
       "      <td>185.0</td>\n",
       "    </tr>\n",
       "    <tr>\n",
       "      <th>2008-04-11 20:12:30</th>\n",
       "      <td>3410.5</td>\n",
       "      <td>65.3126</td>\n",
       "      <td>-148.1910</td>\n",
       "      <td>0.506485</td>\n",
       "      <td>149120.842014</td>\n",
       "      <td>0.447898</td>\n",
       "      <td>0.122831</td>\n",
       "      <td>0.506485</td>\n",
       "      <td>184.0</td>\n",
       "    </tr>\n",
       "    <tr>\n",
       "      <th>2008-04-11 20:13:30</th>\n",
       "      <td>3412.0</td>\n",
       "      <td>65.3824</td>\n",
       "      <td>-148.1974</td>\n",
       "      <td>0.429768</td>\n",
       "      <td>149120.842708</td>\n",
       "      <td>0.399655</td>\n",
       "      <td>0.160455</td>\n",
       "      <td>0.429768</td>\n",
       "      <td>190.0</td>\n",
       "    </tr>\n",
       "    <tr>\n",
       "      <th>2008-04-11 20:14:30</th>\n",
       "      <td>3412.1</td>\n",
       "      <td>65.4528</td>\n",
       "      <td>-148.2055</td>\n",
       "      <td>0.542344</td>\n",
       "      <td>149120.843403</td>\n",
       "      <td>0.500470</td>\n",
       "      <td>0.197428</td>\n",
       "      <td>0.542344</td>\n",
       "      <td>173.0</td>\n",
       "    </tr>\n",
       "    <tr>\n",
       "      <th>2008-04-11 20:15:30</th>\n",
       "      <td>3411.5</td>\n",
       "      <td>65.5235</td>\n",
       "      <td>-148.2154</td>\n",
       "      <td>0.553993</td>\n",
       "      <td>149120.844097</td>\n",
       "      <td>0.531456</td>\n",
       "      <td>0.264294</td>\n",
       "      <td>0.553993</td>\n",
       "      <td>170.0</td>\n",
       "    </tr>\n",
       "    <tr>\n",
       "      <th>2008-04-11 20:16:30</th>\n",
       "      <td>3410.9</td>\n",
       "      <td>65.5938</td>\n",
       "      <td>-148.2256</td>\n",
       "      <td>0.453869</td>\n",
       "      <td>149120.844792</td>\n",
       "      <td>0.437072</td>\n",
       "      <td>0.220412</td>\n",
       "      <td>0.453869</td>\n",
       "      <td>175.0</td>\n",
       "    </tr>\n",
       "    <tr>\n",
       "      <th>2008-04-11 20:17:30</th>\n",
       "      <td>3409.3</td>\n",
       "      <td>65.6636</td>\n",
       "      <td>-148.2357</td>\n",
       "      <td>0.377955</td>\n",
       "      <td>149120.845486</td>\n",
       "      <td>0.364274</td>\n",
       "      <td>0.184259</td>\n",
       "      <td>0.377955</td>\n",
       "      <td>169.0</td>\n",
       "    </tr>\n",
       "    <tr>\n",
       "      <th>2008-04-11 20:18:30</th>\n",
       "      <td>3408.5</td>\n",
       "      <td>65.7332</td>\n",
       "      <td>-148.2463</td>\n",
       "      <td>0.591343</td>\n",
       "      <td>149120.846181</td>\n",
       "      <td>0.576690</td>\n",
       "      <td>0.304027</td>\n",
       "      <td>0.591343</td>\n",
       "      <td>162.0</td>\n",
       "    </tr>\n",
       "    <tr>\n",
       "      <th>2008-04-11 20:19:30</th>\n",
       "      <td>3407.7</td>\n",
       "      <td>65.8034</td>\n",
       "      <td>-148.2568</td>\n",
       "      <td>0.381449</td>\n",
       "      <td>149120.846875</td>\n",
       "      <td>0.361938</td>\n",
       "      <td>0.172673</td>\n",
       "      <td>0.381449</td>\n",
       "      <td>177.0</td>\n",
       "    </tr>\n",
       "    <tr>\n",
       "      <th>2008-04-11 20:20:30</th>\n",
       "      <td>3407.2</td>\n",
       "      <td>65.8740</td>\n",
       "      <td>-148.2664</td>\n",
       "      <td>0.381449</td>\n",
       "      <td>149120.847569</td>\n",
       "      <td>0.361938</td>\n",
       "      <td>0.172673</td>\n",
       "      <td>0.381449</td>\n",
       "      <td>194.0</td>\n",
       "    </tr>\n",
       "    <tr>\n",
       "      <th>2008-04-11 20:21:30</th>\n",
       "      <td>3407.3</td>\n",
       "      <td>65.9449</td>\n",
       "      <td>-148.2756</td>\n",
       "      <td>NaN</td>\n",
       "      <td>149120.848264</td>\n",
       "      <td>NaN</td>\n",
       "      <td>NaN</td>\n",
       "      <td>NaN</td>\n",
       "      <td>236.0</td>\n",
       "    </tr>\n",
       "    <tr>\n",
       "      <th>2008-04-11 20:22:30</th>\n",
       "      <td>3407.1</td>\n",
       "      <td>66.0160</td>\n",
       "      <td>-148.2849</td>\n",
       "      <td>NaN</td>\n",
       "      <td>149120.848958</td>\n",
       "      <td>NaN</td>\n",
       "      <td>NaN</td>\n",
       "      <td>NaN</td>\n",
       "      <td>360.0</td>\n",
       "    </tr>\n",
       "    <tr>\n",
       "      <th>2008-04-11 20:23:30</th>\n",
       "      <td>3406.0</td>\n",
       "      <td>66.0875</td>\n",
       "      <td>-148.2942</td>\n",
       "      <td>NaN</td>\n",
       "      <td>149120.849653</td>\n",
       "      <td>NaN</td>\n",
       "      <td>NaN</td>\n",
       "      <td>NaN</td>\n",
       "      <td>333.0</td>\n",
       "    </tr>\n",
       "    <tr>\n",
       "      <th>2008-04-11 20:24:30</th>\n",
       "      <td>3404.7</td>\n",
       "      <td>66.1592</td>\n",
       "      <td>-148.3032</td>\n",
       "      <td>NaN</td>\n",
       "      <td>149120.850347</td>\n",
       "      <td>NaN</td>\n",
       "      <td>NaN</td>\n",
       "      <td>NaN</td>\n",
       "      <td>307.0</td>\n",
       "    </tr>\n",
       "    <tr>\n",
       "      <th>2008-04-11 20:25:30</th>\n",
       "      <td>3405.3</td>\n",
       "      <td>66.2312</td>\n",
       "      <td>-148.3120</td>\n",
       "      <td>NaN</td>\n",
       "      <td>149120.851042</td>\n",
       "      <td>NaN</td>\n",
       "      <td>NaN</td>\n",
       "      <td>NaN</td>\n",
       "      <td>277.0</td>\n",
       "    </tr>\n",
       "    <tr>\n",
       "      <th>2008-04-11 20:26:30</th>\n",
       "      <td>3405.2</td>\n",
       "      <td>66.3033</td>\n",
       "      <td>-148.3210</td>\n",
       "      <td>NaN</td>\n",
       "      <td>149120.851736</td>\n",
       "      <td>NaN</td>\n",
       "      <td>NaN</td>\n",
       "      <td>NaN</td>\n",
       "      <td>268.0</td>\n",
       "    </tr>\n",
       "    <tr>\n",
       "      <th>2008-04-11 20:27:30</th>\n",
       "      <td>3404.9</td>\n",
       "      <td>66.3755</td>\n",
       "      <td>-148.3303</td>\n",
       "      <td>NaN</td>\n",
       "      <td>149120.852431</td>\n",
       "      <td>NaN</td>\n",
       "      <td>NaN</td>\n",
       "      <td>NaN</td>\n",
       "      <td>255.0</td>\n",
       "    </tr>\n",
       "    <tr>\n",
       "      <th>2008-04-11 20:28:30</th>\n",
       "      <td>3403.7</td>\n",
       "      <td>66.4471</td>\n",
       "      <td>-148.3402</td>\n",
       "      <td>NaN</td>\n",
       "      <td>149120.853125</td>\n",
       "      <td>NaN</td>\n",
       "      <td>NaN</td>\n",
       "      <td>NaN</td>\n",
       "      <td>252.0</td>\n",
       "    </tr>\n",
       "    <tr>\n",
       "      <th>2008-04-11 20:29:30</th>\n",
       "      <td>3402.5</td>\n",
       "      <td>66.5181</td>\n",
       "      <td>-148.3506</td>\n",
       "      <td>NaN</td>\n",
       "      <td>149120.853819</td>\n",
       "      <td>NaN</td>\n",
       "      <td>NaN</td>\n",
       "      <td>NaN</td>\n",
       "      <td>158.0</td>\n",
       "    </tr>\n",
       "    <tr>\n",
       "      <th>2008-04-11 20:30:30</th>\n",
       "      <td>3403.1</td>\n",
       "      <td>66.5886</td>\n",
       "      <td>-148.3616</td>\n",
       "      <td>NaN</td>\n",
       "      <td>149120.854514</td>\n",
       "      <td>NaN</td>\n",
       "      <td>NaN</td>\n",
       "      <td>NaN</td>\n",
       "      <td>151.0</td>\n",
       "    </tr>\n",
       "    <tr>\n",
       "      <th>...</th>\n",
       "      <td>...</td>\n",
       "      <td>...</td>\n",
       "      <td>...</td>\n",
       "      <td>...</td>\n",
       "      <td>...</td>\n",
       "      <td>...</td>\n",
       "      <td>...</td>\n",
       "      <td>...</td>\n",
       "      <td>...</td>\n",
       "    </tr>\n",
       "    <tr>\n",
       "      <th>2008-04-16 02:34:30</th>\n",
       "      <td>5326.5</td>\n",
       "      <td>66.4332</td>\n",
       "      <td>-150.5058</td>\n",
       "      <td>NaN</td>\n",
       "      <td>149125.107292</td>\n",
       "      <td>NaN</td>\n",
       "      <td>NaN</td>\n",
       "      <td>NaN</td>\n",
       "      <td>350.0</td>\n",
       "    </tr>\n",
       "    <tr>\n",
       "      <th>2008-04-16 02:35:30</th>\n",
       "      <td>5327.2</td>\n",
       "      <td>66.3617</td>\n",
       "      <td>-150.3813</td>\n",
       "      <td>NaN</td>\n",
       "      <td>149125.107986</td>\n",
       "      <td>NaN</td>\n",
       "      <td>NaN</td>\n",
       "      <td>NaN</td>\n",
       "      <td>321.0</td>\n",
       "    </tr>\n",
       "    <tr>\n",
       "      <th>2008-04-16 02:36:30</th>\n",
       "      <td>5328.5</td>\n",
       "      <td>66.2913</td>\n",
       "      <td>-150.2537</td>\n",
       "      <td>NaN</td>\n",
       "      <td>149125.108681</td>\n",
       "      <td>NaN</td>\n",
       "      <td>NaN</td>\n",
       "      <td>NaN</td>\n",
       "      <td>496.0</td>\n",
       "    </tr>\n",
       "    <tr>\n",
       "      <th>2008-04-16 02:37:30</th>\n",
       "      <td>5330.0</td>\n",
       "      <td>66.2213</td>\n",
       "      <td>-150.1258</td>\n",
       "      <td>NaN</td>\n",
       "      <td>149125.109375</td>\n",
       "      <td>NaN</td>\n",
       "      <td>NaN</td>\n",
       "      <td>NaN</td>\n",
       "      <td>403.0</td>\n",
       "    </tr>\n",
       "    <tr>\n",
       "      <th>2008-04-16 02:38:30</th>\n",
       "      <td>5331.2</td>\n",
       "      <td>66.1513</td>\n",
       "      <td>-149.9991</td>\n",
       "      <td>NaN</td>\n",
       "      <td>149125.110069</td>\n",
       "      <td>NaN</td>\n",
       "      <td>NaN</td>\n",
       "      <td>NaN</td>\n",
       "      <td>344.0</td>\n",
       "    </tr>\n",
       "    <tr>\n",
       "      <th>2008-04-16 02:39:30</th>\n",
       "      <td>5332.1</td>\n",
       "      <td>66.0805</td>\n",
       "      <td>-149.8781</td>\n",
       "      <td>NaN</td>\n",
       "      <td>149125.110764</td>\n",
       "      <td>NaN</td>\n",
       "      <td>NaN</td>\n",
       "      <td>NaN</td>\n",
       "      <td>236.0</td>\n",
       "    </tr>\n",
       "    <tr>\n",
       "      <th>2008-04-16 02:40:30</th>\n",
       "      <td>5334.5</td>\n",
       "      <td>66.0091</td>\n",
       "      <td>-149.7616</td>\n",
       "      <td>NaN</td>\n",
       "      <td>149125.111458</td>\n",
       "      <td>NaN</td>\n",
       "      <td>NaN</td>\n",
       "      <td>NaN</td>\n",
       "      <td>288.0</td>\n",
       "    </tr>\n",
       "    <tr>\n",
       "      <th>2008-04-16 02:41:30</th>\n",
       "      <td>5337.4</td>\n",
       "      <td>65.9380</td>\n",
       "      <td>-149.6455</td>\n",
       "      <td>NaN</td>\n",
       "      <td>149125.112153</td>\n",
       "      <td>NaN</td>\n",
       "      <td>NaN</td>\n",
       "      <td>NaN</td>\n",
       "      <td>544.0</td>\n",
       "    </tr>\n",
       "    <tr>\n",
       "      <th>2008-04-16 02:42:30</th>\n",
       "      <td>5316.7</td>\n",
       "      <td>65.8672</td>\n",
       "      <td>-149.5295</td>\n",
       "      <td>NaN</td>\n",
       "      <td>149125.112847</td>\n",
       "      <td>NaN</td>\n",
       "      <td>NaN</td>\n",
       "      <td>NaN</td>\n",
       "      <td>610.0</td>\n",
       "    </tr>\n",
       "    <tr>\n",
       "      <th>2008-04-16 02:43:30</th>\n",
       "      <td>5018.4</td>\n",
       "      <td>65.7983</td>\n",
       "      <td>-149.4151</td>\n",
       "      <td>NaN</td>\n",
       "      <td>149125.113542</td>\n",
       "      <td>NaN</td>\n",
       "      <td>NaN</td>\n",
       "      <td>NaN</td>\n",
       "      <td>377.0</td>\n",
       "    </tr>\n",
       "    <tr>\n",
       "      <th>2008-04-16 02:44:30</th>\n",
       "      <td>4771.4</td>\n",
       "      <td>65.7328</td>\n",
       "      <td>-149.3015</td>\n",
       "      <td>NaN</td>\n",
       "      <td>149125.114236</td>\n",
       "      <td>NaN</td>\n",
       "      <td>NaN</td>\n",
       "      <td>NaN</td>\n",
       "      <td>303.0</td>\n",
       "    </tr>\n",
       "    <tr>\n",
       "      <th>2008-04-16 02:45:30</th>\n",
       "      <td>4504.9</td>\n",
       "      <td>65.6694</td>\n",
       "      <td>-149.1929</td>\n",
       "      <td>NaN</td>\n",
       "      <td>149125.114931</td>\n",
       "      <td>NaN</td>\n",
       "      <td>NaN</td>\n",
       "      <td>NaN</td>\n",
       "      <td>231.0</td>\n",
       "    </tr>\n",
       "    <tr>\n",
       "      <th>2008-04-16 02:46:30</th>\n",
       "      <td>4238.8</td>\n",
       "      <td>65.6070</td>\n",
       "      <td>-149.0823</td>\n",
       "      <td>NaN</td>\n",
       "      <td>149125.115625</td>\n",
       "      <td>NaN</td>\n",
       "      <td>NaN</td>\n",
       "      <td>NaN</td>\n",
       "      <td>200.0</td>\n",
       "    </tr>\n",
       "    <tr>\n",
       "      <th>2008-04-16 02:47:30</th>\n",
       "      <td>4013.3</td>\n",
       "      <td>65.5502</td>\n",
       "      <td>-148.9587</td>\n",
       "      <td>NaN</td>\n",
       "      <td>149125.116319</td>\n",
       "      <td>NaN</td>\n",
       "      <td>NaN</td>\n",
       "      <td>NaN</td>\n",
       "      <td>302.0</td>\n",
       "    </tr>\n",
       "    <tr>\n",
       "      <th>2008-04-16 02:48:30</th>\n",
       "      <td>3787.6</td>\n",
       "      <td>65.4937</td>\n",
       "      <td>-148.8395</td>\n",
       "      <td>NaN</td>\n",
       "      <td>149125.117014</td>\n",
       "      <td>NaN</td>\n",
       "      <td>NaN</td>\n",
       "      <td>NaN</td>\n",
       "      <td>262.0</td>\n",
       "    </tr>\n",
       "    <tr>\n",
       "      <th>2008-04-16 02:49:30</th>\n",
       "      <td>3546.2</td>\n",
       "      <td>65.4354</td>\n",
       "      <td>-148.7259</td>\n",
       "      <td>NaN</td>\n",
       "      <td>149125.117708</td>\n",
       "      <td>NaN</td>\n",
       "      <td>NaN</td>\n",
       "      <td>NaN</td>\n",
       "      <td>555.0</td>\n",
       "    </tr>\n",
       "    <tr>\n",
       "      <th>2008-04-16 02:50:30</th>\n",
       "      <td>3328.0</td>\n",
       "      <td>65.3767</td>\n",
       "      <td>-148.6144</td>\n",
       "      <td>NaN</td>\n",
       "      <td>149125.118403</td>\n",
       "      <td>NaN</td>\n",
       "      <td>NaN</td>\n",
       "      <td>NaN</td>\n",
       "      <td>546.0</td>\n",
       "    </tr>\n",
       "    <tr>\n",
       "      <th>2008-04-16 02:51:30</th>\n",
       "      <td>3088.1</td>\n",
       "      <td>65.3185</td>\n",
       "      <td>-148.5031</td>\n",
       "      <td>NaN</td>\n",
       "      <td>149125.119097</td>\n",
       "      <td>NaN</td>\n",
       "      <td>NaN</td>\n",
       "      <td>NaN</td>\n",
       "      <td>538.0</td>\n",
       "    </tr>\n",
       "    <tr>\n",
       "      <th>2008-04-16 02:52:30</th>\n",
       "      <td>2736.2</td>\n",
       "      <td>65.2592</td>\n",
       "      <td>-148.3931</td>\n",
       "      <td>NaN</td>\n",
       "      <td>149125.119792</td>\n",
       "      <td>NaN</td>\n",
       "      <td>NaN</td>\n",
       "      <td>NaN</td>\n",
       "      <td>511.0</td>\n",
       "    </tr>\n",
       "    <tr>\n",
       "      <th>2008-04-16 02:53:30</th>\n",
       "      <td>2400.7</td>\n",
       "      <td>65.2034</td>\n",
       "      <td>-148.2816</td>\n",
       "      <td>NaN</td>\n",
       "      <td>149125.120486</td>\n",
       "      <td>NaN</td>\n",
       "      <td>NaN</td>\n",
       "      <td>NaN</td>\n",
       "      <td>187.0</td>\n",
       "    </tr>\n",
       "    <tr>\n",
       "      <th>2008-04-16 02:54:30</th>\n",
       "      <td>2020.8</td>\n",
       "      <td>65.1602</td>\n",
       "      <td>-148.1653</td>\n",
       "      <td>NaN</td>\n",
       "      <td>149125.121181</td>\n",
       "      <td>NaN</td>\n",
       "      <td>NaN</td>\n",
       "      <td>NaN</td>\n",
       "      <td>210.0</td>\n",
       "    </tr>\n",
       "    <tr>\n",
       "      <th>2008-04-16 02:55:30</th>\n",
       "      <td>1694.9</td>\n",
       "      <td>65.1254</td>\n",
       "      <td>-148.0474</td>\n",
       "      <td>NaN</td>\n",
       "      <td>149125.121875</td>\n",
       "      <td>NaN</td>\n",
       "      <td>NaN</td>\n",
       "      <td>NaN</td>\n",
       "      <td>222.0</td>\n",
       "    </tr>\n",
       "    <tr>\n",
       "      <th>2008-04-16 02:56:30</th>\n",
       "      <td>1441.9</td>\n",
       "      <td>65.0882</td>\n",
       "      <td>-147.9370</td>\n",
       "      <td>NaN</td>\n",
       "      <td>149125.122569</td>\n",
       "      <td>NaN</td>\n",
       "      <td>NaN</td>\n",
       "      <td>NaN</td>\n",
       "      <td>230.0</td>\n",
       "    </tr>\n",
       "    <tr>\n",
       "      <th>2008-04-16 02:57:30</th>\n",
       "      <td>1232.0</td>\n",
       "      <td>65.0506</td>\n",
       "      <td>-147.8268</td>\n",
       "      <td>NaN</td>\n",
       "      <td>149125.123264</td>\n",
       "      <td>NaN</td>\n",
       "      <td>NaN</td>\n",
       "      <td>NaN</td>\n",
       "      <td>236.0</td>\n",
       "    </tr>\n",
       "    <tr>\n",
       "      <th>2008-04-16 02:58:30</th>\n",
       "      <td>1199.5</td>\n",
       "      <td>65.0156</td>\n",
       "      <td>-147.7097</td>\n",
       "      <td>NaN</td>\n",
       "      <td>149125.123958</td>\n",
       "      <td>NaN</td>\n",
       "      <td>NaN</td>\n",
       "      <td>NaN</td>\n",
       "      <td>237.0</td>\n",
       "    </tr>\n",
       "    <tr>\n",
       "      <th>2008-04-16 02:59:30</th>\n",
       "      <td>1091.9</td>\n",
       "      <td>64.9706</td>\n",
       "      <td>-147.6263</td>\n",
       "      <td>NaN</td>\n",
       "      <td>149125.124653</td>\n",
       "      <td>NaN</td>\n",
       "      <td>NaN</td>\n",
       "      <td>NaN</td>\n",
       "      <td>226.0</td>\n",
       "    </tr>\n",
       "    <tr>\n",
       "      <th>2008-04-16 03:00:30</th>\n",
       "      <td>944.9</td>\n",
       "      <td>64.9277</td>\n",
       "      <td>-147.6486</td>\n",
       "      <td>NaN</td>\n",
       "      <td>149125.125347</td>\n",
       "      <td>NaN</td>\n",
       "      <td>NaN</td>\n",
       "      <td>NaN</td>\n",
       "      <td>219.0</td>\n",
       "    </tr>\n",
       "    <tr>\n",
       "      <th>2008-04-16 03:01:30</th>\n",
       "      <td>682.1</td>\n",
       "      <td>64.8948</td>\n",
       "      <td>-147.7128</td>\n",
       "      <td>NaN</td>\n",
       "      <td>149125.126042</td>\n",
       "      <td>NaN</td>\n",
       "      <td>NaN</td>\n",
       "      <td>NaN</td>\n",
       "      <td>221.0</td>\n",
       "    </tr>\n",
       "    <tr>\n",
       "      <th>2008-04-16 03:02:30</th>\n",
       "      <td>435.8</td>\n",
       "      <td>64.8635</td>\n",
       "      <td>-147.7722</td>\n",
       "      <td>NaN</td>\n",
       "      <td>149125.126736</td>\n",
       "      <td>NaN</td>\n",
       "      <td>NaN</td>\n",
       "      <td>NaN</td>\n",
       "      <td>220.0</td>\n",
       "    </tr>\n",
       "    <tr>\n",
       "      <th>2008-04-16 03:03:30</th>\n",
       "      <td>203.5</td>\n",
       "      <td>64.8336</td>\n",
       "      <td>-147.8285</td>\n",
       "      <td>NaN</td>\n",
       "      <td>149125.127431</td>\n",
       "      <td>NaN</td>\n",
       "      <td>NaN</td>\n",
       "      <td>NaN</td>\n",
       "      <td>187.0</td>\n",
       "    </tr>\n",
       "  </tbody>\n",
       "</table>\n",
       "<p>1268 rows × 9 columns</p>\n",
       "</div>"
      ],
      "text/plain": [
       "                     altitude  latitude  longitude    AOD670           time  \\\n",
       "2008-04-11 20:01:30     233.4   64.8029  -147.8828  0.284781  149120.834375   \n",
       "2008-04-11 20:02:30     652.9   64.7594  -147.9471  0.294635  149120.835069   \n",
       "2008-04-11 20:03:30    1099.1   64.7385  -148.0415  0.345198  149120.835764   \n",
       "2008-04-11 20:04:30    1496.7   64.7820  -148.1129  0.391794  149120.836458   \n",
       "2008-04-11 20:05:30    1877.5   64.8434  -148.1207  0.443872  149120.837153   \n",
       "2008-04-11 20:06:30    2245.8   64.9073  -148.1275  0.520862  149120.837847   \n",
       "2008-04-11 20:07:30    2638.7   64.9720  -148.1360  0.489666  149120.838542   \n",
       "2008-04-11 20:08:30    3013.7   65.0354  -148.1538  0.265527  149120.839236   \n",
       "2008-04-11 20:09:30    3275.1   65.1007  -148.1691  0.416466  149120.839931   \n",
       "2008-04-11 20:10:30    3411.1   65.1700  -148.1806  0.397496  149120.840625   \n",
       "2008-04-11 20:11:30    3412.2   65.2419  -148.1874  0.529464  149120.841319   \n",
       "2008-04-11 20:12:30    3410.5   65.3126  -148.1910  0.506485  149120.842014   \n",
       "2008-04-11 20:13:30    3412.0   65.3824  -148.1974  0.429768  149120.842708   \n",
       "2008-04-11 20:14:30    3412.1   65.4528  -148.2055  0.542344  149120.843403   \n",
       "2008-04-11 20:15:30    3411.5   65.5235  -148.2154  0.553993  149120.844097   \n",
       "2008-04-11 20:16:30    3410.9   65.5938  -148.2256  0.453869  149120.844792   \n",
       "2008-04-11 20:17:30    3409.3   65.6636  -148.2357  0.377955  149120.845486   \n",
       "2008-04-11 20:18:30    3408.5   65.7332  -148.2463  0.591343  149120.846181   \n",
       "2008-04-11 20:19:30    3407.7   65.8034  -148.2568  0.381449  149120.846875   \n",
       "2008-04-11 20:20:30    3407.2   65.8740  -148.2664  0.381449  149120.847569   \n",
       "2008-04-11 20:21:30    3407.3   65.9449  -148.2756       NaN  149120.848264   \n",
       "2008-04-11 20:22:30    3407.1   66.0160  -148.2849       NaN  149120.848958   \n",
       "2008-04-11 20:23:30    3406.0   66.0875  -148.2942       NaN  149120.849653   \n",
       "2008-04-11 20:24:30    3404.7   66.1592  -148.3032       NaN  149120.850347   \n",
       "2008-04-11 20:25:30    3405.3   66.2312  -148.3120       NaN  149120.851042   \n",
       "2008-04-11 20:26:30    3405.2   66.3033  -148.3210       NaN  149120.851736   \n",
       "2008-04-11 20:27:30    3404.9   66.3755  -148.3303       NaN  149120.852431   \n",
       "2008-04-11 20:28:30    3403.7   66.4471  -148.3402       NaN  149120.853125   \n",
       "2008-04-11 20:29:30    3402.5   66.5181  -148.3506       NaN  149120.853819   \n",
       "2008-04-11 20:30:30    3403.1   66.5886  -148.3616       NaN  149120.854514   \n",
       "...                       ...       ...        ...       ...            ...   \n",
       "2008-04-16 02:34:30    5326.5   66.4332  -150.5058       NaN  149125.107292   \n",
       "2008-04-16 02:35:30    5327.2   66.3617  -150.3813       NaN  149125.107986   \n",
       "2008-04-16 02:36:30    5328.5   66.2913  -150.2537       NaN  149125.108681   \n",
       "2008-04-16 02:37:30    5330.0   66.2213  -150.1258       NaN  149125.109375   \n",
       "2008-04-16 02:38:30    5331.2   66.1513  -149.9991       NaN  149125.110069   \n",
       "2008-04-16 02:39:30    5332.1   66.0805  -149.8781       NaN  149125.110764   \n",
       "2008-04-16 02:40:30    5334.5   66.0091  -149.7616       NaN  149125.111458   \n",
       "2008-04-16 02:41:30    5337.4   65.9380  -149.6455       NaN  149125.112153   \n",
       "2008-04-16 02:42:30    5316.7   65.8672  -149.5295       NaN  149125.112847   \n",
       "2008-04-16 02:43:30    5018.4   65.7983  -149.4151       NaN  149125.113542   \n",
       "2008-04-16 02:44:30    4771.4   65.7328  -149.3015       NaN  149125.114236   \n",
       "2008-04-16 02:45:30    4504.9   65.6694  -149.1929       NaN  149125.114931   \n",
       "2008-04-16 02:46:30    4238.8   65.6070  -149.0823       NaN  149125.115625   \n",
       "2008-04-16 02:47:30    4013.3   65.5502  -148.9587       NaN  149125.116319   \n",
       "2008-04-16 02:48:30    3787.6   65.4937  -148.8395       NaN  149125.117014   \n",
       "2008-04-16 02:49:30    3546.2   65.4354  -148.7259       NaN  149125.117708   \n",
       "2008-04-16 02:50:30    3328.0   65.3767  -148.6144       NaN  149125.118403   \n",
       "2008-04-16 02:51:30    3088.1   65.3185  -148.5031       NaN  149125.119097   \n",
       "2008-04-16 02:52:30    2736.2   65.2592  -148.3931       NaN  149125.119792   \n",
       "2008-04-16 02:53:30    2400.7   65.2034  -148.2816       NaN  149125.120486   \n",
       "2008-04-16 02:54:30    2020.8   65.1602  -148.1653       NaN  149125.121181   \n",
       "2008-04-16 02:55:30    1694.9   65.1254  -148.0474       NaN  149125.121875   \n",
       "2008-04-16 02:56:30    1441.9   65.0882  -147.9370       NaN  149125.122569   \n",
       "2008-04-16 02:57:30    1232.0   65.0506  -147.8268       NaN  149125.123264   \n",
       "2008-04-16 02:58:30    1199.5   65.0156  -147.7097       NaN  149125.123958   \n",
       "2008-04-16 02:59:30    1091.9   64.9706  -147.6263       NaN  149125.124653   \n",
       "2008-04-16 03:00:30     944.9   64.9277  -147.6486       NaN  149125.125347   \n",
       "2008-04-16 03:01:30     682.1   64.8948  -147.7128       NaN  149125.126042   \n",
       "2008-04-16 03:02:30     435.8   64.8635  -147.7722       NaN  149125.126736   \n",
       "2008-04-16 03:03:30     203.5   64.8336  -147.8285       NaN  149125.127431   \n",
       "\n",
       "                       AOD550    AOD870   AOD1600  NUMBER_CONCENTRATION  \n",
       "2008-04-11 20:01:30  0.270871  0.130443  0.284781                2191.0  \n",
       "2008-04-11 20:02:30  0.279516  0.133261  0.294635                 581.0  \n",
       "2008-04-11 20:03:30  0.328403  0.158271  0.345198                 306.0  \n",
       "2008-04-11 20:04:30  0.379837  0.196193  0.391794                 281.0  \n",
       "2008-04-11 20:05:30  0.432696  0.227793  0.443872                 246.0  \n",
       "2008-04-11 20:06:30  0.514773  0.283677  0.520862                 230.0  \n",
       "2008-04-11 20:07:30  0.483544  0.265761  0.489666                 241.0  \n",
       "2008-04-11 20:08:30  0.260520  0.140179  0.265527                 197.0  \n",
       "2008-04-11 20:09:30  0.407154  0.216467  0.416466                 209.0  \n",
       "2008-04-11 20:10:30  0.387216  0.203360  0.397496                 194.0  \n",
       "2008-04-11 20:11:30  0.513911  0.266541  0.529464                 185.0  \n",
       "2008-04-11 20:12:30  0.447898  0.122831  0.506485                 184.0  \n",
       "2008-04-11 20:13:30  0.399655  0.160455  0.429768                 190.0  \n",
       "2008-04-11 20:14:30  0.500470  0.197428  0.542344                 173.0  \n",
       "2008-04-11 20:15:30  0.531456  0.264294  0.553993                 170.0  \n",
       "2008-04-11 20:16:30  0.437072  0.220412  0.453869                 175.0  \n",
       "2008-04-11 20:17:30  0.364274  0.184259  0.377955                 169.0  \n",
       "2008-04-11 20:18:30  0.576690  0.304027  0.591343                 162.0  \n",
       "2008-04-11 20:19:30  0.361938  0.172673  0.381449                 177.0  \n",
       "2008-04-11 20:20:30  0.361938  0.172673  0.381449                 194.0  \n",
       "2008-04-11 20:21:30       NaN       NaN       NaN                 236.0  \n",
       "2008-04-11 20:22:30       NaN       NaN       NaN                 360.0  \n",
       "2008-04-11 20:23:30       NaN       NaN       NaN                 333.0  \n",
       "2008-04-11 20:24:30       NaN       NaN       NaN                 307.0  \n",
       "2008-04-11 20:25:30       NaN       NaN       NaN                 277.0  \n",
       "2008-04-11 20:26:30       NaN       NaN       NaN                 268.0  \n",
       "2008-04-11 20:27:30       NaN       NaN       NaN                 255.0  \n",
       "2008-04-11 20:28:30       NaN       NaN       NaN                 252.0  \n",
       "2008-04-11 20:29:30       NaN       NaN       NaN                 158.0  \n",
       "2008-04-11 20:30:30       NaN       NaN       NaN                 151.0  \n",
       "...                       ...       ...       ...                   ...  \n",
       "2008-04-16 02:34:30       NaN       NaN       NaN                 350.0  \n",
       "2008-04-16 02:35:30       NaN       NaN       NaN                 321.0  \n",
       "2008-04-16 02:36:30       NaN       NaN       NaN                 496.0  \n",
       "2008-04-16 02:37:30       NaN       NaN       NaN                 403.0  \n",
       "2008-04-16 02:38:30       NaN       NaN       NaN                 344.0  \n",
       "2008-04-16 02:39:30       NaN       NaN       NaN                 236.0  \n",
       "2008-04-16 02:40:30       NaN       NaN       NaN                 288.0  \n",
       "2008-04-16 02:41:30       NaN       NaN       NaN                 544.0  \n",
       "2008-04-16 02:42:30       NaN       NaN       NaN                 610.0  \n",
       "2008-04-16 02:43:30       NaN       NaN       NaN                 377.0  \n",
       "2008-04-16 02:44:30       NaN       NaN       NaN                 303.0  \n",
       "2008-04-16 02:45:30       NaN       NaN       NaN                 231.0  \n",
       "2008-04-16 02:46:30       NaN       NaN       NaN                 200.0  \n",
       "2008-04-16 02:47:30       NaN       NaN       NaN                 302.0  \n",
       "2008-04-16 02:48:30       NaN       NaN       NaN                 262.0  \n",
       "2008-04-16 02:49:30       NaN       NaN       NaN                 555.0  \n",
       "2008-04-16 02:50:30       NaN       NaN       NaN                 546.0  \n",
       "2008-04-16 02:51:30       NaN       NaN       NaN                 538.0  \n",
       "2008-04-16 02:52:30       NaN       NaN       NaN                 511.0  \n",
       "2008-04-16 02:53:30       NaN       NaN       NaN                 187.0  \n",
       "2008-04-16 02:54:30       NaN       NaN       NaN                 210.0  \n",
       "2008-04-16 02:55:30       NaN       NaN       NaN                 222.0  \n",
       "2008-04-16 02:56:30       NaN       NaN       NaN                 230.0  \n",
       "2008-04-16 02:57:30       NaN       NaN       NaN                 236.0  \n",
       "2008-04-16 02:58:30       NaN       NaN       NaN                 237.0  \n",
       "2008-04-16 02:59:30       NaN       NaN       NaN                 226.0  \n",
       "2008-04-16 03:00:30       NaN       NaN       NaN                 219.0  \n",
       "2008-04-16 03:01:30       NaN       NaN       NaN                 221.0  \n",
       "2008-04-16 03:02:30       NaN       NaN       NaN                 220.0  \n",
       "2008-04-16 03:03:30       NaN       NaN       NaN                 187.0  \n",
       "\n",
       "[1268 rows x 9 columns]"
      ]
     },
     "execution_count": 17,
     "metadata": {},
     "output_type": "execute_result"
    }
   ],
   "source": [
    "from cis import read_data_list\n",
    "\n",
    "aerosol_cci_collocated = read_data_list('col_output.nc', '*')\n",
    "\n",
    "cis_df = aerosol_cci_collocated.as_data_frame()\n",
    "cis_df"
   ]
  },
  {
   "cell_type": "code",
   "execution_count": 18,
   "metadata": {
    "collapsed": false,
    "slideshow": {
     "slide_type": "subslide"
    }
   },
   "outputs": [
    {
     "data": {
      "text/plain": [
       "altitude                  2916.100000\n",
       "latitude                    73.281700\n",
       "longitude                 -153.326600\n",
       "AOD670                            NaN\n",
       "time                    149121.992708\n",
       "AOD550                            NaN\n",
       "AOD870                            NaN\n",
       "AOD1600                           NaN\n",
       "NUMBER_CONCENTRATION        17.000000\n",
       "Name: 2008-04-12 23:49:30, dtype: float64"
      ]
     },
     "execution_count": 18,
     "metadata": {},
     "output_type": "execute_result"
    }
   ],
   "source": [
    "# Now we can do cool Pandas stuff!\n",
    "cis_df.ix[cis_df['NUMBER_CONCENTRATION'].argmin()]"
   ]
  },
  {
   "cell_type": "code",
   "execution_count": 19,
   "metadata": {
    "collapsed": false,
    "slideshow": {
     "slide_type": "subslide"
    }
   },
   "outputs": [],
   "source": [
    "cis_short = cis_df.dropna()"
   ]
  },
  {
   "cell_type": "code",
   "execution_count": 20,
   "metadata": {
    "collapsed": false,
    "slideshow": {
     "slide_type": "fragment"
    }
   },
   "outputs": [
    {
     "data": {
      "text/plain": [
       "altitude                  2587.800000\n",
       "latitude                    65.139400\n",
       "longitude                 -147.897000\n",
       "AOD670                       0.565450\n",
       "time                    149121.878125\n",
       "AOD550                       0.566969\n",
       "AOD870                       0.326906\n",
       "AOD1600                      0.565450\n",
       "NUMBER_CONCENTRATION       139.000000\n",
       "Name: 2008-04-12 21:04:30, dtype: float64"
      ]
     },
     "execution_count": 20,
     "metadata": {},
     "output_type": "execute_result"
    }
   ],
   "source": [
    "cis_short.ix[cis_short['NUMBER_CONCENTRATION'].argmin()]"
   ]
  },
  {
   "cell_type": "markdown",
   "metadata": {
    "slideshow": {
     "slide_type": "slide"
    }
   },
   "source": [
    "## Exercise\n",
    "\n",
    "In pairs, plot probability distributions (use kde) of the raw, 10 minutely and 2 hourly averaged number concentration"
   ]
  },
  {
   "cell_type": "code",
   "execution_count": 21,
   "metadata": {
    "collapsed": false,
    "slideshow": {
     "slide_type": "fragment"
    }
   },
   "outputs": [
    {
     "data": {
      "text/plain": [
       "<matplotlib.legend.Legend at 0x114628470>"
      ]
     },
     "execution_count": 21,
     "metadata": {},
     "output_type": "execute_result"
    },
    {
     "data": {
      "image/png": "[encoded data removed]",
      "text/plain": [
       "<matplotlib.figure.Figure at 0x114103898>"
      ]
     },
     "metadata": {},
     "output_type": "display_data"
    }
   ],
   "source": [
    "%matplotlib inline\n",
    "\n",
    "cis_df['NUMBER_CONCENTRATION'].plot(kind='kde', xlim=[0,1000], label='Raw')\n",
    "cis_df['NUMBER_CONCENTRATION'].resample('10min').mean().plot(kind='kde', label='10min')\n",
    "ax=cis_df['NUMBER_CONCENTRATION'].resample('120min').mean().plot(kind='kde', label='120min')\n",
    "ax.legend()"
   ]
  },
  {
   "cell_type": "markdown",
   "metadata": {
    "slideshow": {
     "slide_type": "slide"
    }
   },
   "source": [
    "# Extras"
   ]
  },
  {
   "cell_type": "code",
   "execution_count": 22,
   "metadata": {
    "collapsed": false
   },
   "outputs": [
    {
     "data": {
      "image/png": "[encoded data removed]",
      "text/plain": [
       "<matplotlib.figure.Figure at 0x114a570b8>"
      ]
     },
     "metadata": {},
     "output_type": "display_data"
    }
   ],
   "source": [
    "from pandas.tools.plotting import scatter_matrix\n",
    "m = scatter_matrix(cis_df, alpha=0.2, figsize=(8, 8), diagonal='kde', edgecolors='none')"
   ]
  }
 ],
 "metadata": {
  "celltoolbar": "Slideshow",
  "kernelspec": {
   "display_name": "Python [conda env:cis_env]",
   "language": "python",
   "name": "conda-env-cis_env-py"
  },
  "language_info": {
   "codemirror_mode": {
    "name": "ipython",
    "version": 3
   },
   "file_extension": ".py",
   "mimetype": "text/x-python",
   "name": "python",
   "nbconvert_exporter": "python",
   "pygments_lexer": "ipython3",
   "version": "3.5.2"
  }
 },
 "nbformat": 4,
 "nbformat_minor": 0
}
