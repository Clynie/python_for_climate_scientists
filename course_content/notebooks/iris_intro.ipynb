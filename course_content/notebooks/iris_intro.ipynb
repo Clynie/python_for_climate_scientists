{
 "cells": [
  {
   "cell_type": "markdown",
   "metadata": {},
   "source": [
    "## An introduction to Iris"
   ]
  },
  {
   "cell_type": "code",
   "execution_count": 1,
   "metadata": {
    "collapsed": false
   },
   "outputs": [],
   "source": [
    "import iris\n",
    "import numpy as np"
   ]
  },
  {
   "cell_type": "code",
   "execution_count": 2,
   "metadata": {
    "collapsed": false
   },
   "outputs": [
    {
     "name": "stdout",
     "output_type": "stream",
     "text": [
      "1.10.0\n",
      "1.11.2\n"
     ]
    }
   ],
   "source": [
    "print(iris.__version__)\n",
    "print(np.__version__)"
   ]
  },
  {
   "cell_type": "markdown",
   "metadata": {},
   "source": [
    "### Discuss ###\n",
    "\n",
    "What is Iris?"
   ]
  },
  {
   "cell_type": "markdown",
   "metadata": {},
   "source": [
    "## Iris and the cube\n",
    "\n",
    "The top level object in Iris is called a cube. A cube contains data and metadata about a single phenomenon and is an implementation of the data model interpreted from the *Climate and Forecast (CF) Metadata Conventions*.\n",
    "\n",
    "Each cube has:\n",
    "\n",
    " * A data array (typically a NumPy array).\n",
    " * A \"name\", preferably a CF \"standard name\" to describe the phenomenon that the cube represents.\n",
    " * A collection of coordinates to describe each of the dimensions of the data array. These coordinates are split into two types:\n",
    "    * Dimensioned coordinates are numeric, monotonic and represent a single dimension of the data array. There may be only one dimensioned coordinate per data dimension.\n",
    "    * Auxilliary coordinates can be of any type, including discrete values such as strings, and may represent more than one data dimension.\n",
    "\n",
    "A fuller explanation is available in the [Iris user guide](http://scitools.org.uk/iris/docs/latest/userguide/iris_cubes.html)."
   ]
  },
  {
   "cell_type": "markdown",
   "metadata": {},
   "source": [
    "Let's take a simple example to demonstrate the cube concept.\n",
    "\n",
    "Suppose we have a ``(3, 2, 4)`` NumPy array:\n",
    "\n",
    "![](../images/multi_array.png)\n"
   ]
  },
  {
   "cell_type": "markdown",
   "metadata": {},
   "source": [
    "Where dimensions 0, 1, and 2 have lengths 3, 2 and 4 respectively.\n",
    "\n",
    "The Iris cube to represent this data may consist of:\n",
    "\n",
    " * a standard name of \"air_temperature\" and units of \"kelvin\"\n",
    "\n",
    " * a data array of shape ``(3, 2, 4)``\n",
    "\n",
    " * a coordinate, mapping to dimension 0, consisting of:\n",
    "     * a standard name of \"height\" and units of \"meters\"\n",
    "     * an array of length 3 representing the 3 height points\n",
    "     \n",
    " * a coordinate, mapping to dimension 1, consisting of:\n",
    "     * a standard name of \"latitude\" and units of \"degrees\"\n",
    "     * an array of length 2 representing the 2 latitude points\n",
    "     * a coordinate system such that the latitude points could be fully located on the globe\n",
    "     \n",
    " * a coordinate, mapping to dimension 2, consisting of:\n",
    "     * a standard name of \"longitude\" and units of \"degrees\"\n",
    "     * an array of length 4 representing the 4 longitude points\n",
    "     * a coordinate system such that the longitude points could be fully located on the globe"
   ]
  },
  {
   "cell_type": "markdown",
   "metadata": {},
   "source": [
    "Pictorially the cube has taken on more information than a simple array:\n",
    "\n",
    "![](../images/multi_array_to_cube.png)"
   ]
  },
  {
   "cell_type": "markdown",
   "metadata": {},
   "source": [
    "## Working with a cube"
   ]
  },
  {
   "cell_type": "markdown",
   "metadata": {},
   "source": [
    "Whilst it is possible to construct a cube by hand, a far more common approach to getting hold of a cube is to use the Iris load function to access data that already exists in a file."
   ]
  },
  {
   "cell_type": "code",
   "execution_count": 3,
   "metadata": {
    "collapsed": false
   },
   "outputs": [
    {
     "name": "stdout",
     "output_type": "stream",
     "text": [
      "0: air_potential_temperature / (K)     (time: 3; model_level_number: 7; grid_latitude: 204; grid_longitude: 187)\n",
      "1: surface_altitude / (m)              (grid_latitude: 204; grid_longitude: 187)\n"
     ]
    }
   ],
   "source": [
    "fname = iris.sample_data_path('uk_hires.pp')\n",
    "cubes = iris.load(fname)\n",
    "print(cubes)"
   ]
  },
  {
   "cell_type": "markdown",
   "metadata": {},
   "source": [
    "We can see that we've loaded two cubes, one representing the \"surface_altitude\" and the other representing \"air_potential_temperature\". We can infer even more detail from this printout; for example, what are the dimensions and shape of the \"air_potential_temperature\" cube?\n",
    "\n",
    "Above we've printed the ``iris.cube.CubeList`` instance representing all of the cubes found in the given filename. However, we can see more detail by printing individual cubes:"
   ]
  },
  {
   "cell_type": "code",
   "execution_count": 4,
   "metadata": {
    "collapsed": false
   },
   "outputs": [
    {
     "name": "stdout",
     "output_type": "stream",
     "text": [
      "air_potential_temperature / (K)     (time: 3; model_level_number: 7; grid_latitude: 204; grid_longitude: 187)\n",
      "     Dimension coordinates:\n",
      "          time                           x                      -                 -                    -\n",
      "          model_level_number             -                      x                 -                    -\n",
      "          grid_latitude                  -                      -                 x                    -\n",
      "          grid_longitude                 -                      -                 -                    x\n",
      "     Auxiliary coordinates:\n",
      "          forecast_period                x                      -                 -                    -\n",
      "          level_height                   -                      x                 -                    -\n",
      "          sigma                          -                      x                 -                    -\n",
      "          surface_altitude               -                      -                 x                    x\n",
      "     Derived coordinates:\n",
      "          altitude                       -                      x                 x                    x\n",
      "     Scalar coordinates:\n",
      "          forecast_reference_time: 2009-11-19 04:00:00\n",
      "     Attributes:\n",
      "          STASH: m01s00i004\n",
      "          source: Data from Met Office Unified Model\n",
      "          um_version: 7.3\n"
     ]
    }
   ],
   "source": [
    "air_pot_temp = cubes[0]\n",
    "print(air_pot_temp)"
   ]
  },
  {
   "cell_type": "markdown",
   "metadata": {},
   "source": [
    "We can dig even deeper and print individual coordinates:"
   ]
  },
  {
   "cell_type": "code",
   "execution_count": 5,
   "metadata": {
    "collapsed": false
   },
   "outputs": [
    {
     "name": "stdout",
     "output_type": "stream",
     "text": [
      "DimCoord(array([ 1,  4,  7, 10, 13, 16, 19], dtype=int32), standard_name='model_level_number', units=Unit('1'), attributes={'positive': 'up'})\n"
     ]
    }
   ],
   "source": [
    "print(air_pot_temp.coord('model_level_number'))"
   ]
  },
  {
   "cell_type": "markdown",
   "metadata": {},
   "source": [
    "## Cube attributes"
   ]
  },
  {
   "cell_type": "code",
   "execution_count": 6,
   "metadata": {
    "collapsed": false
   },
   "outputs": [
    {
     "name": "stdout",
     "output_type": "stream",
     "text": [
      "air_temperature / (K)               (time: 240; latitude: 37; longitude: 49)\n",
      "     Dimension coordinates:\n",
      "          time                           x              -              -\n",
      "          latitude                       -              x              -\n",
      "          longitude                      -              -              x\n",
      "     Auxiliary coordinates:\n",
      "          forecast_period                x              -              -\n",
      "     Scalar coordinates:\n",
      "          forecast_reference_time: 1859-09-01 06:00:00\n",
      "          height: 1.5 m\n",
      "     Attributes:\n",
      "          Conventions: CF-1.5\n",
      "          Model scenario: A1B\n",
      "          STASH: m01s03i236\n",
      "          source: Data from Met Office Unified Model 6.05\n",
      "     Cell methods:\n",
      "          mean: time (6 hour)\n"
     ]
    },
    {
     "name": "stderr",
     "output_type": "stream",
     "text": [
      "/Users/watson-parris/anaconda/envs/cis_test/lib/python3.4/site-packages/iris/fileformats/cf.py:1140: IrisDeprecation: NetCDF default loading behaviour currently does not expose variables which define reference surfaces for dimensionless vertical coordinates as independent Cubes. This behaviour is deprecated in favour of automatic promotion to Cubes. To switch to the new behaviour, set iris.FUTURE.netcdf_promote to True.\n",
      "  warn_deprecated(msg)\n"
     ]
    }
   ],
   "source": [
    "cube = iris.load_cube(iris.sample_data_path('A1B_north_america.nc'))\n",
    "print(cube)"
   ]
  },
  {
   "cell_type": "markdown",
   "metadata": {},
   "source": [
    "To access a cube's data array the ``data`` property exists. This is either a NumPy array or in some cases a NumPy masked array. It is very important to note that for most of the supported filetypes in Iris, the cube's data isn't actually loaded until you request it via this property (either directly or indirectly). After you've accessed the data once, it is stored on the cube and thus won't be loaded from disk again.\n",
    "\n",
    "To find the shape of a cube's data it is possible to call ``cube.data.shape`` or ``cube.data.ndim``, but this will trigger any unloaded data to be loaded. Therefore ``shape`` and ``ndim`` are properties available directly on the cube that do not unnecessarily load data."
   ]
  },
  {
   "cell_type": "code",
   "execution_count": 7,
   "metadata": {
    "collapsed": false
   },
   "outputs": [
    {
     "name": "stdout",
     "output_type": "stream",
     "text": [
      "(240, 37, 49)\n",
      "3\n",
      "<class 'numpy.ndarray'>\n"
     ]
    }
   ],
   "source": [
    "print(cube.shape)\n",
    "print(cube.ndim)\n",
    "print(type(cube.data))"
   ]
  },
  {
   "cell_type": "markdown",
   "metadata": {},
   "source": [
    "The ``standard_name``, ``long_name`` and to an extent ``var_name`` are all attributes to describe the phenomenon that the cube represents. The ``name()`` method is a convenience that looks at the name attributes in the order they are listed above, returning the first non-empty string. To rename a cube, it is possible to set the attributes manually, but it is generally easier to use the ``rename()`` method.\n"
   ]
  },
  {
   "cell_type": "code",
   "execution_count": 8,
   "metadata": {
    "collapsed": false
   },
   "outputs": [
    {
     "name": "stdout",
     "output_type": "stream",
     "text": [
      "air_temperature\n",
      "None\n",
      "air_temperature\n",
      "air_temperature\n"
     ]
    }
   ],
   "source": [
    "print(cube.standard_name)\n",
    "print(cube.long_name)\n",
    "print(cube.var_name)\n",
    "print(cube.name())"
   ]
  },
  {
   "cell_type": "code",
   "execution_count": 9,
   "metadata": {
    "collapsed": false
   },
   "outputs": [],
   "source": [
    "cube.rename(\"A name that isn't a valid CF standard name\")"
   ]
  },
  {
   "cell_type": "code",
   "execution_count": 10,
   "metadata": {
    "collapsed": false
   },
   "outputs": [
    {
     "name": "stdout",
     "output_type": "stream",
     "text": [
      "None\n",
      "A name that isn't a valid CF standard name\n",
      "None\n",
      "A name that isn't a valid CF standard name\n"
     ]
    }
   ],
   "source": [
    "print(cube.standard_name)\n",
    "print(cube.long_name)\n",
    "print(cube.var_name)\n",
    "print(cube.name())"
   ]
  },
  {
   "cell_type": "markdown",
   "metadata": {},
   "source": [
    "The ``units`` attribute on a cube tells us the units of the numbers held in the data array. We can manually change the units, or better, we can convert the cube to another unit using the ``convert_units`` method, which will automatically update the data array."
   ]
  },
  {
   "cell_type": "code",
   "execution_count": 11,
   "metadata": {
    "collapsed": false
   },
   "outputs": [
    {
     "name": "stdout",
     "output_type": "stream",
     "text": [
      "K\n",
      "306.073\n",
      "Celsius\n",
      "32.9233\n"
     ]
    }
   ],
   "source": [
    "print(cube.units)\n",
    "print(cube.data.max())\n",
    "cube.convert_units('Celsius')\n",
    "print(cube.units)\n",
    "print(cube.data.max())"
   ]
  },
  {
   "cell_type": "markdown",
   "metadata": {},
   "source": [
    "A cube has a dictionary for extra general purpose attributes, which can be accessed with the ``cube.attributes`` attribute:"
   ]
  },
  {
   "cell_type": "code",
   "execution_count": 12,
   "metadata": {
    "collapsed": false
   },
   "outputs": [
    {
     "name": "stdout",
     "output_type": "stream",
     "text": [
      "{'source': 'Data from Met Office Unified Model 6.05', 'STASH': STASH(model=1, section=3, item=236), 'Model scenario': 'A1B', 'Conventions': 'CF-1.5'}\n",
      "m01s03i236\n"
     ]
    }
   ],
   "source": [
    "print(cube.attributes)\n",
    "print(cube.attributes['STASH'])"
   ]
  },
  {
   "cell_type": "markdown",
   "metadata": {},
   "source": [
    "A less frequently used attribute on a cube is its ``cell_methods``. The cell methods are a way to store information about the processing that has taken place on the cube."
   ]
  },
  {
   "cell_type": "code",
   "execution_count": 13,
   "metadata": {
    "collapsed": false
   },
   "outputs": [
    {
     "name": "stdout",
     "output_type": "stream",
     "text": [
      "mean: time (6 hour)\n"
     ]
    }
   ],
   "source": [
    "for cell_method in cube.cell_methods:\n",
    "    print(cell_method)"
   ]
  },
  {
   "cell_type": "markdown",
   "metadata": {},
   "source": [
    "In this case we can see that the cube is has been produced by taking a mean of forecasts sampled at 6 hourly intervals (we need to look at the time coordinate to identify any more information)."
   ]
  },
  {
   "cell_type": "markdown",
   "metadata": {},
   "source": [
    "## Coordinates\n",
    "\n",
    "As we've seen, cubes need coordinate information to help us describe the underlying phenomenon. Typically a cube's coordinates are accessed with the ``coords`` or ``coord`` methods. The latter *must* return exactly one coordinate for the given parameter filters, where the former returns a list of matching coordinates, possibly of length 0.\n",
    "\n",
    "For example, to access the time coordinate, and print the first 4 times:"
   ]
  },
  {
   "cell_type": "code",
   "execution_count": 14,
   "metadata": {
    "collapsed": false
   },
   "outputs": [
    {
     "name": "stdout",
     "output_type": "stream",
     "text": [
      "DimCoord([1860-06-01 00:00:00, 1861-06-01 00:00:00, 1862-06-01 00:00:00,\n",
      "       1863-06-01 00:00:00], bounds=[[1859-12-01 00:00:00, 1860-12-01 00:00:00],\n",
      "       [1860-12-01 00:00:00, 1861-12-01 00:00:00],\n",
      "       [1861-12-01 00:00:00, 1862-12-01 00:00:00],\n",
      "       [1862-12-01 00:00:00, 1863-12-01 00:00:00]], standard_name='time', calendar='360_day', var_name='time')\n"
     ]
    }
   ],
   "source": [
    "time = cube.coord('time')\n",
    "print(time[:4])"
   ]
  },
  {
   "cell_type": "markdown",
   "metadata": {},
   "source": [
    "Along with the cell method from the previous section, we can now see that this cube represents the mean annual air temperature, sampled every 6 hours, starting in 1860."
   ]
  },
  {
   "cell_type": "markdown",
   "metadata": {},
   "source": [
    "The coordinate interface is very similar to that of a cube. The attributes that exist on both cubes and coordinates are: ``standard_name``, ``long_name``, ``var_name``, ``units``, ``attributes`` and ``shape``. Similarly, the ``name()``, ``rename()`` and ``convert_units()`` methods also exist on a coordinate."
   ]
  },
  {
   "cell_type": "markdown",
   "metadata": {},
   "source": [
    "A coordinate does not have ``data``, instead it has ``points`` and ``bounds`` (``bounds`` may be ``None``). In Iris, time coordinates are currently represented as \"a number since an epoch\":"
   ]
  },
  {
   "cell_type": "code",
   "execution_count": 15,
   "metadata": {
    "collapsed": false
   },
   "outputs": [
    {
     "name": "stdout",
     "output_type": "stream",
     "text": [
      "Unit('hours since 1970-01-01 00:00:00', calendar='360_day')\n",
      "[-946800. -938160. -929520. -920880.]\n",
      "[[-951120. -942480.]\n",
      " [-942480. -933840.]\n",
      " [-933840. -925200.]\n",
      " [-925200. -916560.]]\n"
     ]
    }
   ],
   "source": [
    "print(repr(time.units))\n",
    "print(time.points[:4])\n",
    "print(time.bounds[:4])"
   ]
  },
  {
   "cell_type": "markdown",
   "metadata": {},
   "source": [
    "These numbers can be converted to datetime objects with the unit's ``num2date`` method. Dates can be converted back again with the ``date2num`` method:"
   ]
  },
  {
   "cell_type": "code",
   "execution_count": 16,
   "metadata": {
    "collapsed": false
   },
   "outputs": [
    {
     "name": "stdout",
     "output_type": "stream",
     "text": [
      "[1860-06-01 00:00:00 1861-06-01 00:00:00 1862-06-01 00:00:00\n",
      " 1863-06-01 00:00:00]\n",
      "720.0\n"
     ]
    }
   ],
   "source": [
    "import datetime\n",
    "\n",
    "print(time.units.num2date(time.points[:4]))\n",
    "print(time.units.date2num(datetime.datetime(1970, 2, 1)))"
   ]
  },
  {
   "cell_type": "markdown",
   "metadata": {},
   "source": [
    "Another important attribute on a coordinate is its coordinate system. Coordinate systems may be ``None`` for trivial coordinates, but particularly for spatial coordinates, they may be complex definitions of things such as the projection, ellipse and/or datum."
   ]
  },
  {
   "cell_type": "code",
   "execution_count": 17,
   "metadata": {
    "collapsed": false
   },
   "outputs": [
    {
     "name": "stdout",
     "output_type": "stream",
     "text": [
      "GeogCS(6371229.0)\n"
     ]
    }
   ],
   "source": [
    "lat = cube.coord('latitude')\n",
    "print(lat.coord_system)"
   ]
  },
  {
   "cell_type": "markdown",
   "metadata": {},
   "source": [
    "In this case, the latitude's coordinate system is a simple geographic latitude on a spherical globe of radius 6371229 (meters)."
   ]
  },
  {
   "cell_type": "markdown",
   "metadata": {},
   "source": [
    "Sometimes it is desirable to add bounds to a coordinate that doesn't have any. This is often the case for creating \"block\" type plots where a coordinate should be able to represent an interval of values, rather than a single point. The ``guess_bounds`` method on a coordinate is useful in this regard. For example, the latitude coordinate previously obtained does not have bounds, but we can either set some manually, or use the ``guess_bounds`` method:"
   ]
  },
  {
   "cell_type": "code",
   "execution_count": 18,
   "metadata": {
    "collapsed": false
   },
   "outputs": [
    {
     "name": "stdout",
     "output_type": "stream",
     "text": [
      "[ 15.    16.25  17.5   18.75]\n",
      "None\n",
      "[[ 14.375  15.625]\n",
      " [ 15.625  16.875]\n",
      " [ 16.875  18.125]\n",
      " [ 18.125  19.375]]\n"
     ]
    }
   ],
   "source": [
    "print(lat.points[:4])\n",
    "print(lat.bounds)\n",
    "if lat.bounds is None:\n",
    "    lat.guess_bounds()\n",
    "print(lat.bounds[:4])"
   ]
  },
  {
   "cell_type": "markdown",
   "metadata": {},
   "source": [
    "### Exercise 1\n",
    "\n",
    "1\\. Using the file in ``iris.sample_data_path('atlantic_profiles.nc')`` load the data and print the cube list. Store these cubes in a variable called cubes."
   ]
  },
  {
   "cell_type": "code",
   "execution_count": null,
   "metadata": {
    "collapsed": false
   },
   "outputs": [],
   "source": []
  },
  {
   "cell_type": "markdown",
   "metadata": {},
   "source": [
    "2\\. Loop through each of the cubes (e.g. ``for cube in cubes``) and print the standard name of each."
   ]
  },
  {
   "cell_type": "code",
   "execution_count": null,
   "metadata": {
    "collapsed": false
   },
   "outputs": [],
   "source": []
  },
  {
   "cell_type": "markdown",
   "metadata": {},
   "source": [
    "3\\. Extract the \"sea_water_potential_temperature\" cube. Print the minimum, maximum, mean and standard deviation of the cube's data."
   ]
  },
  {
   "cell_type": "code",
   "execution_count": null,
   "metadata": {
    "collapsed": false
   },
   "outputs": [],
   "source": []
  },
  {
   "cell_type": "markdown",
   "metadata": {},
   "source": [
    "4\\. Print the attributes of the cube."
   ]
  },
  {
   "cell_type": "code",
   "execution_count": null,
   "metadata": {
    "collapsed": false
   },
   "outputs": [],
   "source": []
  },
  {
   "cell_type": "markdown",
   "metadata": {},
   "source": [
    "5\\. Print the names of all coordinates on the cube. (Hint: Remember the cube.coords method without any keywords will give us all of the cube's coordinates)"
   ]
  },
  {
   "cell_type": "code",
   "execution_count": null,
   "metadata": {
    "collapsed": false
   },
   "outputs": [],
   "source": []
  },
  {
   "cell_type": "markdown",
   "metadata": {},
   "source": [
    "6\\. Get hold of the \"latitude\" coordinate on the cube. Identify whether this coordinate has bounds. Print the minimum and maximum latitude points in the cube."
   ]
  },
  {
   "cell_type": "code",
   "execution_count": null,
   "metadata": {
    "collapsed": false
   },
   "outputs": [],
   "source": []
  },
  {
   "cell_type": "markdown",
   "metadata": {},
   "source": [
    "## Loading data into Iris"
   ]
  },
  {
   "cell_type": "markdown",
   "metadata": {},
   "source": [
    "We've already seen the basic ``load`` function, but we can also control which cubes are actually loaded with *constraints*. The simplest constraint is just a string, which filters cubes based on their name:"
   ]
  },
  {
   "cell_type": "code",
   "execution_count": 19,
   "metadata": {
    "collapsed": false
   },
   "outputs": [
    {
     "name": "stdout",
     "output_type": "stream",
     "text": [
      "0: air_potential_temperature / (K)     (time: 3; model_level_number: 7; grid_latitude: 204; grid_longitude: 187)\n"
     ]
    }
   ],
   "source": [
    "fname = iris.sample_data_path('uk_hires.pp')\n",
    "print(iris.load(fname, 'air_potential_temperature'))"
   ]
  },
  {
   "cell_type": "markdown",
   "metadata": {},
   "source": [
    "#### Note on sample_data_path:\n",
    "\n",
    "Throughout this course we will make use of the sample data that Iris provides. The function ``iris.sample_data_path`` returns the appropriate path to the file in the Iris sample data collection. A common mistake for Iris users is to use the ``sample_data_path`` function to access data that is not part of Iris's sample data collection - this is bad practice and is unlikely to work in the future."
   ]
  },
  {
   "cell_type": "markdown",
   "metadata": {},
   "source": [
    "### Exercise 2\n",
    "\n",
    "Print the result of ``iris.sample_data_path('uk_hires.pp')`` to verify that it returns a string pointing to a file on your system. Use this string directly in the call to ``iris.load`` and confirm the result is the same as in the previous example e.g.:\n",
    "\n",
    "    print iris.load('/path/to/iris/sampledata/uk_hires.pp', 'air_potential_temperature')"
   ]
  },
  {
   "cell_type": "code",
   "execution_count": null,
   "metadata": {
    "collapsed": false
   },
   "outputs": [],
   "source": []
  },
  {
   "cell_type": "markdown",
   "metadata": {},
   "source": [
    "### The three load functions: load, load_cube and load_cubes\n",
    "\n",
    "There are three main load functions in Iris: ``load``, ``load_cube`` and ``load_cubes``.\n",
    "\n",
    "1. **load** is a general purpose loading function. Typically this is where all data analysis will start, before more loading is refined with the more controlled loading from the other two functions.\n",
    "2. **load_cube** returns a single cube from the given source(s) and constraint. There will be exactly one cube, or an exception will be raised.\n",
    "3. **load_cubes** returns a list of cubes from the given sources(s) and constraint(s). There will be exactly one cube per constraint, or an exception will be raised.\n",
    "\n",
    "\n",
    "Note: ``load_cube`` is a special case of ``load_cubes``, which can be seen with:"
   ]
  },
  {
   "cell_type": "code",
   "execution_count": 20,
   "metadata": {
    "collapsed": false
   },
   "outputs": [
    {
     "data": {
      "text/plain": [
       "True"
      ]
     },
     "execution_count": 20,
     "metadata": {},
     "output_type": "execute_result"
    }
   ],
   "source": [
    "c1, = iris.load(fname, 'surface_altitude')\n",
    "c2 = iris.load_cube(fname, 'surface_altitude')\n",
    "c3, = iris.load_cubes(fname, 'surface_altitude')\n",
    "c1 == c2 == c3"
   ]
  },
  {
   "cell_type": "markdown",
   "metadata": {},
   "source": [
    "In general, it is a good idea to make use of the ``load_cube``/``load_cubes`` functions rather than the generic ``load`` function in non-exploratory code. Doing so makes your code more resilient to changes in the data source, often results in more readable/maintainable code, and in combination with well defined constraints, often leads to improve load performance."
   ]
  },
  {
   "cell_type": "markdown",
   "metadata": {},
   "source": [
    "The load functions all accept a list of filenames to load, and any of the filenames can be \"glob\" patterns (http://docs.python.org/2/library/glob.html)."
   ]
  },
  {
   "cell_type": "markdown",
   "metadata": {},
   "source": [
    "### Exercise 2 (continued)\n",
    "\n",
    "Read in the files found at **``iris.sample_data_path('GloSea4', 'ensemble_010.pp')``** and\n",
    "**``iris.sample_data_path('GloSea4', 'ensemble_011.pp')``** using a single load call. Do this by:\n",
    "\n",
    "1\\. providing a list of the two filenames."
   ]
  },
  {
   "cell_type": "code",
   "execution_count": null,
   "metadata": {
    "collapsed": false
   },
   "outputs": [],
   "source": []
  },
  {
   "cell_type": "markdown",
   "metadata": {},
   "source": [
    "2\\. providing a suitable glob pattern. (Notice that **``iris.load(iris.sample_data_path('GloSea4', 'ensemble_01*.pp'))``** picks up too many files.)"
   ]
  },
  {
   "cell_type": "code",
   "execution_count": null,
   "metadata": {
    "collapsed": false
   },
   "outputs": [],
   "source": []
  },
  {
   "cell_type": "markdown",
   "metadata": {},
   "source": [
    "## Constraints\n",
    "\n",
    "Iris's constraints mechanism provides a powerful way to filter a subset of data from a larger collection. We've already seen that constraints can be used at load time to return data of interest from a file, but we can also apply constraints to a single cube, or a list of cubes, using their respective ``extract`` methods:\n",
    "\n"
   ]
  },
  {
   "cell_type": "code",
   "execution_count": 21,
   "metadata": {
    "collapsed": false
   },
   "outputs": [
    {
     "name": "stdout",
     "output_type": "stream",
     "text": [
      "0: air_potential_temperature / (K)     (time: 3; model_level_number: 7; grid_latitude: 204; grid_longitude: 187)\n"
     ]
    }
   ],
   "source": [
    "fname = iris.sample_data_path('uk_hires.pp')\n",
    "cubes = iris.load(fname)\n",
    "print(cubes.extract('air_potential_temperature'))"
   ]
  },
  {
   "cell_type": "markdown",
   "metadata": {},
   "source": [
    "The simplest constraint, namely a string that matches a cube's name, is conveniently converted into an actual ``iris.Constraint`` instance wherever needed. However, we could construct this constraint manually and compare with the previous result:"
   ]
  },
  {
   "cell_type": "code",
   "execution_count": 22,
   "metadata": {
    "collapsed": false
   },
   "outputs": [
    {
     "name": "stdout",
     "output_type": "stream",
     "text": [
      "0: air_potential_temperature / (K)     (time: 3; model_level_number: 7; grid_latitude: 204; grid_longitude: 187)\n"
     ]
    }
   ],
   "source": [
    "pot_temperature_constraint = iris.Constraint('air_potential_temperature')\n",
    "print(cubes.extract(pot_temperature_constraint))"
   ]
  },
  {
   "cell_type": "markdown",
   "metadata": {},
   "source": [
    "The Constraint constructor also takes arbitrary keywords to constrain coordinate values. For example, to extract model level number 10 from the air potential temperature cube:"
   ]
  },
  {
   "cell_type": "code",
   "execution_count": 23,
   "metadata": {
    "collapsed": false
   },
   "outputs": [
    {
     "name": "stdout",
     "output_type": "stream",
     "text": [
      "0: air_potential_temperature / (K)     (time: 3; grid_latitude: 204; grid_longitude: 187)\n"
     ]
    }
   ],
   "source": [
    "pot_temperature_constraint = iris.Constraint('air_potential_temperature',\n",
    "                                             model_level_number=10)\n",
    "print(cubes.extract(pot_temperature_constraint))"
   ]
  },
  {
   "cell_type": "markdown",
   "metadata": {},
   "source": [
    "We can pass a list of possible values, and even combine two constraints with ``&``:"
   ]
  },
  {
   "cell_type": "code",
   "execution_count": 24,
   "metadata": {
    "collapsed": false
   },
   "outputs": [
    {
     "name": "stdout",
     "output_type": "stream",
     "text": [
      "0: air_potential_temperature / (K)     (time: 3; model_level_number: 2; grid_latitude: 204; grid_longitude: 187)\n"
     ]
    }
   ],
   "source": [
    "print(cubes.extract('air_potential_temperature' & \n",
    "                    iris.Constraint(model_level_number=[4, 10])))"
   ]
  },
  {
   "cell_type": "markdown",
   "metadata": {},
   "source": [
    "We can define arbitrary functions that operate on each cell of a coordinate. This is a common thing to do for floating point coordinates, where exact equality is non-trivial."
   ]
  },
  {
   "cell_type": "code",
   "execution_count": 25,
   "metadata": {
    "collapsed": false
   },
   "outputs": [
    {
     "name": "stdout",
     "output_type": "stream",
     "text": [
      "0: air_potential_temperature / (K)     (time: 3; model_level_number: 3; grid_latitude: 204; grid_longitude: 187)\n"
     ]
    }
   ],
   "source": [
    "def less_than_10(cell):\n",
    "    \"\"\"Return True for values that are less than 10.\"\"\"\n",
    "    return cell < 10\n",
    "\n",
    "print(cubes.extract(iris.Constraint('air_potential_temperature',\n",
    "                                    model_level_number=less_than_10)))"
   ]
  },
  {
   "cell_type": "markdown",
   "metadata": {},
   "source": [
    "Because Iris cells represent both point and bound, cell comparison can sometimes be counter-intuitive:"
   ]
  },
  {
   "cell_type": "code",
   "execution_count": 26,
   "metadata": {
    "collapsed": false
   },
   "outputs": [
    {
     "name": "stdout",
     "output_type": "stream",
     "text": [
      "cell > 12 is False\n",
      "cell >= 12 is True\n",
      "cell == 12 is True\n",
      "cell <= 12 is True\n",
      "cell < 12 is False\n"
     ]
    }
   ],
   "source": [
    "def cell_comparison(cell, value):\n",
    "    print('cell > {0!r} is {1}'.format(value, cell > value))\n",
    "    print('cell >= {0!r} is {1}'.format(value, cell >= value))\n",
    "    print('cell == {0!r} is {1}'.format(value, cell == value))\n",
    "    print('cell <= {0!r} is {1}'.format(value, cell <= value))\n",
    "    print('cell < {0!r} is {1}'.format(value, cell < value))\n",
    "\n",
    "cell = iris.coords.Cell(point=10, bound=[8, 12])\n",
    "cell_comparison(cell, 12)"
   ]
  },
  {
   "cell_type": "markdown",
   "metadata": {},
   "source": [
    "If you want full control of how cell comparison is taking place, you can always compare with another cell, or just access the cell's individual ``point`` or ``bound``:"
   ]
  },
  {
   "cell_type": "code",
   "execution_count": 27,
   "metadata": {
    "collapsed": false
   },
   "outputs": [
    {
     "name": "stdout",
     "output_type": "stream",
     "text": [
      "cell > 11 is False\n",
      "cell >= 11 is True\n",
      "cell == 11 is True\n",
      "cell <= 11 is True\n",
      "cell < 11 is False\n",
      "\n",
      "cell > Cell(point=11, bound=None) is False\n",
      "cell >= Cell(point=11, bound=None) is False\n",
      "cell == Cell(point=11, bound=None) is False\n",
      "cell <= Cell(point=11, bound=None) is True\n",
      "cell < Cell(point=11, bound=None) is True\n"
     ]
    }
   ],
   "source": [
    "cell_1 = iris.coords.Cell(point=10, bound=[8, 12])\n",
    "cell_2 = iris.coords.Cell(point=11, bound=None)\n",
    "\n",
    "cell_comparison(cell_1, 11)\n",
    "print()\n",
    "cell_comparison(cell_1, cell_2)"
   ]
  },
  {
   "cell_type": "markdown",
   "metadata": {},
   "source": [
    "It is common to want to build a constraint for time. With Iris < v1.6 it was harder to build time constraints than we would have liked, because of the way that time coordinates had been implemented.\n",
    "\n",
    "However, since v1.6 this has been made simpler through the ability to compare against cells containing datetimes. The functionality can be enabled globally within the session (and will be enabled by default in future release of Iris) with:"
   ]
  },
  {
   "cell_type": "code",
   "execution_count": 28,
   "metadata": {
    "collapsed": false
   },
   "outputs": [],
   "source": [
    "iris.FUTURE.cell_datetime_objects = True"
   ]
  },
  {
   "cell_type": "markdown",
   "metadata": {},
   "source": [
    "With this set, it is now possible to do the same constraint by simply:"
   ]
  },
  {
   "cell_type": "code",
   "execution_count": 29,
   "metadata": {
    "collapsed": false
   },
   "outputs": [
    {
     "name": "stdout",
     "output_type": "stream",
     "text": [
      "air_potential_temperature / (K)     (time: 2; model_level_number: 7; grid_latitude: 204; grid_longitude: 187)\n"
     ]
    }
   ],
   "source": [
    "time_constraint = iris.Constraint(\n",
    "    time=lambda c: c >= datetime.datetime(2009, 11, 19, 11, 0))\n",
    "print(air_pot_temp.extract(time_constraint).summary(True))"
   ]
  },
  {
   "cell_type": "markdown",
   "metadata": {},
   "source": [
    "There are currently still some limitations however. For example, it is not yet possible to do cell based datetime comparisons when the datetime is from anything other than a Gregorian calendar (e.g. such as the 360-day calendar often used in climate models). When this is the case however, we can always access individual components of the datetime and do comparisons on those:"
   ]
  },
  {
   "cell_type": "code",
   "execution_count": 30,
   "metadata": {
    "collapsed": false
   },
   "outputs": [
    {
     "name": "stdout",
     "output_type": "stream",
     "text": [
      "air_potential_temperature / (K)     (model_level_number: 7; grid_latitude: 204; grid_longitude: 187)\n"
     ]
    }
   ],
   "source": [
    "time_constraint = iris.Constraint(time=lambda c: c.point.hour == 11)\n",
    "print(air_pot_temp.extract(time_constraint).summary(True))"
   ]
  },
  {
   "cell_type": "markdown",
   "metadata": {},
   "source": [
    "Further functionality has been added to isolate individual components of a datetime via the [PartialDateTime](http://scitools.org.uk/iris/docs/latest/iris/iris/time.html?highlight=partial#iris.time.PartialDateTime) class. In this case we can extract the timestep at the 11th hour with:"
   ]
  },
  {
   "cell_type": "code",
   "execution_count": 31,
   "metadata": {
    "collapsed": false
   },
   "outputs": [
    {
     "name": "stdout",
     "output_type": "stream",
     "text": [
      "air_potential_temperature / (K)     (model_level_number: 7; grid_latitude: 204; grid_longitude: 187)\n",
      "DimCoord([2009-11-19 11:00:00], standard_name='time', calendar='gregorian')\n"
     ]
    }
   ],
   "source": [
    "from iris.time import PartialDateTime\n",
    "eleventh_hour = iris.Constraint(time=PartialDateTime(hour=11))\n",
    "print(air_pot_temp.extract(eleventh_hour).summary(True))\n",
    "print(air_pot_temp.extract(eleventh_hour).coord('time'))"
   ]
  },
  {
   "cell_type": "markdown",
   "metadata": {},
   "source": [
    "### Exercise 3\n",
    "\n",
    "The following function tells us whether or not a cube has cell methods:\n",
    "\n",
    "    def has_cell_methods(cube):\n",
    "        return len(cube.cell_methods) > 0\n",
    "\n",
    "1\\. With the cubes loaded from ``[iris.sample_data_path('A1B_north_america.nc'), iris.sample_data_path('uk_hires.pp')]`` use the CubeList's **``extract``** method to filter only the cubes that have cell methods. (Hint: Look at the ``iris.Constraint`` documentation for the **cube_func** keyword). You should find that the 3 cubes are whittled down to just 1."
   ]
  },
  {
   "cell_type": "code",
   "execution_count": null,
   "metadata": {
    "collapsed": false
   },
   "outputs": [],
   "source": []
  },
  {
   "cell_type": "markdown",
   "metadata": {},
   "source": [
    "2\\. Using the file found at ``iris.sample_data_path('A1B_north_america.nc')`` filter the cube, using constraints, such that only data between 1860 and 1980 remains (hint: This data has a 360-day calendar with yearly data from 1860 to 2100, so we will need to access the individual components of the cell point's datetime, to return a time dimension of length 120)."
   ]
  },
  {
   "cell_type": "code",
   "execution_count": null,
   "metadata": {
    "collapsed": false
   },
   "outputs": [],
   "source": []
  },
  {
   "cell_type": "markdown",
   "metadata": {},
   "source": [
    "## Saving cubes\n",
    "\n",
    "The ``iris.save`` function provides a convenient interface to save Cube and CubeList instances.\n",
    "\n",
    "To save some cubes to a NetCDF file:"
   ]
  },
  {
   "cell_type": "code",
   "execution_count": 32,
   "metadata": {
    "collapsed": false
   },
   "outputs": [
    {
     "name": "stderr",
     "output_type": "stream",
     "text": [
      "/Users/watson-parris/anaconda/envs/cis_test/lib/python3.4/site-packages/iris/fileformats/netcdf.py:2094: IrisDeprecation: NetCDF default saving behaviour currently assigns the outermost dimensions to unlimited. This behaviour is to be deprecated, in favour of no automatic assignment. To switch to the new behaviour, set iris.FUTURE.netcdf_no_unlimited to True.\n",
      "  warn_deprecated(msg)\n"
     ]
    }
   ],
   "source": [
    "fname = iris.sample_data_path('uk_hires.pp')\n",
    "cubes = iris.load(fname)\n",
    "iris.save(cubes, 'saved_cubes.nc')"
   ]
  },
  {
   "cell_type": "code",
   "execution_count": 33,
   "metadata": {
    "collapsed": false
   },
   "outputs": [
    {
     "name": "stdout",
     "output_type": "stream",
     "text": [
      "/bin/sh: ncdump: command not found\r\n"
     ]
    }
   ],
   "source": [
    "!ncdump -h saved_cubes.nc | head -n 20\n",
    "!rm saved_cubes.nc"
   ]
  },
  {
   "cell_type": "markdown",
   "metadata": {},
   "source": [
    "Extra keywords can be passed to specific fileformat savers.\n",
    "\n",
    "**Task:** Go to the Iris reference documentation for ``iris.save``. What fileformats can Iris currently save to? What keywords are accepted to ``iris.save`` when saving a PP file?"
   ]
  },
  {
   "cell_type": "markdown",
   "metadata": {},
   "source": [
    "## Indexing\n",
    "\n",
    "Cubes can be indexed in a familiar manner to that of NumPy arrays:"
   ]
  },
  {
   "cell_type": "code",
   "execution_count": 34,
   "metadata": {
    "collapsed": false
   },
   "outputs": [
    {
     "name": "stdout",
     "output_type": "stream",
     "text": [
      "air_potential_temperature / (K)     (time: 3; model_level_number: 7; grid_latitude: 204; grid_longitude: 187)\n"
     ]
    }
   ],
   "source": [
    "fname = iris.sample_data_path('uk_hires.pp')\n",
    "cube = iris.load_cube(fname, 'air_potential_temperature')\n",
    "print(cube.summary(shorten=True))"
   ]
  },
  {
   "cell_type": "code",
   "execution_count": 35,
   "metadata": {
    "collapsed": false
   },
   "outputs": [
    {
     "data": {
      "text/plain": [
       "'air_potential_temperature / (K)     (time: 3; model_level_number: 4; grid_latitude: 20; grid_longitude: 10)'"
      ]
     },
     "execution_count": 35,
     "metadata": {},
     "output_type": "execute_result"
    }
   ],
   "source": [
    "subcube = cube[..., ::2, 15:35, :10]\n",
    "subcube.summary(shorten=True)"
   ]
  },
  {
   "cell_type": "markdown",
   "metadata": {},
   "source": [
    "Note: the result of indexing a cube is *always* a copy and never a *view* on the original data."
   ]
  },
  {
   "cell_type": "markdown",
   "metadata": {},
   "source": [
    "## Merging\n",
    "\n",
    "When Iris loads data it tries to reduce the number of cubes returned by collecting together multiple fields with\n",
    "shared metadata into a single multidimensional cube. In Iris, this is known as merging.\n",
    "\n",
    "In order to merge two cubes, they must be identical in everything but a scalar dimension, which goes on to become a new data dimension.\n",
    "\n",
    "The ``iris.load_raw`` function can be used as a diagnostic tool to identify the individual \"fields\" that Iris identifies in a given set of filenames before any merge takes place:"
   ]
  },
  {
   "cell_type": "code",
   "execution_count": 36,
   "metadata": {
    "collapsed": false
   },
   "outputs": [
    {
     "name": "stdout",
     "output_type": "stream",
     "text": [
      "6\n"
     ]
    }
   ],
   "source": [
    "fname = iris.sample_data_path('GloSea4', 'ensemble_008.pp')\n",
    "raw_cubes = iris.load_raw(fname)\n",
    "\n",
    "print(len(raw_cubes))"
   ]
  },
  {
   "cell_type": "markdown",
   "metadata": {},
   "source": [
    "When we look in detail at these cubes, we find that they are identical in every coordinate except for the scalar forecast_period and time coordinates:"
   ]
  },
  {
   "cell_type": "code",
   "execution_count": 37,
   "metadata": {
    "collapsed": false
   },
   "outputs": [
    {
     "name": "stdout",
     "output_type": "stream",
     "text": [
      "surface_temperature / (K)           (latitude: 145; longitude: 192)\n",
      "     Dimension coordinates:\n",
      "          latitude                           x               -\n",
      "          longitude                          -               x\n",
      "     Scalar coordinates:\n",
      "          forecast_period: 612.0 hours, bound=(240.0, 984.0) hours\n",
      "          forecast_reference_time: 2011-07-22 00:00:00\n",
      "          realization: 8\n",
      "          time: 2011-08-16 12:00:00, bound=(2011-08-01 00:00:00, 2011-09-01 00:00:00)\n",
      "     Attributes:\n",
      "          STASH: m01s00i024\n",
      "          source: Data from Met Office Unified Model\n",
      "          um_version: 7.6\n",
      "     Cell methods:\n",
      "          mean: time (1 hour)\n",
      "\n",
      "surface_temperature / (K)           (latitude: 145; longitude: 192)\n",
      "     Dimension coordinates:\n",
      "          latitude                           x               -\n",
      "          longitude                          -               x\n",
      "     Scalar coordinates:\n",
      "          forecast_period: 1344.0 hours, bound=(984.0, 1704.0) hours\n",
      "          forecast_reference_time: 2011-07-22 00:00:00\n",
      "          realization: 8\n",
      "          time: 2011-09-16 00:00:00, bound=(2011-09-01 00:00:00, 2011-10-01 00:00:00)\n",
      "     Attributes:\n",
      "          STASH: m01s00i024\n",
      "          source: Data from Met Office Unified Model\n",
      "          um_version: 7.6\n",
      "     Cell methods:\n",
      "          mean: time (1 hour)\n"
     ]
    }
   ],
   "source": [
    "print(raw_cubes[0])\n",
    "print()\n",
    "print(raw_cubes[1])"
   ]
  },
  {
   "cell_type": "markdown",
   "metadata": {},
   "source": [
    "Any CubeList can be merged with the ``merge`` method, and the resulting CubeList from load_raw is no different.\n",
    "The ``merge`` method *always* returns another CubeList:"
   ]
  },
  {
   "cell_type": "code",
   "execution_count": 38,
   "metadata": {
    "collapsed": false
   },
   "outputs": [
    {
     "name": "stdout",
     "output_type": "stream",
     "text": [
      "surface_temperature / (K)           (time: 6; latitude: 145; longitude: 192)\n",
      "     Dimension coordinates:\n",
      "          time                           x            -               -\n",
      "          latitude                       -            x               -\n",
      "          longitude                      -            -               x\n",
      "     Auxiliary coordinates:\n",
      "          forecast_period                x            -               -\n",
      "     Scalar coordinates:\n",
      "          forecast_reference_time: 2011-07-22 00:00:00\n",
      "          realization: 8\n",
      "     Attributes:\n",
      "          STASH: m01s00i024\n",
      "          source: Data from Met Office Unified Model\n",
      "          um_version: 7.6\n",
      "     Cell methods:\n",
      "          mean: time (1 hour)\n"
     ]
    }
   ],
   "source": [
    "merged_cube, = raw_cubes.merge()\n",
    "print(merged_cube)"
   ]
  },
  {
   "cell_type": "markdown",
   "metadata": {},
   "source": [
    "When we look in more detail, we can see that the time coordinate has become a new dimension, as well as gaining another forecast_period auxiliary coordinate:"
   ]
  },
  {
   "cell_type": "code",
   "execution_count": 39,
   "metadata": {
    "collapsed": false
   },
   "outputs": [
    {
     "name": "stdout",
     "output_type": "stream",
     "text": [
      "DimCoord([2011-08-16 12:00:00, 2011-09-16 00:00:00, 2011-10-16 12:00:00,\n",
      "       2011-11-16 00:00:00, 2011-12-16 12:00:00, 2012-01-16 12:00:00], bounds=[[2011-08-01 00:00:00, 2011-09-01 00:00:00],\n",
      "       [2011-09-01 00:00:00, 2011-10-01 00:00:00],\n",
      "       [2011-10-01 00:00:00, 2011-11-01 00:00:00],\n",
      "       [2011-11-01 00:00:00, 2011-12-01 00:00:00],\n",
      "       [2011-12-01 00:00:00, 2012-01-01 00:00:00],\n",
      "       [2012-01-01 00:00:00, 2012-02-01 00:00:00]], standard_name='time', calendar='gregorian')\n",
      "DimCoord(array([  612.,  1344.,  2076.,  2808.,  3540.,  4284.]), bounds=array([[  240.,   984.],\n",
      "       [  984.,  1704.],\n",
      "       [ 1704.,  2448.],\n",
      "       [ 2448.,  3168.],\n",
      "       [ 3168.,  3912.],\n",
      "       [ 3912.,  4656.]]), standard_name='forecast_period', units=Unit('hours'))\n"
     ]
    }
   ],
   "source": [
    "print(merged_cube.coord('time'))\n",
    "print(merged_cube.coord('forecast_period'))"
   ]
  },
  {
   "cell_type": "markdown",
   "metadata": {},
   "source": [
    "### Identifying merge problems\n",
    "\n",
    "In order to avoid the Iris merge functionality making often inappropriate assumptions about incoming data, merge is strict with regards to the uniformity of the incoming cubes.\n",
    "\n",
    "For example, if we load the fields from two ensemble members from the GloSea4 model sample data, we see we have 12 fields before any merge takes place:"
   ]
  },
  {
   "cell_type": "code",
   "execution_count": 40,
   "metadata": {
    "collapsed": false
   },
   "outputs": [
    {
     "name": "stdout",
     "output_type": "stream",
     "text": [
      "12\n"
     ]
    }
   ],
   "source": [
    "fname = iris.sample_data_path('GloSea4', 'ensemble_00[34].pp')\n",
    "cubes = iris.load_raw(fname, 'surface_temperature')\n",
    "print(len(cubes))"
   ]
  },
  {
   "cell_type": "markdown",
   "metadata": {},
   "source": [
    "If we try to merge these 12 cubes we get 2 cubes rather than one:"
   ]
  },
  {
   "cell_type": "code",
   "execution_count": 41,
   "metadata": {
    "collapsed": false
   },
   "outputs": [
    {
     "name": "stdout",
     "output_type": "stream",
     "text": [
      "0: surface_temperature / (K)           (time: 6; latitude: 145; longitude: 192)\n",
      "1: surface_temperature / (K)           (time: 6; latitude: 145; longitude: 192)\n"
     ]
    }
   ],
   "source": [
    "incomplete_cubes = cubes.merge(unique=False)\n",
    "print(incomplete_cubes)"
   ]
  },
  {
   "cell_type": "markdown",
   "metadata": {},
   "source": [
    "When we look in more detail at these two cubes, what is different between the two? (Hint: One value changes, another is completely missing)"
   ]
  },
  {
   "cell_type": "code",
   "execution_count": 42,
   "metadata": {
    "collapsed": false
   },
   "outputs": [
    {
     "name": "stdout",
     "output_type": "stream",
     "text": [
      "surface_temperature / (K)           (time: 6; latitude: 145; longitude: 192)\n",
      "     Dimension coordinates:\n",
      "          time                           x            -               -\n",
      "          latitude                       -            x               -\n",
      "          longitude                      -            -               x\n",
      "     Auxiliary coordinates:\n",
      "          forecast_period                x            -               -\n",
      "     Scalar coordinates:\n",
      "          forecast_reference_time: 2011-07-19 00:00:00\n",
      "     Attributes:\n",
      "          STASH: m01s00i024\n",
      "          source: Data from Met Office Unified Model\n",
      "          um_version: 7.6\n",
      "     Cell methods:\n",
      "          mean: time (1 hour)\n",
      "----------------------------------------------------------------------------------------------------\n",
      "surface_temperature / (K)           (time: 6; latitude: 145; longitude: 192)\n",
      "     Dimension coordinates:\n",
      "          time                           x            -               -\n",
      "          latitude                       -            x               -\n",
      "          longitude                      -            -               x\n",
      "     Auxiliary coordinates:\n",
      "          forecast_period                x            -               -\n",
      "     Scalar coordinates:\n",
      "          forecast_reference_time: 2011-07-20 00:00:00\n",
      "          realization: 4\n",
      "     Attributes:\n",
      "          STASH: m01s00i024\n",
      "          source: Data from Met Office Unified Model\n",
      "          um_version: 7.6\n",
      "     Cell methods:\n",
      "          mean: time (1 hour)\n"
     ]
    }
   ],
   "source": [
    "print(incomplete_cubes[0])\n",
    "print('--' * 50)\n",
    "print(incomplete_cubes[1])"
   ]
  },
  {
   "cell_type": "markdown",
   "metadata": {},
   "source": [
    "By adding the missing coordinate, we can trigger a merge of the 12 cubes into a single cube, as expected:"
   ]
  },
  {
   "cell_type": "code",
   "execution_count": 43,
   "metadata": {
    "collapsed": false
   },
   "outputs": [
    {
     "name": "stdout",
     "output_type": "stream",
     "text": [
      "0: surface_temperature / (K)           (time: 6; forecast_reference_time: 2; latitude: 145; longitude: 192)\n"
     ]
    }
   ],
   "source": [
    "for cube in cubes:\n",
    "    if not cube.coords('realization'):\n",
    "        cube.add_aux_coord(iris.coords.DimCoord(np.int32(3),\n",
    "                                                'realization'))\n",
    "\n",
    "merged_cubes = cubes.merge()\n",
    "print(merged_cubes)"
   ]
  },
  {
   "cell_type": "markdown",
   "metadata": {},
   "source": [
    "Iris v1.7 and beyond includes functionality to simplify the identification process for causes of failed merges. The ``merge_cube`` method of a CubeList expects the list of cubes to contain only cubes that can be merged to produce a single cube. If they do not merge to a single cube, a descriptive exception will be raised. For instance:\n",
    "\n",
    "```\n",
    "   >>> cubes.merge_cube()\n",
    "   Traceback (most recent call last):\n",
    "     File \"<stdin>\", line 1, in <module>\n",
    "     ...\n",
    "   iris.exceptions.MergeError: failed to merge into a single cube.\n",
    "     Coordinates in cube.aux_coords (scalar) differ: realization.\n",
    "```"
   ]
  },
  {
   "cell_type": "markdown",
   "metadata": {},
   "source": [
    "### Exercise 4\n",
    "\n",
    "The following exercise is designed to give you experience of solving issues that prevent a merge from taking place.\n",
    "The output from ``merge_cube`` is included to help with identification, and once a fix has been identified, ``raw_cubes.merge()`` should result in a CubeList containing a single cube:\n",
    "\n",
    "The first exercise is completed below:"
   ]
  },
  {
   "cell_type": "markdown",
   "metadata": {},
   "source": [
    "1\\. Identify and resolve the issue preventing ``resources/merge_exercise.1.*.nc`` from merging.\n",
    "\n",
    "    >>> raw_cubes = iris.load_raw('../resources/merge_exercise.1.*.nc')\n",
    "    >>> raw_cubes.merge_cube()\n",
    "    Traceback (most recent call last):\n",
    "    ...\n",
    "    iris.exceptions.MergeError: failed to merge into a single cube.\n",
    "      cube.attributes keys differ: 'History'\n"
   ]
  },
  {
   "cell_type": "code",
   "execution_count": 44,
   "metadata": {
    "collapsed": false
   },
   "outputs": [
    {
     "name": "stdout",
     "output_type": "stream",
     "text": [
      "{'source': 'Iris test case', 'History': 'unknown', 'Conventions': 'CF-1.5'}\n",
      "{'source': 'Iris test case', 'Conventions': 'CF-1.5'}\n",
      "0: air_potential_temperature / (K)     (time: 2; grid_latitude: 100; grid_longitude: 100)\n"
     ]
    },
    {
     "name": "stderr",
     "output_type": "stream",
     "text": [
      "/Users/watson-parris/anaconda/envs/cis_test/lib/python3.4/site-packages/iris/fileformats/cf.py:1140: IrisDeprecation: NetCDF default loading behaviour currently does not expose variables which define reference surfaces for dimensionless vertical coordinates as independent Cubes. This behaviour is deprecated in favour of automatic promotion to Cubes. To switch to the new behaviour, set iris.FUTURE.netcdf_promote to True.\n",
      "  warn_deprecated(msg)\n",
      "/Users/watson-parris/anaconda/envs/cis_test/lib/python3.4/site-packages/iris/fileformats/cf.py:1140: IrisDeprecation: NetCDF default loading behaviour currently does not expose variables which define reference surfaces for dimensionless vertical coordinates as independent Cubes. This behaviour is deprecated in favour of automatic promotion to Cubes. To switch to the new behaviour, set iris.FUTURE.netcdf_promote to True.\n",
      "  warn_deprecated(msg)\n"
     ]
    }
   ],
   "source": [
    "raw_cubes = iris.load_raw('../resources/merge_exercise.1.*.nc')\n",
    "\n",
    "# Print the attributes, clearly one is different.\n",
    "for cube in raw_cubes:\n",
    "    print(cube.attributes)\n",
    "\n",
    "# Remove the history attribute from the first cube.\n",
    "del raw_cubes[0].attributes['History']\n",
    "\n",
    "# Check that this has meant that a merge now results in a single cube.\n",
    "print(raw_cubes.merge())"
   ]
  },
  {
   "cell_type": "markdown",
   "metadata": {},
   "source": [
    "2\\. Identify and resolve the issue preventing ``resources/merge_exercise.2.*.nc`` from merging.\n",
    "\n",
    "    >>> raw_cubes = iris.load_raw('../resources/merge_exercise.2.*.nc')\n",
    "    >>> raw_cubes.merge_cube()\n",
    "    Traceback (most recent call last):\n",
    "      iris.exceptions.MergeError: failed to merge into a single cube.\n",
    "      cube.long_name differs: u'The first timestep' != u'The second timestep'"
   ]
  },
  {
   "cell_type": "code",
   "execution_count": null,
   "metadata": {
    "collapsed": false
   },
   "outputs": [],
   "source": []
  },
  {
   "cell_type": "markdown",
   "metadata": {},
   "source": [
    "3\\. (extension) Identify and resolve the issue preventing ``resources/merge_exercise.4.*.nc`` from merging.\n",
    "\n",
    "    >>> raw_cubes = iris.load_raw('../resources/merge_exercise.4.*.nc')\n",
    "    >>> raw_cubes.merge_cube()\n",
    "    Traceback (most recent call last):\n",
    "      iris.exceptions.MergeError: failed to merge into a single cube.\n",
    "      cube data dtype differs: float32 != float64"
   ]
  },
  {
   "cell_type": "code",
   "execution_count": null,
   "metadata": {
    "collapsed": false
   },
   "outputs": [],
   "source": []
  },
  {
   "cell_type": "markdown",
   "metadata": {},
   "source": [
    "4\\. (extension) Identify and resolve the issue preventing ``resources/merge_exercise.5.*.nc`` from merging (hint: Cubes can be indexed like NumPy arrays).\n",
    "\n",
    "    >>> raw_cubes = iris.load_raw('../resources/merge_exercise.5.*.nc')\n",
    "    >>> raw_cubes.merge_cube()\n",
    "    Traceback (most recent call last):\n",
    "      iris.exceptions.MergeError: failed to merge into a single cube.\n",
    "      cube.shape differs: (100, 100) != (1, 100, 100)"
   ]
  },
  {
   "cell_type": "markdown",
   "metadata": {},
   "source": [
    "### Concatenate ###\n",
    "\n",
    "We have seen that merge combines a list of cubes with a common scalar coordinate to produce a single cube with a new dimension created from these scalar values.\n",
    "\n",
    "But what happens if you try to combine cubes along a common dimension?"
   ]
  },
  {
   "cell_type": "code",
   "execution_count": 45,
   "metadata": {
    "collapsed": false
   },
   "outputs": [
    {
     "name": "stdout",
     "output_type": "stream",
     "text": [
      "0: air_temperature / (K)               (time: 10; latitude: 37; longitude: 49)\n",
      "1: air_temperature / (K)               (time: 10; latitude: 37; longitude: 49)\n"
     ]
    },
    {
     "name": "stderr",
     "output_type": "stream",
     "text": [
      "/Users/watson-parris/anaconda/envs/cis_test/lib/python3.4/site-packages/iris/fileformats/cf.py:1140: IrisDeprecation: NetCDF default loading behaviour currently does not expose variables which define reference surfaces for dimensionless vertical coordinates as independent Cubes. This behaviour is deprecated in favour of automatic promotion to Cubes. To switch to the new behaviour, set iris.FUTURE.netcdf_promote to True.\n",
      "  warn_deprecated(msg)\n"
     ]
    }
   ],
   "source": [
    "fname = iris.sample_data_path('A1B_north_america.nc')\n",
    "cube = iris.load_cube(fname)\n",
    "\n",
    "cube_1 = cube[:10]\n",
    "cube_2 = cube[10:20]\n",
    "cubes = iris.cube.CubeList([cube_1, cube_2])\n",
    "print(cubes)"
   ]
  },
  {
   "cell_type": "markdown",
   "metadata": {},
   "source": [
    "These cubes should be able to be merged; after all, they have both come from the same original cube!"
   ]
  },
  {
   "cell_type": "code",
   "execution_count": 46,
   "metadata": {
    "collapsed": false
   },
   "outputs": [
    {
     "name": "stdout",
     "output_type": "stream",
     "text": [
      "0: air_temperature / (K)               (time: 10; latitude: 37; longitude: 49)\n",
      "1: air_temperature / (K)               (time: 10; latitude: 37; longitude: 49)\n"
     ]
    }
   ],
   "source": [
    "print(cubes.merge())"
   ]
  },
  {
   "cell_type": "markdown",
   "metadata": {},
   "source": [
    "Merge cannot be used to combine common non-scalar coordinates. Instead we must use concatenate, which joins together (\"concatenates\") common non-scalar coordinates to produce a single cube with the common dimension extended:"
   ]
  },
  {
   "cell_type": "code",
   "execution_count": 47,
   "metadata": {
    "collapsed": false
   },
   "outputs": [
    {
     "name": "stdout",
     "output_type": "stream",
     "text": [
      "0: air_temperature / (K)               (time: 20; latitude: 37; longitude: 49)\n"
     ]
    }
   ],
   "source": [
    "print(cubes.concatenate())"
   ]
  },
  {
   "cell_type": "markdown",
   "metadata": {},
   "source": [
    "As with merge, Iris contains functionality to simplify the identification process for causes of failed concatenations. The ``concatenate_cube`` method of a CubeList expects the list of cubes to contain only cubes that can be concatenated to produce a single cube. If they do not concatenate to a single cube, a descriptive error will be raised. For instance:\n",
    "\n",
    "```\n",
    "    >>> print cubes.concatenate_cube()\n",
    "    Traceback (most recent call last):\n",
    "      ...\n",
    "    iris.exceptions.ConcatenateError: failed to concatenate into a single cube.\n",
    "      Scalar coordinates differ: forecast_reference_time, height != forecast_reference_time\n",
    "```"
   ]
  },
  {
   "cell_type": "markdown",
   "metadata": {},
   "source": [
    "## Load callbacks\n",
    "\n",
    "Sometimes important data exists in a filename rather than in the file itself, and it is desirable for it to become part of the cube's metadata.\n",
    "For example, some early GloSea4 model runs recorded the \"ensemble member number\" (or \"realization\" in CF terms) in the filename, but not in actual PP metadata itself. As a result, loading the data yielded 2 cubes, rather than a single, fully merged, cube."
   ]
  },
  {
   "cell_type": "code",
   "execution_count": 48,
   "metadata": {
    "collapsed": false
   },
   "outputs": [
    {
     "name": "stdout",
     "output_type": "stream",
     "text": [
      "surface_temperature / (K)           (time: 6; latitude: 145; longitude: 192)\n",
      "     Dimension coordinates:\n",
      "          time                           x            -               -\n",
      "          latitude                       -            x               -\n",
      "          longitude                      -            -               x\n",
      "     Auxiliary coordinates:\n",
      "          forecast_period                x            -               -\n",
      "     Scalar coordinates:\n",
      "          forecast_reference_time: 2011-07-19 00:00:00\n",
      "     Attributes:\n",
      "          STASH: m01s00i024\n",
      "          source: Data from Met Office Unified Model\n",
      "          um_version: 7.6\n",
      "     Cell methods:\n",
      "          mean: time (1 hour) \n",
      "-----\n",
      "surface_temperature / (K)           (time: 6; latitude: 145; longitude: 192)\n",
      "     Dimension coordinates:\n",
      "          time                           x            -               -\n",
      "          latitude                       -            x               -\n",
      "          longitude                      -            -               x\n",
      "     Auxiliary coordinates:\n",
      "          forecast_period                x            -               -\n",
      "     Scalar coordinates:\n",
      "          forecast_reference_time: 2011-07-20 00:00:00\n",
      "          realization: 4\n",
      "     Attributes:\n",
      "          STASH: m01s00i024\n",
      "          source: Data from Met Office Unified Model\n",
      "          um_version: 7.6\n",
      "     Cell methods:\n",
      "          mean: time (1 hour) \n",
      "-----\n"
     ]
    }
   ],
   "source": [
    "fname = iris.sample_data_path('GloSea4', 'ensemble_00[34].pp')\n",
    "for cube in iris.load(fname, 'surface_temperature'):\n",
    "    print(cube, '\\n-----')"
   ]
  },
  {
   "cell_type": "markdown",
   "metadata": {},
   "source": [
    "To resolve this we can define a function that gets called during the load process. This must take as arguments:\n",
    "\n",
    " * a cube,\n",
    " * a 2D field - either a PP field, a NetCDF variable or a GRIB message depending on the file format being loaded, and\n",
    " * a filename.\n",
    "\n",
    "In this case, the function makes the necessary adjustments to include a \"realization\" coordinate. We pass this function to load, and the result is a successfully merged cube:"
   ]
  },
  {
   "cell_type": "code",
   "execution_count": 49,
   "metadata": {
    "collapsed": false
   },
   "outputs": [
    {
     "name": "stdout",
     "output_type": "stream",
     "text": [
      "surface_temperature / (K)           (time: 6; forecast_reference_time: 2; latitude: 145; longitude: 192)\n",
      "     Dimension coordinates:\n",
      "          time                           x                           -            -               -\n",
      "          forecast_reference_time        -                           x            -               -\n",
      "          latitude                       -                           -            x               -\n",
      "          longitude                      -                           -            -               x\n",
      "     Auxiliary coordinates:\n",
      "          forecast_period                x                           x            -               -\n",
      "          realization                    x                           x            -               -\n",
      "     Attributes:\n",
      "          STASH: m01s00i024\n",
      "          source: Data from Met Office Unified Model\n",
      "          um_version: 7.6\n",
      "     Cell methods:\n",
      "          mean: time (1 hour)\n"
     ]
    }
   ],
   "source": [
    "import os\n",
    "def realization_callback(cube, field, fname):\n",
    "    basename = os.path.basename(fname)\n",
    "    if not cube.coords('realization') and basename.startswith('ensemble_'):\n",
    "        cube.add_aux_coord(iris.coords.DimCoord(np.int32(basename[-6:-3]),\n",
    "                                                'realization'))\n",
    "\n",
    "print(iris.load_cube(fname, callback=realization_callback))"
   ]
  },
  {
   "cell_type": "markdown",
   "metadata": {},
   "source": [
    "## Cube aggregation/collapsing\n",
    "\n",
    "Many standard univariate aggregations exist in Iris (and it is relatively easy to create your own, if the one you want doesn't exist)."
   ]
  },
  {
   "cell_type": "code",
   "execution_count": 50,
   "metadata": {
    "collapsed": false
   },
   "outputs": [
    {
     "name": "stdout",
     "output_type": "stream",
     "text": [
      "air_potential_temperature / (K)     (time: 3; model_level_number: 7; grid_latitude: 204; grid_longitude: 187)\n"
     ]
    }
   ],
   "source": [
    "fname = iris.sample_data_path('uk_hires.pp')\n",
    "cube = iris.load_cube(fname, 'air_potential_temperature')\n",
    "print(cube.summary(True))"
   ]
  },
  {
   "cell_type": "markdown",
   "metadata": {},
   "source": [
    "To take the vertical mean of this cube:"
   ]
  },
  {
   "cell_type": "code",
   "execution_count": 51,
   "metadata": {
    "collapsed": false
   },
   "outputs": [
    {
     "name": "stdout",
     "output_type": "stream",
     "text": [
      "air_potential_temperature / (K)     (time: 3; grid_latitude: 204; grid_longitude: 187)\n",
      "     Dimension coordinates:\n",
      "          time                           x                 -                    -\n",
      "          grid_latitude                  -                 x                    -\n",
      "          grid_longitude                 -                 -                    x\n",
      "     Auxiliary coordinates:\n",
      "          forecast_period                x                 -                    -\n",
      "          surface_altitude               -                 x                    x\n",
      "     Derived coordinates:\n",
      "          altitude                       -                 x                    x\n",
      "     Scalar coordinates:\n",
      "          forecast_reference_time: 2009-11-19 04:00:00\n",
      "          level_height: 696.667 m, bound=(0.0, 1393.33) m\n",
      "          model_level_number: 10, bound=(1, 19)\n",
      "          sigma: 0.92293, bound=(0.84586, 1.0)\n",
      "     Attributes:\n",
      "          STASH: m01s00i004\n",
      "          source: Data from Met Office Unified Model\n",
      "          um_version: 7.3\n",
      "     Cell methods:\n",
      "          mean: model_level_number\n"
     ]
    },
    {
     "name": "stderr",
     "output_type": "stream",
     "text": [
      "/Users/watson-parris/anaconda/envs/cis_test/lib/python3.4/site-packages/iris/coords.py:992: UserWarning: Collapsing a non-contiguous coordinate. Metadata may not be fully descriptive for 'model_level_number'.\n",
      "  warnings.warn(msg.format(self.name()))\n",
      "/Users/watson-parris/anaconda/envs/cis_test/lib/python3.4/site-packages/iris/coords.py:992: UserWarning: Collapsing a non-contiguous coordinate. Metadata may not be fully descriptive for 'level_height'.\n",
      "  warnings.warn(msg.format(self.name()))\n",
      "/Users/watson-parris/anaconda/envs/cis_test/lib/python3.4/site-packages/iris/coords.py:992: UserWarning: Collapsing a non-contiguous coordinate. Metadata may not be fully descriptive for 'sigma'.\n",
      "  warnings.warn(msg.format(self.name()))\n"
     ]
    }
   ],
   "source": [
    "print(cube.collapsed('model_level_number', iris.analysis.MEAN))"
   ]
  },
  {
   "cell_type": "markdown",
   "metadata": {},
   "source": [
    "Some of the aggregators accept ``weights`` as a keyword. The supplied weights must have the same shape as the cube (there is currently no broadcasting being done) but there is an Iris utility function to make this easier:"
   ]
  },
  {
   "cell_type": "code",
   "execution_count": 52,
   "metadata": {
    "collapsed": false
   },
   "outputs": [
    {
     "name": "stdout",
     "output_type": "stream",
     "text": [
      "air_potential_temperature / (K)     (time: 3; grid_latitude: 204; grid_longitude: 187)\n"
     ]
    },
    {
     "name": "stderr",
     "output_type": "stream",
     "text": [
      "/Users/watson-parris/anaconda/envs/cis_test/lib/python3.4/site-packages/iris/coords.py:992: UserWarning: Collapsing a non-contiguous coordinate. Metadata may not be fully descriptive for 'model_level_number'.\n",
      "  warnings.warn(msg.format(self.name()))\n",
      "/Users/watson-parris/anaconda/envs/cis_test/lib/python3.4/site-packages/iris/coords.py:992: UserWarning: Collapsing a non-contiguous coordinate. Metadata may not be fully descriptive for 'level_height'.\n",
      "  warnings.warn(msg.format(self.name()))\n",
      "/Users/watson-parris/anaconda/envs/cis_test/lib/python3.4/site-packages/iris/coords.py:992: UserWarning: Collapsing a non-contiguous coordinate. Metadata may not be fully descriptive for 'sigma'.\n",
      "  warnings.warn(msg.format(self.name()))\n"
     ]
    }
   ],
   "source": [
    "weights = np.array([1, 1.1, 1, 1.4, 0.7, 1, 1])\n",
    "weights = iris.util.broadcast_to_shape(weights, cube.shape, (1,))\n",
    "print(cube.collapsed('model_level_number',\n",
    "                     iris.analysis.MEAN, weights=weights).summary(True))"
   ]
  },
  {
   "cell_type": "markdown",
   "metadata": {},
   "source": [
    "For an area weighted mean there is a convenience function called ``area_weights`` in ``iris.analysis.cartography``. One of the requirements of this function is that the spatial coordinates have bounds (otherwise there would be no area to calculate):"
   ]
  },
  {
   "cell_type": "code",
   "execution_count": 53,
   "metadata": {
    "collapsed": false
   },
   "outputs": [],
   "source": [
    "import iris.analysis.cartography\n",
    "if cube.coord('grid_latitude').bounds is None:\n",
    "    cube.coord('grid_latitude').guess_bounds()\n",
    "    cube.coord('grid_longitude').guess_bounds()\n",
    "\n",
    "grid_areas = iris.analysis.cartography.area_weights(cube)"
   ]
  },
  {
   "cell_type": "markdown",
   "metadata": {},
   "source": [
    "This can be passed to the collapsed method along with the two coordinates that we want to take the mean over:"
   ]
  },
  {
   "cell_type": "code",
   "execution_count": 54,
   "metadata": {
    "collapsed": false
   },
   "outputs": [
    {
     "name": "stdout",
     "output_type": "stream",
     "text": [
      "air_potential_temperature / (K)     (time: 3; model_level_number: 7)\n",
      "     Dimension coordinates:\n",
      "          time                           x                      -\n",
      "          model_level_number             -                      x\n",
      "     Auxiliary coordinates:\n",
      "          forecast_period                x                      -\n",
      "          level_height                   -                      x\n",
      "          sigma                          -                      x\n",
      "     Derived coordinates:\n",
      "          altitude                       -                      x\n",
      "     Scalar coordinates:\n",
      "          forecast_reference_time: 2009-11-19 04:00:00\n",
      "          grid_latitude: 1.51455 degrees, bound=(0.13755, 2.89155) degrees\n",
      "          grid_longitude: 358.749 degrees, bound=(357.487, 360.012) degrees\n",
      "          surface_altitude: 399.625 m, bound=(-14.0, 813.25) m\n",
      "     Attributes:\n",
      "          STASH: m01s00i004\n",
      "          source: Data from Met Office Unified Model\n",
      "          um_version: 7.3\n",
      "     Cell methods:\n",
      "          mean: grid_longitude, grid_latitude\n"
     ]
    },
    {
     "name": "stderr",
     "output_type": "stream",
     "text": [
      "/Users/watson-parris/anaconda/envs/cis_test/lib/python3.4/site-packages/iris/coords.py:988: UserWarning: Collapsing a multi-dimensional coordinate. Metadata may not be fully descriptive for 'surface_altitude'.\n",
      "  warnings.warn(msg.format(self.name()))\n",
      "/Users/watson-parris/anaconda/envs/cis_test/lib/python3.4/site-packages/iris/cube.py:1103: UserWarning: Orography coordinate 'surface_altitude' has bounds. These will be disregarded.\n",
      "  factory.update(old_coord, new_coord)\n"
     ]
    }
   ],
   "source": [
    "area_avg = cube.collapsed(['grid_longitude', 'grid_latitude'],\n",
    "                          iris.analysis.MEAN, weights=grid_areas)\n",
    "print(area_avg)"
   ]
  },
  {
   "cell_type": "markdown",
   "metadata": {},
   "source": [
    "### Exercise 5 ###\n",
    "\n",
    "1\\. What other aggregators are available?"
   ]
  },
  {
   "cell_type": "code",
   "execution_count": null,
   "metadata": {
    "collapsed": false
   },
   "outputs": [],
   "source": []
  },
  {
   "cell_type": "markdown",
   "metadata": {},
   "source": [
    "2\\. Calculate the potential temperature variance with time for cube `area_avg` from above. Hint: We want to reduce the area averaged cube's vertical dimension, and end up with a cube of length 3. Print the data values of the resulting cube."
   ]
  },
  {
   "cell_type": "code",
   "execution_count": null,
   "metadata": {
    "collapsed": false
   },
   "outputs": [],
   "source": []
  },
  {
   "cell_type": "markdown",
   "metadata": {},
   "source": [
    "## Iteration\n",
    "\n",
    "We can loop through all desired subcubes in a larger cube using the ``slices`` and ``slices_over`` methods."
   ]
  },
  {
   "cell_type": "code",
   "execution_count": 55,
   "metadata": {
    "collapsed": false
   },
   "outputs": [
    {
     "name": "stdout",
     "output_type": "stream",
     "text": [
      "air_potential_temperature / (K)     (time: 3; grid_latitude: 204; grid_longitude: 187)\n"
     ]
    }
   ],
   "source": [
    "fname = iris.sample_data_path('uk_hires.pp')\n",
    "cube = iris.load_cube(fname,\n",
    "                      iris.Constraint('air_potential_temperature',\n",
    "                                      model_level_number=1))\n",
    "print(cube.summary(True))"
   ]
  },
  {
   "cell_type": "markdown",
   "metadata": {},
   "source": [
    "The ``slices`` method returns all the slices of a cube on the dimensions specified by the coordinates passed to the slices method.\n",
    "\n",
    "So in this example, each grid_latitude / grid_longitude slice of the cube is returned:"
   ]
  },
  {
   "cell_type": "code",
   "execution_count": 56,
   "metadata": {
    "collapsed": false
   },
   "outputs": [
    {
     "name": "stdout",
     "output_type": "stream",
     "text": [
      "air_potential_temperature / (K)     (grid_latitude: 204; grid_longitude: 187)\n",
      "air_potential_temperature / (K)     (grid_latitude: 204; grid_longitude: 187)\n",
      "air_potential_temperature / (K)     (grid_latitude: 204; grid_longitude: 187)\n"
     ]
    }
   ],
   "source": [
    "for subcube in cube.slices(['grid_latitude', 'grid_longitude']):\n",
    "    print(subcube.summary(shorten=True))"
   ]
  },
  {
   "cell_type": "markdown",
   "metadata": {},
   "source": [
    "The ``iris.iterate.izip`` function extends this concept and allows us to loop through multiple cubes at the same time:"
   ]
  },
  {
   "cell_type": "code",
   "execution_count": 58,
   "metadata": {
    "collapsed": false
   },
   "outputs": [
    {
     "name": "stdout",
     "output_type": "stream",
     "text": [
      "air_temperature / (K)               (latitude: 37; longitude: 49) 1860-06-01 00:00:00\n",
      "air_temperature / (K)               (latitude: 37; longitude: 49) 1860-06-01 00:00:00\n"
     ]
    },
    {
     "name": "stderr",
     "output_type": "stream",
     "text": [
      "/Users/watson-parris/anaconda/envs/cis_test/lib/python3.4/site-packages/iris/fileformats/cf.py:1140: IrisDeprecation: NetCDF default loading behaviour currently does not expose variables which define reference surfaces for dimensionless vertical coordinates as independent Cubes. This behaviour is deprecated in favour of automatic promotion to Cubes. To switch to the new behaviour, set iris.FUTURE.netcdf_promote to True.\n",
      "  warn_deprecated(msg)\n",
      "/Users/watson-parris/anaconda/envs/cis_test/lib/python3.4/site-packages/iris/fileformats/cf.py:1140: IrisDeprecation: NetCDF default loading behaviour currently does not expose variables which define reference surfaces for dimensionless vertical coordinates as independent Cubes. This behaviour is deprecated in favour of automatic promotion to Cubes. To switch to the new behaviour, set iris.FUTURE.netcdf_promote to True.\n",
      "  warn_deprecated(msg)\n"
     ]
    }
   ],
   "source": [
    "from iris.iterate import izip\n",
    "\n",
    "iris.FUTURE.cell_datetime_objects = True\n",
    "\n",
    "e1 = iris.load_cube(iris.sample_data_path('E1_north_america.nc'))\n",
    "a1b = iris.load_cube(iris.sample_data_path('A1B_north_america.nc'))\n",
    "\n",
    "for e1_slice, a1b_slice in izip(e1, a1b, coords=['latitude', 'longitude']):\n",
    "    print(e1_slice.summary(True), e1_slice.coord('time').cell(0).point)\n",
    "    print(a1b_slice.summary(True), a1b_slice.coord('time').cell(0).point)\n",
    "    break"
   ]
  },
  {
   "cell_type": "markdown",
   "metadata": {},
   "source": [
    "In this example, one real use for this functionality would be to plot the ``e1`` cube next to the ``a1b`` cube for each timestep."
   ]
  },
  {
   "cell_type": "markdown",
   "metadata": {},
   "source": [
    "We can use ``slices_over`` to return one subcube for each coordinate value in a specified coordinate. This helps us when trying to retrieve all the slices along a given cube dimension.\n",
    "\n",
    "For example, let's consider retrieving all the slices over the time dimension (i.e. each time step in its own cube with a scalar time coordinate) using ``slices``. As per the above example, to achieve this using ``slices`` we would have to specify all the cube's dimensions _except_ the time dimension.\n",
    "\n",
    "Let's take a look at ``slices_over`` providing this functionality:"
   ]
  },
  {
   "cell_type": "code",
   "execution_count": 60,
   "metadata": {
    "collapsed": false
   },
   "outputs": [
    {
     "name": "stdout",
     "output_type": "stream",
     "text": [
      "air_potential_temperature / (K)     (time: 3; grid_latitude: 204; grid_longitude: 187)\n",
      "air_potential_temperature / (K)     (time: 3; grid_latitude: 204; grid_longitude: 187)\n",
      "air_potential_temperature / (K)     (time: 3; grid_latitude: 204; grid_longitude: 187)\n",
      "air_potential_temperature / (K)     (time: 3; grid_latitude: 204; grid_longitude: 187)\n",
      "air_potential_temperature / (K)     (time: 3; grid_latitude: 204; grid_longitude: 187)\n",
      "air_potential_temperature / (K)     (time: 3; grid_latitude: 204; grid_longitude: 187)\n",
      "air_potential_temperature / (K)     (time: 3; grid_latitude: 204; grid_longitude: 187)\n"
     ]
    }
   ],
   "source": [
    "fname = iris.sample_data_path('uk_hires.pp')\n",
    "cube = iris.load_cube(fname, 'air_potential_temperature')\n",
    "for subcube in cube.slices_over('model_level_number'):\n",
    "    print(subcube.summary(shorten=True))"
   ]
  },
  {
   "cell_type": "markdown",
   "metadata": {},
   "source": [
    "## Plotting\n",
    "\n",
    "Iris comes with two plotting modules called ``iris.plot`` and ``iris.quickplot`` that wrap some of the common matplotlib plotting functions such that cubes can be passed as input rather than the usual NumPy arrays. The two modules are very similar, with the primary difference being that ``quickplot`` will add extra information to the axes, such as:\n",
    "\n",
    " * a colorbar,\n",
    " * labels for the x and y axes, and\n",
    " * a title where possible."
   ]
  },
  {
   "cell_type": "code",
   "execution_count": 61,
   "metadata": {
    "collapsed": false
   },
   "outputs": [],
   "source": [
    "import iris.plot as iplt\n",
    "import iris.quickplot as qplt\n",
    "import matplotlib.pyplot as plt"
   ]
  },
  {
   "cell_type": "code",
   "execution_count": 62,
   "metadata": {
    "collapsed": false
   },
   "outputs": [
    {
     "name": "stdout",
     "output_type": "stream",
     "text": [
      "air_temperature / (K)               (time: 240)\n",
      "     Dimension coordinates:\n",
      "          time                           x\n",
      "     Auxiliary coordinates:\n",
      "          forecast_period                x\n",
      "     Scalar coordinates:\n",
      "          forecast_reference_time: 1859-09-01 06:00:00\n",
      "          height: 1.5 m\n",
      "          latitude: 37.5 degrees, bound=(15.0, 60.0) degrees\n",
      "          longitude: 270.0 degrees, bound=(225.0, 315.0) degrees\n",
      "     Attributes:\n",
      "          Conventions: CF-1.5\n",
      "          Model scenario: A1B\n",
      "          STASH: m01s03i236\n",
      "          source: Data from Met Office Unified Model 6.05\n",
      "     Cell methods:\n",
      "          mean: time (6 hour)\n",
      "          mean: latitude, longitude\n"
     ]
    },
    {
     "name": "stderr",
     "output_type": "stream",
     "text": [
      "/Users/watson-parris/anaconda/envs/cis_test/lib/python3.4/site-packages/iris/fileformats/cf.py:1140: IrisDeprecation: NetCDF default loading behaviour currently does not expose variables which define reference surfaces for dimensionless vertical coordinates as independent Cubes. This behaviour is deprecated in favour of automatic promotion to Cubes. To switch to the new behaviour, set iris.FUTURE.netcdf_promote to True.\n",
      "  warn_deprecated(msg)\n",
      "/Users/watson-parris/anaconda/envs/cis_test/lib/python3.4/site-packages/iris/cube.py:3254: UserWarning: Collapsing spatial coordinate 'latitude' without weighting\n",
      "  warnings.warn(msg.format(coord.name()))\n",
      "/Users/watson-parris/anaconda/envs/cis_test/lib/python3.4/site-packages/iris/coords.py:992: UserWarning: Collapsing a non-contiguous coordinate. Metadata may not be fully descriptive for 'latitude'.\n",
      "  warnings.warn(msg.format(self.name()))\n",
      "/Users/watson-parris/anaconda/envs/cis_test/lib/python3.4/site-packages/iris/coords.py:992: UserWarning: Collapsing a non-contiguous coordinate. Metadata may not be fully descriptive for 'longitude'.\n",
      "  warnings.warn(msg.format(self.name()))\n"
     ]
    }
   ],
   "source": [
    "cube = iris.load_cube(iris.sample_data_path('A1B_north_america.nc'))\n",
    "ts = cube.collapsed(['latitude', 'longitude'], iris.analysis.MEAN)\n",
    "print(ts)"
   ]
  },
  {
   "cell_type": "code",
   "execution_count": 63,
   "metadata": {
    "collapsed": false
   },
   "outputs": [
    {
     "data": {
      "application/javascript": [
       "/* Put everything inside the global mpl namespace */\n",
       "window.mpl = {};\n",
       "\n",
       "mpl.get_websocket_type = function() {\n",
       "    if (typeof(WebSocket) !== 'undefined') {\n",
       "        return WebSocket;\n",
       "    } else if (typeof(MozWebSocket) !== 'undefined') {\n",
       "        return MozWebSocket;\n",
       "    } else {\n",
       "        alert('Your browser does not have WebSocket support.' +\n",
       "              'Please try Chrome, Safari or Firefox ≥ 6. ' +\n",
       "              'Firefox 4 and 5 are also supported but you ' +\n",
       "              'have to enable WebSockets in about:config.');\n",
       "    };\n",
       "}\n",
       "\n",
       "mpl.figure = function(figure_id, websocket, ondownload, parent_element) {\n",
       "    this.id = figure_id;\n",
       "\n",
       "    this.ws = websocket;\n",
       "\n",
       "    this.supports_binary = (this.ws.binaryType != undefined);\n",
       "\n",
       "    if (!this.supports_binary) {\n",
       "        var warnings = document.getElementById(\"mpl-warnings\");\n",
       "        if (warnings) {\n",
       "            warnings.style.display = 'block';\n",
       "            warnings.textContent = (\n",
       "                \"This browser does not support binary websocket messages. \" +\n",
       "                    \"Performance may be slow.\");\n",
       "        }\n",
       "    }\n",
       "\n",
       "    this.imageObj = new Image();\n",
       "\n",
       "    this.context = undefined;\n",
       "    this.message = undefined;\n",
       "    this.canvas = undefined;\n",
       "    this.rubberband_canvas = undefined;\n",
       "    this.rubberband_context = undefined;\n",
       "    this.format_dropdown = undefined;\n",
       "\n",
       "    this.image_mode = 'full';\n",
       "\n",
       "    this.root = $('<div/>');\n",
       "    this._root_extra_style(this.root)\n",
       "    this.root.attr('style', 'display: inline-block');\n",
       "\n",
       "    $(parent_element).append(this.root);\n",
       "\n",
       "    this._init_header(this);\n",
       "    this._init_canvas(this);\n",
       "    this._init_toolbar(this);\n",
       "\n",
       "    var fig = this;\n",
       "\n",
       "    this.waiting = false;\n",
       "\n",
       "    this.ws.onopen =  function () {\n",
       "            fig.send_message(\"supports_binary\", {value: fig.supports_binary});\n",
       "            fig.send_message(\"send_image_mode\", {});\n",
       "            fig.send_message(\"refresh\", {});\n",
       "        }\n",
       "\n",
       "    this.imageObj.onload = function() {\n",
       "            if (fig.image_mode == 'full') {\n",
       "                // Full images could contain transparency (where diff images\n",
       "                // almost always do), so we need to clear the canvas so that\n",
       "                // there is no ghosting.\n",
       "                fig.context.clearRect(0, 0, fig.canvas.width, fig.canvas.height);\n",
       "            }\n",
       "            fig.context.drawImage(fig.imageObj, 0, 0);\n",
       "        };\n",
       "\n",
       "    this.imageObj.onunload = function() {\n",
       "        this.ws.close();\n",
       "    }\n",
       "\n",
       "    this.ws.onmessage = this._make_on_message_function(this);\n",
       "\n",
       "    this.ondownload = ondownload;\n",
       "}\n",
       "\n",
       "mpl.figure.prototype._init_header = function() {\n",
       "    var titlebar = $(\n",
       "        '<div class=\"ui-dialog-titlebar ui-widget-header ui-corner-all ' +\n",
       "        'ui-helper-clearfix\"/>');\n",
       "    var titletext = $(\n",
       "        '<div class=\"ui-dialog-title\" style=\"width: 100%; ' +\n",
       "        'text-align: center; padding: 3px;\"/>');\n",
       "    titlebar.append(titletext)\n",
       "    this.root.append(titlebar);\n",
       "    this.header = titletext[0];\n",
       "}\n",
       "\n",
       "\n",
       "\n",
       "mpl.figure.prototype._canvas_extra_style = function(canvas_div) {\n",
       "\n",
       "}\n",
       "\n",
       "\n",
       "mpl.figure.prototype._root_extra_style = function(canvas_div) {\n",
       "\n",
       "}\n",
       "\n",
       "mpl.figure.prototype._init_canvas = function() {\n",
       "    var fig = this;\n",
       "\n",
       "    var canvas_div = $('<div/>');\n",
       "\n",
       "    canvas_div.attr('style', 'position: relative; clear: both; outline: 0');\n",
       "\n",
       "    function canvas_keyboard_event(event) {\n",
       "        return fig.key_event(event, event['data']);\n",
       "    }\n",
       "\n",
       "    canvas_div.keydown('key_press', canvas_keyboard_event);\n",
       "    canvas_div.keyup('key_release', canvas_keyboard_event);\n",
       "    this.canvas_div = canvas_div\n",
       "    this._canvas_extra_style(canvas_div)\n",
       "    this.root.append(canvas_div);\n",
       "\n",
       "    var canvas = $('<canvas/>');\n",
       "    canvas.addClass('mpl-canvas');\n",
       "    canvas.attr('style', \"left: 0; top: 0; z-index: 0; outline: 0\")\n",
       "\n",
       "    this.canvas = canvas[0];\n",
       "    this.context = canvas[0].getContext(\"2d\");\n",
       "\n",
       "    var rubberband = $('<canvas/>');\n",
       "    rubberband.attr('style', \"position: absolute; left: 0; top: 0; z-index: 1;\")\n",
       "\n",
       "    var pass_mouse_events = true;\n",
       "\n",
       "    canvas_div.resizable({\n",
       "        start: function(event, ui) {\n",
       "            pass_mouse_events = false;\n",
       "        },\n",
       "        resize: function(event, ui) {\n",
       "            fig.request_resize(ui.size.width, ui.size.height);\n",
       "        },\n",
       "        stop: function(event, ui) {\n",
       "            pass_mouse_events = true;\n",
       "            fig.request_resize(ui.size.width, ui.size.height);\n",
       "        },\n",
       "    });\n",
       "\n",
       "    function mouse_event_fn(event) {\n",
       "        if (pass_mouse_events)\n",
       "            return fig.mouse_event(event, event['data']);\n",
       "    }\n",
       "\n",
       "    rubberband.mousedown('button_press', mouse_event_fn);\n",
       "    rubberband.mouseup('button_release', mouse_event_fn);\n",
       "    // Throttle sequential mouse events to 1 every 20ms.\n",
       "    rubberband.mousemove('motion_notify', mouse_event_fn);\n",
       "\n",
       "    rubberband.mouseenter('figure_enter', mouse_event_fn);\n",
       "    rubberband.mouseleave('figure_leave', mouse_event_fn);\n",
       "\n",
       "    canvas_div.on(\"wheel\", function (event) {\n",
       "        event = event.originalEvent;\n",
       "        event['data'] = 'scroll'\n",
       "        if (event.deltaY < 0) {\n",
       "            event.step = 1;\n",
       "        } else {\n",
       "            event.step = -1;\n",
       "        }\n",
       "        mouse_event_fn(event);\n",
       "    });\n",
       "\n",
       "    canvas_div.append(canvas);\n",
       "    canvas_div.append(rubberband);\n",
       "\n",
       "    this.rubberband = rubberband;\n",
       "    this.rubberband_canvas = rubberband[0];\n",
       "    this.rubberband_context = rubberband[0].getContext(\"2d\");\n",
       "    this.rubberband_context.strokeStyle = \"#000000\";\n",
       "\n",
       "    this._resize_canvas = function(width, height) {\n",
       "        // Keep the size of the canvas, canvas container, and rubber band\n",
       "        // canvas in synch.\n",
       "        canvas_div.css('width', width)\n",
       "        canvas_div.css('height', height)\n",
       "\n",
       "        canvas.attr('width', width);\n",
       "        canvas.attr('height', height);\n",
       "\n",
       "        rubberband.attr('width', width);\n",
       "        rubberband.attr('height', height);\n",
       "    }\n",
       "\n",
       "    // Set the figure to an initial 600x600px, this will subsequently be updated\n",
       "    // upon first draw.\n",
       "    this._resize_canvas(600, 600);\n",
       "\n",
       "    // Disable right mouse context menu.\n",
       "    $(this.rubberband_canvas).bind(\"contextmenu\",function(e){\n",
       "        return false;\n",
       "    });\n",
       "\n",
       "    function set_focus () {\n",
       "        canvas.focus();\n",
       "        canvas_div.focus();\n",
       "    }\n",
       "\n",
       "    window.setTimeout(set_focus, 100);\n",
       "}\n",
       "\n",
       "mpl.figure.prototype._init_toolbar = function() {\n",
       "    var fig = this;\n",
       "\n",
       "    var nav_element = $('<div/>')\n",
       "    nav_element.attr('style', 'width: 100%');\n",
       "    this.root.append(nav_element);\n",
       "\n",
       "    // Define a callback function for later on.\n",
       "    function toolbar_event(event) {\n",
       "        return fig.toolbar_button_onclick(event['data']);\n",
       "    }\n",
       "    function toolbar_mouse_event(event) {\n",
       "        return fig.toolbar_button_onmouseover(event['data']);\n",
       "    }\n",
       "\n",
       "    for(var toolbar_ind in mpl.toolbar_items) {\n",
       "        var name = mpl.toolbar_items[toolbar_ind][0];\n",
       "        var tooltip = mpl.toolbar_items[toolbar_ind][1];\n",
       "        var image = mpl.toolbar_items[toolbar_ind][2];\n",
       "        var method_name = mpl.toolbar_items[toolbar_ind][3];\n",
       "\n",
       "        if (!name) {\n",
       "            // put a spacer in here.\n",
       "            continue;\n",
       "        }\n",
       "        var button = $('<button/>');\n",
       "        button.addClass('ui-button ui-widget ui-state-default ui-corner-all ' +\n",
       "                        'ui-button-icon-only');\n",
       "        button.attr('role', 'button');\n",
       "        button.attr('aria-disabled', 'false');\n",
       "        button.click(method_name, toolbar_event);\n",
       "        button.mouseover(tooltip, toolbar_mouse_event);\n",
       "\n",
       "        var icon_img = $('<span/>');\n",
       "        icon_img.addClass('ui-button-icon-primary ui-icon');\n",
       "        icon_img.addClass(image);\n",
       "        icon_img.addClass('ui-corner-all');\n",
       "\n",
       "        var tooltip_span = $('<span/>');\n",
       "        tooltip_span.addClass('ui-button-text');\n",
       "        tooltip_span.html(tooltip);\n",
       "\n",
       "        button.append(icon_img);\n",
       "        button.append(tooltip_span);\n",
       "\n",
       "        nav_element.append(button);\n",
       "    }\n",
       "\n",
       "    var fmt_picker_span = $('<span/>');\n",
       "\n",
       "    var fmt_picker = $('<select/>');\n",
       "    fmt_picker.addClass('mpl-toolbar-option ui-widget ui-widget-content');\n",
       "    fmt_picker_span.append(fmt_picker);\n",
       "    nav_element.append(fmt_picker_span);\n",
       "    this.format_dropdown = fmt_picker[0];\n",
       "\n",
       "    for (var ind in mpl.extensions) {\n",
       "        var fmt = mpl.extensions[ind];\n",
       "        var option = $(\n",
       "            '<option/>', {selected: fmt === mpl.default_extension}).html(fmt);\n",
       "        fmt_picker.append(option)\n",
       "    }\n",
       "\n",
       "    // Add hover states to the ui-buttons\n",
       "    $( \".ui-button\" ).hover(\n",
       "        function() { $(this).addClass(\"ui-state-hover\");},\n",
       "        function() { $(this).removeClass(\"ui-state-hover\");}\n",
       "    );\n",
       "\n",
       "    var status_bar = $('<span class=\"mpl-message\"/>');\n",
       "    nav_element.append(status_bar);\n",
       "    this.message = status_bar[0];\n",
       "}\n",
       "\n",
       "mpl.figure.prototype.request_resize = function(x_pixels, y_pixels) {\n",
       "    // Request matplotlib to resize the figure. Matplotlib will then trigger a resize in the client,\n",
       "    // which will in turn request a refresh of the image.\n",
       "    this.send_message('resize', {'width': x_pixels, 'height': y_pixels});\n",
       "}\n",
       "\n",
       "mpl.figure.prototype.send_message = function(type, properties) {\n",
       "    properties['type'] = type;\n",
       "    properties['figure_id'] = this.id;\n",
       "    this.ws.send(JSON.stringify(properties));\n",
       "}\n",
       "\n",
       "mpl.figure.prototype.send_draw_message = function() {\n",
       "    if (!this.waiting) {\n",
       "        this.waiting = true;\n",
       "        this.ws.send(JSON.stringify({type: \"draw\", figure_id: this.id}));\n",
       "    }\n",
       "}\n",
       "\n",
       "\n",
       "mpl.figure.prototype.handle_save = function(fig, msg) {\n",
       "    var format_dropdown = fig.format_dropdown;\n",
       "    var format = format_dropdown.options[format_dropdown.selectedIndex].value;\n",
       "    fig.ondownload(fig, format);\n",
       "}\n",
       "\n",
       "\n",
       "mpl.figure.prototype.handle_resize = function(fig, msg) {\n",
       "    var size = msg['size'];\n",
       "    if (size[0] != fig.canvas.width || size[1] != fig.canvas.height) {\n",
       "        fig._resize_canvas(size[0], size[1]);\n",
       "        fig.send_message(\"refresh\", {});\n",
       "    };\n",
       "}\n",
       "\n",
       "mpl.figure.prototype.handle_rubberband = function(fig, msg) {\n",
       "    var x0 = msg['x0'];\n",
       "    var y0 = fig.canvas.height - msg['y0'];\n",
       "    var x1 = msg['x1'];\n",
       "    var y1 = fig.canvas.height - msg['y1'];\n",
       "    x0 = Math.floor(x0) + 0.5;\n",
       "    y0 = Math.floor(y0) + 0.5;\n",
       "    x1 = Math.floor(x1) + 0.5;\n",
       "    y1 = Math.floor(y1) + 0.5;\n",
       "    var min_x = Math.min(x0, x1);\n",
       "    var min_y = Math.min(y0, y1);\n",
       "    var width = Math.abs(x1 - x0);\n",
       "    var height = Math.abs(y1 - y0);\n",
       "\n",
       "    fig.rubberband_context.clearRect(\n",
       "        0, 0, fig.canvas.width, fig.canvas.height);\n",
       "\n",
       "    fig.rubberband_context.strokeRect(min_x, min_y, width, height);\n",
       "}\n",
       "\n",
       "mpl.figure.prototype.handle_figure_label = function(fig, msg) {\n",
       "    // Updates the figure title.\n",
       "    fig.header.textContent = msg['label'];\n",
       "}\n",
       "\n",
       "mpl.figure.prototype.handle_cursor = function(fig, msg) {\n",
       "    var cursor = msg['cursor'];\n",
       "    switch(cursor)\n",
       "    {\n",
       "    case 0:\n",
       "        cursor = 'pointer';\n",
       "        break;\n",
       "    case 1:\n",
       "        cursor = 'default';\n",
       "        break;\n",
       "    case 2:\n",
       "        cursor = 'crosshair';\n",
       "        break;\n",
       "    case 3:\n",
       "        cursor = 'move';\n",
       "        break;\n",
       "    }\n",
       "    fig.rubberband_canvas.style.cursor = cursor;\n",
       "}\n",
       "\n",
       "mpl.figure.prototype.handle_message = function(fig, msg) {\n",
       "    fig.message.textContent = msg['message'];\n",
       "}\n",
       "\n",
       "mpl.figure.prototype.handle_draw = function(fig, msg) {\n",
       "    // Request the server to send over a new figure.\n",
       "    fig.send_draw_message();\n",
       "}\n",
       "\n",
       "mpl.figure.prototype.handle_image_mode = function(fig, msg) {\n",
       "    fig.image_mode = msg['mode'];\n",
       "}\n",
       "\n",
       "mpl.figure.prototype.updated_canvas_event = function() {\n",
       "    // Called whenever the canvas gets updated.\n",
       "    this.send_message(\"ack\", {});\n",
       "}\n",
       "\n",
       "// A function to construct a web socket function for onmessage handling.\n",
       "// Called in the figure constructor.\n",
       "mpl.figure.prototype._make_on_message_function = function(fig) {\n",
       "    return function socket_on_message(evt) {\n",
       "        if (evt.data instanceof Blob) {\n",
       "            /* FIXME: We get \"Resource interpreted as Image but\n",
       "             * transferred with MIME type text/plain:\" errors on\n",
       "             * Chrome.  But how to set the MIME type?  It doesn't seem\n",
       "             * to be part of the websocket stream */\n",
       "            evt.data.type = \"image/png\";\n",
       "\n",
       "            /* Free the memory for the previous frames */\n",
       "            if (fig.imageObj.src) {\n",
       "                (window.URL || window.webkitURL).revokeObjectURL(\n",
       "                    fig.imageObj.src);\n",
       "            }\n",
       "\n",
       "            fig.imageObj.src = (window.URL || window.webkitURL).createObjectURL(\n",
       "                evt.data);\n",
       "            fig.updated_canvas_event();\n",
       "            fig.waiting = false;\n",
       "            return;\n",
       "        }\n",
       "        else if (typeof evt.data === 'string' && evt.data.slice(0, 21) == \"data:image/png;base64\") {\n",
       "            fig.imageObj.src = evt.data;\n",
       "            fig.updated_canvas_event();\n",
       "            fig.waiting = false;\n",
       "            return;\n",
       "        }\n",
       "\n",
       "        var msg = JSON.parse(evt.data);\n",
       "        var msg_type = msg['type'];\n",
       "\n",
       "        // Call the  \"handle_{type}\" callback, which takes\n",
       "        // the figure and JSON message as its only arguments.\n",
       "        try {\n",
       "            var callback = fig[\"handle_\" + msg_type];\n",
       "        } catch (e) {\n",
       "            console.log(\"No handler for the '\" + msg_type + \"' message type: \", msg);\n",
       "            return;\n",
       "        }\n",
       "\n",
       "        if (callback) {\n",
       "            try {\n",
       "                // console.log(\"Handling '\" + msg_type + \"' message: \", msg);\n",
       "                callback(fig, msg);\n",
       "            } catch (e) {\n",
       "                console.log(\"Exception inside the 'handler_\" + msg_type + \"' callback:\", e, e.stack, msg);\n",
       "            }\n",
       "        }\n",
       "    };\n",
       "}\n",
       "\n",
       "// from http://stackoverflow.com/questions/1114465/getting-mouse-location-in-canvas\n",
       "mpl.findpos = function(e) {\n",
       "    //this section is from http://www.quirksmode.org/js/events_properties.html\n",
       "    var targ;\n",
       "    if (!e)\n",
       "        e = window.event;\n",
       "    if (e.target)\n",
       "        targ = e.target;\n",
       "    else if (e.srcElement)\n",
       "        targ = e.srcElement;\n",
       "    if (targ.nodeType == 3) // defeat Safari bug\n",
       "        targ = targ.parentNode;\n",
       "\n",
       "    // jQuery normalizes the pageX and pageY\n",
       "    // pageX,Y are the mouse positions relative to the document\n",
       "    // offset() returns the position of the element relative to the document\n",
       "    var x = e.pageX - $(targ).offset().left;\n",
       "    var y = e.pageY - $(targ).offset().top;\n",
       "\n",
       "    return {\"x\": x, \"y\": y};\n",
       "};\n",
       "\n",
       "/*\n",
       " * return a copy of an object with only non-object keys\n",
       " * we need this to avoid circular references\n",
       " * http://stackoverflow.com/a/24161582/3208463\n",
       " */\n",
       "function simpleKeys (original) {\n",
       "  return Object.keys(original).reduce(function (obj, key) {\n",
       "    if (typeof original[key] !== 'object')\n",
       "        obj[key] = original[key]\n",
       "    return obj;\n",
       "  }, {});\n",
       "}\n",
       "\n",
       "mpl.figure.prototype.mouse_event = function(event, name) {\n",
       "    var canvas_pos = mpl.findpos(event)\n",
       "\n",
       "    if (name === 'button_press')\n",
       "    {\n",
       "        this.canvas.focus();\n",
       "        this.canvas_div.focus();\n",
       "    }\n",
       "\n",
       "    var x = canvas_pos.x;\n",
       "    var y = canvas_pos.y;\n",
       "\n",
       "    this.send_message(name, {x: x, y: y, button: event.button,\n",
       "                             step: event.step,\n",
       "                             guiEvent: simpleKeys(event)});\n",
       "\n",
       "    /* This prevents the web browser from automatically changing to\n",
       "     * the text insertion cursor when the button is pressed.  We want\n",
       "     * to control all of the cursor setting manually through the\n",
       "     * 'cursor' event from matplotlib */\n",
       "    event.preventDefault();\n",
       "    return false;\n",
       "}\n",
       "\n",
       "mpl.figure.prototype._key_event_extra = function(event, name) {\n",
       "    // Handle any extra behaviour associated with a key event\n",
       "}\n",
       "\n",
       "mpl.figure.prototype.key_event = function(event, name) {\n",
       "\n",
       "    // Prevent repeat events\n",
       "    if (name == 'key_press')\n",
       "    {\n",
       "        if (event.which === this._key)\n",
       "            return;\n",
       "        else\n",
       "            this._key = event.which;\n",
       "    }\n",
       "    if (name == 'key_release')\n",
       "        this._key = null;\n",
       "\n",
       "    var value = '';\n",
       "    if (event.ctrlKey && event.which != 17)\n",
       "        value += \"ctrl+\";\n",
       "    if (event.altKey && event.which != 18)\n",
       "        value += \"alt+\";\n",
       "    if (event.shiftKey && event.which != 16)\n",
       "        value += \"shift+\";\n",
       "\n",
       "    value += 'k';\n",
       "    value += event.which.toString();\n",
       "\n",
       "    this._key_event_extra(event, name);\n",
       "\n",
       "    this.send_message(name, {key: value,\n",
       "                             guiEvent: simpleKeys(event)});\n",
       "    return false;\n",
       "}\n",
       "\n",
       "mpl.figure.prototype.toolbar_button_onclick = function(name) {\n",
       "    if (name == 'download') {\n",
       "        this.handle_save(this, null);\n",
       "    } else {\n",
       "        this.send_message(\"toolbar_button\", {name: name});\n",
       "    }\n",
       "};\n",
       "\n",
       "mpl.figure.prototype.toolbar_button_onmouseover = function(tooltip) {\n",
       "    this.message.textContent = tooltip;\n",
       "};\n",
       "mpl.toolbar_items = [[\"Home\", \"Reset original view\", \"fa fa-home icon-home\", \"home\"], [\"Back\", \"Back to  previous view\", \"fa fa-arrow-left icon-arrow-left\", \"back\"], [\"Forward\", \"Forward to next view\", \"fa fa-arrow-right icon-arrow-right\", \"forward\"], [\"\", \"\", \"\", \"\"], [\"Pan\", \"Pan axes with left mouse, zoom with right\", \"fa fa-arrows icon-move\", \"pan\"], [\"Zoom\", \"Zoom to rectangle\", \"fa fa-square-o icon-check-empty\", \"zoom\"], [\"\", \"\", \"\", \"\"], [\"Download\", \"Download plot\", \"fa fa-floppy-o icon-save\", \"download\"]];\n",
       "\n",
       "mpl.extensions = [\"eps\", \"jpeg\", \"pdf\", \"png\", \"ps\", \"raw\", \"svg\", \"tif\"];\n",
       "\n",
       "mpl.default_extension = \"png\";var comm_websocket_adapter = function(comm) {\n",
       "    // Create a \"websocket\"-like object which calls the given IPython comm\n",
       "    // object with the appropriate methods. Currently this is a non binary\n",
       "    // socket, so there is still some room for performance tuning.\n",
       "    var ws = {};\n",
       "\n",
       "    ws.close = function() {\n",
       "        comm.close()\n",
       "    };\n",
       "    ws.send = function(m) {\n",
       "        //console.log('sending', m);\n",
       "        comm.send(m);\n",
       "    };\n",
       "    // Register the callback with on_msg.\n",
       "    comm.on_msg(function(msg) {\n",
       "        //console.log('receiving', msg['content']['data'], msg);\n",
       "        // Pass the mpl event to the overriden (by mpl) onmessage function.\n",
       "        ws.onmessage(msg['content']['data'])\n",
       "    });\n",
       "    return ws;\n",
       "}\n",
       "\n",
       "mpl.mpl_figure_comm = function(comm, msg) {\n",
       "    // This is the function which gets called when the mpl process\n",
       "    // starts-up an IPython Comm through the \"matplotlib\" channel.\n",
       "\n",
       "    var id = msg.content.data.id;\n",
       "    // Get hold of the div created by the display call when the Comm\n",
       "    // socket was opened in Python.\n",
       "    var element = $(\"#\" + id);\n",
       "    var ws_proxy = comm_websocket_adapter(comm)\n",
       "\n",
       "    function ondownload(figure, format) {\n",
       "        window.open(figure.imageObj.src);\n",
       "    }\n",
       "\n",
       "    var fig = new mpl.figure(id, ws_proxy,\n",
       "                           ondownload,\n",
       "                           element.get(0));\n",
       "\n",
       "    // Call onopen now - mpl needs it, as it is assuming we've passed it a real\n",
       "    // web socket which is closed, not our websocket->open comm proxy.\n",
       "    ws_proxy.onopen();\n",
       "\n",
       "    fig.parent_element = element.get(0);\n",
       "    fig.cell_info = mpl.find_output_cell(\"<div id='\" + id + \"'></div>\");\n",
       "    if (!fig.cell_info) {\n",
       "        console.error(\"Failed to find cell for figure\", id, fig);\n",
       "        return;\n",
       "    }\n",
       "\n",
       "    var output_index = fig.cell_info[2]\n",
       "    var cell = fig.cell_info[0];\n",
       "\n",
       "};\n",
       "\n",
       "mpl.figure.prototype.handle_close = function(fig, msg) {\n",
       "    fig.root.unbind('remove')\n",
       "\n",
       "    // Update the output cell to use the data from the current canvas.\n",
       "    fig.push_to_output();\n",
       "    var dataURL = fig.canvas.toDataURL();\n",
       "    // Re-enable the keyboard manager in IPython - without this line, in FF,\n",
       "    // the notebook keyboard shortcuts fail.\n",
       "    IPython.keyboard_manager.enable()\n",
       "    $(fig.parent_element).html('<img src=\"' + dataURL + '\">');\n",
       "    fig.close_ws(fig, msg);\n",
       "}\n",
       "\n",
       "mpl.figure.prototype.close_ws = function(fig, msg){\n",
       "    fig.send_message('closing', msg);\n",
       "    // fig.ws.close()\n",
       "}\n",
       "\n",
       "mpl.figure.prototype.push_to_output = function(remove_interactive) {\n",
       "    // Turn the data on the canvas into data in the output cell.\n",
       "    var dataURL = this.canvas.toDataURL();\n",
       "    this.cell_info[1]['text/html'] = '<img src=\"' + dataURL + '\">';\n",
       "}\n",
       "\n",
       "mpl.figure.prototype.updated_canvas_event = function() {\n",
       "    // Tell IPython that the notebook contents must change.\n",
       "    IPython.notebook.set_dirty(true);\n",
       "    this.send_message(\"ack\", {});\n",
       "    var fig = this;\n",
       "    // Wait a second, then push the new image to the DOM so\n",
       "    // that it is saved nicely (might be nice to debounce this).\n",
       "    setTimeout(function () { fig.push_to_output() }, 1000);\n",
       "}\n",
       "\n",
       "mpl.figure.prototype._init_toolbar = function() {\n",
       "    var fig = this;\n",
       "\n",
       "    var nav_element = $('<div/>')\n",
       "    nav_element.attr('style', 'width: 100%');\n",
       "    this.root.append(nav_element);\n",
       "\n",
       "    // Define a callback function for later on.\n",
       "    function toolbar_event(event) {\n",
       "        return fig.toolbar_button_onclick(event['data']);\n",
       "    }\n",
       "    function toolbar_mouse_event(event) {\n",
       "        return fig.toolbar_button_onmouseover(event['data']);\n",
       "    }\n",
       "\n",
       "    for(var toolbar_ind in mpl.toolbar_items){\n",
       "        var name = mpl.toolbar_items[toolbar_ind][0];\n",
       "        var tooltip = mpl.toolbar_items[toolbar_ind][1];\n",
       "        var image = mpl.toolbar_items[toolbar_ind][2];\n",
       "        var method_name = mpl.toolbar_items[toolbar_ind][3];\n",
       "\n",
       "        if (!name) { continue; };\n",
       "\n",
       "        var button = $('<button class=\"btn btn-default\" href=\"#\" title=\"' + name + '\"><i class=\"fa ' + image + ' fa-lg\"></i></button>');\n",
       "        button.click(method_name, toolbar_event);\n",
       "        button.mouseover(tooltip, toolbar_mouse_event);\n",
       "        nav_element.append(button);\n",
       "    }\n",
       "\n",
       "    // Add the status bar.\n",
       "    var status_bar = $('<span class=\"mpl-message\" style=\"text-align:right; float: right;\"/>');\n",
       "    nav_element.append(status_bar);\n",
       "    this.message = status_bar[0];\n",
       "\n",
       "    // Add the close button to the window.\n",
       "    var buttongrp = $('<div class=\"btn-group inline pull-right\"></div>');\n",
       "    var button = $('<button class=\"btn btn-mini btn-primary\" href=\"#\" title=\"Stop Interaction\"><i class=\"fa fa-power-off icon-remove icon-large\"></i></button>');\n",
       "    button.click(function (evt) { fig.handle_close(fig, {}); } );\n",
       "    button.mouseover('Stop Interaction', toolbar_mouse_event);\n",
       "    buttongrp.append(button);\n",
       "    var titlebar = this.root.find($('.ui-dialog-titlebar'));\n",
       "    titlebar.prepend(buttongrp);\n",
       "}\n",
       "\n",
       "mpl.figure.prototype._root_extra_style = function(el){\n",
       "    var fig = this\n",
       "    el.on(\"remove\", function(){\n",
       "\tfig.close_ws(fig, {});\n",
       "    });\n",
       "}\n",
       "\n",
       "mpl.figure.prototype._canvas_extra_style = function(el){\n",
       "    // this is important to make the div 'focusable\n",
       "    el.attr('tabindex', 0)\n",
       "    // reach out to IPython and tell the keyboard manager to turn it's self\n",
       "    // off when our div gets focus\n",
       "\n",
       "    // location in version 3\n",
       "    if (IPython.notebook.keyboard_manager) {\n",
       "        IPython.notebook.keyboard_manager.register_events(el);\n",
       "    }\n",
       "    else {\n",
       "        // location in version 2\n",
       "        IPython.keyboard_manager.register_events(el);\n",
       "    }\n",
       "\n",
       "}\n",
       "\n",
       "mpl.figure.prototype._key_event_extra = function(event, name) {\n",
       "    var manager = IPython.notebook.keyboard_manager;\n",
       "    if (!manager)\n",
       "        manager = IPython.keyboard_manager;\n",
       "\n",
       "    // Check for shift+enter\n",
       "    if (event.shiftKey && event.which == 13) {\n",
       "        this.canvas_div.blur();\n",
       "        // select the cell after this one\n",
       "        var index = IPython.notebook.find_cell_index(this.cell_info[0]);\n",
       "        IPython.notebook.select(index + 1);\n",
       "    }\n",
       "}\n",
       "\n",
       "mpl.figure.prototype.handle_save = function(fig, msg) {\n",
       "    fig.ondownload(fig, null);\n",
       "}\n",
       "\n",
       "\n",
       "mpl.find_output_cell = function(html_output) {\n",
       "    // Return the cell and output element which can be found *uniquely* in the notebook.\n",
       "    // Note - this is a bit hacky, but it is done because the \"notebook_saving.Notebook\"\n",
       "    // IPython event is triggered only after the cells have been serialised, which for\n",
       "    // our purposes (turning an active figure into a static one), is too late.\n",
       "    var cells = IPython.notebook.get_cells();\n",
       "    var ncells = cells.length;\n",
       "    for (var i=0; i<ncells; i++) {\n",
       "        var cell = cells[i];\n",
       "        if (cell.cell_type === 'code'){\n",
       "            for (var j=0; j<cell.output_area.outputs.length; j++) {\n",
       "                var data = cell.output_area.outputs[j];\n",
       "                if (data.data) {\n",
       "                    // IPython >= 3 moved mimebundle to data attribute of output\n",
       "                    data = data.data;\n",
       "                }\n",
       "                if (data['text/html'] == html_output) {\n",
       "                    return [cell, data, j];\n",
       "                }\n",
       "            }\n",
       "        }\n",
       "    }\n",
       "}\n",
       "\n",
       "// Register the function which deals with the matplotlib target/channel.\n",
       "// The kernel may be null if the page has been refreshed.\n",
       "if (IPython.notebook.kernel != null) {\n",
       "    IPython.notebook.kernel.comm_manager.register_target('matplotlib', mpl.mpl_figure_comm);\n",
       "}\n"
      ],
      "text/plain": [
       "<IPython.core.display.Javascript object>"
      ]
     },
     "metadata": {},
     "output_type": "display_data"
    },
    {
     "data": {
      "text/html": [
       "<div id='e65e228f-5f1f-4318-8992-ddf0c394ce7c'></div>"
      ],
      "text/plain": [
       "<IPython.core.display.HTML object>"
      ]
     },
     "metadata": {},
     "output_type": "display_data"
    }
   ],
   "source": [
    "iplt.plot(ts)\n",
    "plt.show()"
   ]
  },
  {
   "cell_type": "markdown",
   "metadata": {},
   "source": [
    "For comparison, lets plot the result of ``iplt.plot`` next to ``qplt.plot``:"
   ]
  },
  {
   "cell_type": "code",
   "execution_count": 64,
   "metadata": {
    "collapsed": false
   },
   "outputs": [],
   "source": [
    "plt.subplot(1, 2, 1)\n",
    "iplt.plot(ts)\n",
    "\n",
    "plt.subplot(1, 2, 2)\n",
    "qplt.plot(ts)\n",
    "\n",
    "plt.subplots_adjust(wspace=0.5)\n",
    "plt.show()"
   ]
  },
  {
   "cell_type": "markdown",
   "metadata": {},
   "source": [
    "Notice how the result of qplt has axis labels and a title; everything else about the axes is identical."
   ]
  },
  {
   "cell_type": "markdown",
   "metadata": {},
   "source": [
    "The plotting functions in Iris have strict rules on the dimensionality of the inputted cubes. For example, a 2d cube is needed in order to create a contour plot:"
   ]
  },
  {
   "cell_type": "code",
   "execution_count": 65,
   "metadata": {
    "collapsed": false
   },
   "outputs": [
    {
     "ename": "ValueError",
     "evalue": "Expecting netcdftimes with an extra \"calendar\" attribute.",
     "output_type": "error",
     "traceback": [
      "\u001b[0;31m---------------------------------------------------------------------------\u001b[0m",
      "\u001b[0;31mValueError\u001b[0m                                Traceback (most recent call last)",
      "\u001b[0;32m<ipython-input-65-1bc052e9ce89>\u001b[0m in \u001b[0;36m<module>\u001b[0;34m()\u001b[0m\n\u001b[0;32m----> 1\u001b[0;31m \u001b[0mqplt\u001b[0m\u001b[0;34m.\u001b[0m\u001b[0mcontourf\u001b[0m\u001b[0;34m(\u001b[0m\u001b[0mcube\u001b[0m\u001b[0;34m[\u001b[0m\u001b[0;34m:\u001b[0m\u001b[0;34m,\u001b[0m \u001b[0;36m0\u001b[0m\u001b[0;34m,\u001b[0m \u001b[0;34m:\u001b[0m\u001b[0;34m]\u001b[0m\u001b[0;34m)\u001b[0m\u001b[0;34m\u001b[0m\u001b[0m\n\u001b[0m\u001b[1;32m      2\u001b[0m \u001b[0mplt\u001b[0m\u001b[0;34m.\u001b[0m\u001b[0mshow\u001b[0m\u001b[0;34m(\u001b[0m\u001b[0;34m)\u001b[0m\u001b[0;34m\u001b[0m\u001b[0m\n",
      "\u001b[0;32m/Users/watson-parris/anaconda/envs/cis_test/lib/python3.4/site-packages/iris/quickplot.py\u001b[0m in \u001b[0;36mcontourf\u001b[0;34m(cube, *args, **kwargs)\u001b[0m\n\u001b[1;32m    185\u001b[0m     \"\"\"\n\u001b[1;32m    186\u001b[0m     \u001b[0mcoords\u001b[0m \u001b[0;34m=\u001b[0m \u001b[0mkwargs\u001b[0m\u001b[0;34m.\u001b[0m\u001b[0mget\u001b[0m\u001b[0;34m(\u001b[0m\u001b[0;34m'coords'\u001b[0m\u001b[0;34m)\u001b[0m\u001b[0;34m\u001b[0m\u001b[0m\n\u001b[0;32m--> 187\u001b[0;31m     \u001b[0mresult\u001b[0m \u001b[0;34m=\u001b[0m \u001b[0miplt\u001b[0m\u001b[0;34m.\u001b[0m\u001b[0mcontourf\u001b[0m\u001b[0;34m(\u001b[0m\u001b[0mcube\u001b[0m\u001b[0;34m,\u001b[0m \u001b[0;34m*\u001b[0m\u001b[0margs\u001b[0m\u001b[0;34m,\u001b[0m \u001b[0;34m**\u001b[0m\u001b[0mkwargs\u001b[0m\u001b[0;34m)\u001b[0m\u001b[0;34m\u001b[0m\u001b[0m\n\u001b[0m\u001b[1;32m    188\u001b[0m     \u001b[0m_label_with_points\u001b[0m\u001b[0;34m(\u001b[0m\u001b[0mcube\u001b[0m\u001b[0;34m,\u001b[0m \u001b[0mresult\u001b[0m\u001b[0;34m,\u001b[0m \u001b[0mcoords\u001b[0m\u001b[0;34m=\u001b[0m\u001b[0mcoords\u001b[0m\u001b[0;34m)\u001b[0m\u001b[0;34m\u001b[0m\u001b[0m\n\u001b[1;32m    189\u001b[0m     \u001b[0;32mreturn\u001b[0m \u001b[0mresult\u001b[0m\u001b[0;34m\u001b[0m\u001b[0m\n",
      "\u001b[0;32m/Users/watson-parris/anaconda/envs/cis_test/lib/python3.4/site-packages/iris/plot.py\u001b[0m in \u001b[0;36mcontourf\u001b[0;34m(cube, *args, **kwargs)\u001b[0m\n\u001b[1;32m    713\u001b[0m     \u001b[0mcoords\u001b[0m \u001b[0;34m=\u001b[0m \u001b[0mkwargs\u001b[0m\u001b[0;34m.\u001b[0m\u001b[0mget\u001b[0m\u001b[0;34m(\u001b[0m\u001b[0;34m'coords'\u001b[0m\u001b[0;34m)\u001b[0m\u001b[0;34m\u001b[0m\u001b[0m\n\u001b[1;32m    714\u001b[0m     \u001b[0mkwargs\u001b[0m\u001b[0;34m.\u001b[0m\u001b[0msetdefault\u001b[0m\u001b[0;34m(\u001b[0m\u001b[0;34m'antialiased'\u001b[0m\u001b[0;34m,\u001b[0m \u001b[0;32mTrue\u001b[0m\u001b[0;34m)\u001b[0m\u001b[0;34m\u001b[0m\u001b[0m\n\u001b[0;32m--> 715\u001b[0;31m     \u001b[0mresult\u001b[0m \u001b[0;34m=\u001b[0m \u001b[0m_draw_2d_from_points\u001b[0m\u001b[0;34m(\u001b[0m\u001b[0;34m'contourf'\u001b[0m\u001b[0;34m,\u001b[0m \u001b[0;32mNone\u001b[0m\u001b[0;34m,\u001b[0m \u001b[0mcube\u001b[0m\u001b[0;34m,\u001b[0m \u001b[0;34m*\u001b[0m\u001b[0margs\u001b[0m\u001b[0;34m,\u001b[0m \u001b[0;34m**\u001b[0m\u001b[0mkwargs\u001b[0m\u001b[0;34m)\u001b[0m\u001b[0;34m\u001b[0m\u001b[0m\n\u001b[0m\u001b[1;32m    716\u001b[0m \u001b[0;34m\u001b[0m\u001b[0m\n\u001b[1;32m    717\u001b[0m     \u001b[0;31m# Matplotlib produces visible seams between anti-aliased polygons.\u001b[0m\u001b[0;34m\u001b[0m\u001b[0;34m\u001b[0m\u001b[0m\n",
      "\u001b[0;32m/Users/watson-parris/anaconda/envs/cis_test/lib/python3.4/site-packages/iris/plot.py\u001b[0m in \u001b[0;36m_draw_2d_from_points\u001b[0;34m(draw_method_name, arg_func, cube, *args, **kwargs)\u001b[0m\n\u001b[1;32m    393\u001b[0m             \u001b[0mresult\u001b[0m \u001b[0;34m=\u001b[0m \u001b[0mdraw_method\u001b[0m\u001b[0;34m(\u001b[0m\u001b[0;34m*\u001b[0m\u001b[0margs\u001b[0m\u001b[0;34m,\u001b[0m \u001b[0;34m**\u001b[0m\u001b[0mkwargs\u001b[0m\u001b[0;34m)\u001b[0m\u001b[0;34m\u001b[0m\u001b[0m\n\u001b[1;32m    394\u001b[0m         \u001b[0;32melse\u001b[0m\u001b[0;34m:\u001b[0m\u001b[0;34m\u001b[0m\u001b[0m\n\u001b[0;32m--> 395\u001b[0;31m             \u001b[0mresult\u001b[0m \u001b[0;34m=\u001b[0m \u001b[0mdraw_method\u001b[0m\u001b[0;34m(\u001b[0m\u001b[0mu\u001b[0m\u001b[0;34m,\u001b[0m \u001b[0mv\u001b[0m\u001b[0;34m,\u001b[0m \u001b[0mdata\u001b[0m\u001b[0;34m,\u001b[0m \u001b[0;34m*\u001b[0m\u001b[0margs\u001b[0m\u001b[0;34m,\u001b[0m \u001b[0;34m**\u001b[0m\u001b[0mkwargs\u001b[0m\u001b[0;34m)\u001b[0m\u001b[0;34m\u001b[0m\u001b[0m\n\u001b[0m\u001b[1;32m    396\u001b[0m \u001b[0;34m\u001b[0m\u001b[0m\n\u001b[1;32m    397\u001b[0m         \u001b[0;31m# Apply tick labels for string coordinates.\u001b[0m\u001b[0;34m\u001b[0m\u001b[0;34m\u001b[0m\u001b[0m\n",
      "\u001b[0;32m/Users/watson-parris/anaconda/envs/cis_test/lib/python3.4/site-packages/matplotlib/pyplot.py\u001b[0m in \u001b[0;36mcontourf\u001b[0;34m(*args, **kwargs)\u001b[0m\n\u001b[1;32m   2788\u001b[0m         \u001b[0max\u001b[0m\u001b[0;34m.\u001b[0m\u001b[0mhold\u001b[0m\u001b[0;34m(\u001b[0m\u001b[0mhold\u001b[0m\u001b[0;34m)\u001b[0m\u001b[0;34m\u001b[0m\u001b[0m\n\u001b[1;32m   2789\u001b[0m     \u001b[0;32mtry\u001b[0m\u001b[0;34m:\u001b[0m\u001b[0;34m\u001b[0m\u001b[0m\n\u001b[0;32m-> 2790\u001b[0;31m         \u001b[0mret\u001b[0m \u001b[0;34m=\u001b[0m \u001b[0max\u001b[0m\u001b[0;34m.\u001b[0m\u001b[0mcontourf\u001b[0m\u001b[0;34m(\u001b[0m\u001b[0;34m*\u001b[0m\u001b[0margs\u001b[0m\u001b[0;34m,\u001b[0m \u001b[0;34m**\u001b[0m\u001b[0mkwargs\u001b[0m\u001b[0;34m)\u001b[0m\u001b[0;34m\u001b[0m\u001b[0m\n\u001b[0m\u001b[1;32m   2791\u001b[0m     \u001b[0;32mfinally\u001b[0m\u001b[0;34m:\u001b[0m\u001b[0;34m\u001b[0m\u001b[0m\n\u001b[1;32m   2792\u001b[0m         \u001b[0max\u001b[0m\u001b[0;34m.\u001b[0m\u001b[0mhold\u001b[0m\u001b[0;34m(\u001b[0m\u001b[0mwashold\u001b[0m\u001b[0;34m)\u001b[0m\u001b[0;34m\u001b[0m\u001b[0m\n",
      "\u001b[0;32m/Users/watson-parris/anaconda/envs/cis_test/lib/python3.4/site-packages/matplotlib/__init__.py\u001b[0m in \u001b[0;36minner\u001b[0;34m(ax, *args, **kwargs)\u001b[0m\n\u001b[1;32m   1817\u001b[0m                     warnings.warn(msg % (label_namer, func.__name__),\n\u001b[1;32m   1818\u001b[0m                                   RuntimeWarning, stacklevel=2)\n\u001b[0;32m-> 1819\u001b[0;31m             \u001b[0;32mreturn\u001b[0m \u001b[0mfunc\u001b[0m\u001b[0;34m(\u001b[0m\u001b[0max\u001b[0m\u001b[0;34m,\u001b[0m \u001b[0;34m*\u001b[0m\u001b[0margs\u001b[0m\u001b[0;34m,\u001b[0m \u001b[0;34m**\u001b[0m\u001b[0mkwargs\u001b[0m\u001b[0;34m)\u001b[0m\u001b[0;34m\u001b[0m\u001b[0m\n\u001b[0m\u001b[1;32m   1820\u001b[0m         \u001b[0mpre_doc\u001b[0m \u001b[0;34m=\u001b[0m \u001b[0minner\u001b[0m\u001b[0;34m.\u001b[0m\u001b[0m__doc__\u001b[0m\u001b[0;34m\u001b[0m\u001b[0m\n\u001b[1;32m   1821\u001b[0m         \u001b[0;32mif\u001b[0m \u001b[0mpre_doc\u001b[0m \u001b[0;32mis\u001b[0m \u001b[0;32mNone\u001b[0m\u001b[0;34m:\u001b[0m\u001b[0;34m\u001b[0m\u001b[0m\n",
      "\u001b[0;32m/Users/watson-parris/anaconda/envs/cis_test/lib/python3.4/site-packages/matplotlib/axes/_axes.py\u001b[0m in \u001b[0;36mcontourf\u001b[0;34m(self, *args, **kwargs)\u001b[0m\n\u001b[1;32m   5625\u001b[0m             \u001b[0mself\u001b[0m\u001b[0;34m.\u001b[0m\u001b[0mcla\u001b[0m\u001b[0;34m(\u001b[0m\u001b[0;34m)\u001b[0m\u001b[0;34m\u001b[0m\u001b[0m\n\u001b[1;32m   5626\u001b[0m         \u001b[0mkwargs\u001b[0m\u001b[0;34m[\u001b[0m\u001b[0;34m'filled'\u001b[0m\u001b[0;34m]\u001b[0m \u001b[0;34m=\u001b[0m \u001b[0;32mTrue\u001b[0m\u001b[0;34m\u001b[0m\u001b[0m\n\u001b[0;32m-> 5627\u001b[0;31m         \u001b[0;32mreturn\u001b[0m \u001b[0mmcontour\u001b[0m\u001b[0;34m.\u001b[0m\u001b[0mQuadContourSet\u001b[0m\u001b[0;34m(\u001b[0m\u001b[0mself\u001b[0m\u001b[0;34m,\u001b[0m \u001b[0;34m*\u001b[0m\u001b[0margs\u001b[0m\u001b[0;34m,\u001b[0m \u001b[0;34m**\u001b[0m\u001b[0mkwargs\u001b[0m\u001b[0;34m)\u001b[0m\u001b[0;34m\u001b[0m\u001b[0m\n\u001b[0m\u001b[1;32m   5628\u001b[0m     \u001b[0mcontourf\u001b[0m\u001b[0;34m.\u001b[0m\u001b[0m__doc__\u001b[0m \u001b[0;34m=\u001b[0m \u001b[0mmcontour\u001b[0m\u001b[0;34m.\u001b[0m\u001b[0mQuadContourSet\u001b[0m\u001b[0;34m.\u001b[0m\u001b[0mcontour_doc\u001b[0m\u001b[0;34m\u001b[0m\u001b[0m\n\u001b[1;32m   5629\u001b[0m \u001b[0;34m\u001b[0m\u001b[0m\n",
      "\u001b[0;32m/Users/watson-parris/anaconda/envs/cis_test/lib/python3.4/site-packages/matplotlib/contour.py\u001b[0m in \u001b[0;36m__init__\u001b[0;34m(self, ax, *args, **kwargs)\u001b[0m\n\u001b[1;32m   1422\u001b[0m         \u001b[0mare\u001b[0m \u001b[0mdescribed\u001b[0m \u001b[0;32min\u001b[0m \u001b[0mQuadContourSet\u001b[0m\u001b[0;34m.\u001b[0m\u001b[0mcontour_doc\u001b[0m\u001b[0;34m.\u001b[0m\u001b[0;34m\u001b[0m\u001b[0m\n\u001b[1;32m   1423\u001b[0m         \"\"\"\n\u001b[0;32m-> 1424\u001b[0;31m         \u001b[0mContourSet\u001b[0m\u001b[0;34m.\u001b[0m\u001b[0m__init__\u001b[0m\u001b[0;34m(\u001b[0m\u001b[0mself\u001b[0m\u001b[0;34m,\u001b[0m \u001b[0max\u001b[0m\u001b[0;34m,\u001b[0m \u001b[0;34m*\u001b[0m\u001b[0margs\u001b[0m\u001b[0;34m,\u001b[0m \u001b[0;34m**\u001b[0m\u001b[0mkwargs\u001b[0m\u001b[0;34m)\u001b[0m\u001b[0;34m\u001b[0m\u001b[0m\n\u001b[0m\u001b[1;32m   1425\u001b[0m \u001b[0;34m\u001b[0m\u001b[0m\n\u001b[1;32m   1426\u001b[0m     \u001b[0;32mdef\u001b[0m \u001b[0m_process_args\u001b[0m\u001b[0;34m(\u001b[0m\u001b[0mself\u001b[0m\u001b[0;34m,\u001b[0m \u001b[0;34m*\u001b[0m\u001b[0margs\u001b[0m\u001b[0;34m,\u001b[0m \u001b[0;34m**\u001b[0m\u001b[0mkwargs\u001b[0m\u001b[0;34m)\u001b[0m\u001b[0;34m:\u001b[0m\u001b[0;34m\u001b[0m\u001b[0m\n",
      "\u001b[0;32m/Users/watson-parris/anaconda/envs/cis_test/lib/python3.4/site-packages/matplotlib/contour.py\u001b[0m in \u001b[0;36m__init__\u001b[0;34m(self, ax, *args, **kwargs)\u001b[0m\n\u001b[1;32m    861\u001b[0m         \u001b[0mself\u001b[0m\u001b[0;34m.\u001b[0m\u001b[0m_transform\u001b[0m \u001b[0;34m=\u001b[0m \u001b[0mkwargs\u001b[0m\u001b[0;34m.\u001b[0m\u001b[0mget\u001b[0m\u001b[0;34m(\u001b[0m\u001b[0;34m'transform'\u001b[0m\u001b[0;34m,\u001b[0m \u001b[0;32mNone\u001b[0m\u001b[0;34m)\u001b[0m\u001b[0;34m\u001b[0m\u001b[0m\n\u001b[1;32m    862\u001b[0m \u001b[0;34m\u001b[0m\u001b[0m\n\u001b[0;32m--> 863\u001b[0;31m         \u001b[0mself\u001b[0m\u001b[0;34m.\u001b[0m\u001b[0m_process_args\u001b[0m\u001b[0;34m(\u001b[0m\u001b[0;34m*\u001b[0m\u001b[0margs\u001b[0m\u001b[0;34m,\u001b[0m \u001b[0;34m**\u001b[0m\u001b[0mkwargs\u001b[0m\u001b[0;34m)\u001b[0m\u001b[0;34m\u001b[0m\u001b[0m\n\u001b[0m\u001b[1;32m    864\u001b[0m         \u001b[0mself\u001b[0m\u001b[0;34m.\u001b[0m\u001b[0m_process_levels\u001b[0m\u001b[0;34m(\u001b[0m\u001b[0;34m)\u001b[0m\u001b[0;34m\u001b[0m\u001b[0m\n\u001b[1;32m    865\u001b[0m \u001b[0;34m\u001b[0m\u001b[0m\n",
      "\u001b[0;32m/Users/watson-parris/anaconda/envs/cis_test/lib/python3.4/site-packages/matplotlib/contour.py\u001b[0m in \u001b[0;36m_process_args\u001b[0;34m(self, *args, **kwargs)\u001b[0m\n\u001b[1;32m   1443\u001b[0m                 \u001b[0mself\u001b[0m\u001b[0;34m.\u001b[0m\u001b[0m_corner_mask\u001b[0m \u001b[0;34m=\u001b[0m \u001b[0mmpl\u001b[0m\u001b[0;34m.\u001b[0m\u001b[0mrcParams\u001b[0m\u001b[0;34m[\u001b[0m\u001b[0;34m'contour.corner_mask'\u001b[0m\u001b[0;34m]\u001b[0m\u001b[0;34m\u001b[0m\u001b[0m\n\u001b[1;32m   1444\u001b[0m \u001b[0;34m\u001b[0m\u001b[0m\n\u001b[0;32m-> 1445\u001b[0;31m             \u001b[0mx\u001b[0m\u001b[0;34m,\u001b[0m \u001b[0my\u001b[0m\u001b[0;34m,\u001b[0m \u001b[0mz\u001b[0m \u001b[0;34m=\u001b[0m \u001b[0mself\u001b[0m\u001b[0;34m.\u001b[0m\u001b[0m_contour_args\u001b[0m\u001b[0;34m(\u001b[0m\u001b[0margs\u001b[0m\u001b[0;34m,\u001b[0m \u001b[0mkwargs\u001b[0m\u001b[0;34m)\u001b[0m\u001b[0;34m\u001b[0m\u001b[0m\n\u001b[0m\u001b[1;32m   1446\u001b[0m \u001b[0;34m\u001b[0m\u001b[0m\n\u001b[1;32m   1447\u001b[0m             \u001b[0m_mask\u001b[0m \u001b[0;34m=\u001b[0m \u001b[0mma\u001b[0m\u001b[0;34m.\u001b[0m\u001b[0mgetmask\u001b[0m\u001b[0;34m(\u001b[0m\u001b[0mz\u001b[0m\u001b[0;34m)\u001b[0m\u001b[0;34m\u001b[0m\u001b[0m\n",
      "\u001b[0;32m/Users/watson-parris/anaconda/envs/cis_test/lib/python3.4/site-packages/matplotlib/contour.py\u001b[0m in \u001b[0;36m_contour_args\u001b[0;34m(self, args, kwargs)\u001b[0m\n\u001b[1;32m   1526\u001b[0m             \u001b[0margs\u001b[0m \u001b[0;34m=\u001b[0m \u001b[0margs\u001b[0m\u001b[0;34m[\u001b[0m\u001b[0;36m1\u001b[0m\u001b[0;34m:\u001b[0m\u001b[0;34m]\u001b[0m\u001b[0;34m\u001b[0m\u001b[0m\n\u001b[1;32m   1527\u001b[0m         \u001b[0;32melif\u001b[0m \u001b[0mNargs\u001b[0m \u001b[0;34m<=\u001b[0m \u001b[0;36m4\u001b[0m\u001b[0;34m:\u001b[0m\u001b[0;34m\u001b[0m\u001b[0m\n\u001b[0;32m-> 1528\u001b[0;31m             \u001b[0mx\u001b[0m\u001b[0;34m,\u001b[0m \u001b[0my\u001b[0m\u001b[0;34m,\u001b[0m \u001b[0mz\u001b[0m \u001b[0;34m=\u001b[0m \u001b[0mself\u001b[0m\u001b[0;34m.\u001b[0m\u001b[0m_check_xyz\u001b[0m\u001b[0;34m(\u001b[0m\u001b[0margs\u001b[0m\u001b[0;34m[\u001b[0m\u001b[0;34m:\u001b[0m\u001b[0;36m3\u001b[0m\u001b[0;34m]\u001b[0m\u001b[0;34m,\u001b[0m \u001b[0mkwargs\u001b[0m\u001b[0;34m)\u001b[0m\u001b[0;34m\u001b[0m\u001b[0m\n\u001b[0m\u001b[1;32m   1529\u001b[0m             \u001b[0margs\u001b[0m \u001b[0;34m=\u001b[0m \u001b[0margs\u001b[0m\u001b[0;34m[\u001b[0m\u001b[0;36m3\u001b[0m\u001b[0;34m:\u001b[0m\u001b[0;34m]\u001b[0m\u001b[0;34m\u001b[0m\u001b[0m\n\u001b[1;32m   1530\u001b[0m         \u001b[0;32melse\u001b[0m\u001b[0;34m:\u001b[0m\u001b[0;34m\u001b[0m\u001b[0m\n",
      "\u001b[0;32m/Users/watson-parris/anaconda/envs/cis_test/lib/python3.4/site-packages/matplotlib/contour.py\u001b[0m in \u001b[0;36m_check_xyz\u001b[0;34m(self, args, kwargs)\u001b[0m\n\u001b[1;32m   1551\u001b[0m         \"\"\"\n\u001b[1;32m   1552\u001b[0m         \u001b[0mx\u001b[0m\u001b[0;34m,\u001b[0m \u001b[0my\u001b[0m \u001b[0;34m=\u001b[0m \u001b[0margs\u001b[0m\u001b[0;34m[\u001b[0m\u001b[0;34m:\u001b[0m\u001b[0;36m2\u001b[0m\u001b[0;34m]\u001b[0m\u001b[0;34m\u001b[0m\u001b[0m\n\u001b[0;32m-> 1553\u001b[0;31m         \u001b[0mself\u001b[0m\u001b[0;34m.\u001b[0m\u001b[0max\u001b[0m\u001b[0;34m.\u001b[0m\u001b[0m_process_unit_info\u001b[0m\u001b[0;34m(\u001b[0m\u001b[0mxdata\u001b[0m\u001b[0;34m=\u001b[0m\u001b[0mx\u001b[0m\u001b[0;34m,\u001b[0m \u001b[0mydata\u001b[0m\u001b[0;34m=\u001b[0m\u001b[0my\u001b[0m\u001b[0;34m,\u001b[0m \u001b[0mkwargs\u001b[0m\u001b[0;34m=\u001b[0m\u001b[0mkwargs\u001b[0m\u001b[0;34m)\u001b[0m\u001b[0;34m\u001b[0m\u001b[0m\n\u001b[0m\u001b[1;32m   1554\u001b[0m         \u001b[0mx\u001b[0m \u001b[0;34m=\u001b[0m \u001b[0mself\u001b[0m\u001b[0;34m.\u001b[0m\u001b[0max\u001b[0m\u001b[0;34m.\u001b[0m\u001b[0mconvert_xunits\u001b[0m\u001b[0;34m(\u001b[0m\u001b[0mx\u001b[0m\u001b[0;34m)\u001b[0m\u001b[0;34m\u001b[0m\u001b[0m\n\u001b[1;32m   1555\u001b[0m         \u001b[0my\u001b[0m \u001b[0;34m=\u001b[0m \u001b[0mself\u001b[0m\u001b[0;34m.\u001b[0m\u001b[0max\u001b[0m\u001b[0;34m.\u001b[0m\u001b[0mconvert_yunits\u001b[0m\u001b[0;34m(\u001b[0m\u001b[0my\u001b[0m\u001b[0;34m)\u001b[0m\u001b[0;34m\u001b[0m\u001b[0m\n",
      "\u001b[0;32m/Users/watson-parris/anaconda/envs/cis_test/lib/python3.4/site-packages/matplotlib/axes/_base.py\u001b[0m in \u001b[0;36m_process_unit_info\u001b[0;34m(self, xdata, ydata, kwargs)\u001b[0m\n\u001b[1;32m   1908\u001b[0m             \u001b[0;31m# we only need to update if there is nothing set yet.\u001b[0m\u001b[0;34m\u001b[0m\u001b[0;34m\u001b[0m\u001b[0m\n\u001b[1;32m   1909\u001b[0m             \u001b[0;32mif\u001b[0m \u001b[0;32mnot\u001b[0m \u001b[0mself\u001b[0m\u001b[0;34m.\u001b[0m\u001b[0myaxis\u001b[0m\u001b[0;34m.\u001b[0m\u001b[0mhave_units\u001b[0m\u001b[0;34m(\u001b[0m\u001b[0;34m)\u001b[0m\u001b[0;34m:\u001b[0m\u001b[0;34m\u001b[0m\u001b[0m\n\u001b[0;32m-> 1910\u001b[0;31m                 \u001b[0mself\u001b[0m\u001b[0;34m.\u001b[0m\u001b[0myaxis\u001b[0m\u001b[0;34m.\u001b[0m\u001b[0mupdate_units\u001b[0m\u001b[0;34m(\u001b[0m\u001b[0mydata\u001b[0m\u001b[0;34m)\u001b[0m\u001b[0;34m\u001b[0m\u001b[0m\n\u001b[0m\u001b[1;32m   1911\u001b[0m \u001b[0;34m\u001b[0m\u001b[0m\n\u001b[1;32m   1912\u001b[0m         \u001b[0;31m# process kwargs 2nd since these will override default units\u001b[0m\u001b[0;34m\u001b[0m\u001b[0;34m\u001b[0m\u001b[0m\n",
      "\u001b[0;32m/Users/watson-parris/anaconda/envs/cis_test/lib/python3.4/site-packages/matplotlib/axis.py\u001b[0m in \u001b[0;36mupdate_units\u001b[0;34m(self, data)\u001b[0m\n\u001b[1;32m   1389\u001b[0m         \u001b[0mneednew\u001b[0m \u001b[0;34m=\u001b[0m \u001b[0mself\u001b[0m\u001b[0;34m.\u001b[0m\u001b[0mconverter\u001b[0m \u001b[0;34m!=\u001b[0m \u001b[0mconverter\u001b[0m\u001b[0;34m\u001b[0m\u001b[0m\n\u001b[1;32m   1390\u001b[0m         \u001b[0mself\u001b[0m\u001b[0;34m.\u001b[0m\u001b[0mconverter\u001b[0m \u001b[0;34m=\u001b[0m \u001b[0mconverter\u001b[0m\u001b[0;34m\u001b[0m\u001b[0m\n\u001b[0;32m-> 1391\u001b[0;31m         \u001b[0mdefault\u001b[0m \u001b[0;34m=\u001b[0m \u001b[0mself\u001b[0m\u001b[0;34m.\u001b[0m\u001b[0mconverter\u001b[0m\u001b[0;34m.\u001b[0m\u001b[0mdefault_units\u001b[0m\u001b[0;34m(\u001b[0m\u001b[0mdata\u001b[0m\u001b[0;34m,\u001b[0m \u001b[0mself\u001b[0m\u001b[0;34m)\u001b[0m\u001b[0;34m\u001b[0m\u001b[0m\n\u001b[0m\u001b[1;32m   1392\u001b[0m         \u001b[0;32mif\u001b[0m \u001b[0mdefault\u001b[0m \u001b[0;32mis\u001b[0m \u001b[0;32mnot\u001b[0m \u001b[0;32mNone\u001b[0m \u001b[0;32mand\u001b[0m \u001b[0mself\u001b[0m\u001b[0;34m.\u001b[0m\u001b[0munits\u001b[0m \u001b[0;32mis\u001b[0m \u001b[0;32mNone\u001b[0m\u001b[0;34m:\u001b[0m\u001b[0;34m\u001b[0m\u001b[0m\n\u001b[1;32m   1393\u001b[0m             \u001b[0mself\u001b[0m\u001b[0;34m.\u001b[0m\u001b[0mset_units\u001b[0m\u001b[0;34m(\u001b[0m\u001b[0mdefault\u001b[0m\u001b[0;34m)\u001b[0m\u001b[0;34m\u001b[0m\u001b[0m\n",
      "\u001b[0;32m/Users/watson-parris/anaconda/envs/cis_test/lib/python3.4/site-packages/nc_time_axis/__init__.py\u001b[0m in \u001b[0;36mdefault_units\u001b[0;34m(cls, sample_point, axis)\u001b[0m\n\u001b[1;32m    235\u001b[0m         \u001b[0;32mif\u001b[0m \u001b[0;32mnot\u001b[0m \u001b[0mhasattr\u001b[0m\u001b[0;34m(\u001b[0m\u001b[0msample_point\u001b[0m\u001b[0;34m,\u001b[0m \u001b[0;34m'calendar'\u001b[0m\u001b[0;34m)\u001b[0m\u001b[0;34m:\u001b[0m\u001b[0;34m\u001b[0m\u001b[0m\n\u001b[1;32m    236\u001b[0m             \u001b[0mmsg\u001b[0m \u001b[0;34m=\u001b[0m \u001b[0;34m'Expecting netcdftimes with an extra \"calendar\" attribute.'\u001b[0m\u001b[0;34m\u001b[0m\u001b[0m\n\u001b[0;32m--> 237\u001b[0;31m             \u001b[0;32mraise\u001b[0m \u001b[0mValueError\u001b[0m\u001b[0;34m(\u001b[0m\u001b[0mmsg\u001b[0m\u001b[0;34m)\u001b[0m\u001b[0;34m\u001b[0m\u001b[0m\n\u001b[0m\u001b[1;32m    238\u001b[0m \u001b[0;34m\u001b[0m\u001b[0m\n\u001b[1;32m    239\u001b[0m         \u001b[0;32mreturn\u001b[0m \u001b[0msample_point\u001b[0m\u001b[0;34m.\u001b[0m\u001b[0mcalendar\u001b[0m\u001b[0;34m,\u001b[0m \u001b[0mcls\u001b[0m\u001b[0;34m.\u001b[0m\u001b[0mstandard_unit\u001b[0m\u001b[0;34m\u001b[0m\u001b[0m\n",
      "\u001b[0;31mValueError\u001b[0m: Expecting netcdftimes with an extra \"calendar\" attribute."
     ]
    }
   ],
   "source": [
    "qplt.contourf(cube[:, 0, :])\n",
    "plt.show()"
   ]
  },
  {
   "cell_type": "markdown",
   "metadata": {},
   "source": [
    "Additionally, we can control the x and y axis coordinates with the **coords** keyword:"
   ]
  },
  {
   "cell_type": "code",
   "execution_count": 66,
   "metadata": {
    "collapsed": false
   },
   "outputs": [
    {
     "name": "stderr",
     "output_type": "stream",
     "text": [
      "/Users/watson-parris/anaconda/envs/cis_test/lib/python3.4/site-packages/iris/coords.py:992: UserWarning: Collapsing a non-contiguous coordinate. Metadata may not be fully descriptive for 'longitude'.\n",
      "  warnings.warn(msg.format(self.name()))\n"
     ]
    }
   ],
   "source": [
    "zonal_variance = cube.collapsed('longitude', iris.analysis.VARIANCE)\n",
    "qplt.contourf(zonal_variance,\n",
    "              coords=['forecast_period', 'latitude'])\n",
    "plt.title('Zonal variance in air temperature')\n",
    "plt.show()"
   ]
  },
  {
   "cell_type": "markdown",
   "metadata": {},
   "source": [
    "### Maps with cartopy\n",
    "\n",
    "When the result of a plot operation is a map, Iris will automatically create an appropriate cartopy axes if one doesn't already exist.\n",
    "\n",
    "We can use matplotlib's gca() to get hold of the automatically created cartopy axes:"
   ]
  },
  {
   "cell_type": "code",
   "execution_count": 67,
   "metadata": {
    "collapsed": false
   },
   "outputs": [
    {
     "data": {
      "application/javascript": [
       "/* Put everything inside the global mpl namespace */\n",
       "window.mpl = {};\n",
       "\n",
       "mpl.get_websocket_type = function() {\n",
       "    if (typeof(WebSocket) !== 'undefined') {\n",
       "        return WebSocket;\n",
       "    } else if (typeof(MozWebSocket) !== 'undefined') {\n",
       "        return MozWebSocket;\n",
       "    } else {\n",
       "        alert('Your browser does not have WebSocket support.' +\n",
       "              'Please try Chrome, Safari or Firefox ≥ 6. ' +\n",
       "              'Firefox 4 and 5 are also supported but you ' +\n",
       "              'have to enable WebSockets in about:config.');\n",
       "    };\n",
       "}\n",
       "\n",
       "mpl.figure = function(figure_id, websocket, ondownload, parent_element) {\n",
       "    this.id = figure_id;\n",
       "\n",
       "    this.ws = websocket;\n",
       "\n",
       "    this.supports_binary = (this.ws.binaryType != undefined);\n",
       "\n",
       "    if (!this.supports_binary) {\n",
       "        var warnings = document.getElementById(\"mpl-warnings\");\n",
       "        if (warnings) {\n",
       "            warnings.style.display = 'block';\n",
       "            warnings.textContent = (\n",
       "                \"This browser does not support binary websocket messages. \" +\n",
       "                    \"Performance may be slow.\");\n",
       "        }\n",
       "    }\n",
       "\n",
       "    this.imageObj = new Image();\n",
       "\n",
       "    this.context = undefined;\n",
       "    this.message = undefined;\n",
       "    this.canvas = undefined;\n",
       "    this.rubberband_canvas = undefined;\n",
       "    this.rubberband_context = undefined;\n",
       "    this.format_dropdown = undefined;\n",
       "\n",
       "    this.image_mode = 'full';\n",
       "\n",
       "    this.root = $('<div/>');\n",
       "    this._root_extra_style(this.root)\n",
       "    this.root.attr('style', 'display: inline-block');\n",
       "\n",
       "    $(parent_element).append(this.root);\n",
       "\n",
       "    this._init_header(this);\n",
       "    this._init_canvas(this);\n",
       "    this._init_toolbar(this);\n",
       "\n",
       "    var fig = this;\n",
       "\n",
       "    this.waiting = false;\n",
       "\n",
       "    this.ws.onopen =  function () {\n",
       "            fig.send_message(\"supports_binary\", {value: fig.supports_binary});\n",
       "            fig.send_message(\"send_image_mode\", {});\n",
       "            fig.send_message(\"refresh\", {});\n",
       "        }\n",
       "\n",
       "    this.imageObj.onload = function() {\n",
       "            if (fig.image_mode == 'full') {\n",
       "                // Full images could contain transparency (where diff images\n",
       "                // almost always do), so we need to clear the canvas so that\n",
       "                // there is no ghosting.\n",
       "                fig.context.clearRect(0, 0, fig.canvas.width, fig.canvas.height);\n",
       "            }\n",
       "            fig.context.drawImage(fig.imageObj, 0, 0);\n",
       "        };\n",
       "\n",
       "    this.imageObj.onunload = function() {\n",
       "        this.ws.close();\n",
       "    }\n",
       "\n",
       "    this.ws.onmessage = this._make_on_message_function(this);\n",
       "\n",
       "    this.ondownload = ondownload;\n",
       "}\n",
       "\n",
       "mpl.figure.prototype._init_header = function() {\n",
       "    var titlebar = $(\n",
       "        '<div class=\"ui-dialog-titlebar ui-widget-header ui-corner-all ' +\n",
       "        'ui-helper-clearfix\"/>');\n",
       "    var titletext = $(\n",
       "        '<div class=\"ui-dialog-title\" style=\"width: 100%; ' +\n",
       "        'text-align: center; padding: 3px;\"/>');\n",
       "    titlebar.append(titletext)\n",
       "    this.root.append(titlebar);\n",
       "    this.header = titletext[0];\n",
       "}\n",
       "\n",
       "\n",
       "\n",
       "mpl.figure.prototype._canvas_extra_style = function(canvas_div) {\n",
       "\n",
       "}\n",
       "\n",
       "\n",
       "mpl.figure.prototype._root_extra_style = function(canvas_div) {\n",
       "\n",
       "}\n",
       "\n",
       "mpl.figure.prototype._init_canvas = function() {\n",
       "    var fig = this;\n",
       "\n",
       "    var canvas_div = $('<div/>');\n",
       "\n",
       "    canvas_div.attr('style', 'position: relative; clear: both; outline: 0');\n",
       "\n",
       "    function canvas_keyboard_event(event) {\n",
       "        return fig.key_event(event, event['data']);\n",
       "    }\n",
       "\n",
       "    canvas_div.keydown('key_press', canvas_keyboard_event);\n",
       "    canvas_div.keyup('key_release', canvas_keyboard_event);\n",
       "    this.canvas_div = canvas_div\n",
       "    this._canvas_extra_style(canvas_div)\n",
       "    this.root.append(canvas_div);\n",
       "\n",
       "    var canvas = $('<canvas/>');\n",
       "    canvas.addClass('mpl-canvas');\n",
       "    canvas.attr('style', \"left: 0; top: 0; z-index: 0; outline: 0\")\n",
       "\n",
       "    this.canvas = canvas[0];\n",
       "    this.context = canvas[0].getContext(\"2d\");\n",
       "\n",
       "    var rubberband = $('<canvas/>');\n",
       "    rubberband.attr('style', \"position: absolute; left: 0; top: 0; z-index: 1;\")\n",
       "\n",
       "    var pass_mouse_events = true;\n",
       "\n",
       "    canvas_div.resizable({\n",
       "        start: function(event, ui) {\n",
       "            pass_mouse_events = false;\n",
       "        },\n",
       "        resize: function(event, ui) {\n",
       "            fig.request_resize(ui.size.width, ui.size.height);\n",
       "        },\n",
       "        stop: function(event, ui) {\n",
       "            pass_mouse_events = true;\n",
       "            fig.request_resize(ui.size.width, ui.size.height);\n",
       "        },\n",
       "    });\n",
       "\n",
       "    function mouse_event_fn(event) {\n",
       "        if (pass_mouse_events)\n",
       "            return fig.mouse_event(event, event['data']);\n",
       "    }\n",
       "\n",
       "    rubberband.mousedown('button_press', mouse_event_fn);\n",
       "    rubberband.mouseup('button_release', mouse_event_fn);\n",
       "    // Throttle sequential mouse events to 1 every 20ms.\n",
       "    rubberband.mousemove('motion_notify', mouse_event_fn);\n",
       "\n",
       "    rubberband.mouseenter('figure_enter', mouse_event_fn);\n",
       "    rubberband.mouseleave('figure_leave', mouse_event_fn);\n",
       "\n",
       "    canvas_div.on(\"wheel\", function (event) {\n",
       "        event = event.originalEvent;\n",
       "        event['data'] = 'scroll'\n",
       "        if (event.deltaY < 0) {\n",
       "            event.step = 1;\n",
       "        } else {\n",
       "            event.step = -1;\n",
       "        }\n",
       "        mouse_event_fn(event);\n",
       "    });\n",
       "\n",
       "    canvas_div.append(canvas);\n",
       "    canvas_div.append(rubberband);\n",
       "\n",
       "    this.rubberband = rubberband;\n",
       "    this.rubberband_canvas = rubberband[0];\n",
       "    this.rubberband_context = rubberband[0].getContext(\"2d\");\n",
       "    this.rubberband_context.strokeStyle = \"#000000\";\n",
       "\n",
       "    this._resize_canvas = function(width, height) {\n",
       "        // Keep the size of the canvas, canvas container, and rubber band\n",
       "        // canvas in synch.\n",
       "        canvas_div.css('width', width)\n",
       "        canvas_div.css('height', height)\n",
       "\n",
       "        canvas.attr('width', width);\n",
       "        canvas.attr('height', height);\n",
       "\n",
       "        rubberband.attr('width', width);\n",
       "        rubberband.attr('height', height);\n",
       "    }\n",
       "\n",
       "    // Set the figure to an initial 600x600px, this will subsequently be updated\n",
       "    // upon first draw.\n",
       "    this._resize_canvas(600, 600);\n",
       "\n",
       "    // Disable right mouse context menu.\n",
       "    $(this.rubberband_canvas).bind(\"contextmenu\",function(e){\n",
       "        return false;\n",
       "    });\n",
       "\n",
       "    function set_focus () {\n",
       "        canvas.focus();\n",
       "        canvas_div.focus();\n",
       "    }\n",
       "\n",
       "    window.setTimeout(set_focus, 100);\n",
       "}\n",
       "\n",
       "mpl.figure.prototype._init_toolbar = function() {\n",
       "    var fig = this;\n",
       "\n",
       "    var nav_element = $('<div/>')\n",
       "    nav_element.attr('style', 'width: 100%');\n",
       "    this.root.append(nav_element);\n",
       "\n",
       "    // Define a callback function for later on.\n",
       "    function toolbar_event(event) {\n",
       "        return fig.toolbar_button_onclick(event['data']);\n",
       "    }\n",
       "    function toolbar_mouse_event(event) {\n",
       "        return fig.toolbar_button_onmouseover(event['data']);\n",
       "    }\n",
       "\n",
       "    for(var toolbar_ind in mpl.toolbar_items) {\n",
       "        var name = mpl.toolbar_items[toolbar_ind][0];\n",
       "        var tooltip = mpl.toolbar_items[toolbar_ind][1];\n",
       "        var image = mpl.toolbar_items[toolbar_ind][2];\n",
       "        var method_name = mpl.toolbar_items[toolbar_ind][3];\n",
       "\n",
       "        if (!name) {\n",
       "            // put a spacer in here.\n",
       "            continue;\n",
       "        }\n",
       "        var button = $('<button/>');\n",
       "        button.addClass('ui-button ui-widget ui-state-default ui-corner-all ' +\n",
       "                        'ui-button-icon-only');\n",
       "        button.attr('role', 'button');\n",
       "        button.attr('aria-disabled', 'false');\n",
       "        button.click(method_name, toolbar_event);\n",
       "        button.mouseover(tooltip, toolbar_mouse_event);\n",
       "\n",
       "        var icon_img = $('<span/>');\n",
       "        icon_img.addClass('ui-button-icon-primary ui-icon');\n",
       "        icon_img.addClass(image);\n",
       "        icon_img.addClass('ui-corner-all');\n",
       "\n",
       "        var tooltip_span = $('<span/>');\n",
       "        tooltip_span.addClass('ui-button-text');\n",
       "        tooltip_span.html(tooltip);\n",
       "\n",
       "        button.append(icon_img);\n",
       "        button.append(tooltip_span);\n",
       "\n",
       "        nav_element.append(button);\n",
       "    }\n",
       "\n",
       "    var fmt_picker_span = $('<span/>');\n",
       "\n",
       "    var fmt_picker = $('<select/>');\n",
       "    fmt_picker.addClass('mpl-toolbar-option ui-widget ui-widget-content');\n",
       "    fmt_picker_span.append(fmt_picker);\n",
       "    nav_element.append(fmt_picker_span);\n",
       "    this.format_dropdown = fmt_picker[0];\n",
       "\n",
       "    for (var ind in mpl.extensions) {\n",
       "        var fmt = mpl.extensions[ind];\n",
       "        var option = $(\n",
       "            '<option/>', {selected: fmt === mpl.default_extension}).html(fmt);\n",
       "        fmt_picker.append(option)\n",
       "    }\n",
       "\n",
       "    // Add hover states to the ui-buttons\n",
       "    $( \".ui-button\" ).hover(\n",
       "        function() { $(this).addClass(\"ui-state-hover\");},\n",
       "        function() { $(this).removeClass(\"ui-state-hover\");}\n",
       "    );\n",
       "\n",
       "    var status_bar = $('<span class=\"mpl-message\"/>');\n",
       "    nav_element.append(status_bar);\n",
       "    this.message = status_bar[0];\n",
       "}\n",
       "\n",
       "mpl.figure.prototype.request_resize = function(x_pixels, y_pixels) {\n",
       "    // Request matplotlib to resize the figure. Matplotlib will then trigger a resize in the client,\n",
       "    // which will in turn request a refresh of the image.\n",
       "    this.send_message('resize', {'width': x_pixels, 'height': y_pixels});\n",
       "}\n",
       "\n",
       "mpl.figure.prototype.send_message = function(type, properties) {\n",
       "    properties['type'] = type;\n",
       "    properties['figure_id'] = this.id;\n",
       "    this.ws.send(JSON.stringify(properties));\n",
       "}\n",
       "\n",
       "mpl.figure.prototype.send_draw_message = function() {\n",
       "    if (!this.waiting) {\n",
       "        this.waiting = true;\n",
       "        this.ws.send(JSON.stringify({type: \"draw\", figure_id: this.id}));\n",
       "    }\n",
       "}\n",
       "\n",
       "\n",
       "mpl.figure.prototype.handle_save = function(fig, msg) {\n",
       "    var format_dropdown = fig.format_dropdown;\n",
       "    var format = format_dropdown.options[format_dropdown.selectedIndex].value;\n",
       "    fig.ondownload(fig, format);\n",
       "}\n",
       "\n",
       "\n",
       "mpl.figure.prototype.handle_resize = function(fig, msg) {\n",
       "    var size = msg['size'];\n",
       "    if (size[0] != fig.canvas.width || size[1] != fig.canvas.height) {\n",
       "        fig._resize_canvas(size[0], size[1]);\n",
       "        fig.send_message(\"refresh\", {});\n",
       "    };\n",
       "}\n",
       "\n",
       "mpl.figure.prototype.handle_rubberband = function(fig, msg) {\n",
       "    var x0 = msg['x0'];\n",
       "    var y0 = fig.canvas.height - msg['y0'];\n",
       "    var x1 = msg['x1'];\n",
       "    var y1 = fig.canvas.height - msg['y1'];\n",
       "    x0 = Math.floor(x0) + 0.5;\n",
       "    y0 = Math.floor(y0) + 0.5;\n",
       "    x1 = Math.floor(x1) + 0.5;\n",
       "    y1 = Math.floor(y1) + 0.5;\n",
       "    var min_x = Math.min(x0, x1);\n",
       "    var min_y = Math.min(y0, y1);\n",
       "    var width = Math.abs(x1 - x0);\n",
       "    var height = Math.abs(y1 - y0);\n",
       "\n",
       "    fig.rubberband_context.clearRect(\n",
       "        0, 0, fig.canvas.width, fig.canvas.height);\n",
       "\n",
       "    fig.rubberband_context.strokeRect(min_x, min_y, width, height);\n",
       "}\n",
       "\n",
       "mpl.figure.prototype.handle_figure_label = function(fig, msg) {\n",
       "    // Updates the figure title.\n",
       "    fig.header.textContent = msg['label'];\n",
       "}\n",
       "\n",
       "mpl.figure.prototype.handle_cursor = function(fig, msg) {\n",
       "    var cursor = msg['cursor'];\n",
       "    switch(cursor)\n",
       "    {\n",
       "    case 0:\n",
       "        cursor = 'pointer';\n",
       "        break;\n",
       "    case 1:\n",
       "        cursor = 'default';\n",
       "        break;\n",
       "    case 2:\n",
       "        cursor = 'crosshair';\n",
       "        break;\n",
       "    case 3:\n",
       "        cursor = 'move';\n",
       "        break;\n",
       "    }\n",
       "    fig.rubberband_canvas.style.cursor = cursor;\n",
       "}\n",
       "\n",
       "mpl.figure.prototype.handle_message = function(fig, msg) {\n",
       "    fig.message.textContent = msg['message'];\n",
       "}\n",
       "\n",
       "mpl.figure.prototype.handle_draw = function(fig, msg) {\n",
       "    // Request the server to send over a new figure.\n",
       "    fig.send_draw_message();\n",
       "}\n",
       "\n",
       "mpl.figure.prototype.handle_image_mode = function(fig, msg) {\n",
       "    fig.image_mode = msg['mode'];\n",
       "}\n",
       "\n",
       "mpl.figure.prototype.updated_canvas_event = function() {\n",
       "    // Called whenever the canvas gets updated.\n",
       "    this.send_message(\"ack\", {});\n",
       "}\n",
       "\n",
       "// A function to construct a web socket function for onmessage handling.\n",
       "// Called in the figure constructor.\n",
       "mpl.figure.prototype._make_on_message_function = function(fig) {\n",
       "    return function socket_on_message(evt) {\n",
       "        if (evt.data instanceof Blob) {\n",
       "            /* FIXME: We get \"Resource interpreted as Image but\n",
       "             * transferred with MIME type text/plain:\" errors on\n",
       "             * Chrome.  But how to set the MIME type?  It doesn't seem\n",
       "             * to be part of the websocket stream */\n",
       "            evt.data.type = \"image/png\";\n",
       "\n",
       "            /* Free the memory for the previous frames */\n",
       "            if (fig.imageObj.src) {\n",
       "                (window.URL || window.webkitURL).revokeObjectURL(\n",
       "                    fig.imageObj.src);\n",
       "            }\n",
       "\n",
       "            fig.imageObj.src = (window.URL || window.webkitURL).createObjectURL(\n",
       "                evt.data);\n",
       "            fig.updated_canvas_event();\n",
       "            fig.waiting = false;\n",
       "            return;\n",
       "        }\n",
       "        else if (typeof evt.data === 'string' && evt.data.slice(0, 21) == \"data:image/png;base64\") {\n",
       "            fig.imageObj.src = evt.data;\n",
       "            fig.updated_canvas_event();\n",
       "            fig.waiting = false;\n",
       "            return;\n",
       "        }\n",
       "\n",
       "        var msg = JSON.parse(evt.data);\n",
       "        var msg_type = msg['type'];\n",
       "\n",
       "        // Call the  \"handle_{type}\" callback, which takes\n",
       "        // the figure and JSON message as its only arguments.\n",
       "        try {\n",
       "            var callback = fig[\"handle_\" + msg_type];\n",
       "        } catch (e) {\n",
       "            console.log(\"No handler for the '\" + msg_type + \"' message type: \", msg);\n",
       "            return;\n",
       "        }\n",
       "\n",
       "        if (callback) {\n",
       "            try {\n",
       "                // console.log(\"Handling '\" + msg_type + \"' message: \", msg);\n",
       "                callback(fig, msg);\n",
       "            } catch (e) {\n",
       "                console.log(\"Exception inside the 'handler_\" + msg_type + \"' callback:\", e, e.stack, msg);\n",
       "            }\n",
       "        }\n",
       "    };\n",
       "}\n",
       "\n",
       "// from http://stackoverflow.com/questions/1114465/getting-mouse-location-in-canvas\n",
       "mpl.findpos = function(e) {\n",
       "    //this section is from http://www.quirksmode.org/js/events_properties.html\n",
       "    var targ;\n",
       "    if (!e)\n",
       "        e = window.event;\n",
       "    if (e.target)\n",
       "        targ = e.target;\n",
       "    else if (e.srcElement)\n",
       "        targ = e.srcElement;\n",
       "    if (targ.nodeType == 3) // defeat Safari bug\n",
       "        targ = targ.parentNode;\n",
       "\n",
       "    // jQuery normalizes the pageX and pageY\n",
       "    // pageX,Y are the mouse positions relative to the document\n",
       "    // offset() returns the position of the element relative to the document\n",
       "    var x = e.pageX - $(targ).offset().left;\n",
       "    var y = e.pageY - $(targ).offset().top;\n",
       "\n",
       "    return {\"x\": x, \"y\": y};\n",
       "};\n",
       "\n",
       "/*\n",
       " * return a copy of an object with only non-object keys\n",
       " * we need this to avoid circular references\n",
       " * http://stackoverflow.com/a/24161582/3208463\n",
       " */\n",
       "function simpleKeys (original) {\n",
       "  return Object.keys(original).reduce(function (obj, key) {\n",
       "    if (typeof original[key] !== 'object')\n",
       "        obj[key] = original[key]\n",
       "    return obj;\n",
       "  }, {});\n",
       "}\n",
       "\n",
       "mpl.figure.prototype.mouse_event = function(event, name) {\n",
       "    var canvas_pos = mpl.findpos(event)\n",
       "\n",
       "    if (name === 'button_press')\n",
       "    {\n",
       "        this.canvas.focus();\n",
       "        this.canvas_div.focus();\n",
       "    }\n",
       "\n",
       "    var x = canvas_pos.x;\n",
       "    var y = canvas_pos.y;\n",
       "\n",
       "    this.send_message(name, {x: x, y: y, button: event.button,\n",
       "                             step: event.step,\n",
       "                             guiEvent: simpleKeys(event)});\n",
       "\n",
       "    /* This prevents the web browser from automatically changing to\n",
       "     * the text insertion cursor when the button is pressed.  We want\n",
       "     * to control all of the cursor setting manually through the\n",
       "     * 'cursor' event from matplotlib */\n",
       "    event.preventDefault();\n",
       "    return false;\n",
       "}\n",
       "\n",
       "mpl.figure.prototype._key_event_extra = function(event, name) {\n",
       "    // Handle any extra behaviour associated with a key event\n",
       "}\n",
       "\n",
       "mpl.figure.prototype.key_event = function(event, name) {\n",
       "\n",
       "    // Prevent repeat events\n",
       "    if (name == 'key_press')\n",
       "    {\n",
       "        if (event.which === this._key)\n",
       "            return;\n",
       "        else\n",
       "            this._key = event.which;\n",
       "    }\n",
       "    if (name == 'key_release')\n",
       "        this._key = null;\n",
       "\n",
       "    var value = '';\n",
       "    if (event.ctrlKey && event.which != 17)\n",
       "        value += \"ctrl+\";\n",
       "    if (event.altKey && event.which != 18)\n",
       "        value += \"alt+\";\n",
       "    if (event.shiftKey && event.which != 16)\n",
       "        value += \"shift+\";\n",
       "\n",
       "    value += 'k';\n",
       "    value += event.which.toString();\n",
       "\n",
       "    this._key_event_extra(event, name);\n",
       "\n",
       "    this.send_message(name, {key: value,\n",
       "                             guiEvent: simpleKeys(event)});\n",
       "    return false;\n",
       "}\n",
       "\n",
       "mpl.figure.prototype.toolbar_button_onclick = function(name) {\n",
       "    if (name == 'download') {\n",
       "        this.handle_save(this, null);\n",
       "    } else {\n",
       "        this.send_message(\"toolbar_button\", {name: name});\n",
       "    }\n",
       "};\n",
       "\n",
       "mpl.figure.prototype.toolbar_button_onmouseover = function(tooltip) {\n",
       "    this.message.textContent = tooltip;\n",
       "};\n",
       "mpl.toolbar_items = [[\"Home\", \"Reset original view\", \"fa fa-home icon-home\", \"home\"], [\"Back\", \"Back to  previous view\", \"fa fa-arrow-left icon-arrow-left\", \"back\"], [\"Forward\", \"Forward to next view\", \"fa fa-arrow-right icon-arrow-right\", \"forward\"], [\"\", \"\", \"\", \"\"], [\"Pan\", \"Pan axes with left mouse, zoom with right\", \"fa fa-arrows icon-move\", \"pan\"], [\"Zoom\", \"Zoom to rectangle\", \"fa fa-square-o icon-check-empty\", \"zoom\"], [\"\", \"\", \"\", \"\"], [\"Download\", \"Download plot\", \"fa fa-floppy-o icon-save\", \"download\"]];\n",
       "\n",
       "mpl.extensions = [\"eps\", \"jpeg\", \"pdf\", \"png\", \"ps\", \"raw\", \"svg\", \"tif\"];\n",
       "\n",
       "mpl.default_extension = \"png\";var comm_websocket_adapter = function(comm) {\n",
       "    // Create a \"websocket\"-like object which calls the given IPython comm\n",
       "    // object with the appropriate methods. Currently this is a non binary\n",
       "    // socket, so there is still some room for performance tuning.\n",
       "    var ws = {};\n",
       "\n",
       "    ws.close = function() {\n",
       "        comm.close()\n",
       "    };\n",
       "    ws.send = function(m) {\n",
       "        //console.log('sending', m);\n",
       "        comm.send(m);\n",
       "    };\n",
       "    // Register the callback with on_msg.\n",
       "    comm.on_msg(function(msg) {\n",
       "        //console.log('receiving', msg['content']['data'], msg);\n",
       "        // Pass the mpl event to the overriden (by mpl) onmessage function.\n",
       "        ws.onmessage(msg['content']['data'])\n",
       "    });\n",
       "    return ws;\n",
       "}\n",
       "\n",
       "mpl.mpl_figure_comm = function(comm, msg) {\n",
       "    // This is the function which gets called when the mpl process\n",
       "    // starts-up an IPython Comm through the \"matplotlib\" channel.\n",
       "\n",
       "    var id = msg.content.data.id;\n",
       "    // Get hold of the div created by the display call when the Comm\n",
       "    // socket was opened in Python.\n",
       "    var element = $(\"#\" + id);\n",
       "    var ws_proxy = comm_websocket_adapter(comm)\n",
       "\n",
       "    function ondownload(figure, format) {\n",
       "        window.open(figure.imageObj.src);\n",
       "    }\n",
       "\n",
       "    var fig = new mpl.figure(id, ws_proxy,\n",
       "                           ondownload,\n",
       "                           element.get(0));\n",
       "\n",
       "    // Call onopen now - mpl needs it, as it is assuming we've passed it a real\n",
       "    // web socket which is closed, not our websocket->open comm proxy.\n",
       "    ws_proxy.onopen();\n",
       "\n",
       "    fig.parent_element = element.get(0);\n",
       "    fig.cell_info = mpl.find_output_cell(\"<div id='\" + id + \"'></div>\");\n",
       "    if (!fig.cell_info) {\n",
       "        console.error(\"Failed to find cell for figure\", id, fig);\n",
       "        return;\n",
       "    }\n",
       "\n",
       "    var output_index = fig.cell_info[2]\n",
       "    var cell = fig.cell_info[0];\n",
       "\n",
       "};\n",
       "\n",
       "mpl.figure.prototype.handle_close = function(fig, msg) {\n",
       "    fig.root.unbind('remove')\n",
       "\n",
       "    // Update the output cell to use the data from the current canvas.\n",
       "    fig.push_to_output();\n",
       "    var dataURL = fig.canvas.toDataURL();\n",
       "    // Re-enable the keyboard manager in IPython - without this line, in FF,\n",
       "    // the notebook keyboard shortcuts fail.\n",
       "    IPython.keyboard_manager.enable()\n",
       "    $(fig.parent_element).html('<img src=\"' + dataURL + '\">');\n",
       "    fig.close_ws(fig, msg);\n",
       "}\n",
       "\n",
       "mpl.figure.prototype.close_ws = function(fig, msg){\n",
       "    fig.send_message('closing', msg);\n",
       "    // fig.ws.close()\n",
       "}\n",
       "\n",
       "mpl.figure.prototype.push_to_output = function(remove_interactive) {\n",
       "    // Turn the data on the canvas into data in the output cell.\n",
       "    var dataURL = this.canvas.toDataURL();\n",
       "    this.cell_info[1]['text/html'] = '<img src=\"' + dataURL + '\">';\n",
       "}\n",
       "\n",
       "mpl.figure.prototype.updated_canvas_event = function() {\n",
       "    // Tell IPython that the notebook contents must change.\n",
       "    IPython.notebook.set_dirty(true);\n",
       "    this.send_message(\"ack\", {});\n",
       "    var fig = this;\n",
       "    // Wait a second, then push the new image to the DOM so\n",
       "    // that it is saved nicely (might be nice to debounce this).\n",
       "    setTimeout(function () { fig.push_to_output() }, 1000);\n",
       "}\n",
       "\n",
       "mpl.figure.prototype._init_toolbar = function() {\n",
       "    var fig = this;\n",
       "\n",
       "    var nav_element = $('<div/>')\n",
       "    nav_element.attr('style', 'width: 100%');\n",
       "    this.root.append(nav_element);\n",
       "\n",
       "    // Define a callback function for later on.\n",
       "    function toolbar_event(event) {\n",
       "        return fig.toolbar_button_onclick(event['data']);\n",
       "    }\n",
       "    function toolbar_mouse_event(event) {\n",
       "        return fig.toolbar_button_onmouseover(event['data']);\n",
       "    }\n",
       "\n",
       "    for(var toolbar_ind in mpl.toolbar_items){\n",
       "        var name = mpl.toolbar_items[toolbar_ind][0];\n",
       "        var tooltip = mpl.toolbar_items[toolbar_ind][1];\n",
       "        var image = mpl.toolbar_items[toolbar_ind][2];\n",
       "        var method_name = mpl.toolbar_items[toolbar_ind][3];\n",
       "\n",
       "        if (!name) { continue; };\n",
       "\n",
       "        var button = $('<button class=\"btn btn-default\" href=\"#\" title=\"' + name + '\"><i class=\"fa ' + image + ' fa-lg\"></i></button>');\n",
       "        button.click(method_name, toolbar_event);\n",
       "        button.mouseover(tooltip, toolbar_mouse_event);\n",
       "        nav_element.append(button);\n",
       "    }\n",
       "\n",
       "    // Add the status bar.\n",
       "    var status_bar = $('<span class=\"mpl-message\" style=\"text-align:right; float: right;\"/>');\n",
       "    nav_element.append(status_bar);\n",
       "    this.message = status_bar[0];\n",
       "\n",
       "    // Add the close button to the window.\n",
       "    var buttongrp = $('<div class=\"btn-group inline pull-right\"></div>');\n",
       "    var button = $('<button class=\"btn btn-mini btn-primary\" href=\"#\" title=\"Stop Interaction\"><i class=\"fa fa-power-off icon-remove icon-large\"></i></button>');\n",
       "    button.click(function (evt) { fig.handle_close(fig, {}); } );\n",
       "    button.mouseover('Stop Interaction', toolbar_mouse_event);\n",
       "    buttongrp.append(button);\n",
       "    var titlebar = this.root.find($('.ui-dialog-titlebar'));\n",
       "    titlebar.prepend(buttongrp);\n",
       "}\n",
       "\n",
       "mpl.figure.prototype._root_extra_style = function(el){\n",
       "    var fig = this\n",
       "    el.on(\"remove\", function(){\n",
       "\tfig.close_ws(fig, {});\n",
       "    });\n",
       "}\n",
       "\n",
       "mpl.figure.prototype._canvas_extra_style = function(el){\n",
       "    // this is important to make the div 'focusable\n",
       "    el.attr('tabindex', 0)\n",
       "    // reach out to IPython and tell the keyboard manager to turn it's self\n",
       "    // off when our div gets focus\n",
       "\n",
       "    // location in version 3\n",
       "    if (IPython.notebook.keyboard_manager) {\n",
       "        IPython.notebook.keyboard_manager.register_events(el);\n",
       "    }\n",
       "    else {\n",
       "        // location in version 2\n",
       "        IPython.keyboard_manager.register_events(el);\n",
       "    }\n",
       "\n",
       "}\n",
       "\n",
       "mpl.figure.prototype._key_event_extra = function(event, name) {\n",
       "    var manager = IPython.notebook.keyboard_manager;\n",
       "    if (!manager)\n",
       "        manager = IPython.keyboard_manager;\n",
       "\n",
       "    // Check for shift+enter\n",
       "    if (event.shiftKey && event.which == 13) {\n",
       "        this.canvas_div.blur();\n",
       "        // select the cell after this one\n",
       "        var index = IPython.notebook.find_cell_index(this.cell_info[0]);\n",
       "        IPython.notebook.select(index + 1);\n",
       "    }\n",
       "}\n",
       "\n",
       "mpl.figure.prototype.handle_save = function(fig, msg) {\n",
       "    fig.ondownload(fig, null);\n",
       "}\n",
       "\n",
       "\n",
       "mpl.find_output_cell = function(html_output) {\n",
       "    // Return the cell and output element which can be found *uniquely* in the notebook.\n",
       "    // Note - this is a bit hacky, but it is done because the \"notebook_saving.Notebook\"\n",
       "    // IPython event is triggered only after the cells have been serialised, which for\n",
       "    // our purposes (turning an active figure into a static one), is too late.\n",
       "    var cells = IPython.notebook.get_cells();\n",
       "    var ncells = cells.length;\n",
       "    for (var i=0; i<ncells; i++) {\n",
       "        var cell = cells[i];\n",
       "        if (cell.cell_type === 'code'){\n",
       "            for (var j=0; j<cell.output_area.outputs.length; j++) {\n",
       "                var data = cell.output_area.outputs[j];\n",
       "                if (data.data) {\n",
       "                    // IPython >= 3 moved mimebundle to data attribute of output\n",
       "                    data = data.data;\n",
       "                }\n",
       "                if (data['text/html'] == html_output) {\n",
       "                    return [cell, data, j];\n",
       "                }\n",
       "            }\n",
       "        }\n",
       "    }\n",
       "}\n",
       "\n",
       "// Register the function which deals with the matplotlib target/channel.\n",
       "// The kernel may be null if the page has been refreshed.\n",
       "if (IPython.notebook.kernel != null) {\n",
       "    IPython.notebook.kernel.comm_manager.register_target('matplotlib', mpl.mpl_figure_comm);\n",
       "}\n"
      ],
      "text/plain": [
       "<IPython.core.display.Javascript object>"
      ]
     },
     "metadata": {},
     "output_type": "display_data"
    },
    {
     "data": {
      "text/html": [
       "<img src=\"data:image/png;base64,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\">"
      ],
      "text/plain": [
       "<IPython.core.display.HTML object>"
      ]
     },
     "metadata": {},
     "output_type": "display_data"
    }
   ],
   "source": [
    "import cartopy.crs as ccrs\n",
    "\n",
    "plt.figure(figsize=(12, 8))\n",
    "\n",
    "plt.subplot(1, 2, 1)\n",
    "qplt.contourf(cube[0, ...], 25)\n",
    "ax = plt.gca()\n",
    "ax.coastlines()\n",
    "\n",
    "ax = plt.subplot(1, 2, 2, projection=ccrs.RotatedPole(100, 37))\n",
    "qplt.contourf(cube[0, ...], 25)\n",
    "ax.coastlines()\n",
    "\n",
    "plt.show()"
   ]
  },
  {
   "cell_type": "markdown",
   "metadata": {},
   "source": [
    "### Exercise 6\n",
    "\n",
    "Use the above cube with appropriate slicing, to produce the following:\n",
    "\n",
    "1\\. a **contour** plot of *time* vs *longitude*"
   ]
  },
  {
   "cell_type": "code",
   "execution_count": null,
   "metadata": {
    "collapsed": false
   },
   "outputs": [],
   "source": []
  },
  {
   "cell_type": "markdown",
   "metadata": {},
   "source": [
    "2\\. a **contourf** map on a LambertConformal projection (with coastlines)"
   ]
  },
  {
   "cell_type": "code",
   "execution_count": null,
   "metadata": {
    "collapsed": false
   },
   "outputs": [],
   "source": []
  },
  {
   "cell_type": "markdown",
   "metadata": {},
   "source": [
    "3\\. a block plot (**pcolormesh**) map in its native projection  (with coastlines)"
   ]
  },
  {
   "cell_type": "code",
   "execution_count": null,
   "metadata": {
    "collapsed": false
   },
   "outputs": [],
   "source": []
  },
  {
   "cell_type": "markdown",
   "metadata": {},
   "source": [
    "4\\. a line **plot** showing *air_temperature* vs *forecast_period* (hint: plot accepts two arguments for the x and y axes)"
   ]
  },
  {
   "cell_type": "code",
   "execution_count": null,
   "metadata": {
    "collapsed": false
   },
   "outputs": [],
   "source": []
  },
  {
   "cell_type": "markdown",
   "metadata": {},
   "source": [
    "5\\. a **scatter** plot showing *air_temperature* vs *longitude* (hint: the inputs to scatter can be a combination of coordinates or 1D cubes)"
   ]
  },
  {
   "cell_type": "code",
   "execution_count": null,
   "metadata": {
    "collapsed": false
   },
   "outputs": [],
   "source": []
  },
  {
   "cell_type": "markdown",
   "metadata": {},
   "source": [
    "## Cube maths\n",
    "\n",
    "Basic mathematical operators exist on the cube to allow one to add, subtract, divide, multiply and perform other mathematical operations on cubes of a similar shape to one another:"
   ]
  },
  {
   "cell_type": "code",
   "execution_count": 68,
   "metadata": {
    "collapsed": false
   },
   "outputs": [
    {
     "name": "stdout",
     "output_type": "stream",
     "text": [
      "air_temperature / (K)               (time: 240; latitude: 37; longitude: 49)\n",
      "air_temperature / (K)               (time: 240; latitude: 37; longitude: 49)\n",
      "     Dimension coordinates:\n",
      "          time                           x              -              -\n",
      "          latitude                       -              x              -\n",
      "          longitude                      -              -              x\n",
      "     Auxiliary coordinates:\n",
      "          forecast_period                x              -              -\n",
      "     Scalar coordinates:\n",
      "          forecast_reference_time: 1859-09-01 06:00:00\n",
      "          height: 1.5 m\n",
      "     Attributes:\n",
      "          Conventions: CF-1.5\n",
      "          Model scenario: A1B\n",
      "          STASH: m01s03i236\n",
      "          source: Data from Met Office Unified Model 6.05\n",
      "     Cell methods:\n",
      "          mean: time (6 hour)\n"
     ]
    },
    {
     "name": "stderr",
     "output_type": "stream",
     "text": [
      "/Users/watson-parris/anaconda/envs/cis_test/lib/python3.4/site-packages/iris/fileformats/cf.py:1140: IrisDeprecation: NetCDF default loading behaviour currently does not expose variables which define reference surfaces for dimensionless vertical coordinates as independent Cubes. This behaviour is deprecated in favour of automatic promotion to Cubes. To switch to the new behaviour, set iris.FUTURE.netcdf_promote to True.\n",
      "  warn_deprecated(msg)\n",
      "/Users/watson-parris/anaconda/envs/cis_test/lib/python3.4/site-packages/iris/fileformats/cf.py:1140: IrisDeprecation: NetCDF default loading behaviour currently does not expose variables which define reference surfaces for dimensionless vertical coordinates as independent Cubes. This behaviour is deprecated in favour of automatic promotion to Cubes. To switch to the new behaviour, set iris.FUTURE.netcdf_promote to True.\n",
      "  warn_deprecated(msg)\n"
     ]
    }
   ],
   "source": [
    "a1b = iris.load_cube(iris.sample_data_path('A1B_north_america.nc'))\n",
    "e1 = iris.load_cube(iris.sample_data_path('E1_north_america.nc'))\n",
    "\n",
    "print(e1.summary(True))\n",
    "print(a1b)"
   ]
  },
  {
   "cell_type": "code",
   "execution_count": 69,
   "metadata": {
    "collapsed": false
   },
   "outputs": [
    {
     "name": "stdout",
     "output_type": "stream",
     "text": [
      "unknown / (K)                       (time: 240; latitude: 37; longitude: 49)\n",
      "     Dimension coordinates:\n",
      "          time                           x              -              -\n",
      "          latitude                       -              x              -\n",
      "          longitude                      -              -              x\n",
      "     Auxiliary coordinates:\n",
      "          forecast_period                x              -              -\n",
      "     Scalar coordinates:\n",
      "          forecast_reference_time: 1859-09-01 06:00:00\n",
      "          height: 1.5 m\n"
     ]
    }
   ],
   "source": [
    "scenario_difference = a1b - e1\n",
    "print(scenario_difference)"
   ]
  },
  {
   "cell_type": "markdown",
   "metadata": {},
   "source": [
    "Notice that the resultant cube's name is now unknown and that the coordinates “time” and “forecast_period” have been removed; this is because these coordinates differed between the two input cubes."
   ]
  },
  {
   "cell_type": "markdown",
   "metadata": {},
   "source": [
    "It is also possible to operate on cubes with numeric scalars, NumPy arrays and even cube coordinates:"
   ]
  },
  {
   "cell_type": "code",
   "execution_count": 70,
   "metadata": {
    "collapsed": false
   },
   "outputs": [
    {
     "data": {
      "text/plain": [
       "<iris 'Cube' of unknown / (0.0174532925199433 kelvin-radian) (time: 240; latitude: 37; longitude: 49)>"
      ]
     },
     "execution_count": 70,
     "metadata": {},
     "output_type": "execute_result"
    }
   ],
   "source": [
    "e1 * e1.coord('latitude')"
   ]
  },
  {
   "cell_type": "markdown",
   "metadata": {},
   "source": [
    "Cube broadcasting is also taking place, meaning that the two cubes don't need to have the same shape:"
   ]
  },
  {
   "cell_type": "code",
   "execution_count": 71,
   "metadata": {
    "collapsed": false
   },
   "outputs": [
    {
     "name": "stdout",
     "output_type": "stream",
     "text": [
      "unknown / (K)                       (time: 240; latitude: 37; longitude: 49)\n",
      "     Dimension coordinates:\n",
      "          time                           x              -              -\n",
      "          latitude                       -              x              -\n",
      "          longitude                      -              -              x\n",
      "     Auxiliary coordinates:\n",
      "          forecast_period                x              -              -\n",
      "     Scalar coordinates:\n",
      "          forecast_reference_time: 1859-09-01 06:00:00\n",
      "          height: 1.5 m\n"
     ]
    },
    {
     "name": "stderr",
     "output_type": "stream",
     "text": [
      "/Users/watson-parris/anaconda/envs/cis_test/lib/python3.4/site-packages/iris/coords.py:992: UserWarning: Collapsing a non-contiguous coordinate. Metadata may not be fully descriptive for 'forecast_period'.\n",
      "  warnings.warn(msg.format(self.name()))\n"
     ]
    }
   ],
   "source": [
    "print(e1 - e1.collapsed('time', iris.analysis.MEAN))"
   ]
  },
  {
   "cell_type": "markdown",
   "metadata": {},
   "source": [
    "Sometimes aggregations don't exist in Iris, so it is important that we still have the power to update the cube's data directly. Whenever we do this though, we should be mindful of updating the necessary metadata on the cube:"
   ]
  },
  {
   "cell_type": "code",
   "execution_count": 72,
   "metadata": {
    "collapsed": false
   },
   "outputs": [],
   "source": [
    "e1_hot = e1.copy()\n",
    "\n",
    "e1_hot.data = np.ma.masked_less_equal(e1_hot.data, 280)\n",
    "e1_hot.rename('air temperatures greater than 280K')"
   ]
  },
  {
   "cell_type": "markdown",
   "metadata": {},
   "source": [
    "## Creating extra annotation coordinates for statistical convenience\n",
    "\n",
    "Sometimes we want to be able to categorise data before performing statistical operations on it. For example, we might want to categorise our data by \"daylight maximum\" or \"seasonal mean\" etc. Both of these categorisations would be based on the time coordinate.\n",
    "\n",
    "The ``iris.coord_categorisation`` module provides convenience functions to add some common categorical coordinates, and provides a generalised function to allow each creation of custom categorisations. "
   ]
  },
  {
   "cell_type": "code",
   "execution_count": 73,
   "metadata": {
    "collapsed": false
   },
   "outputs": [
    {
     "name": "stderr",
     "output_type": "stream",
     "text": [
      "/Users/watson-parris/anaconda/envs/cis_test/lib/python3.4/site-packages/iris/fileformats/cf.py:1140: IrisDeprecation: NetCDF default loading behaviour currently does not expose variables which define reference surfaces for dimensionless vertical coordinates as independent Cubes. This behaviour is deprecated in favour of automatic promotion to Cubes. To switch to the new behaviour, set iris.FUTURE.netcdf_promote to True.\n",
      "  warn_deprecated(msg)\n"
     ]
    }
   ],
   "source": [
    "import iris.coord_categorisation as coord_cat\n",
    "\n",
    "filename = iris.sample_data_path('ostia_monthly.nc')\n",
    "cube = iris.load_cube(filename, 'surface_temperature')"
   ]
  },
  {
   "cell_type": "markdown",
   "metadata": {},
   "source": [
    "The cube loaded represents the monthly air_temperature from April 2006 through to October 2010. Let's add a categorisation coordinate to this cube to identify the climatological season (i.e \"djf\", \"mam\", \"jja\" or \"son\") of each time point:"
   ]
  },
  {
   "cell_type": "code",
   "execution_count": 74,
   "metadata": {
    "collapsed": false
   },
   "outputs": [],
   "source": [
    "coord_cat.add_season(cube, 'time', name='clim_season')"
   ]
  },
  {
   "cell_type": "markdown",
   "metadata": {},
   "source": [
    "We can now use the cube's ``aggregated_by`` method to \"group by and aggregate\" on the season, to produce the seasonal mean:"
   ]
  },
  {
   "cell_type": "code",
   "execution_count": 75,
   "metadata": {
    "collapsed": false
   },
   "outputs": [
    {
     "name": "stderr",
     "output_type": "stream",
     "text": [
      "/Users/watson-parris/anaconda/envs/cis_test/lib/python3.4/site-packages/iris/coords.py:495: VisibleDeprecationWarning: an index can only have a single Ellipsis (`...`); replace all but one with slices (`:`).\n",
      "  bounds = bounds[keys + (Ellipsis, )]\n"
     ]
    }
   ],
   "source": [
    "seasonal_mean = cube.aggregated_by('clim_season', iris.analysis.MEAN)"
   ]
  },
  {
   "cell_type": "markdown",
   "metadata": {},
   "source": [
    "We can take this further by extracting by our newly created coordinate, producing a plot of the winter zonal mean:"
   ]
  },
  {
   "cell_type": "code",
   "execution_count": 76,
   "metadata": {
    "collapsed": false
   },
   "outputs": [
    {
     "name": "stderr",
     "output_type": "stream",
     "text": [
      "/Users/watson-parris/anaconda/envs/cis_test/lib/python3.4/site-packages/iris/cube.py:3254: UserWarning: Collapsing spatial coordinate 'latitude' without weighting\n",
      "  warnings.warn(msg.format(coord.name()))\n",
      "/Users/watson-parris/anaconda/envs/cis_test/lib/python3.4/site-packages/iris/coords.py:992: UserWarning: Collapsing a non-contiguous coordinate. Metadata may not be fully descriptive for 'latitude'.\n",
      "  warnings.warn(msg.format(self.name()))\n"
     ]
    }
   ],
   "source": [
    "winter = seasonal_mean.extract(iris.Constraint(clim_season='djf'))\n",
    "\n",
    "qplt.plot(winter.collapsed('latitude', iris.analysis.MEAN))\n",
    "plt.title('Winter zonal mean surface temperature at $\\pm5^{\\circ}$ latitude')\n",
    "plt.show()"
   ]
  },
  {
   "cell_type": "markdown",
   "metadata": {},
   "source": [
    "### Custom categorisation ###\n",
    "\n",
    "Custom categorisation can be achieved with an arbitrary function. For example, the existing ``add_year`` categorisor takes the 'time' coordinate, and creates a 'year' coordinate. This could be achieved without using the available ``add_year`` by:"
   ]
  },
  {
   "cell_type": "code",
   "execution_count": 77,
   "metadata": {
    "collapsed": false
   },
   "outputs": [
    {
     "name": "stdout",
     "output_type": "stream",
     "text": [
      "AuxCoord(array([2006, 2006, 2006, 2006, 2006, 2006, 2006, 2006, 2006, 2007, 2007,\n",
      "       2007, 2007, 2007, 2007, 2007, 2007, 2007, 2007, 2007, 2007, 2008,\n",
      "       2008, 2008, 2008, 2008, 2008, 2008, 2008, 2008, 2008, 2008, 2008,\n",
      "       2009, 2009, 2009, 2009, 2009, 2009, 2009, 2009, 2009, 2009, 2009,\n",
      "       2009, 2010, 2010, 2010, 2010, 2010, 2010, 2010, 2010, 2010]), standard_name=None, units=Unit('1'), long_name='year')\n"
     ]
    }
   ],
   "source": [
    "def year_from_time(coord, point):\n",
    "    return coord.units.num2date(point).year\n",
    "\n",
    "coord_cat.add_categorised_coord(cube, 'year', cube.coord('time'),\n",
    "                                year_from_time)\n",
    "\n",
    "print(cube.coord('year'))"
   ]
  },
  {
   "cell_type": "markdown",
   "metadata": {},
   "source": [
    "## Performance tricks\n",
    "\n",
    "This section details a few common tricks to improve the performance of your Iris code:\n",
    "\n",
    " * Data loading.\n",
    " * Load once, extract many times."
   ]
  },
  {
   "cell_type": "markdown",
   "metadata": {},
   "source": [
    "### Make use of deferred loading of data ###\n",
    "\n",
    "Sometimes it makes sense to load data before doing operations, other times it makes sense to do data reduction before loading:"
   ]
  },
  {
   "cell_type": "code",
   "execution_count": 78,
   "metadata": {
    "collapsed": false
   },
   "outputs": [],
   "source": [
    "def zonal_sum(cube):\n",
    "    \"\"\"\n",
    "    A really silly function to calculate the sum of the grid_longitude\n",
    "    dimension.\n",
    "    Don't use this in real life, instead consider doing:\n",
    "    \n",
    "        cube.collapsed('grid_longitude', iris.analysis.SUM)\n",
    "    \n",
    "    \"\"\"\n",
    "    total = 0\n",
    "    for i, _ in enumerate(cube.coord('grid_longitude')):\n",
    "        total += cube[..., i].data\n",
    "    return total"
   ]
  },
  {
   "cell_type": "code",
   "execution_count": 79,
   "metadata": {
    "collapsed": false
   },
   "outputs": [
    {
     "name": "stdout",
     "output_type": "stream",
     "text": [
      "1 loop, best of 3: 2.77 s per loop\n"
     ]
    }
   ],
   "source": [
    "%%timeit\n",
    "fname = iris.sample_data_path('uk_hires.pp')\n",
    "pt = iris.load_cube(fname, 'air_potential_temperature')\n",
    "result = zonal_sum(pt)"
   ]
  },
  {
   "cell_type": "markdown",
   "metadata": {},
   "source": [
    "The exact same code, only with the data loaded upfront:"
   ]
  },
  {
   "cell_type": "code",
   "execution_count": 80,
   "metadata": {
    "collapsed": false
   },
   "outputs": [
    {
     "name": "stdout",
     "output_type": "stream",
     "text": [
      "1 loop, best of 3: 713 ms per loop\n"
     ]
    }
   ],
   "source": [
    "%%timeit\n",
    "fname = iris.sample_data_path('uk_hires.pp')\n",
    "pt = iris.load_cube(fname, 'air_potential_temperature')\n",
    "pt.data\n",
    "result = zonal_sum(pt)"
   ]
  },
  {
   "cell_type": "markdown",
   "metadata": {},
   "source": [
    "### Load once, extract many times ###\n",
    "\n",
    "Iris loading can be slow, particularly if the format stores 2d fields of a conceptually higher dimensional dataset, as is the case with GRIB and PP. To maximise load speed and avoid unncecessary processing, it is worth constraining the fields that are of interest *at load time*, but there is no caching, so loading a file twice will be twice as slow."
   ]
  },
  {
   "cell_type": "code",
   "execution_count": 81,
   "metadata": {
    "collapsed": false
   },
   "outputs": [],
   "source": [
    "fname = iris.sample_data_path('uk_hires.pp')\n",
    "model_levels = [1, 4, 7, 16]"
   ]
  },
  {
   "cell_type": "code",
   "execution_count": 82,
   "metadata": {
    "collapsed": false
   },
   "outputs": [
    {
     "name": "stdout",
     "output_type": "stream",
     "text": [
      "1 loop, best of 3: 214 ms per loop\n"
     ]
    }
   ],
   "source": [
    "%%timeit\n",
    "for model_level in model_levels:\n",
    "    pt = iris.load_cube(fname,\n",
    "                        iris.Constraint('air_potential_temperature',\n",
    "                                        model_level_number=model_level))"
   ]
  },
  {
   "cell_type": "code",
   "execution_count": 83,
   "metadata": {
    "collapsed": false
   },
   "outputs": [
    {
     "name": "stdout",
     "output_type": "stream",
     "text": [
      "10 loops, best of 3: 109 ms per loop\n"
     ]
    }
   ],
   "source": [
    "%%timeit\n",
    "cubes = iris.load(fname)\n",
    "for model_level in model_levels:\n",
    "    pt = cubes.extract(iris.Constraint('air_potential_temperature',\n",
    "                                       model_level_number=model_level),\n",
    "                       strict=True)"
   ]
  },
  {
   "cell_type": "markdown",
   "metadata": {},
   "source": [
    "For files with lots of different phenomenon this can be improved further by loading only the phenomenon (and in this case just the model levels of interest):"
   ]
  },
  {
   "cell_type": "code",
   "execution_count": 84,
   "metadata": {
    "collapsed": false
   },
   "outputs": [
    {
     "name": "stdout",
     "output_type": "stream",
     "text": [
      "10 loops, best of 3: 87.8 ms per loop\n"
     ]
    }
   ],
   "source": [
    "%%timeit\n",
    "cube = iris.load(fname,\n",
    "                 iris.Constraint('air_potential_temperature',\n",
    "                                 model_level_number=model_levels))\n",
    "for model_level in model_levels:\n",
    "    pt = cube.extract(iris.Constraint(model_level_number=model_level))"
   ]
  },
  {
   "cell_type": "markdown",
   "metadata": {},
   "source": [
    "### Exercise 7\n",
    "\n",
    "Produce a set of plots that provide a comparison of decadal-mean air temperatures over North America:\n",
    "\n",
    "**Part 1**\n",
    "\n",
    "Load 'A1B_north_america.nc' from the Iris sample data."
   ]
  },
  {
   "cell_type": "code",
   "execution_count": null,
   "metadata": {
    "collapsed": false
   },
   "outputs": [],
   "source": []
  },
  {
   "cell_type": "markdown",
   "metadata": {},
   "source": [
    "**Part 2**\n",
    "\n",
    "Extract just data from the year 1980 and beyond from the loaded data."
   ]
  },
  {
   "cell_type": "code",
   "execution_count": null,
   "metadata": {
    "collapsed": false
   },
   "outputs": [],
   "source": []
  },
  {
   "cell_type": "markdown",
   "metadata": {},
   "source": [
    "**Part 3**\n",
    "\n",
    "Define a function that takes a coordinate and a single time point as arguments, and returns the decade. For example, your function should return 2010 for the following:\n",
    "\n",
    "       time = iris.coords.DimCoord([10], 'time',\n",
    "                                   units='days since 2018-01-01')\n",
    "       print your_decade_function(time, time.points[0])"
   ]
  },
  {
   "cell_type": "code",
   "execution_count": null,
   "metadata": {
    "collapsed": false
   },
   "outputs": [],
   "source": []
  },
  {
   "cell_type": "markdown",
   "metadata": {},
   "source": [
    "**Part 4**\n",
    "\n",
    "Add a \"decade\" coordinate to the loaded cube using your function and the coord categorisation module."
   ]
  },
  {
   "cell_type": "code",
   "execution_count": null,
   "metadata": {
    "collapsed": false
   },
   "outputs": [],
   "source": []
  },
  {
   "cell_type": "markdown",
   "metadata": {},
   "source": [
    "**Part 5**\n",
    "\n",
    "Calculate the decadal means cube for this scenario."
   ]
  },
  {
   "cell_type": "code",
   "execution_count": null,
   "metadata": {
    "collapsed": false
   },
   "outputs": [],
   "source": []
  },
  {
   "cell_type": "markdown",
   "metadata": {},
   "source": [
    "**Part 6**\n",
    "\n",
    "Create a figure with 3 rows and 4 columns displaying the decadal means, with the decade displayed prominently in each axes' title."
   ]
  },
  {
   "cell_type": "code",
   "execution_count": null,
   "metadata": {
    "collapsed": false
   },
   "outputs": [],
   "source": []
  }
 ],
 "metadata": {
  "anaconda-cloud": {},
  "kernelspec": {
   "display_name": "Python [conda env:cis_test]",
   "language": "python",
   "name": "conda-env-cis_test-py"
  },
  "language_info": {
   "codemirror_mode": {
    "name": "ipython",
    "version": 3
   },
   "file_extension": ".py",
   "mimetype": "text/x-python",
   "name": "python",
   "nbconvert_exporter": "python",
   "pygments_lexer": "ipython3",
   "version": "3.4.5"
  }
 },
 "nbformat": 4,
 "nbformat_minor": 1
}
