{
 "cells": [
  {
   "cell_type": "markdown",
   "metadata": {
    "slideshow": {
     "slide_type": "slide"
    }
   },
   "source": [
    "# Python hints and tricks\n",
    "I’ve put together a collection of nice tricks and time savers that might help make your Python more Pythonic! \n",
    "\n",
    "In no particular order..."
   ]
  },
  {
   "cell_type": "markdown",
   "metadata": {
    "slideshow": {
     "slide_type": "slide"
    }
   },
   "source": [
    "## 1. Use list comprehensions\n",
    "These one line constructs make creating list objects trivially easy. e.g."
   ]
  },
  {
   "cell_type": "code",
   "execution_count": 1,
   "metadata": {
    "collapsed": false,
    "slideshow": {
     "slide_type": "fragment"
    }
   },
   "outputs": [
    {
     "name": "stdout",
     "output_type": "stream",
     "text": [
      "4\n"
     ]
    }
   ],
   "source": [
    "my_list = [ x**2 for x in range(100) ]\n",
    "\n",
    "print(my_list[2])"
   ]
  },
  {
   "cell_type": "markdown",
   "metadata": {
    "slideshow": {
     "slide_type": "subslide"
    }
   },
   "source": [
    "For the more adventurous it’s also possible to include logic statements and nested comprehensions, but don’t overdo it, I’ve seen 5 line comprehensions before and it’s not pretty!"
   ]
  },
  {
   "cell_type": "code",
   "execution_count": 2,
   "metadata": {
    "collapsed": false,
    "slideshow": {
     "slide_type": "fragment"
    }
   },
   "outputs": [
    {
     "name": "stdout",
     "output_type": "stream",
     "text": [
      "16\n"
     ]
    }
   ],
   "source": [
    "my_constrained_list = [ x**2 for x in range(100) if x%2 == 0]\n",
    "\n",
    "print(my_constrained_list[2])"
   ]
  },
  {
   "cell_type": "markdown",
   "metadata": {
    "slideshow": {
     "slide_type": "slide"
    }
   },
   "source": [
    "## 2 Know when not to use list comprehensions - using generators instead\n",
    "Generators allow you to declare a function that behaves as an iterator. That is the resulting expression is not evaluated and stored in memory when it is declared (as for a list comprehension), rather it is evaluated each time the function is called."
   ]
  },
  {
   "cell_type": "markdown",
   "metadata": {
    "slideshow": {
     "slide_type": "notes"
    }
   },
   "source": [
    "For cases where the expression is evaluated only once, or where the expression would be too large to store in memory, the benefits are obvious. It is easy to define functions which act as generators, but you can also use ‘generator comprehension’ which is almost identical to a list comprehension except using parenthesis, e.g."
   ]
  },
  {
   "cell_type": "code",
   "execution_count": 5,
   "metadata": {
    "collapsed": false,
    "slideshow": {
     "slide_type": "fragment"
    }
   },
   "outputs": [],
   "source": [
    "my_gen = ( x^2 for x in range(10**9) )"
   ]
  },
  {
   "cell_type": "markdown",
   "metadata": {
    "slideshow": {
     "slide_type": "subslide"
    }
   },
   "source": [
    "Note however that you can't index them directly, only iterate over them (which makes sense if you think about it):"
   ]
  },
  {
   "cell_type": "code",
   "execution_count": 6,
   "metadata": {
    "collapsed": false,
    "slideshow": {
     "slide_type": "fragment"
    }
   },
   "outputs": [
    {
     "name": "stdout",
     "output_type": "stream",
     "text": [
      "50005002\n"
     ]
    }
   ],
   "source": [
    "total = 0\n",
    "for val in my_gen:\n",
    "    total += val\n",
    "    if val > 10**4: \n",
    "        break\n",
    "     \n",
    "print(total)\n",
    "# print my_gen[4] <-- This won't work"
   ]
  },
  {
   "cell_type": "markdown",
   "metadata": {
    "slideshow": {
     "slide_type": "slide"
    }
   },
   "source": [
    "## 3 Dictionary comprehensions\n",
    "Dictionaries are a very useful construct in Python, and it is very easy to generate dictionaries using dictionary comprehensions to specify each key:value pair, e.g."
   ]
  },
  {
   "cell_type": "code",
   "execution_count": 7,
   "metadata": {
    "collapsed": false,
    "slideshow": {
     "slide_type": "fragment"
    }
   },
   "outputs": [
    {
     "name": "stdout",
     "output_type": "stream",
     "text": [
      "7\n"
     ]
    }
   ],
   "source": [
    "my_dict = { 'Book' : 5, 'Monkey': 7, 'Paper': 23.4 }\n",
    "\n",
    "print(my_dict['Monkey'])"
   ]
  },
  {
   "cell_type": "markdown",
   "metadata": {
    "slideshow": {
     "slide_type": "subslide"
    }
   },
   "source": [
    "Or make them using iterators:"
   ]
  },
  {
   "cell_type": "code",
   "execution_count": 8,
   "metadata": {
    "collapsed": false,
    "slideshow": {
     "slide_type": "fragment"
    }
   },
   "outputs": [
    {
     "name": "stdout",
     "output_type": "stream",
     "text": [
      "25\n"
     ]
    }
   ],
   "source": [
    "my_new_dict = { x: x**2 for x in range(100) }\n",
    "\n",
    "print(my_new_dict[5])"
   ]
  },
  {
   "cell_type": "markdown",
   "metadata": {
    "slideshow": {
     "slide_type": "slide"
    }
   },
   "source": [
    "## 4 Dictionary values as functions / Classes\n",
    "It may not be immediately obvious to new Python programmers but because Classes and functions are first class objects it is trivially easy to store these in lists, or even dictionaries. (One great example of this is an implementation of the strategy pattern using dictionaries.)\n",
    "\n"
   ]
  },
  {
   "cell_type": "code",
   "execution_count": 9,
   "metadata": {
    "collapsed": false,
    "slideshow": {
     "slide_type": "fragment"
    }
   },
   "outputs": [
    {
     "name": "stdout",
     "output_type": "stream",
     "text": [
      "Edam\n"
     ]
    }
   ],
   "source": [
    "def nuts():\n",
    "    return 'Peanuts'\n",
    "\n",
    "def cheese():\n",
    "    return 'Edam'\n",
    "\n",
    "feed = {'Monkey': nuts, 'Mouse': cheese}\n",
    "\n",
    "my_food = feed['Mouse']()\n",
    "\n",
    "print(my_food)"
   ]
  },
  {
   "cell_type": "markdown",
   "metadata": {
    "slideshow": {
     "slide_type": "slide"
    }
   },
   "source": [
    "## 5 The 'map' function\n",
    "This function makes it really easy to perform operations on any collection of objects. e.g."
   ]
  },
  {
   "cell_type": "code",
   "execution_count": 25,
   "metadata": {
    "collapsed": false,
    "slideshow": {
     "slide_type": "fragment"
    }
   },
   "outputs": [
    {
     "name": "stdout",
     "output_type": "stream",
     "text": [
      "[0, 1, 4, 9, 16, 25, 36, 49, 64, 81, 100, 121, 144, 169, 196, 225, 256, 289, 324, 361, 400, 441, 484, 529, 576, 625, 676, 729, 784, 841, 900, 961, 1024, 1089, 1156, 1225, 1296, 1369, 1444, 1521, 1600, 1681, 1764, 1849, 1936, 2025, 2116, 2209, 2304, 2401, 2500, 2601, 2704, 2809, 2916, 3025, 3136, 3249, 3364, 3481, 3600, 3721, 3844, 3969, 4096, 4225, 4356, 4489, 4624, 4761, 4900, 5041, 5184, 5329, 5476, 5625, 5776, 5929, 6084, 6241, 6400, 6561, 6724, 6889, 7056, 7225, 7396, 7569, 7744, 7921, 8100, 8281, 8464, 8649, 8836, 9025, 9216, 9409, 9604, 9801]\n"
     ]
    }
   ],
   "source": [
    "squares = map(lambda x: x**2, range(100))\n",
    "\n",
    "print(list(squares))"
   ]
  },
  {
   "cell_type": "markdown",
   "metadata": {
    "collapsed": false,
    "slideshow": {
     "slide_type": "fragment"
    }
   },
   "source": [
    "It returns a list of results mapping the function given onto the list values (which may just be any form of iterable)."
   ]
  },
  {
   "cell_type": "markdown",
   "metadata": {},
   "source": [
    "## Parallel map\n",
    "It's trivial to map a function across all the cores in your machine"
   ]
  },
  {
   "cell_type": "code",
   "execution_count": 30,
   "metadata": {
    "collapsed": false
   },
   "outputs": [
    {
     "data": {
      "text/plain": [
       "[0,\n",
       " 1,\n",
       " 4,\n",
       " 9,\n",
       " 16,\n",
       " 25,\n",
       " 36,\n",
       " 49,\n",
       " 64,\n",
       " 81,\n",
       " 100,\n",
       " 121,\n",
       " 144,\n",
       " 169,\n",
       " 196,\n",
       " 225,\n",
       " 256,\n",
       " 289,\n",
       " 324,\n",
       " 361,\n",
       " 400,\n",
       " 441,\n",
       " 484,\n",
       " 529,\n",
       " 576,\n",
       " 625,\n",
       " 676,\n",
       " 729,\n",
       " 784,\n",
       " 841,\n",
       " 900,\n",
       " 961,\n",
       " 1024,\n",
       " 1089,\n",
       " 1156,\n",
       " 1225,\n",
       " 1296,\n",
       " 1369,\n",
       " 1444,\n",
       " 1521,\n",
       " 1600,\n",
       " 1681,\n",
       " 1764,\n",
       " 1849,\n",
       " 1936,\n",
       " 2025,\n",
       " 2116,\n",
       " 2209,\n",
       " 2304,\n",
       " 2401,\n",
       " 2500,\n",
       " 2601,\n",
       " 2704,\n",
       " 2809,\n",
       " 2916,\n",
       " 3025,\n",
       " 3136,\n",
       " 3249,\n",
       " 3364,\n",
       " 3481,\n",
       " 3600,\n",
       " 3721,\n",
       " 3844,\n",
       " 3969,\n",
       " 4096,\n",
       " 4225,\n",
       " 4356,\n",
       " 4489,\n",
       " 4624,\n",
       " 4761,\n",
       " 4900,\n",
       " 5041,\n",
       " 5184,\n",
       " 5329,\n",
       " 5476,\n",
       " 5625,\n",
       " 5776,\n",
       " 5929,\n",
       " 6084,\n",
       " 6241,\n",
       " 6400,\n",
       " 6561,\n",
       " 6724,\n",
       " 6889,\n",
       " 7056,\n",
       " 7225,\n",
       " 7396,\n",
       " 7569,\n",
       " 7744,\n",
       " 7921,\n",
       " 8100,\n",
       " 8281,\n",
       " 8464,\n",
       " 8649,\n",
       " 8836,\n",
       " 9025,\n",
       " 9216,\n",
       " 9409,\n",
       " 9604,\n",
       " 9801]"
      ]
     },
     "execution_count": 30,
     "metadata": {},
     "output_type": "execute_result"
    }
   ],
   "source": [
    "from multiprocessing import Pool\n",
    "def calculate_squares(x):\n",
    "    return x**2\n",
    "Pool().map(calculate_squares, range(100))"
   ]
  },
  {
   "cell_type": "markdown",
   "metadata": {
    "slideshow": {
     "slide_type": "slide"
    }
   },
   "source": [
    "## 6 Unpacking arguments\n",
    "It is possible to unpack a list into a function call as mandatory arguments. e.g."
   ]
  },
  {
   "cell_type": "code",
   "execution_count": 12,
   "metadata": {
    "collapsed": false,
    "slideshow": {
     "slide_type": "fragment"
    }
   },
   "outputs": [
    {
     "name": "stdout",
     "output_type": "stream",
     "text": [
      "Type: Nuts\n",
      "Amount: 50\n",
      "Colour: \n"
     ]
    }
   ],
   "source": [
    "def example_function(food_type, amount, colour=''):\n",
    "    print(\"Type: {}\".format(food_type))\n",
    "    print(\"Amount: {}\".format(amount))\n",
    "    print(\"Colour: {}\".format(colour))\n",
    "    \n",
    "arguments = ['Nuts', 50]\n",
    "example_function(*arguments) # unpacks my list into mandatory arguments"
   ]
  },
  {
   "cell_type": "markdown",
   "metadata": {
    "slideshow": {
     "slide_type": "subslide"
    }
   },
   "source": [
    "or, unpacking dictionaries for optional arguments:"
   ]
  },
  {
   "cell_type": "code",
   "execution_count": 13,
   "metadata": {
    "collapsed": false,
    "slideshow": {
     "slide_type": "fragment"
    }
   },
   "outputs": [
    {
     "name": "stdout",
     "output_type": "stream",
     "text": [
      "Type: Cheese\n",
      "Amount: 2\n",
      "Colour: Blue\n"
     ]
    }
   ],
   "source": [
    "arg_dict = {'colour': 'Blue'}\n",
    "example_function('Cheese', 2, **arg_dict)"
   ]
  },
  {
   "cell_type": "markdown",
   "metadata": {
    "slideshow": {
     "slide_type": "subslide"
    }
   },
   "source": [
    "or, both:"
   ]
  },
  {
   "cell_type": "code",
   "execution_count": 14,
   "metadata": {
    "collapsed": false,
    "slideshow": {
     "slide_type": "fragment"
    }
   },
   "outputs": [
    {
     "name": "stdout",
     "output_type": "stream",
     "text": [
      "Type: Nuts\n",
      "Amount: 50\n",
      "Colour: Blue\n"
     ]
    }
   ],
   "source": [
    "example_function(*arguments, **arg_dict)"
   ]
  },
  {
   "cell_type": "markdown",
   "metadata": {
    "slideshow": {
     "slide_type": "fragment"
    }
   },
   "source": [
    "You can even unpack numpy arrays! *Note* that the order matters for mandatory arguments, but not optional ones."
   ]
  },
  {
   "cell_type": "markdown",
   "metadata": {
    "slideshow": {
     "slide_type": "slide"
    }
   },
   "source": [
    "## 7 Unpacking return values\n",
    "It’s also possible to unpack return values of a function directly:"
   ]
  },
  {
   "cell_type": "code",
   "execution_count": 15,
   "metadata": {
    "collapsed": false,
    "slideshow": {
     "slide_type": "fragment"
    }
   },
   "outputs": [
    {
     "name": "stdout",
     "output_type": "stream",
     "text": [
      "(1, 4.5, 2.8722813232690143)\n",
      "2.87228132327\n"
     ]
    }
   ],
   "source": [
    "import numpy as np\n",
    "\n",
    "def moments(x):\n",
    "    \"\"\"Return the first three momments of a (normal) distribution\"\"\"\n",
    "    return 1, np.mean(x), np.std(x)\n",
    "\n",
    "print(moments(np.arange(10)))\n",
    "\n",
    "first, second, third = moments(np.arange(10))\n",
    "\n",
    "print(third)"
   ]
  },
  {
   "cell_type": "markdown",
   "metadata": {
    "slideshow": {
     "slide_type": "subslide"
    }
   },
   "source": [
    "A great example of this demonstrating this and the previous example is in-place value swapping - e.g:"
   ]
  },
  {
   "cell_type": "code",
   "execution_count": 16,
   "metadata": {
    "collapsed": false,
    "slideshow": {
     "slide_type": "fragment"
    }
   },
   "outputs": [
    {
     "name": "stdout",
     "output_type": "stream",
     "text": [
      "5 10\n",
      "10 5\n"
     ]
    }
   ],
   "source": [
    "a, b = 5, 10\n",
    "\n",
    "print(a, b)\n",
    "\n",
    "a, b = b, a\n",
    "\n",
    "print(a, b)"
   ]
  },
  {
   "cell_type": "markdown",
   "metadata": {
    "slideshow": {
     "slide_type": "slide"
    }
   },
   "source": [
    "## 8 For (almost) any numerical work use Numpy!\n",
    "Numpy is a numerical library with very fast linear algebra operations and a number of extremely useful constructs. See http://www.numpy.org/."
   ]
  },
  {
   "cell_type": "markdown",
   "metadata": {
    "slideshow": {
     "slide_type": "slide"
    }
   },
   "source": [
    "## 9 Chained comparisons\n",
    "It is really easy to chain comparisons together in an intuitive way e.g."
   ]
  },
  {
   "cell_type": "code",
   "execution_count": 17,
   "metadata": {
    "collapsed": false,
    "slideshow": {
     "slide_type": "fragment"
    }
   },
   "outputs": [
    {
     "name": "stdout",
     "output_type": "stream",
     "text": [
      "5 being called\n",
      "6 being called\n",
      "True\n",
      "5 being called\n"
     ]
    }
   ],
   "source": [
    "def five():\n",
    "    print(\"5 being called\")\n",
    "    return 5\n",
    "\n",
    "def six():\n",
    "    print(\"6 being called\")\n",
    "    return 6\n",
    "\n",
    "if 1 < five() < six():\n",
    "    print(True)\n",
    "\n",
    "if 1 > five() > six():\n",
    "    print(True)"
   ]
  },
  {
   "cell_type": "markdown",
   "metadata": {
    "slideshow": {
     "slide_type": "fragment"
    }
   },
   "source": [
    "Also, the function five() only gets evaluated once, and the second comparison still gets short circuited if the first fails."
   ]
  },
  {
   "cell_type": "markdown",
   "metadata": {
    "slideshow": {
     "slide_type": "slide"
    }
   },
   "source": [
    "## 10 Advanced indexing\n",
    "There are a number of ways of indexing lists which you may not have been aware of:\n",
    " * You can count backwards, e.g. access the last element in a list using my_list[-1] \n",
    " * Reversing a list using ``my_list[::-1]``.\n",
    " * The above is just a special case of setting an increment e.g. ``my_list[::2]`` gives a step of 2. \n",
    " * All of the above work on strings!"
   ]
  },
  {
   "cell_type": "markdown",
   "metadata": {
    "slideshow": {
     "slide_type": "slide"
    }
   },
   "source": [
    "## 11 Using enumerate\n",
    "\n",
    "The function enumerate returns a counter as well as the item to be enumerated which can be very useful if you need the index of an item as well as the item itself. e.g."
   ]
  },
  {
   "cell_type": "code",
   "execution_count": 18,
   "metadata": {
    "collapsed": false,
    "slideshow": {
     "slide_type": "fragment"
    }
   },
   "outputs": [
    {
     "name": "stdout",
     "output_type": "stream",
     "text": [
      "0 9604\n",
      "1 9801\n",
      "2 0\n",
      "3 1\n",
      "4 4\n",
      "5 9\n",
      "6 16\n",
      "7 25\n",
      "8 36\n",
      "9 49\n",
      "10 64\n",
      "11 81\n",
      "12 100\n",
      "13 121\n",
      "14 144\n",
      "15 169\n",
      "16 196\n",
      "17 225\n",
      "18 256\n",
      "19 289\n",
      "20 324\n",
      "21 361\n",
      "22 400\n",
      "23 441\n",
      "24 484\n",
      "25 529\n",
      "26 576\n",
      "27 625\n",
      "28 676\n",
      "29 729\n",
      "30 784\n",
      "31 841\n",
      "32 900\n",
      "33 961\n",
      "34 1024\n",
      "35 1089\n",
      "36 1156\n",
      "37 1225\n",
      "38 1296\n",
      "39 1369\n",
      "40 1444\n",
      "41 1521\n",
      "42 1600\n",
      "43 1681\n",
      "44 1764\n",
      "45 1849\n",
      "46 1936\n",
      "47 2025\n",
      "48 2116\n",
      "49 2209\n",
      "50 2304\n",
      "51 2401\n",
      "52 2500\n",
      "53 2601\n",
      "54 2704\n",
      "55 2809\n",
      "56 2916\n",
      "57 3025\n",
      "58 3136\n",
      "59 3249\n",
      "60 3364\n",
      "61 3481\n",
      "62 3600\n",
      "63 3721\n",
      "64 3844\n",
      "65 3969\n",
      "66 4096\n",
      "67 4225\n",
      "68 4356\n",
      "69 4489\n",
      "70 4624\n",
      "71 4761\n",
      "72 4900\n",
      "73 5041\n",
      "74 5184\n",
      "75 5329\n",
      "76 5476\n",
      "77 5625\n",
      "78 5776\n",
      "79 5929\n",
      "80 6084\n",
      "81 6241\n",
      "82 6400\n",
      "83 6561\n",
      "84 6724\n",
      "85 6889\n",
      "86 7056\n",
      "87 7225\n",
      "88 7396\n",
      "89 7569\n",
      "90 7744\n",
      "91 7921\n",
      "92 8100\n",
      "93 8281\n",
      "94 8464\n",
      "95 8649\n",
      "96 8836\n",
      "97 9025\n",
      "98 9216\n",
      "99 9409\n"
     ]
    }
   ],
   "source": [
    "for i, x in enumerate(my_list):\n",
    "    print(i, my_list[i-2])"
   ]
  },
  {
   "cell_type": "markdown",
   "metadata": {
    "slideshow": {
     "slide_type": "slide"
    }
   },
   "source": [
    "## 12 Default dictionary values\n",
    "In order to avoid having to catch KeyErrors every time you query a dictionary you can use the get method to provide a default value if the key is not present."
   ]
  },
  {
   "cell_type": "code",
   "execution_count": 19,
   "metadata": {
    "collapsed": false,
    "slideshow": {
     "slide_type": "fragment"
    }
   },
   "outputs": [
    {
     "name": "stdout",
     "output_type": "stream",
     "text": [
      "That key of the dictionary doesn't exist\n",
      "4\n"
     ]
    }
   ],
   "source": [
    "val = 0\n",
    "try:\n",
    "    val = my_dict[101]\n",
    "except KeyError:\n",
    "    print(\"That key of the dictionary doesn't exist\")\n",
    "\n",
    "print(my_dict.get(101, 4))"
   ]
  },
  {
   "cell_type": "markdown",
   "metadata": {
    "slideshow": {
     "slide_type": "notes"
    }
   },
   "source": [
    "Also - there is a defaultdict collection which gives keys default values, or use my_dict.setdefault to set a default on a standard dict. There are some subtle differences though about when the default is created, and some code might expect a KeyError, so take care with this one."
   ]
  },
  {
   "cell_type": "markdown",
   "metadata": {
    "slideshow": {
     "slide_type": "slide"
    }
   },
   "source": [
    "## 13 Named formatting\n",
    "You may have noticed I've been using implicit formatting to fill in values. This is probably fine when there is only one value, and it works when there is more, but it's probably best to use named placeholders, e.g.:"
   ]
  },
  {
   "cell_type": "code",
   "execution_count": 20,
   "metadata": {
    "collapsed": false,
    "slideshow": {
     "slide_type": "fragment"
    }
   },
   "outputs": [
    {
     "name": "stdout",
     "output_type": "stream",
     "text": [
      "The answer is 42\n",
      "The answer is 7x6\n"
     ]
    }
   ],
   "source": [
    "print(\"The {foo} is {bar}\".format(foo='answer', bar=42))\n",
    "\n",
    "# Note that you can also unpack a dict into format!\n",
    "\n",
    "words = {'foo': 'answer', 'bar': '7x6'}\n",
    "print(\"The {foo} is {bar}\".format(**words))"
   ]
  },
  {
   "cell_type": "markdown",
   "metadata": {
    "slideshow": {
     "slide_type": "slide"
    }
   },
   "source": [
    "## 14 Much more readable ternary operators\n",
    "Although generally frowned upon, the ternary operators in Python are actually fairly readable and intuitive when written as:"
   ]
  },
  {
   "cell_type": "code",
   "execution_count": 21,
   "metadata": {
    "collapsed": false,
    "slideshow": {
     "slide_type": "fragment"
    }
   },
   "outputs": [
    {
     "name": "stdout",
     "output_type": "stream",
     "text": [
      "5 being called\n",
      "6 being called\n",
      "Did my test pass?: Yes\n"
     ]
    }
   ],
   "source": [
    "test = 'Yes' if 1 < five() < six() else 'No'\n",
    "\n",
    "print('Did my test pass?: {}'.format(test))"
   ]
  },
  {
   "cell_type": "markdown",
   "metadata": {
    "slideshow": {
     "slide_type": "slide"
    }
   },
   "source": [
    "## 15 Classes can be created at run-time\n",
    "This one is definitely not for the feint hearted. Because classes are first class objects in Python it is possible to define them at run-time, e.g. within if statements or even functions. Use with care!\n",
    "\n"
   ]
  },
  {
   "cell_type": "code",
   "execution_count": 22,
   "metadata": {
    "collapsed": false,
    "slideshow": {
     "slide_type": "fragment"
    }
   },
   "outputs": [
    {
     "name": "stdout",
     "output_type": "stream",
     "text": [
      "5 being called\n",
      "5\n"
     ]
    }
   ],
   "source": [
    "x = 6\n",
    "\n",
    "if x < five():\n",
    "    class test(object):\n",
    "        def number(self):\n",
    "            return x\n",
    "else:\n",
    "    class test(object):\n",
    "        def number(self):\n",
    "            return 5\n",
    "        \n",
    "print(test().number())"
   ]
  },
  {
   "cell_type": "markdown",
   "metadata": {
    "slideshow": {
     "slide_type": "slide"
    }
   },
   "source": [
    "# 16 The with statement is your friend"
   ]
  },
  {
   "cell_type": "markdown",
   "metadata": {
    "slideshow": {
     "slide_type": "fragment"
    }
   },
   "source": [
    "The with statement is a bit like a try, except block, but is intended for standard code flow, rather than exception handling. For example, a really common use is with file handling:"
   ]
  },
  {
   "cell_type": "code",
   "execution_count": null,
   "metadata": {
    "collapsed": false,
    "slideshow": {
     "slide_type": "fragment"
    }
   },
   "outputs": [],
   "source": [
    "with open('test', 'w') as f:\n",
    "    pass\n",
    "    # do something"
   ]
  },
  {
   "cell_type": "markdown",
   "metadata": {
    "slideshow": {
     "slide_type": "notes"
    }
   },
   "source": [
    "The ‘with’ statement doesn’t take care of the fact that the file may not exist, or other IO errors, but it does ensure that if an exception occurs in the ‘do something’ block then the file gets closed regardless. Obviously, this is most useful for IO, or network connections where you have to ensure some finally block is executed, but should be extendable to more general scenarios."
   ]
  },
  {
   "cell_type": "markdown",
   "metadata": {
    "slideshow": {
     "slide_type": "subslide"
    }
   },
   "source": [
    "But it's also possible to create your own implementations. In order to be able to use a with statement in your own code you can create a context manager which implements both __enter()__ and __exit()__ methods (see PEP-343 for details), or more simply use the built-in contextlib. A good example is provided by StackOverflow (http://stackoverflow.com/questions/3012488/what-is-the-python-with-statement-designed-for):"
   ]
  },
  {
   "cell_type": "code",
   "execution_count": 2,
   "metadata": {
    "collapsed": false,
    "slideshow": {
     "slide_type": "fragment"
    }
   },
   "outputs": [],
   "source": [
    "from contextlib import contextmanager\n",
    "import os\n",
    "\n",
    "@contextmanager\n",
    "def working_directory(path):\n",
    "    current_dir = os.getcwd()\n",
    "    os.chdir(path)\n",
    "    try:\n",
    "        yield\n",
    "    finally:\n",
    "        os.chdir(current_dir)\n",
    "        \n",
    "with working_directory(\"/\"): \n",
    "    pass\n",
    "    # do something within data/stuff\n",
    "    \n",
    "# here I am back again in the original working directory"
   ]
  }
 ],
 "metadata": {
  "anaconda-cloud": {},
  "celltoolbar": "Slideshow",
  "kernelspec": {
   "display_name": "Python [conda env:cis_env]",
   "language": "python",
   "name": "conda-env-cis_env-py"
  },
  "language_info": {
   "codemirror_mode": {
    "name": "ipython",
    "version": 3.0
   },
   "file_extension": ".py",
   "mimetype": "text/x-python",
   "name": "python",
   "nbconvert_exporter": "python",
   "pygments_lexer": "ipython3",
   "version": "3.5.2"
  }
 },
 "nbformat": 4,
 "nbformat_minor": 0
}