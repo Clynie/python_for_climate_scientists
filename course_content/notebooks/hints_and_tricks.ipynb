{
 "cells": [
  {
   "cell_type": "markdown",
   "metadata": {
    "slideshow": {
     "slide_type": "slide"
    }
   },
   "source": [
    "# Python hints and tricks\n",
    "I’ve put together a collection of nice tricks and time savers that might help make your Python more Pythonic! \n",
    "\n",
    "In no particular order..."
   ]
  },
  {
   "cell_type": "markdown",
   "metadata": {
    "slideshow": {
     "slide_type": "slide"
    }
   },
   "source": [
    "## Use list comprehensions\n",
    "These one line constructs make creating list objects trivially easy. e.g."
   ]
  },
  {
   "cell_type": "code",
   "execution_count": 1,
   "metadata": {
    "collapsed": false,
    "slideshow": {
     "slide_type": "fragment"
    }
   },
   "outputs": [
    {
     "name": "stdout",
     "output_type": "stream",
     "text": [
      "4\n"
     ]
    }
   ],
   "source": [
    "my_list = [ x**2 for x in range(100) ]\n",
    "\n",
    "print(my_list[2])"
   ]
  },
  {
   "cell_type": "markdown",
   "metadata": {
    "slideshow": {
     "slide_type": "subslide"
    }
   },
   "source": [
    "For the more adventurous it’s also possible to include logic statements and nested comprehensions, but don’t overdo it, I’ve seen 5 line comprehensions before and it’s not pretty!"
   ]
  },
  {
   "cell_type": "code",
   "execution_count": 2,
   "metadata": {
    "collapsed": false,
    "slideshow": {
     "slide_type": "fragment"
    }
   },
   "outputs": [
    {
     "name": "stdout",
     "output_type": "stream",
     "text": [
      "16\n"
     ]
    }
   ],
   "source": [
    "my_constrained_list = [ x**2 for x in range(100) if x%2 == 0]\n",
    "\n",
    "print(my_constrained_list[2])"
   ]
  },
  {
   "cell_type": "markdown",
   "metadata": {
    "slideshow": {
     "slide_type": "slide"
    }
   },
   "source": [
    "## Know when not to use list comprehensions - using generators instead\n",
    "Generators allow you to declare a function that behaves as an iterator. That is the resulting expression is not evaluated and stored in memory when it is declared (as for a list comprehension), rather it is evaluated each time the function is called."
   ]
  },
  {
   "cell_type": "markdown",
   "metadata": {
    "slideshow": {
     "slide_type": "notes"
    }
   },
   "source": [
    "For cases where the expression is evaluated only once, or where the expression would be too large to store in memory, the benefits are obvious. It is easy to define functions which act as generators, but you can also use ‘generator comprehension’ which is almost identical to a list comprehension except using parenthesis, e.g."
   ]
  },
  {
   "cell_type": "code",
   "execution_count": 3,
   "metadata": {
    "collapsed": false,
    "slideshow": {
     "slide_type": "fragment"
    }
   },
   "outputs": [],
   "source": [
    "my_gen = ( x^2 for x in range(10**9) )"
   ]
  },
  {
   "cell_type": "markdown",
   "metadata": {
    "slideshow": {
     "slide_type": "subslide"
    }
   },
   "source": [
    "Note however that you can't index them directly, only iterate over them (which makes sense if you think about it):"
   ]
  },
  {
   "cell_type": "code",
   "execution_count": 4,
   "metadata": {
    "collapsed": false,
    "slideshow": {
     "slide_type": "fragment"
    }
   },
   "outputs": [
    {
     "name": "stdout",
     "output_type": "stream",
     "text": [
      "50005002\n"
     ]
    }
   ],
   "source": [
    "total = 0\n",
    "for val in my_gen:\n",
    "    total += val\n",
    "    if val > 10**4: \n",
    "        break\n",
    "     \n",
    "print(total)\n",
    "# print my_gen[4] <-- This won't work"
   ]
  },
  {
   "cell_type": "markdown",
   "metadata": {
    "slideshow": {
     "slide_type": "slide"
    }
   },
   "source": [
    "## Dictionary comprehensions\n",
    "Dictionaries are a very useful construct in Python, and it is very easy to generate dictionaries using dictionary comprehensions to specify each key:value pair, e.g."
   ]
  },
  {
   "cell_type": "code",
   "execution_count": 19,
   "metadata": {
    "collapsed": false,
    "slideshow": {
     "slide_type": "fragment"
    }
   },
   "outputs": [
    {
     "name": "stdout",
     "output_type": "stream",
     "text": [
      "7\n"
     ]
    }
   ],
   "source": [
    "my_dict = { 'Book' : 5, 'Monkey': 7, 'Paper': 23.4 }\n",
    "\n",
    "print(my_dict['Monkey'])"
   ]
  },
  {
   "cell_type": "markdown",
   "metadata": {
    "slideshow": {
     "slide_type": "subslide"
    }
   },
   "source": [
    "Or make them using iterators:"
   ]
  },
  {
   "cell_type": "code",
   "execution_count": 5,
   "metadata": {
    "collapsed": false,
    "slideshow": {
     "slide_type": "fragment"
    }
   },
   "outputs": [
    {
     "name": "stdout",
     "output_type": "stream",
     "text": [
      "25\n"
     ]
    }
   ],
   "source": [
    "my_new_dict = { x: x**2 for x in range(100) }\n",
    "\n",
    "print(my_new_dict[5])"
   ]
  },
  {
   "cell_type": "markdown",
   "metadata": {
    "slideshow": {
     "slide_type": "slide"
    }
   },
   "source": [
    "## Dictionary values as functions / Classes\n",
    "It may not be immediately obvious to new Python programmers but because Classes and functions are first class objects it is trivially easy to store these in lists, or even dictionaries. (One great example of this is an implementation of the strategy pattern using dictionaries.)\n",
    "\n"
   ]
  },
  {
   "cell_type": "code",
   "execution_count": 6,
   "metadata": {
    "collapsed": false,
    "slideshow": {
     "slide_type": "fragment"
    }
   },
   "outputs": [
    {
     "name": "stdout",
     "output_type": "stream",
     "text": [
      "Edam\n"
     ]
    }
   ],
   "source": [
    "def nuts():\n",
    "    return 'Peanuts'\n",
    "\n",
    "def cheese():\n",
    "    return 'Edam'\n",
    "\n",
    "feed = {'Monkey': nuts, 'Mouse': cheese}\n",
    "\n",
    "my_food = feed['Mouse']()\n",
    "\n",
    "print(my_food)"
   ]
  },
  {
   "cell_type": "markdown",
   "metadata": {
    "slideshow": {
     "slide_type": "slide"
    }
   },
   "source": [
    "## The 'map' function\n",
    "This function makes it really easy to perform operations on any collection of objects. e.g."
   ]
  },
  {
   "cell_type": "code",
   "execution_count": 17,
   "metadata": {
    "collapsed": false,
    "slideshow": {
     "slide_type": "fragment"
    }
   },
   "outputs": [],
   "source": [
    "def calculate_squares(x):\n",
    "    return x**2\n",
    "\n",
    "squares = map(calculate_squares, range(20))"
   ]
  },
  {
   "cell_type": "markdown",
   "metadata": {
    "collapsed": false,
    "slideshow": {
     "slide_type": "fragment"
    }
   },
   "source": [
    "It returns an iterator mapping the function given onto the list values (which may just be any form of iterable)."
   ]
  },
  {
   "cell_type": "markdown",
   "metadata": {
    "slideshow": {
     "slide_type": "subslide"
    }
   },
   "source": [
    "## Parallel map\n",
    "It's trivial to map a function across all the cores in your machine"
   ]
  },
  {
   "cell_type": "code",
   "execution_count": 18,
   "metadata": {
    "collapsed": false,
    "slideshow": {
     "slide_type": "fragment"
    }
   },
   "outputs": [],
   "source": [
    "from multiprocessing import Pool\n",
    "\n",
    "squares = Pool().map(calculate_squares, range(20))"
   ]
  },
  {
   "cell_type": "markdown",
   "metadata": {
    "slideshow": {
     "slide_type": "slide"
    }
   },
   "source": [
    "## Unpacking arguments\n",
    "It is possible to unpack a list into a function call as mandatory arguments. e.g."
   ]
  },
  {
   "cell_type": "code",
   "execution_count": 8,
   "metadata": {
    "collapsed": false,
    "slideshow": {
     "slide_type": "fragment"
    }
   },
   "outputs": [
    {
     "name": "stdout",
     "output_type": "stream",
     "text": [
      "Type: Nuts\n",
      "Amount: 50\n",
      "Colour: \n"
     ]
    }
   ],
   "source": [
    "def example_function(food_type, amount, colour=''):\n",
    "    print(\"Type: {}\".format(food_type))\n",
    "    print(\"Amount: {}\".format(amount))\n",
    "    print(\"Colour: {}\".format(colour))\n",
    "    \n",
    "arguments = ['Nuts', 50]\n",
    "example_function(*arguments) # unpacks my list into mandatory arguments"
   ]
  },
  {
   "cell_type": "markdown",
   "metadata": {
    "slideshow": {
     "slide_type": "subslide"
    }
   },
   "source": [
    "or, unpacking dictionaries for optional arguments:"
   ]
  },
  {
   "cell_type": "code",
   "execution_count": 9,
   "metadata": {
    "collapsed": false,
    "slideshow": {
     "slide_type": "fragment"
    }
   },
   "outputs": [
    {
     "name": "stdout",
     "output_type": "stream",
     "text": [
      "Type: Cheese\n",
      "Amount: 2\n",
      "Colour: Blue\n"
     ]
    }
   ],
   "source": [
    "arg_dict = {'colour': 'Blue'}\n",
    "example_function('Cheese', 2, **arg_dict)"
   ]
  },
  {
   "cell_type": "markdown",
   "metadata": {
    "slideshow": {
     "slide_type": "subslide"
    }
   },
   "source": [
    "or, both:"
   ]
  },
  {
   "cell_type": "code",
   "execution_count": 10,
   "metadata": {
    "collapsed": false,
    "slideshow": {
     "slide_type": "fragment"
    }
   },
   "outputs": [
    {
     "name": "stdout",
     "output_type": "stream",
     "text": [
      "Type: Nuts\n",
      "Amount: 50\n",
      "Colour: Blue\n"
     ]
    }
   ],
   "source": [
    "example_function(*arguments, **arg_dict)"
   ]
  },
  {
   "cell_type": "markdown",
   "metadata": {
    "slideshow": {
     "slide_type": "fragment"
    }
   },
   "source": [
    "You can even unpack numpy arrays! *Note* that the order matters for mandatory arguments, but not optional ones."
   ]
  },
  {
   "cell_type": "markdown",
   "metadata": {
    "slideshow": {
     "slide_type": "slide"
    }
   },
   "source": [
    "## Unpacking return values\n",
    "It’s also possible to unpack return values of a function directly:"
   ]
  },
  {
   "cell_type": "code",
   "execution_count": 11,
   "metadata": {
    "collapsed": false,
    "slideshow": {
     "slide_type": "fragment"
    }
   },
   "outputs": [
    {
     "name": "stdout",
     "output_type": "stream",
     "text": [
      "(1, 4.5, 2.8722813232690143)\n",
      "2.87228132327\n"
     ]
    }
   ],
   "source": [
    "import numpy as np\n",
    "\n",
    "def moments(x):\n",
    "    \"\"\"Return the first three momments of a (normal) distribution\"\"\"\n",
    "    return 1, np.mean(x), np.std(x)\n",
    "\n",
    "print(moments(np.arange(10)))\n",
    "\n",
    "first, second, third = moments(np.arange(10))\n",
    "\n",
    "print(third)"
   ]
  },
  {
   "cell_type": "markdown",
   "metadata": {
    "slideshow": {
     "slide_type": "subslide"
    }
   },
   "source": [
    "A great example of this demonstrating this and the previous example is in-place value swapping - e.g:"
   ]
  },
  {
   "cell_type": "code",
   "execution_count": 12,
   "metadata": {
    "collapsed": false,
    "slideshow": {
     "slide_type": "fragment"
    }
   },
   "outputs": [
    {
     "name": "stdout",
     "output_type": "stream",
     "text": [
      "5 10\n",
      "10 5\n"
     ]
    }
   ],
   "source": [
    "a, b = 5, 10\n",
    "\n",
    "print(a, b)\n",
    "\n",
    "a, b = b, a\n",
    "\n",
    "print(a, b)"
   ]
  },
  {
   "cell_type": "markdown",
   "metadata": {
    "slideshow": {
     "slide_type": "slide"
    }
   },
   "source": [
    "## For (almost) any numerical work use Numpy!\n",
    "Numpy is a numerical library with very fast linear algebra operations and a number of extremely useful constructs. See http://www.numpy.org/."
   ]
  },
  {
   "cell_type": "markdown",
   "metadata": {
    "slideshow": {
     "slide_type": "slide"
    }
   },
   "source": [
    "## Chained comparisons\n",
    "It is really easy to chain (ternary) comparisons together in an intuitive way e.g."
   ]
  },
  {
   "cell_type": "code",
   "execution_count": 13,
   "metadata": {
    "collapsed": false,
    "slideshow": {
     "slide_type": "fragment"
    }
   },
   "outputs": [
    {
     "name": "stdout",
     "output_type": "stream",
     "text": [
      "5 being called\n",
      "6 being called\n",
      "True\n",
      "5 being called\n"
     ]
    }
   ],
   "source": [
    "def five():\n",
    "    print(\"5 being called\")\n",
    "    return 5\n",
    "\n",
    "def six():\n",
    "    print(\"6 being called\")\n",
    "    return 6\n",
    "\n",
    "if 1 < five() < six():\n",
    "    print(True)\n",
    "\n",
    "if 1 > five() > six():\n",
    "    print(True)"
   ]
  },
  {
   "cell_type": "markdown",
   "metadata": {
    "slideshow": {
     "slide_type": "fragment"
    }
   },
   "source": [
    "Also, the function five() only gets evaluated once, and the second comparison still gets short circuited if the first fails."
   ]
  },
  {
   "cell_type": "markdown",
   "metadata": {
    "slideshow": {
     "slide_type": "slide"
    }
   },
   "source": [
    "## Conditional assignment\n",
    "\n",
    "Though often frowned upone this is actually very readable in Python:"
   ]
  },
  {
   "cell_type": "code",
   "execution_count": 16,
   "metadata": {
    "collapsed": false,
    "slideshow": {
     "slide_type": "fragment"
    }
   },
   "outputs": [
    {
     "name": "stdout",
     "output_type": "stream",
     "text": [
      "5 being called\n",
      "6 being called\n",
      "Did my test pass?: Yes\n"
     ]
    }
   ],
   "source": [
    "test = 'Yes' if 1 < five() < six() else 'No'\n",
    "\n",
    "print('Did my test pass?: {}'.format(test))"
   ]
  },
  {
   "cell_type": "markdown",
   "metadata": {
    "slideshow": {
     "slide_type": "slide"
    }
   },
   "source": [
    "## Advanced indexing\n",
    "There are a number of ways of indexing lists which you may not have been aware of:\n",
    " * You can count backwards, e.g. access the last element in a list using my_list[-1] \n",
    " * Reversing a list using ``my_list[::-1]``.\n",
    " * The above is just a special case of setting an increment e.g. ``my_list[::2]`` gives a step of 2. \n",
    " * All of the above work on strings!"
   ]
  },
  {
   "cell_type": "markdown",
   "metadata": {
    "slideshow": {
     "slide_type": "slide"
    }
   },
   "source": [
    "## Using enumerate\n",
    "\n",
    "The function enumerate returns a counter as well as the item to be enumerated which can be very useful if you need the index of an item as well as the item itself. e.g."
   ]
  },
  {
   "cell_type": "code",
   "execution_count": 20,
   "metadata": {
    "collapsed": false,
    "scrolled": true,
    "slideshow": {
     "slide_type": "fragment"
    }
   },
   "outputs": [
    {
     "name": "stdout",
     "output_type": "stream",
     "text": [
      "0 9604\n",
      "1 9801\n",
      "2 0\n",
      "3 1\n",
      "4 4\n",
      "5 9\n",
      "6 16\n",
      "7 25\n",
      "8 36\n",
      "9 49\n",
      "10 64\n",
      "11 81\n",
      "12 100\n",
      "13 121\n",
      "14 144\n",
      "15 169\n",
      "16 196\n",
      "17 225\n",
      "18 256\n",
      "19 289\n",
      "20 324\n",
      "21 361\n",
      "22 400\n",
      "23 441\n",
      "24 484\n",
      "25 529\n",
      "26 576\n",
      "27 625\n",
      "28 676\n",
      "29 729\n",
      "30 784\n",
      "31 841\n",
      "32 900\n",
      "33 961\n",
      "34 1024\n",
      "35 1089\n",
      "36 1156\n",
      "37 1225\n",
      "38 1296\n",
      "39 1369\n",
      "40 1444\n",
      "41 1521\n",
      "42 1600\n",
      "43 1681\n",
      "44 1764\n",
      "45 1849\n",
      "46 1936\n",
      "47 2025\n",
      "48 2116\n",
      "49 2209\n",
      "50 2304\n",
      "51 2401\n",
      "52 2500\n",
      "53 2601\n",
      "54 2704\n",
      "55 2809\n",
      "56 2916\n",
      "57 3025\n",
      "58 3136\n",
      "59 3249\n",
      "60 3364\n",
      "61 3481\n",
      "62 3600\n",
      "63 3721\n",
      "64 3844\n",
      "65 3969\n",
      "66 4096\n",
      "67 4225\n",
      "68 4356\n",
      "69 4489\n",
      "70 4624\n",
      "71 4761\n",
      "72 4900\n",
      "73 5041\n",
      "74 5184\n",
      "75 5329\n",
      "76 5476\n",
      "77 5625\n",
      "78 5776\n",
      "79 5929\n",
      "80 6084\n",
      "81 6241\n",
      "82 6400\n",
      "83 6561\n",
      "84 6724\n",
      "85 6889\n",
      "86 7056\n",
      "87 7225\n",
      "88 7396\n",
      "89 7569\n",
      "90 7744\n",
      "91 7921\n",
      "92 8100\n",
      "93 8281\n",
      "94 8464\n",
      "95 8649\n",
      "96 8836\n",
      "97 9025\n",
      "98 9216\n",
      "99 9409\n"
     ]
    }
   ],
   "source": [
    "for i, x in enumerate(my_list):\n",
    "    print(i, my_list[i-2])"
   ]
  },
  {
   "cell_type": "markdown",
   "metadata": {
    "slideshow": {
     "slide_type": "slide"
    }
   },
   "source": [
    "## Default dictionary values\n",
    "In order to avoid having to catch KeyErrors every time you query a dictionary you can use the get method to provide a default value if the key is not present."
   ]
  },
  {
   "cell_type": "code",
   "execution_count": 21,
   "metadata": {
    "collapsed": false,
    "slideshow": {
     "slide_type": "fragment"
    }
   },
   "outputs": [
    {
     "name": "stdout",
     "output_type": "stream",
     "text": [
      "That key of the dictionary doesn't exist\n",
      "4\n"
     ]
    }
   ],
   "source": [
    "val = 0\n",
    "try:\n",
    "    val = my_dict[101]\n",
    "except KeyError:\n",
    "    print(\"That key of the dictionary doesn't exist\")\n",
    "\n",
    "print(my_dict.get(101, 4))"
   ]
  },
  {
   "cell_type": "markdown",
   "metadata": {
    "slideshow": {
     "slide_type": "slide"
    }
   },
   "source": [
    "## Running external processes\n",
    "\n",
    "It's really straightforward to call another process in Python:"
   ]
  },
  {
   "cell_type": "code",
   "execution_count": 14,
   "metadata": {
    "collapsed": false,
    "slideshow": {
     "slide_type": "fragment"
    }
   },
   "outputs": [
    {
     "data": {
      "text/plain": [
       "0"
      ]
     },
     "execution_count": 14,
     "metadata": {},
     "output_type": "execute_result"
    }
   ],
   "source": [
    "from subprocess import check_output, call\n",
    "\n",
    "call('ls')"
   ]
  },
  {
   "cell_type": "code",
   "execution_count": 15,
   "metadata": {
    "collapsed": false,
    "slideshow": {
     "slide_type": "subslide"
    }
   },
   "outputs": [
    {
     "data": {
      "text/plain": [
       "b'total 10080\\n-rwxr-xr-x@ 1 watson-parris  staff   693625  5 Dec 13:28 cartopy_intro.ipynb\\n-rw-r--r--@ 1 watson-parris  staff  2577382  7 Dec 16:47 cis_introduction.ipynb\\n-rw-r--r--@ 1 watson-parris  staff   110189  7 Dec 16:45 col_output.nc\\n-rw-r--r--@ 1 watson-parris  staff    21233  8 Dec 16:03 hints_and_tricks.ipynb\\n-rw-r--r--@ 1 watson-parris  staff   510254  6 Dec 08:16 iris_short_intro.ipynb\\n-rwxr-xr-x@ 1 watson-parris  staff   661244  6 Dec 08:07 matplotlib_intro.ipynb\\n-rw-r--r--@ 1 watson-parris  staff    53525  6 Dec 08:15 numpy_intro.ipynb\\n-rw-r--r--@ 1 watson-parris  staff    14432  8 Dec 12:05 object_oriented_programming.ipynb\\n-rw-r--r--@ 1 watson-parris  staff   157963  8 Dec 09:45 optimisation.ipynb\\n-rw-r--r--@ 1 watson-parris  staff   312146  8 Dec 15:42 pandas_introduction.ipynb\\n-rw-r--r--@ 1 watson-parris  staff    24031  6 Dec 10:40 python_introduction.ipynb\\n'"
      ]
     },
     "execution_count": 15,
     "metadata": {},
     "output_type": "execute_result"
    }
   ],
   "source": [
    "check_output(['ls', '-l'])"
   ]
  },
  {
   "cell_type": "markdown",
   "metadata": {
    "slideshow": {
     "slide_type": "notes"
    }
   },
   "source": [
    "Also - there is a defaultdict collection which gives keys default values, or use my_dict.setdefault to set a default on a standard dict. There are some subtle differences though about when the default is created, and some code might expect a KeyError, so take care with this one."
   ]
  },
  {
   "cell_type": "markdown",
   "metadata": {
    "slideshow": {
     "slide_type": "slide"
    }
   },
   "source": [
    "## Named formatting\n",
    "You may have noticed I've been using implicit formatting to fill in values. This is probably fine when there is only one value, and it works when there is more, but it's probably best to use named placeholders, e.g.:"
   ]
  },
  {
   "cell_type": "code",
   "execution_count": 23,
   "metadata": {
    "collapsed": false,
    "slideshow": {
     "slide_type": "fragment"
    }
   },
   "outputs": [
    {
     "name": "stdout",
     "output_type": "stream",
     "text": [
      "The answer is 42\n",
      "The answer is 7x6\n"
     ]
    }
   ],
   "source": [
    "print(\"The {foo} is {bar}\".format(foo='answer', bar=42))\n",
    "\n",
    "# Note that you can also unpack a dict into format!\n",
    "\n",
    "words = {'foo': 'answer', 'bar': '7x6'}\n",
    "print(\"The {foo} is {bar}\".format(**words))"
   ]
  },
  {
   "cell_type": "markdown",
   "metadata": {
    "slideshow": {
     "slide_type": "slide"
    }
   },
   "source": [
    "## Classes can be created at run-time\n",
    "This one is definitely not for the feint hearted. Because classes are first class objects in Python it is possible to define them at run-time, e.g. within if statements or even functions. Use with care!\n",
    "\n"
   ]
  },
  {
   "cell_type": "code",
   "execution_count": 24,
   "metadata": {
    "collapsed": false,
    "slideshow": {
     "slide_type": "fragment"
    }
   },
   "outputs": [
    {
     "name": "stdout",
     "output_type": "stream",
     "text": [
      "5 being called\n",
      "5\n"
     ]
    }
   ],
   "source": [
    "x = 6\n",
    "\n",
    "if x < five():\n",
    "    class test(object):\n",
    "        def number(self):\n",
    "            return x\n",
    "else:\n",
    "    class test(object):\n",
    "        def number(self):\n",
    "            return 5\n",
    "        \n",
    "print(test().number())"
   ]
  },
  {
   "cell_type": "markdown",
   "metadata": {
    "slideshow": {
     "slide_type": "slide"
    }
   },
   "source": [
    "# The with statement is your friend"
   ]
  },
  {
   "cell_type": "markdown",
   "metadata": {
    "slideshow": {
     "slide_type": "fragment"
    }
   },
   "source": [
    "The with statement is a bit like a try, except block, but is intended for standard code flow, rather than exception handling. For example, a really common use is with file handling:"
   ]
  },
  {
   "cell_type": "code",
   "execution_count": null,
   "metadata": {
    "collapsed": false,
    "slideshow": {
     "slide_type": "fragment"
    }
   },
   "outputs": [],
   "source": [
    "with open('test', 'w') as f:\n",
    "    pass\n",
    "    # do something"
   ]
  },
  {
   "cell_type": "markdown",
   "metadata": {
    "slideshow": {
     "slide_type": "notes"
    }
   },
   "source": [
    "The ‘with’ statement doesn’t take care of the fact that the file may not exist, or other IO errors, but it does ensure that if an exception occurs in the ‘do something’ block then the file gets closed regardless. Obviously, this is most useful for IO, or network connections where you have to ensure some finally block is executed, but should be extendable to more general scenarios."
   ]
  },
  {
   "cell_type": "markdown",
   "metadata": {
    "slideshow": {
     "slide_type": "subslide"
    }
   },
   "source": [
    "But it's also possible to create your own implementations. In order to be able to use a with statement in your own code you can create a context manager which implements both __enter()__ and __exit()__ methods (see PEP-343 for details), or more simply use the built-in contextlib. A good example is provided by StackOverflow (http://stackoverflow.com/questions/3012488/what-is-the-python-with-statement-designed-for):"
   ]
  },
  {
   "cell_type": "code",
   "execution_count": null,
   "metadata": {
    "collapsed": false,
    "slideshow": {
     "slide_type": "fragment"
    }
   },
   "outputs": [],
   "source": [
    "from contextlib import contextmanager\n",
    "import os\n",
    "\n",
    "@contextmanager\n",
    "def working_directory(path):\n",
    "    current_dir = os.getcwd()\n",
    "    os.chdir(path)\n",
    "    try:\n",
    "        yield\n",
    "    finally:\n",
    "        os.chdir(current_dir)\n",
    "        \n",
    "with working_directory(\"/\"): \n",
    "    pass\n",
    "    # do something within data/stuff\n",
    "    \n",
    "# here I am back again in the original working directory"
   ]
  }
 ],
 "metadata": {
  "anaconda-cloud": {},
  "celltoolbar": "Slideshow",
  "kernelspec": {
   "display_name": "Python [conda env:cis_env]",
   "language": "python",
   "name": "conda-env-cis_env-py"
  },
  "language_info": {
   "codemirror_mode": {
    "name": "ipython",
    "version": 3
   },
   "file_extension": ".py",
   "mimetype": "text/x-python",
   "name": "python",
   "nbconvert_exporter": "python",
   "pygments_lexer": "ipython3",
   "version": "3.5.2"
  }
 },
 "nbformat": 4,
 "nbformat_minor": 0
}
