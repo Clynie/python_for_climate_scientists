{
 "cells": [
  {
   "cell_type": "markdown",
   "metadata": {
    "slideshow": {
     "slide_type": "slide"
    }
   },
   "source": [
    "# Python 101"
   ]
  },
  {
   "cell_type": "markdown",
   "metadata": {
    "slideshow": {
     "slide_type": "notes"
    }
   },
   "source": [
    "This introduction is based heavily on the introduction notes found here: https://github.com/scipy-lectures/scipy-lecture-notes"
   ]
  },
  {
   "cell_type": "markdown",
   "metadata": {
    "slideshow": {
     "slide_type": "slide"
    }
   },
   "source": [
    "## The (climate) scientists needs"
   ]
  },
  {
   "cell_type": "markdown",
   "metadata": {
    "slideshow": {
     "slide_type": "fragment"
    }
   },
   "source": [
    " * To get, potentially very large, datasets from simulation, observation, or experiment\n",
    " * To manipulate and process it\n",
    " * To visualize results, quickly to understand, but also with high quality figures, for reports or publications."
   ]
  },
  {
   "cell_type": "markdown",
   "metadata": {
    "slideshow": {
     "slide_type": "slide"
    }
   },
   "source": [
    "## Why Python"
   ]
  },
  {
   "cell_type": "markdown",
   "metadata": {
    "slideshow": {
     "slide_type": "notes"
    }
   },
   "source": [
    "I've used pretty much every programming language you can think of... MatLab, IDL, Fortran, C++, C#, Java,... But Python, for me anyway, is the best of the lot. It's flexible, fast, easy to read and portable across all sorts of machines and architectures."
   ]
  },
  {
   "cell_type": "markdown",
   "metadata": {
    "slideshow": {
     "slide_type": "fragment"
    }
   },
   "source": [
    " * **Batteries included** Rich collection of already existing *bricks* of classic numerical methods, plotting or data processing tools. \n",
    " * **Easy to learn** Most scientists are not payed as programmers, neither have they been trained so. \n",
    " * **Easy communication** To keep code alive within a lab or a company it should be as readable as a book by collaborators, students, or maybe customers. \n",
    " * **Efficient code** Python numerical modules are computationally efficient. \n",
    " * **Universal** Python is a language used for many different problems. "
   ]
  },
  {
   "cell_type": "markdown",
   "metadata": {
    "slideshow": {
     "slide_type": "subslide"
    }
   },
   "source": [
    "Let's compare a bit more specifically against some other languages we might use:"
   ]
  },
  {
   "cell_type": "markdown",
   "metadata": {
    "slideshow": {
     "slide_type": "subslide"
    }
   },
   "source": [
    "### Compiled languages: C, C++, Fortran..."
   ]
  },
  {
   "cell_type": "markdown",
   "metadata": {
    "slideshow": {
     "slide_type": "fragment"
    }
   },
   "source": [
    "<tr>\n",
    "<th>Pros</th>\n",
    "<td>\n",
    "   <ul>\n",
    "    <li>Very fast. For heavy computations, it's difficult to outperform these languages.</li>\n",
    "   </ul>\n",
    " </td>\n",
    "</tr>\n",
    "<tr>\n",
    "<th>Cons</th>\n",
    "<td>\n",
    "   <ul>\n",
    "    <li>Painful usage: no interactivity during development, mandatory compilation steps, verbose syntax, manual memory management. These are **difficult languages** for non programmers.</li>\n",
    "   </ul>\n",
    "</td>\n",
    "</tr>"
   ]
  },
  {
   "cell_type": "markdown",
   "metadata": {
    "slideshow": {
     "slide_type": "subslide"
    }
   },
   "source": [
    "### Matlab"
   ]
  },
  {
   "cell_type": "markdown",
   "metadata": {
    "slideshow": {
     "slide_type": "fragment"
    }
   },
   "source": [
    "<tr>\n",
    "<th>Pros</th>\n",
    "<td>\n",
    "   <ul>\n",
    "    <li>Very rich collection of fast libraries with numerous algorithms, for many different domains.</li>\n",
    "    <li>Pleasant development environment: comprehensive and help, integrated editor, etc.</li>\n",
    "    <li>Commercial support is available.</li>\n",
    "   </ul>\n",
    " </td>\n",
    "</tr>\n",
    "<tr>\n",
    "<th>Cons</th>\n",
    "<td>\n",
    "   <ul>\n",
    "    <li>Base language is quite poor and can become restrictive for advanced users.</li>\n",
    "    <li>Not free.</li>\n",
    "   </ul>\n",
    "</td>\n",
    "</tr>"
   ]
  },
  {
   "cell_type": "markdown",
   "metadata": {
    "slideshow": {
     "slide_type": "subslide"
    }
   },
   "source": [
    "### Julia"
   ]
  },
  {
   "cell_type": "markdown",
   "metadata": {
    "slideshow": {
     "slide_type": "fragment"
    }
   },
   "source": [
    "<tr>\n",
    "<th>Pros</th>\n",
    "<td>\n",
    "   <ul>\n",
    "    <li>Fast code, yet interactive and simple.</li>\n",
    "    <li>Easily connects to Python or C.</li>\n",
    "   </ul>\n",
    " </td>\n",
    "</tr>\n",
    "<tr>\n",
    "<th>Cons</th>\n",
    "<td>\n",
    "   <ul>\n",
    "    <li>Ecosystem limited to numerical computing.</li>\n",
    "    <li>Still young.</li>\n",
    "   </ul>\n",
    "</td>\n",
    "</tr>"
   ]
  },
  {
   "cell_type": "markdown",
   "metadata": {
    "slideshow": {
     "slide_type": "subslide"
    }
   },
   "source": [
    "### Other scripting languages: Scilab, Octave, R, IDL, etc."
   ]
  },
  {
   "cell_type": "markdown",
   "metadata": {
    "slideshow": {
     "slide_type": "fragment"
    }
   },
   "source": [
    "<tr>\n",
    "<th>Pros</th>\n",
    "<td>\n",
    "   <ul>\n",
    "    <li>Open-source, free, or at least cheaper than Matlab.</li>\n",
    "    <li>Some features can be very advanced (statistics in R, etc.)</li>\n",
    "   </ul>\n",
    " </td>\n",
    "</tr>\n",
    "<tr>\n",
    "<th>Cons</th>\n",
    "<td>\n",
    "   <ul>\n",
    "    <li>Fewer available algorithms than in Matlab, and the language is not more advanced.</li>\n",
    "    <li>Some software are dedicated to one domain. </li>\n",
    "   </ul>\n",
    "</td>\n",
    "</tr>"
   ]
  },
  {
   "cell_type": "markdown",
   "metadata": {
    "slideshow": {
     "slide_type": "subslide"
    }
   },
   "source": [
    "### Python"
   ]
  },
  {
   "cell_type": "markdown",
   "metadata": {
    "slideshow": {
     "slide_type": "fragment"
    }
   },
   "source": [
    "<tr>\n",
    "<th>Pros</th>\n",
    "<td>\n",
    "   <ul>\n",
    "    <li>Very rich scientific computing libraries (amonst others - web server, serial port access, etc.).</li>\n",
    "    <li>Well thought out language, allowing to write very readable and well structured code: we “code what we think”.</li>\n",
    "    <li>Free and open-source software, widely spread, with a vibrant community.</li>\n",
    "    <li>A variety of powerful environments to work in, such as IPython, Spyder, Jupyter notebooks, Pycharm</li>\n",
    "   </ul>\n",
    " </td>\n",
    "</tr>\n",
    "<tr>\n",
    "<th>Cons</th>\n",
    "<td>\n",
    "   <ul>\n",
    "    <li>Not all the algorithms that can be found in more specialized software or toolboxes.</li>\n",
    "   </ul>\n",
    "</td>\n",
    "</tr>"
   ]
  },
  {
   "cell_type": "markdown",
   "metadata": {
    "slideshow": {
     "slide_type": "slide"
    }
   },
   "source": [
    "## The scientific Python ecosystem"
   ]
  },
  {
   "cell_type": "markdown",
   "metadata": {
    "slideshow": {
     "slide_type": "fragment"
    }
   },
   "source": [
    "Unlike Matlab, or R, Python does not come with a pre-bundled set of modules for scientific computing. Below are the basic building blocks that can be combined to obtain a scientific computing environment:"
   ]
  },
  {
   "cell_type": "markdown",
   "metadata": {
    "slideshow": {
     "slide_type": "subslide"
    }
   },
   "source": [
    "### Core Python\n",
    "\n",
    " * The language: flow control, data types (string, int), data collections (lists, dictionaries), etc.\n",
    " * Modules of the standard library: string processing, file management, simple network protocols."
   ]
  },
  {
   "cell_type": "markdown",
   "metadata": {
    "slideshow": {
     "slide_type": "subslide"
    }
   },
   "source": [
    "### Core numeric libraries\n",
    "\n",
    " * Numpy - Numerical array types and operations\n",
    " * Matplotlib - General plotting routines modelled on MatLab\n",
    " * SciPy - Fast linear algebra and optimisation routines"
   ]
  },
  {
   "cell_type": "markdown",
   "metadata": {
    "slideshow": {
     "slide_type": "subslide"
    }
   },
   "source": [
    "### Domain specific libraries\n",
    "\n",
    " * Iris - For working with model data\n",
    " * CIS - For working with observational data and collocation\n",
    " * Pandas - Extensive (time)-series analysis routines\n",
    " * sci-kit-learn - Machine learning algorithms\n",
    " * ..."
   ]
  },
  {
   "cell_type": "markdown",
   "metadata": {
    "slideshow": {
     "slide_type": "slide"
    }
   },
   "source": [
    "## The Zen of Python"
   ]
  },
  {
   "cell_type": "code",
   "execution_count": 1,
   "metadata": {
    "collapsed": false,
    "scrolled": true,
    "slideshow": {
     "slide_type": "subslide"
    }
   },
   "outputs": [
    {
     "name": "stdout",
     "output_type": "stream",
     "text": [
      "The Zen of Python, by Tim Peters\n",
      "\n",
      "Beautiful is better than ugly.\n",
      "Explicit is better than implicit.\n",
      "Simple is better than complex.\n",
      "Complex is better than complicated.\n",
      "Flat is better than nested.\n",
      "Sparse is better than dense.\n",
      "Readability counts.\n",
      "Special cases aren't special enough to break the rules.\n",
      "Although practicality beats purity.\n",
      "Errors should never pass silently.\n",
      "Unless explicitly silenced.\n",
      "In the face of ambiguity, refuse the temptation to guess.\n",
      "There should be one-- and preferably only one --obvious way to do it.\n",
      "Although that way may not be obvious at first unless you're Dutch.\n",
      "Now is better than never.\n",
      "Although never is often better than *right* now.\n",
      "If the implementation is hard to explain, it's a bad idea.\n",
      "If the implementation is easy to explain, it may be a good idea.\n",
      "Namespaces are one honking great idea -- let's do more of those!\n"
     ]
    }
   ],
   "source": [
    "import this"
   ]
  },
  {
   "cell_type": "markdown",
   "metadata": {
    "collapsed": true,
    "slideshow": {
     "slide_type": "slide"
    }
   },
   "source": [
    "## Working in Python"
   ]
  },
  {
   "cell_type": "markdown",
   "metadata": {
    "slideshow": {
     "slide_type": "notes"
    }
   },
   "source": [
    "Make sure you now type `source activate python_workshop` on UNIX based systems and `activate python_workshop` - this may not be necassary if you have nb_conda_kernels installed."
   ]
  },
  {
   "cell_type": "markdown",
   "metadata": {
    "slideshow": {
     "slide_type": "subslide"
    }
   },
   "source": [
    "Python is an interpreted language and there is more than one interpreter we can use:\n",
    " * python - The basic built-in interpreter\n",
    " * iPython - A more feature rich interpreter with tab-completion, shell access and inline plots\n",
    " * Jupyter (iPython) notebooks - A web based iPython interpreter with markdown (and $\\LaTeX$!) support"
   ]
  },
  {
   "cell_type": "markdown",
   "metadata": {
    "slideshow": {
     "slide_type": "notes"
    }
   },
   "source": [
    "For this course we will be using the iPython notebooks - these are great for working interactively and storing the results, as well the code and any notes we might want to make. For script development you can use a basic text editor or an IDE (or anything in between), we'll be exploring PyCharm later in the course"
   ]
  },
  {
   "cell_type": "markdown",
   "metadata": {
    "slideshow": {
     "slide_type": "slide"
    }
   },
   "source": [
    "## Basic syntax"
   ]
  },
  {
   "cell_type": "code",
   "execution_count": 65,
   "metadata": {
    "collapsed": false,
    "slideshow": {
     "slide_type": "subslide"
    }
   },
   "outputs": [
    {
     "name": "stdout",
     "output_type": "stream",
     "text": [
      "Hello world!\n"
     ]
    }
   ],
   "source": [
    "# The obligatory hello world...\n",
    "print(\"Hello world!\")"
   ]
  },
  {
   "cell_type": "code",
   "execution_count": 70,
   "metadata": {
    "collapsed": false,
    "slideshow": {
     "slide_type": "subslide"
    }
   },
   "outputs": [],
   "source": [
    "an_integer = 9\n",
    "a_float = 2.5\n",
    "a_string = \"blah\"\n",
    "a_complex_number = 2 + 2j"
   ]
  },
  {
   "cell_type": "code",
   "execution_count": 71,
   "metadata": {
    "collapsed": false,
    "slideshow": {
     "slide_type": "fragment"
    }
   },
   "outputs": [
    {
     "data": {
      "text/plain": [
       "2"
      ]
     },
     "execution_count": 71,
     "metadata": {},
     "output_type": "execute_result"
    }
   ],
   "source": [
    "an_integer / 4"
   ]
  },
  {
   "cell_type": "code",
   "execution_count": 1,
   "metadata": {
    "collapsed": true,
    "slideshow": {
     "slide_type": "subslide"
    }
   },
   "outputs": [],
   "source": [
    "def say_hello(name):\n",
    "    print(\"Hello {}!\".format(name))"
   ]
  },
  {
   "cell_type": "code",
   "execution_count": 2,
   "metadata": {
    "collapsed": false,
    "slideshow": {
     "slide_type": "fragment"
    }
   },
   "outputs": [
    {
     "name": "stdout",
     "output_type": "stream",
     "text": [
      "Hello world!\n"
     ]
    }
   ],
   "source": [
    "say_hello(\"world\")"
   ]
  },
  {
   "cell_type": "code",
   "execution_count": 3,
   "metadata": {
    "collapsed": true,
    "slideshow": {
     "slide_type": "subslide"
    }
   },
   "outputs": [],
   "source": [
    "def say_hello(name, indent=0):\n",
    "    padding = \" \"*indent\n",
    "    print(padding + \"Hello {}!\".format(name))"
   ]
  },
  {
   "cell_type": "code",
   "execution_count": 4,
   "metadata": {
    "collapsed": false,
    "slideshow": {
     "slide_type": "fragment"
    }
   },
   "outputs": [
    {
     "name": "stdout",
     "output_type": "stream",
     "text": [
      "    Hello Duncan!\n"
     ]
    }
   ],
   "source": [
    "say_hello(\"Duncan\", 4)"
   ]
  },
  {
   "cell_type": "code",
   "execution_count": 5,
   "metadata": {
    "collapsed": false,
    "slideshow": {
     "slide_type": "fragment"
    }
   },
   "outputs": [
    {
     "name": "stdout",
     "output_type": "stream",
     "text": [
      "    Hello 3!\n"
     ]
    }
   ],
   "source": [
    "say_hello(3, 4)"
   ]
  },
  {
   "cell_type": "markdown",
   "metadata": {
    "slideshow": {
     "slide_type": "slide"
    }
   },
   "source": [
    "## Containers"
   ]
  },
  {
   "cell_type": "markdown",
   "metadata": {
    "slideshow": {
     "slide_type": "subslide"
    }
   },
   "source": [
    "### Lists"
   ]
  },
  {
   "cell_type": "code",
   "execution_count": 20,
   "metadata": {
    "collapsed": true,
    "slideshow": {
     "slide_type": "fragment"
    }
   },
   "outputs": [],
   "source": [
    "assorted_stuff = [\"dog\", 3, 2.34, \"cat\"]"
   ]
  },
  {
   "cell_type": "code",
   "execution_count": 21,
   "metadata": {
    "collapsed": false,
    "slideshow": {
     "slide_type": "fragment"
    }
   },
   "outputs": [
    {
     "data": {
      "text/plain": [
       "'dog'"
      ]
     },
     "execution_count": 21,
     "metadata": {},
     "output_type": "execute_result"
    }
   ],
   "source": [
    "assorted_stuff[0]"
   ]
  },
  {
   "cell_type": "code",
   "execution_count": 22,
   "metadata": {
    "collapsed": false,
    "slideshow": {
     "slide_type": "subslide"
    }
   },
   "outputs": [
    {
     "data": {
      "text/plain": [
       "['dog', 3, 2.34]"
      ]
     },
     "execution_count": 22,
     "metadata": {},
     "output_type": "execute_result"
    }
   ],
   "source": [
    "assorted_stuff[:-1]"
   ]
  },
  {
   "cell_type": "code",
   "execution_count": 23,
   "metadata": {
    "collapsed": false,
    "slideshow": {
     "slide_type": "subslide"
    }
   },
   "outputs": [
    {
     "data": {
      "text/plain": [
       "['cat', 2.34, 3, 'dog']"
      ]
     },
     "execution_count": 23,
     "metadata": {},
     "output_type": "execute_result"
    }
   ],
   "source": [
    "assorted_stuff[::-1]"
   ]
  },
  {
   "cell_type": "code",
   "execution_count": 18,
   "metadata": {
    "collapsed": false,
    "slideshow": {
     "slide_type": "subslide"
    }
   },
   "outputs": [
    {
     "name": "stdout",
     "output_type": "stream",
     "text": [
      "[2.34, 3, 'cat', 'dog']\n"
     ]
    }
   ],
   "source": [
    "assorted_stuff.sort()\n",
    "print(assorted_stuff)"
   ]
  },
  {
   "cell_type": "markdown",
   "metadata": {
    "slideshow": {
     "slide_type": "subslide"
    }
   },
   "source": [
    "### Loops"
   ]
  },
  {
   "cell_type": "code",
   "execution_count": 24,
   "metadata": {
    "collapsed": false,
    "slideshow": {
     "slide_type": "fragment"
    }
   },
   "outputs": [
    {
     "name": "stdout",
     "output_type": "stream",
     "text": [
      "dog\n",
      "3\n",
      "2.34\n",
      "cat\n"
     ]
    }
   ],
   "source": [
    "for item in assorted_stuff:\n",
    "    print(item)"
   ]
  },
  {
   "cell_type": "markdown",
   "metadata": {
    "slideshow": {
     "slide_type": "subslide"
    }
   },
   "source": [
    "### Dictionaries"
   ]
  },
  {
   "cell_type": "code",
   "execution_count": 25,
   "metadata": {
    "collapsed": true,
    "slideshow": {
     "slide_type": "fragment"
    }
   },
   "outputs": [],
   "source": [
    "# A collection of key-value pairs\n",
    "simple_lookup = {\"red\": 2, \"green\": 12, \"blue\": 7}"
   ]
  },
  {
   "cell_type": "code",
   "execution_count": 26,
   "metadata": {
    "collapsed": false,
    "slideshow": {
     "slide_type": "subslide"
    }
   },
   "outputs": [
    {
     "name": "stdout",
     "output_type": "stream",
     "text": [
      "2\n"
     ]
    }
   ],
   "source": [
    "print(simple_lookup[\"red\"])"
   ]
  },
  {
   "cell_type": "code",
   "execution_count": 27,
   "metadata": {
    "collapsed": false,
    "slideshow": {
     "slide_type": "fragment"
    }
   },
   "outputs": [
    {
     "ename": "KeyError",
     "evalue": "'yellow'",
     "output_type": "error",
     "traceback": [
      "\u001b[0;31m---------------------------------------------------------------------------\u001b[0m",
      "\u001b[0;31mKeyError\u001b[0m                                  Traceback (most recent call last)",
      "\u001b[0;32m<ipython-input-27-ecfb6e5f3b8e>\u001b[0m in \u001b[0;36m<module>\u001b[0;34m()\u001b[0m\n\u001b[0;32m----> 1\u001b[0;31m \u001b[1;32mprint\u001b[0m\u001b[1;33m(\u001b[0m\u001b[0msimple_lookup\u001b[0m\u001b[1;33m[\u001b[0m\u001b[1;34m\"yellow\"\u001b[0m\u001b[1;33m]\u001b[0m\u001b[1;33m)\u001b[0m\u001b[1;33m\u001b[0m\u001b[0m\n\u001b[0m",
      "\u001b[0;31mKeyError\u001b[0m: 'yellow'"
     ]
    }
   ],
   "source": [
    "print(simple_lookup[\"yellow\"])"
   ]
  },
  {
   "cell_type": "code",
   "execution_count": 29,
   "metadata": {
    "collapsed": false,
    "slideshow": {
     "slide_type": "subslide"
    }
   },
   "outputs": [
    {
     "name": "stdout",
     "output_type": "stream",
     "text": [
      "0\n"
     ]
    }
   ],
   "source": [
    "print(simple_lookup.get(\"yellow\", 0))"
   ]
  },
  {
   "cell_type": "code",
   "execution_count": 30,
   "metadata": {
    "collapsed": true,
    "slideshow": {
     "slide_type": "fragment"
    }
   },
   "outputs": [],
   "source": [
    "simple_lookup[\"orange\"] = 15"
   ]
  },
  {
   "cell_type": "code",
   "execution_count": 32,
   "metadata": {
    "collapsed": true,
    "slideshow": {
     "slide_type": "subslide"
    }
   },
   "outputs": [],
   "source": [
    "simple_lookup[4] = \"brown\"\n",
    "print(simple_lookup[4])"
   ]
  },
  {
   "cell_type": "markdown",
   "metadata": {
    "slideshow": {
     "slide_type": "notes"
    }
   },
   "source": [
    "There are other containers too, but we won't cover them here. Most useful are probably [sets](https://docs.python.org/3.5/tutorial/datastructures.html#sets) and [named tuples](https://docs.python.org/3.5/library/collections.html#collections.namedtuple)."
   ]
  },
  {
   "cell_type": "markdown",
   "metadata": {
    "slideshow": {
     "slide_type": "slide"
    }
   },
   "source": [
    "## Logic"
   ]
  },
  {
   "cell_type": "code",
   "execution_count": 61,
   "metadata": {
    "collapsed": false,
    "slideshow": {
     "slide_type": "fragment"
    }
   },
   "outputs": [],
   "source": [
    "# Simple conditional statements\n",
    "variable = 0.55\n",
    "if variable > 0.9:\n",
    "    print(\"On\")"
   ]
  },
  {
   "cell_type": "code",
   "execution_count": 62,
   "metadata": {
    "collapsed": false,
    "slideshow": {
     "slide_type": "subslide"
    }
   },
   "outputs": [
    {
     "name": "stdout",
     "output_type": "stream",
     "text": [
      "Intermediate\n"
     ]
    }
   ],
   "source": [
    "if variable > 0.9:\n",
    "    print(\"On\")\n",
    "elif variable < 0.1:\n",
    "    print(\"Off\")\n",
    "elif 0.4 < variable < 0.6:\n",
    "    print(\"Intermediate\")\n",
    "else:\n",
    "    print(\"Unknown\")"
   ]
  },
  {
   "cell_type": "code",
   "execution_count": 64,
   "metadata": {
    "collapsed": false,
    "slideshow": {
     "slide_type": "subslide"
    }
   },
   "outputs": [
    {
     "name": "stdout",
     "output_type": "stream",
     "text": [
      "Off\n"
     ]
    }
   ],
   "source": [
    "switch = \"On\" if abs(variable-1.0) < 0.1 else \"Off\"\n",
    "print(switch)"
   ]
  }
 ],
 "metadata": {
  "anaconda-cloud": {},
  "celltoolbar": "Slideshow",
  "kernelspec": {
   "display_name": "Python [conda env:python_workshop]",
   "language": "python",
   "name": "conda-env-python_workshop-py"
  },
  "language_info": {
   "codemirror_mode": {
    "name": "ipython",
    "version": 3
   },
   "file_extension": ".py",
   "mimetype": "text/x-python",
   "name": "python",
   "nbconvert_exporter": "python",
   "pygments_lexer": "ipython3",
   "version": "3.5.2"
  }
 },
 "nbformat": 4,
 "nbformat_minor": 1
}
