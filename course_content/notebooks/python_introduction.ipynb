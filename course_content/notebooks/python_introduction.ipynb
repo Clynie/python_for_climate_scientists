{
 "cells": [
  {
   "cell_type": "markdown",
   "metadata": {
    "slideshow": {
     "slide_type": "slide"
    }
   },
   "source": [
    "# Python for climate scientists"
   ]
  },
  {
   "cell_type": "markdown",
   "metadata": {
    "slideshow": {
     "slide_type": "notes"
    }
   },
   "source": [
    "This introduction is based heavily on the introduction notes found here: https://github.com/scipy-lectures/scipy-lecture-notes"
   ]
  },
  {
   "cell_type": "markdown",
   "metadata": {
    "slideshow": {
     "slide_type": "slide"
    }
   },
   "source": [
    "## The (climate) scientists needs"
   ]
  },
  {
   "cell_type": "markdown",
   "metadata": {
    "slideshow": {
     "slide_type": "fragment"
    }
   },
   "source": [
    " * Get, potentially very large, datasets from simulation, observation, or experiment\n",
    " * Manipulate and process it\n",
    " * Visualize results, quickly to understand, but also with high quality figures, for reports or publications."
   ]
  },
  {
   "cell_type": "markdown",
   "metadata": {
    "slideshow": {
     "slide_type": "slide"
    }
   },
   "source": [
    "## Why Python"
   ]
  },
  {
   "cell_type": "markdown",
   "metadata": {
    "slideshow": {
     "slide_type": "notes"
    }
   },
   "source": [
    "I've used pretty much every programming language you can think of... MatLab, IDL, Fortran, C++, C#, Java,... But Python, for me anyway, is the best of the lot. It's flexible, fast, easy to read and portable across all sorts of machines and architectures."
   ]
  },
  {
   "cell_type": "markdown",
   "metadata": {
    "slideshow": {
     "slide_type": "fragment"
    }
   },
   "source": [
    " * **Batteries included** Rich collection of already existing *bricks* of classic numerical methods, plotting or data processing tools. We don’t want to re-program the plotting of a curve, a Fourier transform or a fitting algorithm. Don’t reinvent the wheel!\n",
    " * **Easy to learn** Most scientists are not payed as programmers, neither have they been trained so. They need to be able to draw a curve, smooth a signal, do a Fourier transform in a few minutes.\n",
    " * **Easy communication** To keep code alive within a lab or a company it should be as readable as a book by collaborators, students, or maybe customers. Python syntax is simple, avoiding strange symbols or lengthy routine specifications that would divert the reader from mathematical or scientific understanding of the code.\n",
    " * **Efficient code** Python numerical modules are computationally efficient. But needless to say that a very fast code becomes useless if too much time is spent writing it. Python aims for quick development times and quick execution times.\n",
    " * **Universal** Python is a language used for many different problems. Learning Python avoids learning a new software for each new problem."
   ]
  },
  {
   "cell_type": "markdown",
   "metadata": {
    "slideshow": {
     "slide_type": "notes"
    }
   },
   "source": [
    "Let's look a bit more specifically against some other languages we might use:"
   ]
  },
  {
   "cell_type": "markdown",
   "metadata": {
    "slideshow": {
     "slide_type": "subslide"
    }
   },
   "source": [
    "### Compiled languages: C, C++, Fortran..."
   ]
  },
  {
   "cell_type": "markdown",
   "metadata": {
    "slideshow": {
     "slide_type": "fragment"
    }
   },
   "source": [
    "<tr>\n",
    "<th>Pros</th>\n",
    "<td>\n",
    "   <ul>\n",
    "    <li>Very fast. For heavy computations, it's difficult to outperform these languages.</li>\n",
    "   </ul>\n",
    " </td>\n",
    "</tr>\n",
    "<tr>\n",
    "<th>Cons</th>\n",
    "<td>\n",
    "   <ul>\n",
    "    <li>Painful usage: no interactivity during development, mandatory compilation steps, verbose syntax, manual memory management. These are **difficult languages** for non programmers.</li>\n",
    "   </ul>\n",
    "</td>\n",
    "</tr>"
   ]
  },
  {
   "cell_type": "markdown",
   "metadata": {
    "slideshow": {
     "slide_type": "subslide"
    }
   },
   "source": [
    "### Matlab"
   ]
  },
  {
   "cell_type": "markdown",
   "metadata": {
    "slideshow": {
     "slide_type": "fragment"
    }
   },
   "source": [
    "<tr>\n",
    "<th>Pros</th>\n",
    "<td>\n",
    "   <ul>\n",
    "    <li>Very rich collection of libraries with numerous algorithms, for many different domains. Fast execution because these libraries are often written in a compiled language.</li>\n",
    "    <li>Pleasant development environment: comprehensive and help, integrated editor, etc.</li>\n",
    "    <li>Commercial support is available.</li>\n",
    "   </ul>\n",
    " </td>\n",
    "</tr>\n",
    "<tr>\n",
    "<th>Cons</th>\n",
    "<td>\n",
    "   <ul>\n",
    "    <li>Base language is quite poor and can become restrictive for advanced users.</li>\n",
    "    <li>Not free.</li>\n",
    "   </ul>\n",
    "</td>\n",
    "</tr>"
   ]
  },
  {
   "cell_type": "markdown",
   "metadata": {
    "slideshow": {
     "slide_type": "subslide"
    }
   },
   "source": [
    "### Julia"
   ]
  },
  {
   "cell_type": "markdown",
   "metadata": {
    "slideshow": {
     "slide_type": "fragment"
    }
   },
   "source": [
    "<tr>\n",
    "<th>Pros</th>\n",
    "<td>\n",
    "   <ul>\n",
    "    <li>Fast code, yet interactive and simple.</li>\n",
    "    <li>Easily connects to Python or C.</li>\n",
    "   </ul>\n",
    " </td>\n",
    "</tr>\n",
    "<tr>\n",
    "<th>Cons</th>\n",
    "<td>\n",
    "   <ul>\n",
    "    <li>Ecosystem limited to numerical computing.</li>\n",
    "    <li>Still young.</li>\n",
    "   </ul>\n",
    "</td>\n",
    "</tr>"
   ]
  },
  {
   "cell_type": "markdown",
   "metadata": {
    "slideshow": {
     "slide_type": "subslide"
    }
   },
   "source": [
    "### Other scripting languages: Scilab, Octave, R, IDL, etc."
   ]
  },
  {
   "cell_type": "markdown",
   "metadata": {
    "slideshow": {
     "slide_type": "fragment"
    }
   },
   "source": [
    "<tr>\n",
    "<th>Pros</th>\n",
    "<td>\n",
    "   <ul>\n",
    "    <li>Open-source, free, or at least cheaper than Matlab.</li>\n",
    "    <li>Some features can be very advanced (statistics in R, etc.)</li>\n",
    "   </ul>\n",
    " </td>\n",
    "</tr>\n",
    "<tr>\n",
    "<th>Cons</th>\n",
    "<td>\n",
    "   <ul>\n",
    "    <li>Fewer available algorithms than in Matlab, and the language is not more advanced.</li>\n",
    "    <li>Some software are dedicated to one domain. Ex: Gnuplot to draw curves. These programs are very powerful, but they are restricted to a single type of usage, such as plotting.</li>\n",
    "   </ul>\n",
    "</td>\n",
    "</tr>"
   ]
  },
  {
   "cell_type": "markdown",
   "metadata": {
    "slideshow": {
     "slide_type": "subslide"
    }
   },
   "source": [
    "### Python"
   ]
  },
  {
   "cell_type": "markdown",
   "metadata": {
    "slideshow": {
     "slide_type": "fragment"
    }
   },
   "source": [
    "<tr>\n",
    "<th>Pros</th>\n",
    "<td>\n",
    "   <ul>\n",
    "    <li>Very rich scientific computing libraries.</li>\n",
    "    <li>Well thought out language, allowing to write very readable and well structured code: we “code what we think”.</li>\n",
    "    <li>Many libraries beyond scientific computing (web server, serial port access, etc.)</li>\n",
    "    <li>Free and open-source software, widely spread, with a vibrant community.</li>\n",
    "    <li>A variety of powerful environments to work in, such as IPython, Spyder, Jupyter notebooks, Pycharm</li>\n",
    "   </ul>\n",
    " </td>\n",
    "</tr>\n",
    "<tr>\n",
    "<th>Cons</th>\n",
    "<td>\n",
    "   <ul>\n",
    "    <li>Not all the algorithms that can be found in more specialized software or toolboxes.</li>\n",
    "   </ul>\n",
    "</td>\n",
    "</tr>"
   ]
  },
  {
   "cell_type": "markdown",
   "metadata": {
    "slideshow": {
     "slide_type": "slide"
    }
   },
   "source": [
    "## House keeping"
   ]
  },
  {
   "cell_type": "markdown",
   "metadata": {
    "slideshow": {
     "slide_type": "fragment"
    }
   },
   "source": [
    "This is the first time we've run this course, and it's hard for us to spot things which might not be obvious to people new to Python so if you have any questions at any point please just ask - other people are probably wondering too!"
   ]
  },
  {
   "cell_type": "code",
   "execution_count": null,
   "metadata": {
    "collapsed": true
   },
   "outputs": [],
   "source": []
  }
 ],
 "metadata": {
  "anaconda-cloud": {},
  "celltoolbar": "Slideshow",
  "kernelspec": {
   "display_name": "Python [conda env:cis_env]",
   "language": "python",
   "name": "conda-env-cis_env-py"
  },
  "language_info": {
   "codemirror_mode": {
    "name": "ipython",
    "version": 3
   },
   "file_extension": ".py",
   "mimetype": "text/x-python",
   "name": "python",
   "nbconvert_exporter": "python",
   "pygments_lexer": "ipython3",
   "version": "3.5.2"
  }
 },
 "nbformat": 4,
 "nbformat_minor": 1
}
