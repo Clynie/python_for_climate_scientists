{
 "cells": [
  {
   "cell_type": "markdown",
   "metadata": {
    "slideshow": {
     "slide_type": "slide"
    }
   },
   "source": [
    "# Python for climate scientists"
   ]
  },
  {
   "cell_type": "markdown",
   "metadata": {},
   "source": [
    "# Python 101"
   ]
  },
  {
   "cell_type": "markdown",
   "metadata": {
    "slideshow": {
     "slide_type": "notes"
    }
   },
   "source": [
    "This introduction is based heavily on the introduction notes found here: https://github.com/scipy-lectures/scipy-lecture-notes"
   ]
  },
  {
   "cell_type": "markdown",
   "metadata": {
    "slideshow": {
     "slide_type": "slide"
    }
   },
   "source": [
    "## The (climate) scientists needs"
   ]
  },
  {
   "cell_type": "markdown",
   "metadata": {
    "slideshow": {
     "slide_type": "fragment"
    }
   },
   "source": [
    " * To get, potentially very large, datasets from simulation, observation, or experiment\n",
    " * To manipulate and process it\n",
    " * To visualize results, quickly to understand, but also with high quality figures, for reports or publications."
   ]
  },
  {
   "cell_type": "markdown",
   "metadata": {
    "slideshow": {
     "slide_type": "slide"
    }
   },
   "source": [
    "## Why Python"
   ]
  },
  {
   "cell_type": "markdown",
   "metadata": {
    "slideshow": {
     "slide_type": "notes"
    }
   },
   "source": [
    "I've used pretty much every programming language you can think of... MatLab, IDL, Fortran, C++, C#, Java,... But Python, for me anyway, is the best of the lot. It's flexible, fast, easy to read and portable across all sorts of machines and architectures."
   ]
  },
  {
   "cell_type": "markdown",
   "metadata": {
    "slideshow": {
     "slide_type": "fragment"
    }
   },
   "source": [
    " * **Batteries included** Rich collection of already existing *bricks* of classic numerical methods, plotting or data processing tools. We don’t want to re-program the plotting of a curve, a Fourier transform or a fitting algorithm. Don’t reinvent the wheel!\n",
    " * **Easy to learn** Most scientists are not payed as programmers, neither have they been trained so. They need to be able to draw a curve, smooth a signal, do a Fourier transform in a few minutes.\n",
    " * **Easy communication** To keep code alive within a lab or a company it should be as readable as a book by collaborators, students, or maybe customers. Python syntax is simple, avoiding strange symbols or lengthy routine specifications that would divert the reader from mathematical or scientific understanding of the code.\n",
    " * **Efficient code** Python numerical modules are computationally efficient. But needless to say that a very fast code becomes useless if too much time is spent writing it. Python aims for quick development times and quick execution times.\n",
    " * **Universal** Python is a language used for many different problems. Learning Python avoids learning a new software for each new problem."
   ]
  },
  {
   "cell_type": "markdown",
   "metadata": {
    "slideshow": {
     "slide_type": "notes"
    }
   },
   "source": [
    "Let's look a bit more specifically against some other languages we might use:"
   ]
  },
  {
   "cell_type": "markdown",
   "metadata": {
    "slideshow": {
     "slide_type": "subslide"
    }
   },
   "source": [
    "### Compiled languages: C, C++, Fortran..."
   ]
  },
  {
   "cell_type": "markdown",
   "metadata": {
    "slideshow": {
     "slide_type": "fragment"
    }
   },
   "source": [
    "<tr>\n",
    "<th>Pros</th>\n",
    "<td>\n",
    "   <ul>\n",
    "    <li>Very fast. For heavy computations, it's difficult to outperform these languages.</li>\n",
    "   </ul>\n",
    " </td>\n",
    "</tr>\n",
    "<tr>\n",
    "<th>Cons</th>\n",
    "<td>\n",
    "   <ul>\n",
    "    <li>Painful usage: no interactivity during development, mandatory compilation steps, verbose syntax, manual memory management. These are **difficult languages** for non programmers.</li>\n",
    "   </ul>\n",
    "</td>\n",
    "</tr>"
   ]
  },
  {
   "cell_type": "markdown",
   "metadata": {
    "slideshow": {
     "slide_type": "subslide"
    }
   },
   "source": [
    "### Matlab"
   ]
  },
  {
   "cell_type": "markdown",
   "metadata": {
    "slideshow": {
     "slide_type": "fragment"
    }
   },
   "source": [
    "<tr>\n",
    "<th>Pros</th>\n",
    "<td>\n",
    "   <ul>\n",
    "    <li>Very rich collection of libraries with numerous algorithms, for many different domains. Fast execution because these libraries are often written in a compiled language.</li>\n",
    "    <li>Pleasant development environment: comprehensive and help, integrated editor, etc.</li>\n",
    "    <li>Commercial support is available.</li>\n",
    "   </ul>\n",
    " </td>\n",
    "</tr>\n",
    "<tr>\n",
    "<th>Cons</th>\n",
    "<td>\n",
    "   <ul>\n",
    "    <li>Base language is quite poor and can become restrictive for advanced users.</li>\n",
    "    <li>Not free.</li>\n",
    "   </ul>\n",
    "</td>\n",
    "</tr>"
   ]
  },
  {
   "cell_type": "markdown",
   "metadata": {
    "slideshow": {
     "slide_type": "subslide"
    }
   },
   "source": [
    "### Julia"
   ]
  },
  {
   "cell_type": "markdown",
   "metadata": {
    "slideshow": {
     "slide_type": "fragment"
    }
   },
   "source": [
    "<tr>\n",
    "<th>Pros</th>\n",
    "<td>\n",
    "   <ul>\n",
    "    <li>Fast code, yet interactive and simple.</li>\n",
    "    <li>Easily connects to Python or C.</li>\n",
    "   </ul>\n",
    " </td>\n",
    "</tr>\n",
    "<tr>\n",
    "<th>Cons</th>\n",
    "<td>\n",
    "   <ul>\n",
    "    <li>Ecosystem limited to numerical computing.</li>\n",
    "    <li>Still young.</li>\n",
    "   </ul>\n",
    "</td>\n",
    "</tr>"
   ]
  },
  {
   "cell_type": "markdown",
   "metadata": {
    "slideshow": {
     "slide_type": "subslide"
    }
   },
   "source": [
    "### Other scripting languages: Scilab, Octave, R, IDL, etc."
   ]
  },
  {
   "cell_type": "markdown",
   "metadata": {
    "slideshow": {
     "slide_type": "fragment"
    }
   },
   "source": [
    "<tr>\n",
    "<th>Pros</th>\n",
    "<td>\n",
    "   <ul>\n",
    "    <li>Open-source, free, or at least cheaper than Matlab.</li>\n",
    "    <li>Some features can be very advanced (statistics in R, etc.)</li>\n",
    "   </ul>\n",
    " </td>\n",
    "</tr>\n",
    "<tr>\n",
    "<th>Cons</th>\n",
    "<td>\n",
    "   <ul>\n",
    "    <li>Fewer available algorithms than in Matlab, and the language is not more advanced.</li>\n",
    "    <li>Some software are dedicated to one domain. Ex: Gnuplot to draw curves. These programs are very powerful, but they are restricted to a single type of usage, such as plotting.</li>\n",
    "   </ul>\n",
    "</td>\n",
    "</tr>"
   ]
  },
  {
   "cell_type": "markdown",
   "metadata": {
    "slideshow": {
     "slide_type": "subslide"
    }
   },
   "source": [
    "### Python"
   ]
  },
  {
   "cell_type": "markdown",
   "metadata": {
    "slideshow": {
     "slide_type": "fragment"
    }
   },
   "source": [
    "<tr>\n",
    "<th>Pros</th>\n",
    "<td>\n",
    "   <ul>\n",
    "    <li>Very rich scientific computing libraries.</li>\n",
    "    <li>Well thought out language, allowing to write very readable and well structured code: we “code what we think”.</li>\n",
    "    <li>Many libraries beyond scientific computing (web server, serial port access, etc.)</li>\n",
    "    <li>Free and open-source software, widely spread, with a vibrant community.</li>\n",
    "    <li>A variety of powerful environments to work in, such as IPython, Spyder, Jupyter notebooks, Pycharm</li>\n",
    "   </ul>\n",
    " </td>\n",
    "</tr>\n",
    "<tr>\n",
    "<th>Cons</th>\n",
    "<td>\n",
    "   <ul>\n",
    "    <li>Not all the algorithms that can be found in more specialized software or toolboxes.</li>\n",
    "   </ul>\n",
    "</td>\n",
    "</tr>"
   ]
  },
  {
   "cell_type": "markdown",
   "metadata": {},
   "source": [
    "## The scientific Python ecosystem"
   ]
  },
  {
   "cell_type": "markdown",
   "metadata": {},
   "source": [
    "Unlike Matlab, or R, Python does not come with a pre-bundled set of modules for scientific computing. Below are the basic building blocks that can be combined to obtain a scientific computing environment:"
   ]
  },
  {
   "cell_type": "markdown",
   "metadata": {},
   "source": [
    "Python, a generic and modern computing language\n",
    " * The language: flow control, data types (string, int), data collections (lists, dictionaries), etc.\n",
    " * Modules of the standard library: string processing, file management, simple network protocols.\n",
    " * A large number of specialized modules or applications written in Python: web framework, etc. ... and scientific computing.\n",
    " * Development tools (automatic testing, documentation generation)"
   ]
  },
  {
   "cell_type": "markdown",
   "metadata": {},
   "source": [
    "### Core numeric libraries\n",
    "\n",
    " * Numpy\n",
    " * Matplotlib\n",
    " * SciPy\n"
   ]
  },
  {
   "cell_type": "markdown",
   "metadata": {},
   "source": [
    "### Domain specific libraries\n",
    "\n",
    " * Iris\n",
    " * CIS\n",
    " * Pandas\n",
    " * sci-kit-learn\n",
    " * ..."
   ]
  },
  {
   "cell_type": "markdown",
   "metadata": {},
   "source": [
    "## Working in Python"
   ]
  },
  {
   "cell_type": "markdown",
   "metadata": {},
   "source": [
    "iPython, notebooks etc"
   ]
  },
  {
   "cell_type": "markdown",
   "metadata": {},
   "source": [
    "## The Zen of Python"
   ]
  },
  {
   "cell_type": "code",
   "execution_count": 1,
   "metadata": {
    "collapsed": false,
    "scrolled": true
   },
   "outputs": [
    {
     "name": "stdout",
     "output_type": "stream",
     "text": [
      "The Zen of Python, by Tim Peters\n",
      "\n",
      "Beautiful is better than ugly.\n",
      "Explicit is better than implicit.\n",
      "Simple is better than complex.\n",
      "Complex is better than complicated.\n",
      "Flat is better than nested.\n",
      "Sparse is better than dense.\n",
      "Readability counts.\n",
      "Special cases aren't special enough to break the rules.\n",
      "Although practicality beats purity.\n",
      "Errors should never pass silently.\n",
      "Unless explicitly silenced.\n",
      "In the face of ambiguity, refuse the temptation to guess.\n",
      "There should be one-- and preferably only one --obvious way to do it.\n",
      "Although that way may not be obvious at first unless you're Dutch.\n",
      "Now is better than never.\n",
      "Although never is often better than *right* now.\n",
      "If the implementation is hard to explain, it's a bad idea.\n",
      "If the implementation is easy to explain, it may be a good idea.\n",
      "Namespaces are one honking great idea -- let's do more of those!\n"
     ]
    }
   ],
   "source": [
    "import this"
   ]
  },
  {
   "cell_type": "markdown",
   "metadata": {
    "slideshow": {
     "slide_type": "notes"
    }
   },
   "source": [
    "Make sure you now type `source activate python_workshop` on UNIX based systems and `activate python_workshop` - this may not be necassary if you have nb_conda_kernels installed."
   ]
  },
  {
   "cell_type": "code",
   "execution_count": null,
   "metadata": {
    "collapsed": true
   },
   "outputs": [],
   "source": []
  },
  {
   "cell_type": "markdown",
   "metadata": {},
   "source": [
    "## Very basic syntax"
   ]
  },
  {
   "cell_type": "code",
   "execution_count": 10,
   "metadata": {
    "collapsed": true
   },
   "outputs": [],
   "source": [
    "def say_hello(name, indent=0):\n",
    "    string = \" \"*indent\n",
    "    print(string + \"Hello {}!\".format(name))"
   ]
  },
  {
   "cell_type": "code",
   "execution_count": 11,
   "metadata": {
    "collapsed": false
   },
   "outputs": [
    {
     "name": "stdout",
     "output_type": "stream",
     "text": [
      "Hello John!\n"
     ]
    }
   ],
   "source": [
    "say_hello(\"John\")"
   ]
  },
  {
   "cell_type": "code",
   "execution_count": 12,
   "metadata": {
    "collapsed": false
   },
   "outputs": [
    {
     "name": "stdout",
     "output_type": "stream",
     "text": [
      "    Hello Duncan!\n"
     ]
    }
   ],
   "source": [
    "say_hello(\"Duncan\", 4)"
   ]
  },
  {
   "cell_type": "code",
   "execution_count": 13,
   "metadata": {
    "collapsed": false
   },
   "outputs": [
    {
     "name": "stdout",
     "output_type": "stream",
     "text": [
      "    Hello 3!\n"
     ]
    }
   ],
   "source": [
    "say_hello(3, 4)"
   ]
  },
  {
   "cell_type": "code",
   "execution_count": null,
   "metadata": {
    "collapsed": true
   },
   "outputs": [],
   "source": [
    "# List comprehensions, loops and logic"
   ]
  }
 ],
 "metadata": {
  "anaconda-cloud": {},
  "celltoolbar": "Slideshow",
  "kernelspec": {
   "display_name": "Python [conda env:cis_env]",
   "language": "python",
   "name": "conda-env-cis_env-py"
  },
  "language_info": {
   "codemirror_mode": {
    "name": "ipython",
    "version": 3
   },
   "file_extension": ".py",
   "mimetype": "text/x-python",
   "name": "python",
   "nbconvert_exporter": "python",
   "pygments_lexer": "ipython3",
   "version": "3.5.2"
  }
 },
 "nbformat": 4,
 "nbformat_minor": 1
}
