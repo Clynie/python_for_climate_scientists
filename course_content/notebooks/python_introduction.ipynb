{
 "cells": [
  {
   "cell_type": "markdown",
   "metadata": {
    "slideshow": {
     "slide_type": "slide"
    }
   },
   "source": [
    "# Python 101"
   ]
  },
  {
   "cell_type": "markdown",
   "metadata": {
    "slideshow": {
     "slide_type": "notes"
    }
   },
   "source": [
    "This introduction is based heavily on the introduction notes found here: https://github.com/scipy-lectures/scipy-lecture-notes"
   ]
  },
  {
   "cell_type": "markdown",
   "metadata": {
    "slideshow": {
     "slide_type": "slide"
    }
   },
   "source": [
    "## The (climate) scientists needs"
   ]
  },
  {
   "cell_type": "markdown",
   "metadata": {
    "slideshow": {
     "slide_type": "fragment"
    }
   },
   "source": [
    " * To get, potentially very large, datasets from simulation, observation, or experiment\n",
    " * To manipulate and process it\n",
    " * To visualize results, quickly to understand, but also with high quality figures, for reports or publications."
   ]
  },
  {
   "cell_type": "markdown",
   "metadata": {
    "slideshow": {
     "slide_type": "slide"
    }
   },
   "source": [
    "## Why Python"
   ]
  },
  {
   "cell_type": "markdown",
   "metadata": {
    "slideshow": {
     "slide_type": "notes"
    }
   },
   "source": [
    "I've used pretty much every programming language you can think of... MatLab, IDL, Fortran, C++, C#, Java,... But Python, for me anyway, is the best of the lot. It's flexible, fast, easy to read and portable across all sorts of machines and architectures."
   ]
  },
  {
   "cell_type": "markdown",
   "metadata": {
    "slideshow": {
     "slide_type": "fragment"
    }
   },
   "source": [
    " * **Batteries included** Rich collection of already existing *bricks* of classic numerical methods, plotting or data processing tools. \n",
    " * **Easy to learn** Most scientists are not payed as programmers, neither have they been trained so. \n",
    " * **Easy communication** To keep code alive within a lab or a company it should be as readable as a book by collaborators, students, or maybe customers. \n",
    " * **Efficient code** Python numerical modules are computationally efficient. \n",
    " * **Universal** Python is a language used for many different problems. \n",
    " * **Free** As in freedom. Python and it's libraries are all open-source and freely available"
   ]
  },
  {
   "cell_type": "markdown",
   "metadata": {
    "slideshow": {
     "slide_type": "skip"
    }
   },
   "source": [
    "Let's compare a bit more specifically against some other languages we might use:"
   ]
  },
  {
   "cell_type": "markdown",
   "metadata": {
    "slideshow": {
     "slide_type": "skip"
    }
   },
   "source": [
    "### Compiled languages: C, C++, Fortran..."
   ]
  },
  {
   "cell_type": "markdown",
   "metadata": {
    "slideshow": {
     "slide_type": "skip"
    }
   },
   "source": [
    "<tr>\n",
    "<th>Pros</th>\n",
    "<td>\n",
    "   <ul>\n",
    "    <li>Very fast. For heavy computations, it's difficult to outperform these languages.</li>\n",
    "   </ul>\n",
    " </td>\n",
    "</tr>\n",
    "<tr>\n",
    "<th>Cons</th>\n",
    "<td>\n",
    "   <ul>\n",
    "    <li>Painful usage: no interactivity during development, mandatory compilation steps, verbose syntax, manual memory management. These are **difficult languages** for non programmers.</li>\n",
    "   </ul>\n",
    "</td>\n",
    "</tr>"
   ]
  },
  {
   "cell_type": "markdown",
   "metadata": {
    "slideshow": {
     "slide_type": "skip"
    }
   },
   "source": [
    "### Matlab"
   ]
  },
  {
   "cell_type": "markdown",
   "metadata": {
    "slideshow": {
     "slide_type": "skip"
    }
   },
   "source": [
    "<tr>\n",
    "<th>Pros</th>\n",
    "<td>\n",
    "   <ul>\n",
    "    <li>Very rich collection of fast libraries with numerous algorithms, for many different domains.</li>\n",
    "    <li>Pleasant development environment: comprehensive and help, integrated editor, etc.</li>\n",
    "    <li>Commercial support is available.</li>\n",
    "   </ul>\n",
    " </td>\n",
    "</tr>\n",
    "<tr>\n",
    "<th>Cons</th>\n",
    "<td>\n",
    "   <ul>\n",
    "    <li>Base language is quite poor and can become restrictive for advanced users.</li>\n",
    "    <li>Not free.</li>\n",
    "   </ul>\n",
    "</td>\n",
    "</tr>"
   ]
  },
  {
   "cell_type": "markdown",
   "metadata": {
    "slideshow": {
     "slide_type": "skip"
    }
   },
   "source": [
    "### Julia"
   ]
  },
  {
   "cell_type": "markdown",
   "metadata": {
    "slideshow": {
     "slide_type": "skip"
    }
   },
   "source": [
    "<tr>\n",
    "<th>Pros</th>\n",
    "<td>\n",
    "   <ul>\n",
    "    <li>Fast code, yet interactive and simple.</li>\n",
    "    <li>Easily connects to Python or C.</li>\n",
    "   </ul>\n",
    " </td>\n",
    "</tr>\n",
    "<tr>\n",
    "<th>Cons</th>\n",
    "<td>\n",
    "   <ul>\n",
    "    <li>Ecosystem limited to numerical computing.</li>\n",
    "    <li>Still young.</li>\n",
    "   </ul>\n",
    "</td>\n",
    "</tr>"
   ]
  },
  {
   "cell_type": "markdown",
   "metadata": {
    "slideshow": {
     "slide_type": "skip"
    }
   },
   "source": [
    "### Other scripting languages: Scilab, Octave, R, IDL, etc."
   ]
  },
  {
   "cell_type": "markdown",
   "metadata": {
    "slideshow": {
     "slide_type": "skip"
    }
   },
   "source": [
    "<tr>\n",
    "<th>Pros</th>\n",
    "<td>\n",
    "   <ul>\n",
    "    <li>Open-source, free, or at least cheaper than Matlab.</li>\n",
    "    <li>Some features can be very advanced (statistics in R, etc.)</li>\n",
    "   </ul>\n",
    " </td>\n",
    "</tr>\n",
    "<tr>\n",
    "<th>Cons</th>\n",
    "<td>\n",
    "   <ul>\n",
    "    <li>Fewer available algorithms than in Matlab, and the language is not more advanced.</li>\n",
    "    <li>Some software are dedicated to one domain. </li>\n",
    "   </ul>\n",
    "</td>\n",
    "</tr>"
   ]
  },
  {
   "cell_type": "markdown",
   "metadata": {
    "slideshow": {
     "slide_type": "skip"
    }
   },
   "source": [
    "### Python"
   ]
  },
  {
   "cell_type": "markdown",
   "metadata": {
    "slideshow": {
     "slide_type": "skip"
    }
   },
   "source": [
    "<tr>\n",
    "<th>Pros</th>\n",
    "<td>\n",
    "   <ul>\n",
    "    <li>Very rich scientific computing libraries (amonst others - web server, serial port access, etc.).</li>\n",
    "    <li>Well thought out language, allowing to write very readable and well structured code: we “code what we think”.</li>\n",
    "    <li>Free and open-source software, widely spread, with a vibrant community.</li>\n",
    "    <li>A variety of powerful environments to work in, such as IPython, Spyder, Jupyter notebooks, Pycharm</li>\n",
    "   </ul>\n",
    " </td>\n",
    "</tr>\n",
    "<tr>\n",
    "<th>Cons</th>\n",
    "<td>\n",
    "   <ul>\n",
    "    <li>Not all the algorithms that can be found in more specialized software or toolboxes.</li>\n",
    "   </ul>\n",
    "</td>\n",
    "</tr>"
   ]
  },
  {
   "cell_type": "markdown",
   "metadata": {
    "slideshow": {
     "slide_type": "slide"
    }
   },
   "source": [
    "## The scientific Python ecosystem"
   ]
  },
  {
   "cell_type": "markdown",
   "metadata": {
    "slideshow": {
     "slide_type": "fragment"
    }
   },
   "source": [
    "Unlike Matlab, or R, Python does not come with a pre-bundled set of modules for scientific computing. Below are the basic building blocks that can be combined to obtain a scientific computing environment:"
   ]
  },
  {
   "cell_type": "markdown",
   "metadata": {
    "slideshow": {
     "slide_type": "subslide"
    }
   },
   "source": [
    "### Core Python\n",
    "\n",
    " * The language: flow control, data types (string, int), data collections (lists, dictionaries), etc.\n",
    " * Modules of the standard library: string processing, file management, simple network protocols."
   ]
  },
  {
   "cell_type": "markdown",
   "metadata": {
    "slideshow": {
     "slide_type": "subslide"
    }
   },
   "source": [
    "### Core numeric libraries\n",
    "\n",
    " * Numpy - Numerical array types and operations\n",
    " * Matplotlib - General plotting routines modelled on MatLab\n",
    " * SciPy - Fast linear algebra and optimisation routines"
   ]
  },
  {
   "cell_type": "markdown",
   "metadata": {
    "slideshow": {
     "slide_type": "subslide"
    }
   },
   "source": [
    "### Domain specific libraries\n",
    "\n",
    " * Iris - For working with model data\n",
    " * CIS - For working with observational data and collocation\n",
    " * Pandas - Extensive (time)-series analysis routines\n",
    " * sci-kit-learn - Machine learning algorithms\n",
    " * ..."
   ]
  },
  {
   "cell_type": "markdown",
   "metadata": {
    "slideshow": {
     "slide_type": "slide"
    }
   },
   "source": [
    "## Managing libraries: Conda\n",
    "\n",
    "There are many ways of downloading, installing and managing the various Python installations and libraries, but the easiest and most comprehensive is currently using a tool called Conda.\n",
    "\n",
    "This is an open source tool included with the Anaconda distribution."
   ]
  },
  {
   "cell_type": "markdown",
   "metadata": {
    "slideshow": {
     "slide_type": "subslide"
    }
   },
   "source": [
    "<img src=\"../images/conda-environments.png\" >"
   ]
  },
  {
   "cell_type": "markdown",
   "metadata": {
    "collapsed": true,
    "slideshow": {
     "slide_type": "slide"
    }
   },
   "source": [
    "## Working in Python"
   ]
  },
  {
   "cell_type": "markdown",
   "metadata": {
    "slideshow": {
     "slide_type": "notes"
    }
   },
   "source": [
    "Make sure you now type `source activate python_workshop` on UNIX based systems and `activate python_workshop` - this may not be necassary if you have nb_conda_kernels installed."
   ]
  },
  {
   "cell_type": "markdown",
   "metadata": {
    "slideshow": {
     "slide_type": "subslide"
    }
   },
   "source": [
    "Python is an interpreted language and there is more than one interpreter we can use:\n",
    " * python - The basic built-in interpreter\n",
    " * iPython - A more feature rich interpreter with tab-completion, shell access and inline plots\n",
    " * Jupyter (iPython) notebooks - A web based iPython interpreter with markdown (and $\\LaTeX$!) support"
   ]
  },
  {
   "cell_type": "markdown",
   "metadata": {
    "slideshow": {
     "slide_type": "notes"
    }
   },
   "source": [
    "For this course we will be using the iPython notebooks - these are great for working interactively and storing the results, as well the code and any notes we might want to make. For script development you can use a basic text editor or an IDE (or anything in between), we'll be exploring PyCharm later in the course"
   ]
  },
  {
   "cell_type": "markdown",
   "metadata": {
    "slideshow": {
     "slide_type": "slide"
    }
   },
   "source": [
    "## Basic syntax"
   ]
  },
  {
   "cell_type": "code",
   "execution_count": null,
   "metadata": {
    "slideshow": {
     "slide_type": "subslide"
    }
   },
   "outputs": [],
   "source": [
    "# The obligatory hello world...\n",
    "print(\"Hello world!\")"
   ]
  },
  {
   "cell_type": "code",
   "execution_count": null,
   "metadata": {
    "collapsed": true,
    "slideshow": {
     "slide_type": "subslide"
    }
   },
   "outputs": [],
   "source": [
    "an_integer = 9\n",
    "a_float = 2.5\n",
    "a_string = \"blah\"\n",
    "a_complex_number = 2.0 + 2.3j"
   ]
  },
  {
   "cell_type": "code",
   "execution_count": null,
   "metadata": {
    "slideshow": {
     "slide_type": "subslide"
    }
   },
   "outputs": [],
   "source": [
    "# Note that variables are case-sensitive\n",
    "a = 1\n",
    "A = 2\n",
    "print(a, A)"
   ]
  },
  {
   "cell_type": "code",
   "execution_count": null,
   "metadata": {
    "slideshow": {
     "slide_type": "subslide"
    }
   },
   "outputs": [],
   "source": [
    "# And can be dynamically reassigned\n",
    "an_integer = 7\n",
    "print(an_integer) "
   ]
  },
  {
   "cell_type": "markdown",
   "metadata": {
    "slideshow": {
     "slide_type": "subslide"
    }
   },
   "source": [
    "### Operations"
   ]
  },
  {
   "cell_type": "code",
   "execution_count": null,
   "metadata": {
    "slideshow": {
     "slide_type": "fragment"
    }
   },
   "outputs": [],
   "source": [
    "print(an_integer * 3)\n",
    "print(a_float + 3)\n",
    "print(an_integer / 4)\n",
    "print(a_complex_number ** 2)\n",
    "print(a_string * 2)"
   ]
  },
  {
   "cell_type": "markdown",
   "metadata": {
    "slideshow": {
     "slide_type": "subslide"
    }
   },
   "source": [
    "### Functions"
   ]
  },
  {
   "cell_type": "code",
   "execution_count": null,
   "metadata": {
    "collapsed": true,
    "slideshow": {
     "slide_type": "fragment"
    }
   },
   "outputs": [],
   "source": [
    "def say_hello(name): \n",
    "    print(\"Hello {}!\".format(name))"
   ]
  },
  {
   "cell_type": "code",
   "execution_count": null,
   "metadata": {
    "slideshow": {
     "slide_type": "fragment"
    }
   },
   "outputs": [],
   "source": [
    "say_hello(\"world\")"
   ]
  },
  {
   "cell_type": "code",
   "execution_count": null,
   "metadata": {
    "collapsed": true,
    "slideshow": {
     "slide_type": "subslide"
    }
   },
   "outputs": [],
   "source": [
    "def say_hello(name, indent=0):\n",
    "    padding = \" \"*indent\n",
    "    print(padding + \"Hello {}!\".format(name))"
   ]
  },
  {
   "cell_type": "code",
   "execution_count": null,
   "metadata": {
    "slideshow": {
     "slide_type": "fragment"
    }
   },
   "outputs": [],
   "source": [
    "say_hello(\"Duncan\", indent=4)"
   ]
  },
  {
   "cell_type": "code",
   "execution_count": null,
   "metadata": {
    "scrolled": true,
    "slideshow": {
     "slide_type": "fragment"
    }
   },
   "outputs": [],
   "source": [
    "say_hello(3, 4.2)"
   ]
  },
  {
   "cell_type": "markdown",
   "metadata": {
    "slideshow": {
     "slide_type": "subslide"
    }
   },
   "source": [
    "### Comments"
   ]
  },
  {
   "cell_type": "code",
   "execution_count": null,
   "metadata": {
    "collapsed": true,
    "slideshow": {
     "slide_type": "fragment"
    }
   },
   "outputs": [],
   "source": [
    "# This is a comment\n",
    "pass  # This is also a comment!"
   ]
  },
  {
   "cell_type": "code",
   "execution_count": null,
   "metadata": {
    "collapsed": true,
    "slideshow": {
     "slide_type": "subslide"
    }
   },
   "outputs": [],
   "source": [
    "def nicely_documented_function(oranges):\n",
    "    \"\"\"\n",
    "    This function takes a list of oranges and returns orange juice\n",
    "    \n",
    "    :param list oranges: The oranges to be juiced\n",
    "    \"\"\"\n",
    "    pass"
   ]
  },
  {
   "cell_type": "code",
   "execution_count": null,
   "metadata": {
    "slideshow": {
     "slide_type": "fragment"
    }
   },
   "outputs": [],
   "source": [
    "help(nicely_documented_function)"
   ]
  },
  {
   "cell_type": "markdown",
   "metadata": {
    "slideshow": {
     "slide_type": "slide"
    }
   },
   "source": [
    "## Containers"
   ]
  },
  {
   "cell_type": "markdown",
   "metadata": {
    "slideshow": {
     "slide_type": "subslide"
    }
   },
   "source": [
    "### Lists"
   ]
  },
  {
   "cell_type": "code",
   "execution_count": null,
   "metadata": {
    "collapsed": true,
    "slideshow": {
     "slide_type": "fragment"
    }
   },
   "outputs": [],
   "source": [
    "assorted_stuff = [\"dog\", 3, 2.34, \"cat\"]"
   ]
  },
  {
   "cell_type": "code",
   "execution_count": null,
   "metadata": {
    "slideshow": {
     "slide_type": "fragment"
    }
   },
   "outputs": [],
   "source": [
    "assorted_stuff[0]"
   ]
  },
  {
   "cell_type": "code",
   "execution_count": null,
   "metadata": {
    "slideshow": {
     "slide_type": "subslide"
    }
   },
   "outputs": [],
   "source": [
    "assorted_stuff[1:]"
   ]
  },
  {
   "cell_type": "code",
   "execution_count": null,
   "metadata": {
    "slideshow": {
     "slide_type": "subslide"
    }
   },
   "outputs": [],
   "source": [
    "assorted_stuff[::-1]"
   ]
  },
  {
   "cell_type": "markdown",
   "metadata": {
    "slideshow": {
     "slide_type": "subslide"
    }
   },
   "source": [
    "### Loops"
   ]
  },
  {
   "cell_type": "code",
   "execution_count": null,
   "metadata": {
    "slideshow": {
     "slide_type": "fragment"
    }
   },
   "outputs": [],
   "source": [
    "for item in assorted_stuff:\n",
    "    print(item)\n",
    "    \n",
    "print(\"Done.\")"
   ]
  },
  {
   "cell_type": "markdown",
   "metadata": {
    "collapsed": true,
    "slideshow": {
     "slide_type": "subslide"
    }
   },
   "source": [
    "Sometimes it's useful to also have a loop counter, the `enumerate` function can do this"
   ]
  },
  {
   "cell_type": "code",
   "execution_count": null,
   "metadata": {
    "slideshow": {
     "slide_type": "fragment"
    }
   },
   "outputs": [],
   "source": [
    "for n, item in enumerate(assorted_stuff):\n",
    "    print(item, n)\n",
    "    \n",
    "print(\"Done.\")"
   ]
  },
  {
   "cell_type": "markdown",
   "metadata": {
    "slideshow": {
     "slide_type": "subslide"
    }
   },
   "source": [
    "### List comprehensions\n",
    "\n",
    "We can also easily create lists programatically using loops. These are called 'list comprehensions'"
   ]
  },
  {
   "cell_type": "code",
   "execution_count": null,
   "metadata": {
    "slideshow": {
     "slide_type": "fragment"
    }
   },
   "outputs": [],
   "source": [
    "some_integers = [i for i in range(10)]\n",
    "some_integers"
   ]
  },
  {
   "cell_type": "markdown",
   "metadata": {
    "slideshow": {
     "slide_type": "subslide"
    }
   },
   "source": [
    "### Dictionaries"
   ]
  },
  {
   "cell_type": "code",
   "execution_count": null,
   "metadata": {
    "collapsed": true,
    "slideshow": {
     "slide_type": "fragment"
    }
   },
   "outputs": [],
   "source": [
    "# A collection of key-value pairs\n",
    "simple_lookup = {\"red\": 5, \"green\": 12, \"blue\": [0.5, 45.8]}"
   ]
  },
  {
   "cell_type": "code",
   "execution_count": null,
   "metadata": {
    "slideshow": {
     "slide_type": "subslide"
    }
   },
   "outputs": [],
   "source": [
    "print(simple_lookup[\"red\"])"
   ]
  },
  {
   "cell_type": "code",
   "execution_count": null,
   "metadata": {},
   "outputs": [],
   "source": [
    "print(simple_lookup[\"blue\"][0])"
   ]
  },
  {
   "cell_type": "code",
   "execution_count": null,
   "metadata": {
    "slideshow": {
     "slide_type": "fragment"
    }
   },
   "outputs": [],
   "source": [
    "print(simple_lookup[\"yellow\"])"
   ]
  },
  {
   "cell_type": "code",
   "execution_count": null,
   "metadata": {
    "slideshow": {
     "slide_type": "subslide"
    }
   },
   "outputs": [],
   "source": [
    "print(simple_lookup.get(\"yellow\", 0))"
   ]
  },
  {
   "cell_type": "code",
   "execution_count": null,
   "metadata": {
    "slideshow": {
     "slide_type": "fragment"
    }
   },
   "outputs": [],
   "source": [
    "simple_lookup[\"orange\"] = 15\n",
    "print(simple_lookup)"
   ]
  },
  {
   "cell_type": "code",
   "execution_count": null,
   "metadata": {
    "slideshow": {
     "slide_type": "subslide"
    }
   },
   "outputs": [],
   "source": [
    "simple_lookup[4] = \"brown\"\n",
    "print(simple_lookup[4])"
   ]
  },
  {
   "cell_type": "markdown",
   "metadata": {
    "slideshow": {
     "slide_type": "notes"
    }
   },
   "source": [
    "There are other containers too, but we won't cover them here. Most useful are probably [sets](https://docs.python.org/3.5/tutorial/datastructures.html#sets) and [named tuples](https://docs.python.org/3.5/library/collections.html#collections.namedtuple)."
   ]
  },
  {
   "cell_type": "markdown",
   "metadata": {
    "slideshow": {
     "slide_type": "slide"
    }
   },
   "source": [
    "## Logic"
   ]
  },
  {
   "cell_type": "code",
   "execution_count": null,
   "metadata": {
    "slideshow": {
     "slide_type": "fragment"
    }
   },
   "outputs": [],
   "source": [
    "# Simple conditional statements\n",
    "variable = 0.95\n",
    "if variable > 0.9:\n",
    "    print(\"On\")"
   ]
  },
  {
   "cell_type": "code",
   "execution_count": null,
   "metadata": {
    "slideshow": {
     "slide_type": "subslide"
    }
   },
   "outputs": [],
   "source": [
    "if variable > 0.9:\n",
    "    print(\"On\")\n",
    "elif variable < 0.1:\n",
    "    print(\"Off\")\n",
    "elif 0.4 < variable < 0.6:\n",
    "    print(\"Intermediate\")\n",
    "else:\n",
    "    print(\"Unknown\")"
   ]
  },
  {
   "cell_type": "code",
   "execution_count": null,
   "metadata": {
    "collapsed": true
   },
   "outputs": [],
   "source": [
    "# Python will 'short-cut' logic statements\n",
    "if \"orange\" in simple_lookup and simple_lookup[\"orange\"] > 10:\n",
    "    print(simple_lookup[\"orange\"])"
   ]
  },
  {
   "cell_type": "code",
   "execution_count": null,
   "metadata": {
    "slideshow": {
     "slide_type": "subslide"
    }
   },
   "outputs": [],
   "source": [
    "switch = \"On\" if abs(variable-1.0) < 0.1 else \"Off\"\n",
    "print(switch)"
   ]
  }
 ],
 "metadata": {
  "anaconda-cloud": {},
  "celltoolbar": "Slideshow",
  "kernelspec": {
   "display_name": "Python [conda env:python_workshop]",
   "language": "python",
   "name": "conda-env-python_workshop-py"
  },
  "language_info": {
   "codemirror_mode": {
    "name": "ipython",
    "version": 3
   },
   "file_extension": ".py",
   "mimetype": "text/x-python",
   "name": "python",
   "nbconvert_exporter": "python",
   "pygments_lexer": "ipython3",
   "version": "3.5.4"
  },
  "livereveal": {
   "height": 768,
   "scroll": true,
   "start_slideshow_at": "selected",
   "width": 1024
  }
 },
 "nbformat": 4,
 "nbformat_minor": 1
}
