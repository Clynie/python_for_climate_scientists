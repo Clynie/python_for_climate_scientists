{
 "cells": [
  {
   "cell_type": "markdown",
   "metadata": {
    "slideshow": {
     "slide_type": "slide"
    }
   },
   "source": [
    "## A final exercise\n",
    "\n",
    "This exercise puts together many of the topics covered in this session."
   ]
  },
  {
   "cell_type": "markdown",
   "metadata": {},
   "source": [
    "1\\. Load the single cube from the file `iris.sample_data_path('SOI_Darwin.nc')`. This contains monthly values of the Southern Oscillation Index."
   ]
  },
  {
   "cell_type": "code",
   "execution_count": 1,
   "metadata": {
    "collapsed": false
   },
   "outputs": [
    {
     "name": "stdout",
     "output_type": "stream",
     "text": [
      "SOI_Darwin / (1)                    (time: 1776)\n",
      "     Dimension coordinates:\n",
      "          time                           x\n",
      "     Attributes:\n",
      "          Conventions: CF-1.5\n",
      "          reference: Trenberth K. E. (1984) Signal Versus Noise in the Southern Oscillation....\n",
      "          source: http://www.cgd.ucar.edu/cas/catalog/climind/SOI.nc\n"
     ]
    },
    {
     "name": "stderr",
     "output_type": "stream",
     "text": [
      "/network/home/aopp/dawson/miniconda/envs/pfcs3/lib/python3.5/site-packages/iris/fileformats/cf.py:1140: IrisDeprecation: NetCDF default loading behaviour currently does not expose variables which define reference surfaces for dimensionless vertical coordinates as independent Cubes. This behaviour is deprecated in favour of automatic promotion to Cubes. To switch to the new behaviour, set iris.FUTURE.netcdf_promote to True.\n",
      "  warn_deprecated(msg)\n"
     ]
    }
   ],
   "source": [
    "import iris\n",
    "\n",
    "soi = iris.load_cube(iris.sample_data_path('SOI_Darwin.nc'))\n",
    "print(soi)"
   ]
  },
  {
   "cell_type": "markdown",
   "metadata": {},
   "source": [
    "2\\. Add two new coordinates based upon the time coordinate, one categorising the meteorological season, and one the year the season was in (hint: add_season and add_season_year are pre-defined). Examine the resulting coordinates."
   ]
  },
  {
   "cell_type": "code",
   "execution_count": 2,
   "metadata": {
    "collapsed": false
   },
   "outputs": [
    {
     "name": "stdout",
     "output_type": "stream",
     "text": [
      "SOI_Darwin / (1)                    (time: 1776)\n",
      "     Dimension coordinates:\n",
      "          time                           x\n",
      "     Auxiliary coordinates:\n",
      "          season                         x\n",
      "          season_year                    x\n",
      "     Attributes:\n",
      "          Conventions: CF-1.5\n",
      "          reference: Trenberth K. E. (1984) Signal Versus Noise in the Southern Oscillation....\n",
      "          source: http://www.cgd.ucar.edu/cas/catalog/climind/SOI.nc\n"
     ]
    }
   ],
   "source": [
    "import iris.coord_categorisation as coord_cat\n",
    "\n",
    "coord_cat.add_season(soi, 'time')\n",
    "coord_cat.add_season_year(soi, 'time')\n",
    "print(soi)"
   ]
  },
  {
   "cell_type": "markdown",
   "metadata": {},
   "source": [
    "3\\. Compute the seasonal means from this cube (i.e. average together the times within in each individual season). You should end up with a time series of length 593 (hint: you can specify two coordinates to aggregate over)."
   ]
  },
  {
   "cell_type": "code",
   "execution_count": 3,
   "metadata": {
    "collapsed": false
   },
   "outputs": [
    {
     "name": "stdout",
     "output_type": "stream",
     "text": [
      "SOI_Darwin / (1)                    (time: 593)\n",
      "     Dimension coordinates:\n",
      "          time                           x\n",
      "     Auxiliary coordinates:\n",
      "          season                         x\n",
      "          season_year                    x\n",
      "     Attributes:\n",
      "          Conventions: CF-1.5\n",
      "          reference: Trenberth K. E. (1984) Signal Versus Noise in the Southern Oscillation....\n",
      "          source: http://www.cgd.ucar.edu/cas/catalog/climind/SOI.nc\n",
      "     Cell methods:\n",
      "          mean: season, season_year\n"
     ]
    }
   ],
   "source": [
    "soi_seasons = soi.aggregated_by(['season', 'season_year'],\n",
    "                                iris.analysis.MEAN)\n",
    "print(soi_seasons)"
   ]
  },
  {
   "cell_type": "markdown",
   "metadata": {},
   "source": [
    "4\\. Now compute the seasonal climatology. You should end up with a cube of size 4, one point per season (hint: you can use aggregated_by again)."
   ]
  },
  {
   "cell_type": "code",
   "execution_count": 4,
   "metadata": {
    "collapsed": false
   },
   "outputs": [
    {
     "name": "stdout",
     "output_type": "stream",
     "text": [
      "SOI_Darwin / (1)                    (-- : 4)\n",
      "     Auxiliary coordinates:\n",
      "          season                        x\n",
      "          season_year                   x\n",
      "          time                          x\n",
      "     Attributes:\n",
      "          Conventions: CF-1.5\n",
      "          reference: Trenberth K. E. (1984) Signal Versus Noise in the Southern Oscillation....\n",
      "          source: http://www.cgd.ucar.edu/cas/catalog/climind/SOI.nc\n",
      "     Cell methods:\n",
      "          mean: season\n"
     ]
    }
   ],
   "source": [
    "soi_clims = soi.aggregated_by('season', iris.analysis.MEAN)\n",
    "print(soi_clims)"
   ]
  },
  {
   "cell_type": "markdown",
   "metadata": {},
   "source": [
    "5\\. Extract the DJF season from both the climatology and seasonal means. Use these to compute a time series of DJF anomalies with respect to the DJF mean (hint: remember you can subtract cubes of different dimensionality)."
   ]
  },
  {
   "cell_type": "code",
   "execution_count": 5,
   "metadata": {
    "collapsed": false
   },
   "outputs": [
    {
     "name": "stdout",
     "output_type": "stream",
     "text": [
      "SOI_Darwin / (1)                    (time: 149)\n",
      "     Dimension coordinates:\n",
      "          time                           x\n",
      "     Auxiliary coordinates:\n",
      "          season                         x\n",
      "          season_year                    x\n",
      "     Attributes:\n",
      "          Conventions: CF-1.5\n",
      "          reference: Trenberth K. E. (1984) Signal Versus Noise in the Southern Oscillation....\n",
      "          source: http://www.cgd.ucar.edu/cas/catalog/climind/SOI.nc\n",
      "     Cell methods:\n",
      "          mean: season, season_year\n",
      "SOI_Darwin / (1)                    (scalar cube)\n",
      "     Scalar coordinates:\n",
      "          season: djf\n",
      "          season_year: 1940.0, bound=(1866, 2014)\n",
      "          time: 1939-12-17 12:00:00, bound=(1866-01-01 00:00:00, 2013-12-01 00:00:00)\n",
      "     Attributes:\n",
      "          Conventions: CF-1.5\n",
      "          reference: Trenberth K. E. (1984) Signal Versus Noise in the Southern Oscillation....\n",
      "          source: http://www.cgd.ucar.edu/cas/catalog/climind/SOI.nc\n",
      "     Cell methods:\n",
      "          mean: season\n",
      "unknown / (1)                       (time: 149)\n",
      "     Dimension coordinates:\n",
      "          time                           x\n",
      "     Auxiliary coordinates:\n",
      "          season                         x\n",
      "          season_year                    x\n"
     ]
    }
   ],
   "source": [
    "winter = iris.Constraint(season='djf')\n",
    "\n",
    "soi_djf = soi_seasons.extract(winter)\n",
    "soi_djf_mean = soi_clims.extract(winter)\n",
    "print(soi_djf)\n",
    "print(soi_djf_mean)\n",
    "\n",
    "soi_djf_anoms = soi_djf - soi_djf_mean\n",
    "print(soi_djf_anoms)"
   ]
  },
  {
   "cell_type": "markdown",
   "metadata": {},
   "source": [
    "6\\. Finally, give the DJF anomalies cube a sensible name and plot the time-series with labelled axes."
   ]
  },
  {
   "cell_type": "code",
   "execution_count": 6,
   "metadata": {
    "collapsed": false
   },
   "outputs": [
    {
     "data": {
      "image/png": "[encoded data removed]",
      "text/plain": [
       "<matplotlib.figure.Figure at 0x7f39441e0da0>"
      ]
     },
     "metadata": {},
     "output_type": "display_data"
    }
   ],
   "source": [
    "import iris.quickplot as qplt\n",
    "\n",
    "soi_djf_anoms.rename('SOI_Darwin_anomalies')\n",
    "qplt.plot(soi_djf_anoms)\n",
    "qplt.show()"
   ]
  },
  {
   "cell_type": "code",
   "execution_count": null,
   "metadata": {
    "collapsed": true
   },
   "outputs": [],
   "source": []
  }
 ],
 "metadata": {
  "anaconda-cloud": {},
  "celltoolbar": "Slideshow",
  "kernelspec": {
   "display_name": "Python [default]",
   "language": "python",
   "name": "python3"
  },
  "language_info": {
   "codemirror_mode": {
    "name": "ipython",
    "version": 3
   },
   "file_extension": ".py",
   "mimetype": "text/x-python",
   "name": "python",
   "nbconvert_exporter": "python",
   "pygments_lexer": "ipython3",
   "version": "3.5.2"
  },
  "livereveal": {
   "start_slideshow_at": "selected"
  }
 },
 "nbformat": 4,
 "nbformat_minor": 1
}
