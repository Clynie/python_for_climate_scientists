{
 "cells": [
  {
   "cell_type": "markdown",
   "metadata": {},
   "source": [
    "## Exercise 1:\n",
    "\n",
    "1\\. Using the file in ``iris.sample_data_path('atlantic_profiles.nc')`` load the data and print the cube list. Store these cubes in a variable called cubes."
   ]
  },
  {
   "cell_type": "code",
   "execution_count": 1,
   "metadata": {
    "collapsed": false
   },
   "outputs": [
    {
     "name": "stderr",
     "output_type": "stream",
     "text": [
      "/Users/dawson/miniconda3/envs/pfcs/lib/python3.5/site-packages/iris/fileformats/cf.py:1140: IrisDeprecation: NetCDF default loading behaviour currently does not expose variables which define reference surfaces for dimensionless vertical coordinates as independent Cubes. This behaviour is deprecated in favour of automatic promotion to Cubes. To switch to the new behaviour, set iris.FUTURE.netcdf_promote to True.\n",
      "  warn_deprecated(msg)\n"
     ]
    }
   ],
   "source": [
    "import iris\n",
    "\n",
    "fname = iris.sample_data_path('atlantic_profiles.nc')\n",
    "cubes = iris.load(fname)"
   ]
  },
  {
   "cell_type": "markdown",
   "metadata": {},
   "source": [
    "2\\. Print a sorted list of unique names for the cubes."
   ]
  },
  {
   "cell_type": "code",
   "execution_count": 2,
   "metadata": {
    "collapsed": false
   },
   "outputs": [
    {
     "name": "stdout",
     "output_type": "stream",
     "text": [
      "['sea_water_potential_temperature', 'sea_water_practical_salinity']\n"
     ]
    }
   ],
   "source": [
    "print(sorted([cube.name() for cube in cubes]))"
   ]
  },
  {
   "cell_type": "markdown",
   "metadata": {},
   "source": [
    "3\\. Extract the \"sea_water_potential_temperature\" cube. Print the minimum, maximum, mean and standard deviation of the cube's data."
   ]
  },
  {
   "cell_type": "code",
   "execution_count": 3,
   "metadata": {
    "collapsed": false
   },
   "outputs": [
    {
     "name": "stdout",
     "output_type": "stream",
     "text": [
      "sea_water_potential_temperature / (K) (depth: 40; latitude: 6; longitude: 8)\n",
      "     Dimension coordinates:\n",
      "          depth                             x             -             -\n",
      "          latitude                          -             x             -\n",
      "          longitude                         -             -             x\n",
      "     Scalar coordinates:\n",
      "          time: 1984-12-01 00:00:00\n",
      "     Attributes:\n",
      "          Conventions: CF-1.5\n",
      "minimum value: 274.351\n",
      "maximum value: 300.561\n",
      "standard deviation: 8.1868473464\n"
     ]
    }
   ],
   "source": [
    "cube = cubes.extract('sea_water_potential_temperature')[0]\n",
    "print(cube)\n",
    "print('minimum value:', cube.data.min())\n",
    "print('maximum value:', cube.data.max())\n",
    "print('standard deviation:', cube.data.std())"
   ]
  },
  {
   "cell_type": "markdown",
   "metadata": {},
   "source": [
    "4\\. Print the attributes of the cube."
   ]
  },
  {
   "cell_type": "code",
   "execution_count": 4,
   "metadata": {
    "collapsed": false
   },
   "outputs": [
    {
     "name": "stdout",
     "output_type": "stream",
     "text": [
      "{'Conventions': 'CF-1.5'}\n"
     ]
    }
   ],
   "source": [
    "print(cube.attributes)"
   ]
  },
  {
   "cell_type": "markdown",
   "metadata": {},
   "source": [
    "5\\. Print the names of all coordinates on the cube. (Hint: Remember the cube.coords method)"
   ]
  },
  {
   "cell_type": "code",
   "execution_count": 5,
   "metadata": {
    "collapsed": false
   },
   "outputs": [
    {
     "name": "stdout",
     "output_type": "stream",
     "text": [
      "depth\n",
      "latitude\n",
      "longitude\n",
      "time\n"
     ]
    }
   ],
   "source": [
    "for coord in cube.coords():\n",
    "    print(coord.name())"
   ]
  },
  {
   "cell_type": "markdown",
   "metadata": {},
   "source": [
    "6\\. Get hold of the \"latitude\" coordinate on the cube. Identify whether the cube has bounds. Print the minimum and maximum latitude points in this cube."
   ]
  },
  {
   "cell_type": "code",
   "execution_count": 6,
   "metadata": {
    "collapsed": false
   },
   "outputs": [
    {
     "name": "stdout",
     "output_type": "stream",
     "text": [
      "False\n",
      "minimum latitude: -9.8338\n",
      "maximum latitude: -1.50052\n"
     ]
    }
   ],
   "source": [
    "latitude = cube.coord('latitude')\n",
    "print(latitude.has_bounds())\n",
    "print('minimum latitude:', latitude.points.min())\n",
    "print('maximum latitude:', latitude.points.max())"
   ]
  }
 ],
 "metadata": {
  "kernelspec": {
   "display_name": "Python 3",
   "language": "python",
   "name": "python3"
  },
  "language_info": {
   "codemirror_mode": {
    "name": "ipython",
    "version": 3
   },
   "file_extension": ".py",
   "mimetype": "text/x-python",
   "name": "python",
   "nbconvert_exporter": "python",
   "pygments_lexer": "ipython3",
   "version": "3.5.2"
  }
 },
 "nbformat": 4,
 "nbformat_minor": 0
}
