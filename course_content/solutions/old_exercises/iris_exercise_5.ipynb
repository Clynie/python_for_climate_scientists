{
 "cells": [
  {
   "cell_type": "code",
   "execution_count": 1,
   "metadata": {
    "collapsed": false
   },
   "outputs": [
    {
     "name": "stdout",
     "output_type": "stream",
     "text": [
      "air_potential_temperature / (K)     (time: 3; model_level_number: 7)\n",
      "     Dimension coordinates:\n",
      "          time                           x                      -\n",
      "          model_level_number             -                      x\n",
      "     Auxiliary coordinates:\n",
      "          forecast_period                x                      -\n",
      "          level_height                   -                      x\n",
      "          sigma                          -                      x\n",
      "     Derived coordinates:\n",
      "          altitude                       -                      x\n",
      "     Scalar coordinates:\n",
      "          forecast_reference_time: 2009-11-19 04:00:00\n",
      "          grid_latitude: 1.51455 degrees, bound=(0.13755, 2.89155) degrees\n",
      "          grid_longitude: 358.749 degrees, bound=(357.487, 360.012) degrees\n",
      "          surface_altitude: 399.625 m, bound=(-14.0, 813.25) m\n",
      "     Attributes:\n",
      "          STASH: m01s00i004\n",
      "          source: Data from Met Office Unified Model\n",
      "          um_version: 7.3\n",
      "     Cell methods:\n",
      "          mean: grid_longitude, grid_latitude\n"
     ]
    },
    {
     "name": "stderr",
     "output_type": "stream",
     "text": [
      "/Users/dawson/miniconda3/envs/python_workshop/lib/python3.5/site-packages/iris/coords.py:988: UserWarning: Collapsing a multi-dimensional coordinate. Metadata may not be fully descriptive for 'surface_altitude'.\n",
      "  warnings.warn(msg.format(self.name()))\n",
      "/Users/dawson/miniconda3/envs/python_workshop/lib/python3.5/site-packages/iris/cube.py:1103: UserWarning: Orography coordinate 'surface_altitude' has bounds. These will be disregarded.\n",
      "  factory.update(old_coord, new_coord)\n"
     ]
    }
   ],
   "source": [
    "import iris\n",
    "import iris.analysis.cartography\n",
    "\n",
    "fname = iris.sample_data_path('uk_hires.pp')\n",
    "cube = iris.load_cube(fname, 'air_potential_temperature')\n",
    "\n",
    "\n",
    "cube.coord('grid_latitude').guess_bounds()\n",
    "cube.coord('grid_longitude').guess_bounds()\n",
    "grid_areas = iris.analysis.cartography.area_weights(cube)\n",
    "\n",
    "area_avg = cube.collapsed(['grid_longitude', 'grid_latitude'],\n",
    "                          iris.analysis.MEAN,\n",
    "                          weights=grid_areas)\n",
    "print(area_avg)"
   ]
  },
  {
   "cell_type": "markdown",
   "metadata": {},
   "source": [
    "**Exercise 5:** What other aggregators are available? Calculate the potential temperature variance over model level for the area averaged cube (hint: We want to reduce the vertical dimension, and end up with a cube of length 3). Print the data values of the resulting cube."
   ]
  },
  {
   "cell_type": "code",
   "execution_count": 2,
   "metadata": {
    "collapsed": false
   },
   "outputs": [
    {
     "name": "stdout",
     "output_type": "stream",
     "text": [
      "[ 6.59274238  6.36927192  5.99507707]\n"
     ]
    },
    {
     "name": "stderr",
     "output_type": "stream",
     "text": [
      "/Users/dawson/miniconda3/envs/python_workshop/lib/python3.5/site-packages/iris/aux_factory.py:263: UserWarning: Orography coordinate 'surface_altitude' has bounds. These will be disregarded.\n",
      "  return type(self)(**new_dependencies)\n",
      "/Users/dawson/miniconda3/envs/python_workshop/lib/python3.5/site-packages/iris/coords.py:992: UserWarning: Collapsing a non-contiguous coordinate. Metadata may not be fully descriptive for 'model_level_number'.\n",
      "  warnings.warn(msg.format(self.name()))\n",
      "/Users/dawson/miniconda3/envs/python_workshop/lib/python3.5/site-packages/iris/coords.py:992: UserWarning: Collapsing a non-contiguous coordinate. Metadata may not be fully descriptive for 'level_height'.\n",
      "  warnings.warn(msg.format(self.name()))\n",
      "/Users/dawson/miniconda3/envs/python_workshop/lib/python3.5/site-packages/iris/coords.py:992: UserWarning: Collapsing a non-contiguous coordinate. Metadata may not be fully descriptive for 'sigma'.\n",
      "  warnings.warn(msg.format(self.name()))\n"
     ]
    }
   ],
   "source": [
    "var = area_avg.collapsed('model_level_number', iris.analysis.VARIANCE)\n",
    "print(var.data)"
   ]
  }
 ],
 "metadata": {
  "kernelspec": {
   "display_name": "Python 3",
   "language": "python",
   "name": "python3"
  },
  "language_info": {
   "codemirror_mode": {
    "name": "ipython",
    "version": 3
   },
   "file_extension": ".py",
   "mimetype": "text/x-python",
   "name": "python",
   "nbconvert_exporter": "python",
   "pygments_lexer": "ipython3",
   "version": "3.5.2"
  }
 },
 "nbformat": 4,
 "nbformat_minor": 0
}
